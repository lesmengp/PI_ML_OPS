{
 "cells": [
  {
   "cell_type": "markdown",
   "metadata": {},
   "source": [
    "# <h2 align=center> PROYECTO INDIVIDUAL Nº1 </h2>\n",
    "# <h1 align=center>Recomendacion de Películas</h1>\n",
    "        @autor: Lesmen Gerardo García Pernia"
   ]
  },
  {
   "cell_type": "markdown",
   "metadata": {},
   "source": [
    "## Objetivos:"
   ]
  },
  {
   "cell_type": "markdown",
   "metadata": {},
   "source": [
    "+ Crear un Modelo de Sistema de Recomendacion utilizando las caracteristicas de las películas para encontrar peliculas similares a las que ha visto un determinado usuario y le han gustado."
   ]
  },
  {
   "cell_type": "markdown",
   "metadata": {},
   "source": [
    "Estaremos utilizando un Sistema de Recomendacion Basado en el Analisis de Contenido <Br>\n",
    "El objetivo de este tipo de modelo es analizar y seleccionar desde una gran Base de Datos, productos que sean similares a las caracteristicas de preferencia de un usuario. *\"Seleccionar productos similares a aquellos que te gustan\"*"
   ]
  },
  {
   "cell_type": "markdown",
   "metadata": {},
   "source": [
    "Información adicioal:"
   ]
  },
  {
   "cell_type": "markdown",
   "metadata": {},
   "source": [
    "https://www.futurespace.es/sistemas-de-recomendacion-de-contenidos-adivina-que-piensan-tus-clientes/\n",
    "\n",
    "https://learn.microsoft.com/es-es/azure/architecture/solution-ideas/articles/build-content-based-recommendation-system-using-recommender\n"
   ]
  },
  {
   "cell_type": "markdown",
   "metadata": {},
   "source": [
    "### Librerias Utilizadas:\n",
    "fastapi==0.93.0<Br>\n",
    "pandas==1.3.5<Br>\n",
    "pip==23.2.1<Br>\n",
    "typing-extensions==4.5.0<Br>\n",
    "uvicorn==0.20.0<Br>\n",
    "scikit-learn==1.0.2<Br>\n",
    "regex==2023.5.5<Br>\n",
    "sklearn==0.0.post5<Br>\n",
    "matplotlib==3.7.1<Br>\n",
    "seaborn=0.12.2<Br>\n",
    "numpy=1.24.3<Br>"
   ]
  },
  {
   "cell_type": "code",
   "execution_count": 472,
   "metadata": {},
   "outputs": [],
   "source": [
    "import pandas as pd\n",
    "import numpy as np\n",
    "import seaborn as sns\n",
    "import matplotlib.pyplot as plt\n",
    "import re\n",
    "import ast\n",
    "from sklearn.metrics.pairwise import cosine_similarity\n",
    "from sklearn.feature_extraction.text import CountVectorizer\n",
    "import matplotlib.pyplot as plt\n",
    "import seaborn as sns"
   ]
  },
  {
   "cell_type": "markdown",
   "metadata": {},
   "source": [
    "Fuente de datos\n",
    "\n",
    "+ [Dataset](https://drive.google.com/drive/folders/1mfUVyP3jS-UMdKHERknkQ4gaCRCO2e1v): <Br>\n",
    "Dos (2) Archivos de datos: movies_dataset.csv y credits.csv\n",
    "+ [Diccionario de datos](https://docs.google.com/spreadsheets/d/1QkHH5er-74Bpk122tJxy_0D49pJMIwKLurByOfmxzho/edit#gid=0): <br/>\n",
    "Diccionario con algunas descripciones de las columnas disponibles en el dataset.\n"
   ]
  },
  {
   "cell_type": "markdown",
   "metadata": {},
   "source": [
    "# 1) Extracción Transformación y Carga (ETL)"
   ]
  },
  {
   "cell_type": "markdown",
   "metadata": {},
   "source": [
    "Dataset Originales de datos: movies_dataset.csv y credits.csv"
   ]
  },
  {
   "cell_type": "code",
   "execution_count": 473,
   "metadata": {},
   "outputs": [
    {
     "name": "stderr",
     "output_type": "stream",
     "text": [
      "C:\\Users\\lesme\\AppData\\Local\\Temp\\ipykernel_2084\\1988553726.py:2: DtypeWarning: Columns (10) have mixed types. Specify dtype option on import or set low_memory=False.\n",
      "  df_movies = pd.read_csv('../DataSetsPI/movies_dataset.csv')      # Pesa  34 MB\n"
     ]
    }
   ],
   "source": [
    "### Datasets Originales de Datos. \n",
    "df_movies = pd.read_csv('../DataSetsPI/movies_dataset.csv')      # Pesa  34 MB\n",
    "df_credits = pd.read_csv('../DataSetsPI/credits.csv')            # Pesa 186 MB\n"
   ]
  },
  {
   "cell_type": "markdown",
   "metadata": {},
   "source": [
    "## 1.1) Revision inicial de los datos de \"df_movies\""
   ]
  },
  {
   "cell_type": "markdown",
   "metadata": {},
   "source": [
    "### 1.1.1) Requerimientos Iniciales del Proyecto:"
   ]
  },
  {
   "cell_type": "code",
   "execution_count": 474,
   "metadata": {},
   "outputs": [
    {
     "data": {
      "text/html": [
       "<div>\n",
       "<style scoped>\n",
       "    .dataframe tbody tr th:only-of-type {\n",
       "        vertical-align: middle;\n",
       "    }\n",
       "\n",
       "    .dataframe tbody tr th {\n",
       "        vertical-align: top;\n",
       "    }\n",
       "\n",
       "    .dataframe thead th {\n",
       "        text-align: right;\n",
       "    }\n",
       "</style>\n",
       "<table border=\"1\" class=\"dataframe\">\n",
       "  <thead>\n",
       "    <tr style=\"text-align: right;\">\n",
       "      <th></th>\n",
       "      <th>adult</th>\n",
       "      <th>belongs_to_collection</th>\n",
       "      <th>budget</th>\n",
       "      <th>genres</th>\n",
       "      <th>homepage</th>\n",
       "      <th>id</th>\n",
       "      <th>imdb_id</th>\n",
       "      <th>original_language</th>\n",
       "      <th>original_title</th>\n",
       "      <th>overview</th>\n",
       "      <th>...</th>\n",
       "      <th>release_date</th>\n",
       "      <th>revenue</th>\n",
       "      <th>runtime</th>\n",
       "      <th>spoken_languages</th>\n",
       "      <th>status</th>\n",
       "      <th>tagline</th>\n",
       "      <th>title</th>\n",
       "      <th>video</th>\n",
       "      <th>vote_average</th>\n",
       "      <th>vote_count</th>\n",
       "    </tr>\n",
       "  </thead>\n",
       "  <tbody>\n",
       "    <tr>\n",
       "      <th>0</th>\n",
       "      <td>False</td>\n",
       "      <td>{'id': 10194, 'name': 'Toy Story Collection', ...</td>\n",
       "      <td>30000000</td>\n",
       "      <td>[{'id': 16, 'name': 'Animation'}, {'id': 35, '...</td>\n",
       "      <td>http://toystory.disney.com/toy-story</td>\n",
       "      <td>862</td>\n",
       "      <td>tt0114709</td>\n",
       "      <td>en</td>\n",
       "      <td>Toy Story</td>\n",
       "      <td>Led by Woody, Andy's toys live happily in his ...</td>\n",
       "      <td>...</td>\n",
       "      <td>1995-10-30</td>\n",
       "      <td>373554033.0</td>\n",
       "      <td>81.0</td>\n",
       "      <td>[{'iso_639_1': 'en', 'name': 'English'}]</td>\n",
       "      <td>Released</td>\n",
       "      <td>NaN</td>\n",
       "      <td>Toy Story</td>\n",
       "      <td>False</td>\n",
       "      <td>7.7</td>\n",
       "      <td>5415.0</td>\n",
       "    </tr>\n",
       "    <tr>\n",
       "      <th>1</th>\n",
       "      <td>False</td>\n",
       "      <td>NaN</td>\n",
       "      <td>65000000</td>\n",
       "      <td>[{'id': 12, 'name': 'Adventure'}, {'id': 14, '...</td>\n",
       "      <td>NaN</td>\n",
       "      <td>8844</td>\n",
       "      <td>tt0113497</td>\n",
       "      <td>en</td>\n",
       "      <td>Jumanji</td>\n",
       "      <td>When siblings Judy and Peter discover an encha...</td>\n",
       "      <td>...</td>\n",
       "      <td>1995-12-15</td>\n",
       "      <td>262797249.0</td>\n",
       "      <td>104.0</td>\n",
       "      <td>[{'iso_639_1': 'en', 'name': 'English'}, {'iso...</td>\n",
       "      <td>Released</td>\n",
       "      <td>Roll the dice and unleash the excitement!</td>\n",
       "      <td>Jumanji</td>\n",
       "      <td>False</td>\n",
       "      <td>6.9</td>\n",
       "      <td>2413.0</td>\n",
       "    </tr>\n",
       "    <tr>\n",
       "      <th>2</th>\n",
       "      <td>False</td>\n",
       "      <td>{'id': 119050, 'name': 'Grumpy Old Men Collect...</td>\n",
       "      <td>0</td>\n",
       "      <td>[{'id': 10749, 'name': 'Romance'}, {'id': 35, ...</td>\n",
       "      <td>NaN</td>\n",
       "      <td>15602</td>\n",
       "      <td>tt0113228</td>\n",
       "      <td>en</td>\n",
       "      <td>Grumpier Old Men</td>\n",
       "      <td>A family wedding reignites the ancient feud be...</td>\n",
       "      <td>...</td>\n",
       "      <td>1995-12-22</td>\n",
       "      <td>0.0</td>\n",
       "      <td>101.0</td>\n",
       "      <td>[{'iso_639_1': 'en', 'name': 'English'}]</td>\n",
       "      <td>Released</td>\n",
       "      <td>Still Yelling. Still Fighting. Still Ready for...</td>\n",
       "      <td>Grumpier Old Men</td>\n",
       "      <td>False</td>\n",
       "      <td>6.5</td>\n",
       "      <td>92.0</td>\n",
       "    </tr>\n",
       "  </tbody>\n",
       "</table>\n",
       "<p>3 rows × 24 columns</p>\n",
       "</div>"
      ],
      "text/plain": [
       "   adult                              belongs_to_collection    budget  \\\n",
       "0  False  {'id': 10194, 'name': 'Toy Story Collection', ...  30000000   \n",
       "1  False                                                NaN  65000000   \n",
       "2  False  {'id': 119050, 'name': 'Grumpy Old Men Collect...         0   \n",
       "\n",
       "                                              genres  \\\n",
       "0  [{'id': 16, 'name': 'Animation'}, {'id': 35, '...   \n",
       "1  [{'id': 12, 'name': 'Adventure'}, {'id': 14, '...   \n",
       "2  [{'id': 10749, 'name': 'Romance'}, {'id': 35, ...   \n",
       "\n",
       "                               homepage     id    imdb_id original_language  \\\n",
       "0  http://toystory.disney.com/toy-story    862  tt0114709                en   \n",
       "1                                   NaN   8844  tt0113497                en   \n",
       "2                                   NaN  15602  tt0113228                en   \n",
       "\n",
       "     original_title                                           overview  ...  \\\n",
       "0         Toy Story  Led by Woody, Andy's toys live happily in his ...  ...   \n",
       "1           Jumanji  When siblings Judy and Peter discover an encha...  ...   \n",
       "2  Grumpier Old Men  A family wedding reignites the ancient feud be...  ...   \n",
       "\n",
       "  release_date      revenue runtime  \\\n",
       "0   1995-10-30  373554033.0    81.0   \n",
       "1   1995-12-15  262797249.0   104.0   \n",
       "2   1995-12-22          0.0   101.0   \n",
       "\n",
       "                                    spoken_languages    status  \\\n",
       "0           [{'iso_639_1': 'en', 'name': 'English'}]  Released   \n",
       "1  [{'iso_639_1': 'en', 'name': 'English'}, {'iso...  Released   \n",
       "2           [{'iso_639_1': 'en', 'name': 'English'}]  Released   \n",
       "\n",
       "                                             tagline             title  video  \\\n",
       "0                                                NaN         Toy Story  False   \n",
       "1          Roll the dice and unleash the excitement!           Jumanji  False   \n",
       "2  Still Yelling. Still Fighting. Still Ready for...  Grumpier Old Men  False   \n",
       "\n",
       "  vote_average vote_count  \n",
       "0          7.7     5415.0  \n",
       "1          6.9     2413.0  \n",
       "2          6.5       92.0  \n",
       "\n",
       "[3 rows x 24 columns]"
      ]
     },
     "execution_count": 474,
     "metadata": {},
     "output_type": "execute_result"
    }
   ],
   "source": [
    "### Visualizar el dataSets de movies:\n",
    "df_movies.head(3)"
   ]
  },
  {
   "cell_type": "markdown",
   "metadata": {},
   "source": [
    "Dimensiones de los Datasets"
   ]
  },
  {
   "cell_type": "code",
   "execution_count": 477,
   "metadata": {},
   "outputs": [
    {
     "name": "stdout",
     "output_type": "stream",
     "text": [
      "Total de Registros del DataSets de df_movies =  45466\n",
      "Total de Columnas del DataSets de df_movies =  24\n",
      "Total de Registros del DataSets de df_credits =  45476\n",
      "Total de Columnas del DataSets de df_credits =  3\n"
     ]
    }
   ],
   "source": [
    "print(\"Total de Registros del DataSets de df_movies = \",df_movies.shape[0])\n",
    "print(\"Total de Columnas del DataSets de df_movies = \",df_movies.shape[1])\n",
    "print(\"Total de Registros del DataSets de df_credits = \",df_credits.shape[0])\n",
    "print(\"Total de Columnas del DataSets de df_credits = \",df_credits.shape[1])"
   ]
  },
  {
   "cell_type": "code",
   "execution_count": null,
   "metadata": {},
   "outputs": [],
   "source": [
    "### Visualizar los tipos de datos de las columnas y cantidad total:\n",
    "print(\"Tipos de Datos de cada Columna del Dataset: 'df_movies' \")\n",
    "print(\"=\"*54)\n",
    "df_movies.info()"
   ]
  },
  {
   "cell_type": "code",
   "execution_count": null,
   "metadata": {},
   "outputs": [],
   "source": [
    "### Visualizar los datos númericos:\n",
    "print(\"Visualizando Estadisticos Principales de los datos númericos del Dataset: 'df_movies' \")\n",
    "print(\"=\"*84)\n",
    "df_movies.describe()"
   ]
  },
  {
   "cell_type": "code",
   "execution_count": null,
   "metadata": {},
   "outputs": [],
   "source": [
    "### Valores nulos en cada columna de \"df_movies\"\n",
    "print(\"Valores Nulos del Dataset: 'df_movies' \")\n",
    "print(\"=\"*37)\n",
    "df_movies.isna().sum()"
   ]
  },
  {
   "cell_type": "code",
   "execution_count": null,
   "metadata": {},
   "outputs": [],
   "source": [
    "### Total de valores nulos en \"df_movies\"\n",
    "print(\"Total de valores nulos en 'df_movies'= \", df_movies.isna().sum().sum())"
   ]
  },
  {
   "cell_type": "markdown",
   "metadata": {},
   "source": [
    "### Se procede a realizar los requerimiento iniciales del proyecto."
   ]
  },
  {
   "cell_type": "markdown",
   "metadata": {},
   "source": [
    "### 1.1.1.1) Requerimiento del Proyecto, Nro.: 1"
   ]
  },
  {
   "cell_type": "markdown",
   "metadata": {},
   "source": [
    "+ Algunos campos, como **`belongs_to_collection`**, **`production_companies`** y otros (ver diccionario de datos) están anidados, esto es o bien tienen un diccionario o una lista como valores en cada fila, ¡deberán desanidarlos para poder  y unirlos al dataset de nuevo hacer alguna de las consultas de la API! O bien buscar la manera de acceder a esos datos sin desanidarlos."
   ]
  },
  {
   "cell_type": "code",
   "execution_count": null,
   "metadata": {},
   "outputs": [],
   "source": [
    "df_movies[['belongs_to_collection','production_companies']]"
   ]
  },
  {
   "cell_type": "code",
   "execution_count": null,
   "metadata": {},
   "outputs": [],
   "source": [
    "### Visualizando el 3er registro del Dataset para visualizar sus datos\n",
    "df_movies.iloc[2]"
   ]
  },
  {
   "cell_type": "markdown",
   "metadata": {},
   "source": [
    "Efectivamen el datasets de 'df_movies' tiene varias columnas anidadas. <Br>Se procede a su visualizacion en detalle"
   ]
  },
  {
   "cell_type": "markdown",
   "metadata": {},
   "source": [
    "### A) Visualización de las Columnas Anidadas del Datasets 'df_movies'"
   ]
  },
  {
   "cell_type": "markdown",
   "metadata": {},
   "source": [
    "1) Visualizando la columna: *`belongs_to_collection`*"
   ]
  },
  {
   "cell_type": "code",
   "execution_count": null,
   "metadata": {},
   "outputs": [],
   "source": [
    "### Visualizando la cadena en forma de diccionario de la columna \"belongs_to_collection\", de un determinado registro. \n",
    "\n",
    "fila_indice = 4  # Indice del registro o fila que se quiere visualizar.\n",
    "Columna = 'belongs_to_collection'\n",
    "CadenaDeDiccionario = df_movies.at[fila_indice, Columna]\n",
    "\n",
    "print(\"1) Visualizando los datos horizontalmente:\\n\", \"=\"*41)\n",
    "print(CadenaDeDiccionario,\"\\n\")\n",
    "\n",
    "print(\"2) Visualizando los datos verticalmente:\\n\", \"=\"*39)\n",
    "\n",
    "### Convertir la cadena de caracteres en un diccionario usando eval()\n",
    "DiccionarioDeDatos = eval(CadenaDeDiccionario)\n",
    "\n",
    "### Ciclo for par avisualizar por clave valor, emulando un diccionario a partir de una cadena de caracteres\n",
    "for key, value in DiccionarioDeDatos.items():\n",
    "    print(f\"{key}: {value}\")\n",
    " \n",
    "print(\"=\"*100)    \n",
    "print(f\"La columna '{Columna}', se refiere a la franquicia que realizó la película\")\n",
    "print(\"=\"*100)     \n"
   ]
  },
  {
   "cell_type": "markdown",
   "metadata": {},
   "source": [
    "De la columna \"belongs_to_collection\" nos interesa extraer el nombre de la Franquicia. Osea extraer la clave: name y su respectivo valor."
   ]
  },
  {
   "cell_type": "markdown",
   "metadata": {},
   "source": [
    "2) Visualizando la columna: *`genres`*"
   ]
  },
  {
   "cell_type": "code",
   "execution_count": null,
   "metadata": {},
   "outputs": [],
   "source": [
    "### Visualizando la lista de diccionario de la columna \"genres\" de un determinado registro. \n",
    "\n",
    "fila_indice = 3  # Indice del registro a visualizar.\n",
    "Columna = 'genres'\n",
    "\n",
    "CadenaDeDiccionario = df_movies.at[fila_indice, Columna]\n",
    "\n",
    "print(\"1) Visualizando los datos horizontalmente:\\n\", \"=\"*41)\n",
    "print(CadenaDeDiccionario,\"\\n\")\n",
    "\n",
    "print(\"2) Visualizando los datos verticalmente:\\n\", \"=\"*39)\n",
    "\n",
    "lista_str = df_movies.at[fila_indice, Columna]   # Toma la cedana de caracteres en forma de lista de diccionarios\n",
    "lista = ast.literal_eval(lista_str)             # Convierte la cadena en dormato de lista.\n",
    "N = len(lista)                                 # Cantidad de diccionarios a mostrar de la lista\n",
    "for diccionario in lista[:N]:                 # For para imprimir todos los diccionarios de la lista.\n",
    "    for key, value in diccionario.items():\n",
    "        print(f\"{key}: {value}\")\n",
    "    print(\"--------------------\")\n",
    "    \n",
    "print(\"=\"*100)    \n",
    "print(f\"La columna '{Columna}', se refiere a la franquicia que realizó la película. (Dato relevante en el proyecto)\")\n",
    "print(\"=\"*100)"
   ]
  },
  {
   "cell_type": "markdown",
   "metadata": {},
   "source": [
    "De la columna \"genres\", nos interesa extraer todos los Generos de la Película. En esta caso la película podria tener varios generos. Por lo tanto debemos extraer todos sus claves valor de: name."
   ]
  },
  {
   "cell_type": "markdown",
   "metadata": {},
   "source": [
    "3) Visualizando la columna: *`production_companies`*"
   ]
  },
  {
   "cell_type": "code",
   "execution_count": null,
   "metadata": {},
   "outputs": [],
   "source": [
    "### Visualizando la lista de diccionario de la columna \"production_companies\" de un determinado registro. \n",
    "\n",
    "fila_indice = 5  # Indice del registro o fila que se quiere visualizar.\n",
    "Columna = 'production_companies'\n",
    "\n",
    "CadenaDeDiccionario = df_movies.at[fila_indice, Columna]\n",
    "\n",
    "print(\"1) Visualizando los datos horizontalmente:\\n\", \"=\"*41)\n",
    "print(CadenaDeDiccionario,\"\\n\")\n",
    "\n",
    "print(\"2) Visualizando los datos verticalmente:\\n\", \"=\"*39)\n",
    "\n",
    "lista_str = df_movies.at[fila_indice, Columna]\n",
    "lista = ast.literal_eval(lista_str)\n",
    "N = len(lista) # Cantidad de diccionarios a mostrar de la lista\n",
    "for diccionario in lista[:N]:\n",
    "    for key, value in diccionario.items():\n",
    "        print(f\"{key}: {value}\")\n",
    "    print(\"--------------------\")\n",
    "    \n",
    "print(\"=\"*100)    \n",
    "print(f\"La columna '{Columna}', se refiere a la franquicia que realizó la película\")\n",
    "print(\"=\"*100)"
   ]
  },
  {
   "cell_type": "markdown",
   "metadata": {},
   "source": [
    "De la columna \"production_companies\" nos interesa extraer todos las Compañias de Produccion de la Película. En esta caso la película podria tener varias compañias de producción. Por lo tanto debemos extraer todos sus claves valor de: name."
   ]
  },
  {
   "cell_type": "markdown",
   "metadata": {},
   "source": [
    "4) Visualizando la columna: *`production_countries`*"
   ]
  },
  {
   "cell_type": "code",
   "execution_count": null,
   "metadata": {},
   "outputs": [],
   "source": [
    "### Visualizando la lista de diccionario de la columna \"production_countries\" de un determinado registro. \n",
    "\n",
    "fila_indice = 3500  # Indice del registro o fila que se quiere visualizar.\n",
    "Columna = 'production_countries'\n",
    "\n",
    "CadenaDeDiccionario = df_movies.at[fila_indice, Columna]\n",
    "\n",
    "print(\"1) Visualizando los datos horizontalmente:\\n\", \"=\"*41)\n",
    "print(CadenaDeDiccionario,\"\\n\")\n",
    "\n",
    "print(\"2) Visualizando los datos verticalmente:\\n\", \"=\"*39)\n",
    "\n",
    "lista_str = df_movies.at[fila_indice, Columna]\n",
    "lista = ast.literal_eval(lista_str)\n",
    "N = len(lista) # Cantidad de diccionarios a mostrar de la lista\n",
    "for diccionario in lista[:N]:\n",
    "    for key, value in diccionario.items():\n",
    "        print(f\"{key}: {value}\")\n",
    "    print(\"--------------------\")\n",
    "    \n",
    "print(\"=\"*100)    \n",
    "print(f\"La columna '{Columna}', se refiere a la franquicia que realizó la película\")\n",
    "print(\"=\"*100)"
   ]
  },
  {
   "cell_type": "markdown",
   "metadata": {},
   "source": [
    "De la columna \"production_countries\" nos interesa extraer todos las Paises de Produccion de la Película. En esta caso la película podria tener varias paises de producción. Por lo tanto debemos extraer todos sus claves valor de: name."
   ]
  },
  {
   "cell_type": "markdown",
   "metadata": {},
   "source": [
    "5) Visualizando la columna: *`spoken_languages`*"
   ]
  },
  {
   "cell_type": "code",
   "execution_count": null,
   "metadata": {},
   "outputs": [],
   "source": [
    "### Visualizando la lista de diccionario de la columna \"genres\" de un determinado registro. \n",
    "fila_indice = 2  # Indice del registro o fila que se quiere visualizar.\n",
    "Columna = 'spoken_languages'\n",
    "\n",
    "CadenaDeDiccionario = df_movies.at[fila_indice, Columna]\n",
    "\n",
    "print(\"1) Visualizando los datos horizontalmente:\\n\", \"=\"*41)\n",
    "print(CadenaDeDiccionario,\"\\n\")\n",
    "\n",
    "print(\"2) Visualizando los datos verticalmente:\\n\", \"=\"*39)\n",
    "\n",
    "lista_str = df_movies.at[fila_indice, Columna]\n",
    "lista = ast.literal_eval(lista_str)\n",
    "N = len(lista) # Cantidad de diccionarios a mostrar de la lista\n",
    "for diccionario in lista[:N]:\n",
    "    for key, value in diccionario.items():\n",
    "        print(f\"{key}: {value}\")\n",
    "    print(\"--------------------\")\n",
    "    \n",
    "print(\"=\"*100)    \n",
    "print(f\"La columna '{Columna}', se refiere a la franquicia que realizó la película\")\n",
    "print(\"=\"*100)"
   ]
  },
  {
   "cell_type": "markdown",
   "metadata": {},
   "source": [
    "De la columna \"spoken_languages\" nos interesa extraer todos los Idiomas que se hablan en la película. <Br>En esta caso en la película podrian hablarse varios idiomas. Por lo tanto debemos extraer todos sus claves valor de: name."
   ]
  },
  {
   "cell_type": "code",
   "execution_count": null,
   "metadata": {},
   "outputs": [],
   "source": [
    "### Visualizando todas las columnas anidadas de un determinado registro o fila.\n",
    "for i in (1,3,12,13,17):\n",
    "    print(df_movies.iloc[2][i])"
   ]
  },
  {
   "cell_type": "markdown",
   "metadata": {},
   "source": [
    "### B) Funciones para Desanidar las Columnas Anidadas del Datasets 'df_movies'"
   ]
  },
  {
   "cell_type": "markdown",
   "metadata": {},
   "source": [
    "Se procede a desanidar o separar el valor de la clave-valor: en las siguientes columnas:\n",
    "\n",
    "<ul>\n",
    "<li> 1) belongs_to_collection (Diccionario).</li>\n",
    "<li> 2) genres (Lista de Diccionario). </li>\n",
    "<li> 3) production_companies (Lista de Diccionario).</li>\n",
    "<li> 4) production_countries (Lista de Diccionario).</li>\n",
    "<li> 5) spoken_languages (Lista de Diccionario).</li>\n",
    "</ul>"
   ]
  },
  {
   "cell_type": "markdown",
   "metadata": {},
   "source": [
    "Se procede a crear dos Funciones para Desanidar estas 5 columnas anidadas. La primera función ***(`Extraer_Valor_Dicc`)***, para extraer de la columna 'belongs_to_collection' sus campos en forma de diccionarios. Y la segunda función ***(`Extraer_Valor_List`)***, para extraer del resto de las columnas que contienen sus campos como una lista de diccionarios."
   ]
  },
  {
   "cell_type": "markdown",
   "metadata": {},
   "source": [
    "1 ) Funcion: `Extraer_Valor_Dicc`:<Br>\n",
    "*Funcion para evaluar la columnas string pero en forma de diccionarios y extraer el valor asociado a la claves claves- valor"
   ]
  },
  {
   "cell_type": "code",
   "execution_count": null,
   "metadata": {},
   "outputs": [],
   "source": [
    "# Función para extraer el valor de la clave 'name', de la columna diccionario: \n",
    "def Extraer_Valor_Dicc(value):\n",
    "    try:\n",
    "        diccionario = ast.literal_eval(value)  #Evaluamos cada atributo como un diccionario de Python\n",
    "        if isinstance(diccionario, dict): #Si el valor es un diccionario, extrae el valor asociado a la clave 'name', para luego retornarlo\n",
    "            return diccionario.get('name', '')\n",
    "    except (ValueError, SyntaxError): #Si no es posible evaluarlo como un diccionario, capturamos las excepciones (ValueError o SyntaxError) y devolvemos una cadena vacía.\n",
    "        pass\n",
    "    return ''  # En caso de no ser un diccionario, se devuelve una cadena vacía."
   ]
  },
  {
   "cell_type": "markdown",
   "metadata": {},
   "source": [
    "2  ) Funcion: `Extraer_Valor_Lista`:<Br>\n",
    "*Funcion para evaluar la columnas string pero en forma de listas de diccionarios y extraer el valor asociado a la claves claves- valor"
   ]
  },
  {
   "cell_type": "code",
   "execution_count": null,
   "metadata": {},
   "outputs": [],
   "source": [
    "# Función para extraer el valor de la clave 'name', de la columna lista de diccionarios: genres\n",
    "def Extraer_Valor_List(value):\n",
    "    try:\n",
    "        lista_de_diccionarios = ast.literal_eval(value) ##Evaluamos cada atributo como una lista de diccionario de Python\n",
    "        if isinstance(lista_de_diccionarios, list): #Si el valor es una lista de diccionario, extrae el valor asociado a la \n",
    "                                                    #clave 'name' de cada diccionario y lo concatena en una sola cadena.\n",
    "            names = [dic.get('name', '') for dic in lista_de_diccionarios if isinstance(dic, dict)]\n",
    "            return ','.join(names)\n",
    "    except (ValueError, SyntaxError):\n",
    "        pass\n",
    "    return ''  # Si no es posible evaluarlo como una lista de diccionarios, se devuelve una cadena vacía"
   ]
  },
  {
   "cell_type": "markdown",
   "metadata": {},
   "source": [
    "### C) Desanidando las Funcióes Anidadas del Datasets 'df_movies'"
   ]
  },
  {
   "cell_type": "markdown",
   "metadata": {},
   "source": [
    "1) Desanidando la Columna **`'belongs_to_collection'`**, por el atributo {name} que representa el nombre de la Franquicia."
   ]
  },
  {
   "cell_type": "code",
   "execution_count": null,
   "metadata": {},
   "outputs": [],
   "source": [
    "### Desanidando por la clave-valor de: name\n",
    "### Aplicar la función para extraer el valor 'name' y crear la nueva columna 'Franquicia'\n",
    "\n",
    "Columna = 'belongs_to_collection'   # Columna a Desanidar\n",
    "NuevaColumna = 'Franquicia'         # Nueva Columna\n",
    "\n",
    "print(f\"Cantidad de Valores Nulos de la Columna {Columna}, antes de desanidar= {df_movies[Columna].isna().sum()}\")\n",
    "\n",
    "df_movies[NuevaColumna] = df_movies[Columna].apply(Extraer_Valor_Dicc)\n",
    "\n",
    "### Eliminando la columna: belongs_to_collection\n",
    "###df_movies.drop(columns=[Columna], inplace=True)\n",
    "\n",
    "print(f\"Cantidad de Valores Nulos de la Columna {NuevaColumna}, despúes de desanidar: {df_movies[NuevaColumna].isna().sum()}\")\n",
    "\n",
    "### Se procede a eliminar los valores nulos\n",
    "#df_movies.dropna(subset=[NuevaColumna], inplace=True)\n",
    "#print(f\"Eliminando Valores Nulos. Cantidad de Valores Nulos de la Columna {NuevaColumna}: {df_movies[NuevaColumna].isna().sum()}\")\n",
    "\n",
    "df_movies[NuevaColumna]"
   ]
  },
  {
   "cell_type": "code",
   "execution_count": null,
   "metadata": {},
   "outputs": [],
   "source": [
    "df_movies.isna().sum()"
   ]
  },
  {
   "cell_type": "markdown",
   "metadata": {},
   "source": [
    "Se puede observar que hay muchos valores NaN"
   ]
  },
  {
   "cell_type": "markdown",
   "metadata": {},
   "source": [
    "2) Desanidando la Columna **`'genres'`**, por el atributo {name} que representa el nombre los Generos de la Películas."
   ]
  },
  {
   "cell_type": "code",
   "execution_count": null,
   "metadata": {},
   "outputs": [],
   "source": [
    "### Desanidando por la clave-valor de: name\n",
    "### Aplicar la función para extraer el valor 'name' y crear la nueva columna 'Generos'\n",
    "\n",
    "Columna = 'genres'   # Columna a Desanidar\n",
    "NuevaColumna = 'Generos'         # Nueva Columna\n",
    "\n",
    "print(f\"Cantidad de Valores Nulos de la Columna {Columna}, antes de desanidar= {df_movies[Columna].isna().sum()}\")\n",
    "\n",
    "df_movies[NuevaColumna] = df_movies[Columna].apply(Extraer_Valor_List)\n",
    "\n",
    "print(f\"Cantidad de Valores Nulos de la Columna {NuevaColumna}, despúes de desanidar: {df_movies[NuevaColumna].isna().sum()}\")\n",
    "\n",
    "### Eliminando la columna: genres\n",
    "### df_movies.drop(columns=[Columna], inplace=True)\n",
    "\n",
    "### Se procede a eliminar los valores nulos\n",
    "#df_movies.dropna(subset=[NuevaColumna], inplace=True)\n",
    "#print(f\"Eliminando Valores Nulos. Cantidad de Valores Nulos de la Columna {NuevaColumna}: {df_movies[NuevaColumna].isna().sum()}\")\n",
    "\n",
    "df_movies[NuevaColumna]"
   ]
  },
  {
   "cell_type": "code",
   "execution_count": null,
   "metadata": {},
   "outputs": [],
   "source": [
    "### Total de valores nulos en \"df_movies\"\n",
    "print(\"Total de valores nulos en 'df_movies'= \", df_movies.isna().sum().sum())"
   ]
  },
  {
   "cell_type": "markdown",
   "metadata": {},
   "source": [
    "Los Generos quedan divididos por comas. También se observa valores en blanco."
   ]
  },
  {
   "cell_type": "markdown",
   "metadata": {},
   "source": [
    "3) Desanidando la Columna **`'production_companies'`**, por el atributo {name} que representa el nombre de las Compañias Productoras de Películas."
   ]
  },
  {
   "cell_type": "code",
   "execution_count": null,
   "metadata": {},
   "outputs": [],
   "source": [
    "### Desanidando por la clave-valor de: name\n",
    "### Aplicar la función para extraer el valor 'name' y crear la nueva columna 'Productores'\n",
    "\n",
    "Columna = 'production_companies'     # Columna a Desanidar\n",
    "NuevaColumna = 'Productores'         # Nueva Columna\n",
    "\n",
    "print(f\"Cantidad de Valores Nulos de la Columna {Columna}, antes de desanidar= {df_movies[Columna].isna().sum()}\")\n",
    "\n",
    "df_movies[NuevaColumna] = df_movies[Columna].apply(Extraer_Valor_List)\n",
    "\n",
    "### Eliminando la columna: genres\n",
    "### df_movies.drop(columns=[Columna], inplace=True)\n",
    "\n",
    "print(f\"Cantidad de Valores Nulos de la Columna {NuevaColumna}, despúes de desanidar: {df_movies[NuevaColumna].isna().sum()}\")\n",
    "\n",
    "### Se procede a eliminar los valores nulos\n",
    "#df_movies.dropna(subset=[NuevaColumna], inplace=True)\n",
    "#print(f\"Eliminando Valores Nulos. Cantidad de Valores Nulos de la Columna {NuevaColumna}: {df_movies[NuevaColumna].isna().sum()}\")\n",
    "\n",
    "df_movies[NuevaColumna]"
   ]
  },
  {
   "cell_type": "markdown",
   "metadata": {},
   "source": [
    "Las compañias quedan separadas por comas. También se observan registros en blanco."
   ]
  },
  {
   "cell_type": "markdown",
   "metadata": {},
   "source": [
    "4) Desanidando la Columna **`'production_countries'`**, por el atributo {name} que representa el nombre del País de Producción de la Película."
   ]
  },
  {
   "cell_type": "code",
   "execution_count": null,
   "metadata": {},
   "outputs": [],
   "source": [
    "### Desanidando por la clave-valor de: name\n",
    "### Aplicar la función para extraer el valor 'name' y crear la nueva columna 'Paises'\n",
    "\n",
    "Columna = 'production_countries'     # Columna a Desanidar\n",
    "NuevaColumna = 'Paises'              # Nueva Columna\n",
    "\n",
    "print(f\"Cantidad de Valores Nulos de la Columna {Columna}, antes de desanidar= {df_movies[Columna].isna().sum()}\")\n",
    "\n",
    "df_movies[NuevaColumna] = df_movies[Columna].apply(Extraer_Valor_List)\n",
    "\n",
    "### Eliminando la columna: genres\n",
    "### df_movies.drop(columns=[Columna], inplace=True)\n",
    "\n",
    "print(f\"Cantidad de Valores Nulos de la Columna {NuevaColumna}, despúes de desanidar: {df_movies[NuevaColumna].isna().sum()}\")\n",
    "\n",
    "### Se procede a eliminar los valores nulos\n",
    "#df_movies.dropna(subset=[NuevaColumna], inplace=True)\n",
    "#print(f\"Eliminando Valores Nulos. Cantidad de Valores Nulos de la Columna {NuevaColumna}: {df_movies[NuevaColumna].isna().sum()}\")\n",
    "\n",
    "df_movies[NuevaColumna]"
   ]
  },
  {
   "cell_type": "markdown",
   "metadata": {},
   "source": [
    "5) Desanidando la Columna **`'spoken_languages'`**, por el atributo {name} que representa el nombre de los Idiomas que se hablan en la Película."
   ]
  },
  {
   "cell_type": "code",
   "execution_count": null,
   "metadata": {},
   "outputs": [],
   "source": [
    "### Desanidando por la clave-valor de: name\n",
    "### Aplicar la función para extraer el valor 'name' y crear la nueva columna 'IdiomasH'\n",
    "\n",
    "Columna = 'spoken_languages'           # Columna a Desanidar\n",
    "NuevaColumna = 'IdiomasH'              # Nueva Columna (Idiomas Hablados en la Película)\n",
    "\n",
    "print(f\"Cantidad de Valores Nulos de la Columna {Columna}, antes de desanidar= {df_movies[Columna].isna().sum()}\")\n",
    "\n",
    "df_movies[NuevaColumna] = df_movies[Columna].apply(Extraer_Valor_List)\n",
    "\n",
    "### Eliminando la columna: genres\n",
    "### df_movies.drop(columns=[Columna], inplace=True)\n",
    "\n",
    "print(f\"Cantidad de Valores Nulos de la Columna {NuevaColumna}, despúes de desanidar: {df_movies[NuevaColumna].isna().sum()}\")\n",
    "\n",
    "### Se procede a eliminar los valores nulos\n",
    "#df_movies.dropna(subset=[NuevaColumna], inplace=True)\n",
    "#print(f\"Eliminando Valores Nulos. Cantidad de Valores Nulos de la Columna {NuevaColumna}: {df_movies[NuevaColumna].isna().sum()}\")\n",
    "\n",
    "df_movies[NuevaColumna]"
   ]
  },
  {
   "cell_type": "code",
   "execution_count": null,
   "metadata": {},
   "outputs": [],
   "source": [
    "### Información de Columnas y Filas del DataSets\n",
    "print(\"Columnas del DataSets de Movies:\\n\\n\",df_movies.columns,\"\\n\")\n",
    "print(\"Dimensiones del DataSets de Movies: \",df_movies.shape,\"\\n\")"
   ]
  },
  {
   "cell_type": "code",
   "execution_count": null,
   "metadata": {},
   "outputs": [],
   "source": [
    "df_movies.isna().sum()"
   ]
  },
  {
   "cell_type": "markdown",
   "metadata": {},
   "source": [
    "### 1.1.1.2) Requerimiento del Proyecto, Nro. 2"
   ]
  },
  {
   "cell_type": "markdown",
   "metadata": {},
   "source": [
    "+ Los valores nulos de los campos **`revenue`**, **`budget`** deben ser rellenados por el número **`0`**."
   ]
  },
  {
   "cell_type": "code",
   "execution_count": null,
   "metadata": {},
   "outputs": [],
   "source": [
    "print(\"Cantidad de Valores Nulos de 'revenue':\",df_movies['revenue'].isna().sum())\n",
    "print(\"Cantidad de Valores Nulos de 'budget':\",df_movies['budget'].isna().sum())"
   ]
  },
  {
   "cell_type": "code",
   "execution_count": null,
   "metadata": {},
   "outputs": [],
   "source": [
    "# Se procede a sustituir los 6 valores nulos en la columna \"revenue\" y \"budget\", con cero (0).\n",
    "df_movies['revenue'] = df_movies['revenue'].fillna(0)\n",
    "df_movies['budget'] = df_movies['budget'].fillna(0)\n",
    "\n",
    "# Otra forma de hacerlo: \n",
    "# df_movies2['revenue'].fillna(0,inplace=True)\n",
    "\n",
    "# Validamos que ya no existan valores nulos:\n",
    "print(\"Cantidad de Valores Nulos de 'revenue':\",df_movies['revenue'].isna().sum())\n",
    "print(\"Cantidad de Valores Nulos de 'budget':\",df_movies['budget'].isna().sum())"
   ]
  },
  {
   "cell_type": "code",
   "execution_count": null,
   "metadata": {},
   "outputs": [],
   "source": [
    "### La columna 'budget' esta definida como Objeto, pero es Númerico.\n",
    "### Convertiendo la columna de tipo objeto a tipo numerico, y los que no sean numericos los convierte en NaN:\n",
    "\n",
    "df_movies['budget'] = pd.to_numeric(df_movies['budget'], errors='coerce')\n",
    "\n",
    "### Validano los cambios realizados a númerico y luego si se ha creado algun NaN:\n",
    "print(\"Cantidad de Valores Nulos de 'budget':\",df_movies['budget'].isna().sum())"
   ]
  },
  {
   "cell_type": "code",
   "execution_count": null,
   "metadata": {},
   "outputs": [],
   "source": [
    "# Se procede a sustituir los 3 valores nuevos por ceros\n",
    "df_movies['budget'] = df_movies['budget'].fillna(0)\n",
    "\n",
    "### Validano los cambios realizados a númerico y luego si se ha creado algun NaN:\n",
    "print(\"Cantidad de Valores Nulos de 'budget':\",df_movies['budget'].isna().sum())"
   ]
  },
  {
   "cell_type": "code",
   "execution_count": null,
   "metadata": {},
   "outputs": [],
   "source": [
    "### Valores Nulos del DataSets\n",
    "df_movies.isna().sum()"
   ]
  },
  {
   "cell_type": "markdown",
   "metadata": {},
   "source": [
    "### 1.1.1.3) Requerimiento del Proyecto, Nro. 3"
   ]
  },
  {
   "cell_type": "markdown",
   "metadata": {},
   "source": [
    "+ Los valores nulos del campo **`release_date`** deben eliminarse."
   ]
  },
  {
   "cell_type": "code",
   "execution_count": null,
   "metadata": {},
   "outputs": [],
   "source": [
    "print(\"Total de Valores Nulos de la columna 'release_date'= \",df_movies['release_date'].isna().sum())"
   ]
  },
  {
   "cell_type": "markdown",
   "metadata": {},
   "source": [
    "Eliminando Valores Nulos en la Columna 'release_date'"
   ]
  },
  {
   "cell_type": "code",
   "execution_count": null,
   "metadata": {},
   "outputs": [],
   "source": [
    "df_movies.dropna(subset=['release_date'], inplace=True)\n",
    "print(\"Total de Valores Nulos de la columna 'release_date'= \",df_movies['release_date'].isna().sum())"
   ]
  },
  {
   "cell_type": "markdown",
   "metadata": {},
   "source": [
    "### 1.1.1.4) Requerimiento del Proyecto, Nro. 4"
   ]
  },
  {
   "cell_type": "markdown",
   "metadata": {},
   "source": [
    "+ De haber fechas, deberán tener el formato **`AAAA-mm-dd`**, además deberán crear la columna **`release_year`** donde extraerán el año de la fecha de estreno."
   ]
  },
  {
   "cell_type": "code",
   "execution_count": null,
   "metadata": {},
   "outputs": [],
   "source": [
    "### Validan el tipo de columna 'release_date' y sus datos\n",
    "print(df_movies['release_date'])\n",
    "df_movies['release_date'].info()\n"
   ]
  },
  {
   "cell_type": "markdown",
   "metadata": {},
   "source": [
    "Se puede observar que la columna 'release_date' es una fecha y esta definido como tipo objeto"
   ]
  },
  {
   "cell_type": "markdown",
   "metadata": {},
   "source": [
    "Validamos si hay valores nulos"
   ]
  },
  {
   "cell_type": "code",
   "execution_count": null,
   "metadata": {},
   "outputs": [],
   "source": [
    "### Validamos si tiene NaN:\n",
    "print(\"Cantidad de Valores Nulos de 'release_date':\",df_movies['release_date'].isna().sum())"
   ]
  },
  {
   "cell_type": "markdown",
   "metadata": {},
   "source": [
    "Convertimos a formato fecha"
   ]
  },
  {
   "cell_type": "code",
   "execution_count": null,
   "metadata": {},
   "outputs": [],
   "source": [
    "### Primero convertimos a datetime la columna 'release_date'\n",
    "### Y forzamos a convertir en NaN a todos los valores que den error (errors='coerce).\n",
    "\n",
    "df_movies['release_date'] = pd.to_datetime(df_movies['release_date'], errors='coerce')\n",
    "\n",
    "### Validamos nuevamente la cantidad de valores NaN\n",
    "print(\"Cantidad de Valores Nulos de 'release_date':\",df_movies['release_date'].isna().sum())"
   ]
  },
  {
   "cell_type": "code",
   "execution_count": null,
   "metadata": {},
   "outputs": [],
   "source": [
    "### Validando que se realizó el cambio\n",
    "df_movies['release_date'].info()"
   ]
  },
  {
   "cell_type": "code",
   "execution_count": null,
   "metadata": {},
   "outputs": [],
   "source": [
    "### Validamos si tiene NaN:\n",
    "print(\"Cantidad de Valores Nulos de 'release_date':\",df_movies['release_date'].isna().sum())"
   ]
  },
  {
   "cell_type": "markdown",
   "metadata": {},
   "source": [
    "Se procede a eliminar los 3 nuevos valores nulos que aparecieron después de convertirlos a formato fecha."
   ]
  },
  {
   "cell_type": "code",
   "execution_count": null,
   "metadata": {},
   "outputs": [],
   "source": [
    "df_movies.dropna(subset=['release_date'], inplace=True)\n",
    "print(\"Total de Valores Nulos de la columna 'release_date'= \",df_movies['release_date'].isna().sum())"
   ]
  },
  {
   "cell_type": "markdown",
   "metadata": {},
   "source": [
    "Se crea la nueva columna del añio"
   ]
  },
  {
   "cell_type": "code",
   "execution_count": null,
   "metadata": {},
   "outputs": [],
   "source": [
    "### Como efectivamente todos los registros de la columna 'release_date' tienen el mismo formato, \n",
    "### pasamos a crear la columna de años:\n",
    "\n",
    "#Creamos la columna 'release_year' que va a contener el año de la columna 'release_date'\n",
    "df_movies['Anio'] = pd.to_datetime(df_movies['release_date']).dt.year\n",
    "\n",
    "### Validamos la nueva columna de 'release_year'\n",
    "print(df_movies[['release_date','Anio']].head(5))\n",
    "df_movies[['release_date','Anio']].tail(5)"
   ]
  },
  {
   "cell_type": "code",
   "execution_count": null,
   "metadata": {},
   "outputs": [],
   "source": [
    "### Visualizando Valores Nulos\n",
    "df_movies.isna().sum()"
   ]
  },
  {
   "cell_type": "markdown",
   "metadata": {},
   "source": [
    "### 1.1.1.5) Requerimiento del Proyecto, Nro. 5"
   ]
  },
  {
   "cell_type": "markdown",
   "metadata": {},
   "source": [
    "+ Crear la columna con el retorno de inversión, llamada **`return`** con los campos **`revenue`** y **`budget`**, dividiendo estas dos últimas **`revenue / budget`**, cuando no hay datos disponibles para calcularlo, deberá tomar el valor **`0`**."
   ]
  },
  {
   "cell_type": "code",
   "execution_count": null,
   "metadata": {},
   "outputs": [],
   "source": [
    "### Validando que no hay NaN, en ninguna de las dos columnas:\n",
    "print(df_movies['budget'].isna().sum())\n",
    "df_movies['revenue'].isna().sum()"
   ]
  },
  {
   "cell_type": "code",
   "execution_count": null,
   "metadata": {},
   "outputs": [],
   "source": [
    "### Validando datos\n",
    "df_movies[['budget','revenue']].describe()"
   ]
  },
  {
   "cell_type": "markdown",
   "metadata": {},
   "source": [
    "Se puede observar que ambas columnas tienen valores en ceros (0)"
   ]
  },
  {
   "cell_type": "code",
   "execution_count": null,
   "metadata": {},
   "outputs": [],
   "source": [
    "### Se realiza esta conversion para detectar la existencia de algun dato, con un posible error. (Por si acaso !!!!)\n",
    "df_movies['budget'] = pd.to_numeric(df_movies['budget'], errors='coerce')\n",
    "df_movies['revenue'] = pd.to_numeric(df_movies['revenue'], errors='coerce')"
   ]
  },
  {
   "cell_type": "markdown",
   "metadata": {},
   "source": [
    "Se valida nuevamente si aparecieron valores nulos."
   ]
  },
  {
   "cell_type": "code",
   "execution_count": null,
   "metadata": {},
   "outputs": [],
   "source": [
    "### Validando que no hay NaN, en ninguna de las dos columnas:\n",
    "print(df_movies['budget'].isna().sum())\n",
    "df_movies['revenue'].isna().sum()"
   ]
  },
  {
   "cell_type": "code",
   "execution_count": null,
   "metadata": {},
   "outputs": [],
   "source": [
    "### Creando la columna con la formula del retorno de inversión 'return'\n",
    "df_movies['return'] = df_movies.apply(lambda x_return: 0 if x_return['budget'] == 0 else (x_return['revenue'] / x_return['budget']), axis=1)\n",
    "\n",
    "### Visualizando las columnas\n",
    "print(df_movies[['revenue', 'budget','return']].head(10))\n",
    "df_movies[['revenue', 'budget','return']].tail(10)"
   ]
  },
  {
   "cell_type": "markdown",
   "metadata": {},
   "source": [
    "### 1.1.1.6) Requerimiento del Proyecto, Nro. 6"
   ]
  },
  {
   "cell_type": "markdown",
   "metadata": {},
   "source": [
    "+ Eliminar las siguientes 6 columnas que no serán utilizadas, **`video`**,**`imdb_id`**,**`adult`**,**`original_title`**,**`poster_path`** y **`homepage`**."
   ]
  },
  {
   "cell_type": "code",
   "execution_count": null,
   "metadata": {},
   "outputs": [],
   "source": [
    "### Total de Columnas\n",
    "print(\"Total de Columnas=\",df_movies.columns.value_counts().sum())\n",
    "\n",
    "### Cantidad de columnas a eliminar por el Requeriiento Nro.6\n",
    "print(\"Nro de Columnas a eliminar el el Requerimienti Nro.6 = 6 \")\n",
    "\n",
    "### Se procede a eliminar las 6 columnas que no serán utilizadas:\n",
    "df_movies.drop(columns=['video', 'imdb_id','adult', 'original_title', 'poster_path', 'homepage'], inplace=True)\n",
    "\n",
    "### Columnas Restantes:\n",
    "print(\"Columnas Restantes =\",df_movies.columns.value_counts().sum())"
   ]
  },
  {
   "cell_type": "code",
   "execution_count": null,
   "metadata": {},
   "outputs": [],
   "source": [
    "### Información de Columnas y Filas del DataSets\n",
    "print(\"Columnas del DataSets de Movies:\\n\\n\",df_movies.columns,\"\\n\")\n",
    "print(\"Dimensiones del DataSets de Movies: \",df_movies.shape,\"\\n\")"
   ]
  },
  {
   "cell_type": "code",
   "execution_count": null,
   "metadata": {},
   "outputs": [],
   "source": [
    "### Validando Tipos de Columnas\n",
    "print(df_movies.info())"
   ]
  },
  {
   "cell_type": "code",
   "execution_count": null,
   "metadata": {},
   "outputs": [],
   "source": [
    "### Visualizando Valores Nulos\n",
    "df_movies.isna().sum()"
   ]
  },
  {
   "cell_type": "markdown",
   "metadata": {},
   "source": [
    "### Fin de Requerimientos iniciales del Proyecto"
   ]
  },
  {
   "cell_type": "markdown",
   "metadata": {},
   "source": [
    "### "
   ]
  },
  {
   "cell_type": "markdown",
   "metadata": {},
   "source": [
    "## 1.2) Revision inicial de los datos de \"df_credits\""
   ]
  },
  {
   "cell_type": "code",
   "execution_count": null,
   "metadata": {},
   "outputs": [],
   "source": [
    "### Información de Columnas y Filas del DataSets\n",
    "print(\"Columnas del DataSets de Movies:\\n\\n\",df_credits.columns,\"\\n\")\n",
    "print(\"Dimensiones del DataSets de Movies: \",df_credits.shape,\"\\n\")"
   ]
  },
  {
   "cell_type": "code",
   "execution_count": null,
   "metadata": {},
   "outputs": [],
   "source": [
    "### Visualizando los datos\n",
    "df_credits.head(2)\n"
   ]
  },
  {
   "cell_type": "markdown",
   "metadata": {},
   "source": [
    "### En el  dataset \"df_credits\" se requiere desanidar sus dos columnas y <Br>filtrar por los atributos relevantes para el proyecto."
   ]
  },
  {
   "cell_type": "markdown",
   "metadata": {},
   "source": [
    "### 1.2.1) Visualizando la primera columna: ***`cast`***"
   ]
  },
  {
   "cell_type": "markdown",
   "metadata": {},
   "source": [
    "### Columna de Reparto de la Pelicula (cast)"
   ]
  },
  {
   "cell_type": "markdown",
   "metadata": {},
   "source": [
    "Esta columna cast describe información sobre el reparto de una película. <Br>\n",
    "Cada registro en el DataFrame representa un miembro del reparto de la película y contiene la siguiente información:\n",
    "\n",
    "+ \"cast_id\": El ID del reparto al que pertenece el actor o actriz.\n",
    "+ \"character\": El personaje que el actor o actriz interpreta en la película.\n",
    "+ \"credit_id\": El ID del crédito en la base de datos de la película.\n",
    "+ \"gender\": El género del actor o actriz (1 para mujeres, 2 para hombres).\n",
    "+ \"id\": El ID del actor o actriz en la base de datos de la película.\n",
    "+ \"name\": El nombre del actor o actriz. \n",
    "+ \"order\": El orden en el que aparece el actor o actriz en los créditos de la película.\n",
    "+ \"profile_path\": La ruta de acceso al perfil del actor o actriz en la base de datos de la película. <Br>"
   ]
  },
  {
   "cell_type": "code",
   "execution_count": null,
   "metadata": {},
   "outputs": [],
   "source": [
    "### Visualizando la lista de diccionario de la columna \"cast\" de un determinado registro. \n",
    "fila_indice = 1  # Indice del registro o fila que se quiere visualizar.\n",
    "Columna = 'cast'\n",
    "DataSets = 'df_credits'\n",
    "\n",
    "Cadena = df_credits.at[fila_indice, Columna]\n",
    "\n",
    "print(\"1) Visualizando los datos horizontalmente:\\n\", \"=\"*41)\n",
    "print(Cadena,\"\\n\")\n",
    "\n",
    "print(\"2) Visualizando los datos verticalmente:\\n\", \"=\"*39)\n",
    "\n",
    "lista_str = df_credits.at[fila_indice, Columna]\n",
    "lista = ast.literal_eval(lista_str)\n",
    "N = len(lista) # Cantidad de diccionarios a mostrar de la lista\n",
    "for diccionario in lista[:N]:\n",
    "    for key, value in diccionario.items():\n",
    "        print(f\"{key}: {value}\")\n",
    "    print(\"-------------------------------------------------------\")\n",
    "    \n",
    "print(\"=\"*86)    \n",
    "print(f\"La columna '{Columna}', se refiere al Equipo de Reparto de la Película (Cast)\")\n",
    "print(\"=\"*86)"
   ]
  },
  {
   "cell_type": "markdown",
   "metadata": {},
   "source": [
    "Importante detallar en la salida anterior, que el atributo order toma valores naturales positivos incluyendo al cero ( 0,1,2,3); donde el valor 0 (Cero) corresponde al Protagonista, el valor 1 corresponde al Actor Principal o Primer Actor, el valor 2 corresponde al Actor Secundario y asi sucesivamente."
   ]
  },
  {
   "cell_type": "markdown",
   "metadata": {},
   "source": [
    "### 1.2.2) Visualizando la primera columna: ***`crew`***"
   ]
  },
  {
   "cell_type": "markdown",
   "metadata": {},
   "source": [
    "### Columna de Producción de la Pelicula (crew)"
   ]
  },
  {
   "cell_type": "markdown",
   "metadata": {},
   "source": [
    "La columna \"crew\" contiene información sobre el equipo de producción de una película. <Br>\n",
    "\n",
    "Cada registro en el DataFrame contiene la siguiente información:\n",
    "\n",
    "+   \"credit_id\": El ID del crédito en la base de datos de la película.\n",
    "+   \"department\": El departamento en el que trabaja el miembro del equipo de producción (por ejemplo, dirección, guion, diseño de producción, fotografía, etc.).\n",
    "+    \"gender\": El género del miembro del equipo de producción (1 para mujeres, 2 para hombres).\n",
    "+   \"id\": El ID del miembro del equipo de producción en la base de datos de la película.\n",
    "+   \"job\": El trabajo que realiza el miembro del equipo de producción (por ejemplo, director, guionista, diseñador de producción, director de fotografía, etc.).\n",
    "+   \"name\": El nombre del miembro del equipo de producción.\n",
    "+   \"profile_path\": La ruta de acceso al perfil del miembro del equipo de producción en la base de datos de la película."
   ]
  },
  {
   "cell_type": "code",
   "execution_count": null,
   "metadata": {},
   "outputs": [],
   "source": [
    "### Visualizando la lista de diccionario de la columna \"crew\" de un determinado registro. \n",
    "fila_indice = 0  # Indice del registro o fila que se quiere visualizar.\n",
    "Columna = 'crew'\n",
    "\n",
    "Cadena = df_credits.at[fila_indice, Columna]\n",
    "\n",
    "print(\"1) Visualizando los datos horizontalmente:\\n\", \"=\"*41)\n",
    "print(Cadena,\"\\n\")\n",
    "\n",
    "print(\"2) Visualizando los datos verticalmente:\\n\", \"=\"*39)\n",
    "\n",
    "lista_str = df_credits.at[fila_indice, Columna]\n",
    "lista = ast.literal_eval(lista_str)\n",
    "N = len(lista) # Cantidad de diccionarios a mostrar de la lista\n",
    "for diccionario in lista[:N]:\n",
    "    for key, value in diccionario.items():\n",
    "        print(f\"{key}: {value}\")\n",
    "    print(\"-------------------------------------------------------\")\n",
    "    \n",
    "print(\"=\"*86)    \n",
    "print(f\"La columna '{Columna}', se refiere al Equipo de Producción de la Película (Crew)\")\n",
    "print(\"=\"*86)"
   ]
  },
  {
   "cell_type": "markdown",
   "metadata": {},
   "source": [
    "En este caso solo se va a desanidar por name y job ya que es relevante para el Sistema de Recomendación."
   ]
  },
  {
   "cell_type": "markdown",
   "metadata": {},
   "source": [
    "### 1.2.3) Función para Desanidar las Columnas: ***`'cast'`*** y ***`'crew'`***<br>\n",
    "Nombre de la Función: `Extraer_Valor_List_Credits`"
   ]
  },
  {
   "cell_type": "code",
   "execution_count": null,
   "metadata": {},
   "outputs": [],
   "source": [
    "### Se procede desanidadas la columna de 'cast', por las clave valor de: 'character' y 'name'.\n",
    "\n",
    "claves = ['name']\n",
    "\n",
    "def Extraer_Valor_List_Credits(cadena, clave):\n",
    "    try:\n",
    "        lista_de_diccionarios = ast.literal_eval(cadena)                                               \n",
    "        if isinstance(lista_de_diccionarios, list):                                      \n",
    "            lista_encontrada = [str(dic.get(clave, '')) for dic in lista_de_diccionarios if isinstance(dic, dict)]\n",
    "            return ','.join(lista_encontrada)\n",
    "    except (ValueError, SyntaxError):\n",
    "        pass\n",
    "    return ''  # Si no es posible evaluarlo como una lista de diccionarios, se devuelve una  cadena vacía"
   ]
  },
  {
   "cell_type": "markdown",
   "metadata": {},
   "source": [
    "### 1.2.3.1) Desanidando la Columna:  ***`cast`***"
   ]
  },
  {
   "cell_type": "code",
   "execution_count": null,
   "metadata": {},
   "outputs": [],
   "source": [
    "### Llamado a la función para desanidar la columna: 'cast'\n",
    "\n",
    "### Desanidando por la clave: {name}, correspondiente a los actores de la películas.\n",
    "claves = ['name']\n",
    "\n",
    "for clave in claves:\n",
    "    df_credits[f'cast_{clave}'] = df_credits['cast'].apply(Extraer_Valor_List_Credits, clave=clave)\n",
    "\n",
    "df_credits.head(2)"
   ]
  },
  {
   "cell_type": "code",
   "execution_count": null,
   "metadata": {},
   "outputs": [],
   "source": [
    "### Visualizando la nueva columna 'cast_name', correspondiente a una variable cualitativa ordinal de Actores.\n",
    "### EL orden es importante.\n",
    "Columna = 'cast_name'\n",
    "print(\"=\"*86)    \n",
    "print(f\"La columna '{Columna}', correspndiente a una variable cualitativa ordinal de Actores\")\n",
    "print(\"=\"*86)\n",
    "df_credits['cast_name']"
   ]
  },
  {
   "cell_type": "markdown",
   "metadata": {},
   "source": [
    "Se puede observar que en la nueva columna 'cast_name' se tienen los nombre de los actores ordenados. <Br>El primer nombre corresponde al Protagonista (order = 0), <Br>El siguiente al Primer Actor o Actor Principal (order = 1), <Br>El siguiente al Segundo Actor o Actor Secundario (order = 2), y asi sucesivamente. <Br>Este es un buen ejemplo de una variable donde importa el orden; por lo tanto se denomina Variable Cualitativa Ordinal."
   ]
  },
  {
   "cell_type": "markdown",
   "metadata": {},
   "source": [
    "### 1.2.3.2) Desanidando la Columna:  ***`crew`***"
   ]
  },
  {
   "cell_type": "code",
   "execution_count": null,
   "metadata": {},
   "outputs": [],
   "source": [
    "### Llamado a la función para desanidar la columna: 'crew'\n",
    "\n",
    "### Desanidando por la clave: {job} y {name}, correspondiente la Cargo o rol, y Nombre de la persona que desempeña ese cargo.\n",
    "claves = ['job', 'name']\n",
    "\n",
    "for clave in claves:\n",
    "    df_credits[f'crew_{clave}'] = df_credits['crew'].apply(Extraer_Valor_List_Credits, clave=clave)\n",
    "\n",
    "df_credits.head(2)"
   ]
  },
  {
   "cell_type": "code",
   "execution_count": null,
   "metadata": {},
   "outputs": [],
   "source": [
    "### Visualizando la nueva columna 'crew_name', correspondiente a una variable cualitativa ordinal por Cargos.\n",
    "### EL primero corresponde al Director\n",
    "Columna = 'crew_job'\n",
    "print(\"=\"*86)    \n",
    "print(f\"La columna '{Columna}', correspndiente a una variable cualitativa ordinal de Roles o Cargos\")\n",
    "print(\"=\"*86)\n",
    "df_credits['crew_job']"
   ]
  },
  {
   "cell_type": "code",
   "execution_count": null,
   "metadata": {},
   "outputs": [],
   "source": [
    "### Visualizando la nueva columna 'crew_name', correspondiente a una variable cualitativa ordinal por Cargos.\n",
    "### EL primero corresponde al Director\n",
    "df_credits['crew_name']\n",
    "print(\"=\"*86)    \n",
    "print(f\"La columna '{Columna}', correspndiente a una variable cualitativa ordinal de Nombres por Cargo\")\n",
    "print(\"=\"*86)\n",
    "df_credits['crew_name']"
   ]
  },
  {
   "cell_type": "code",
   "execution_count": null,
   "metadata": {},
   "outputs": [],
   "source": [
    "### Validacion de las nuevas columnas\n",
    "df_credits.columns"
   ]
  },
  {
   "cell_type": "code",
   "execution_count": null,
   "metadata": {},
   "outputs": [],
   "source": [
    "### Informacion de las dimensiones de df_credits\n",
    "df_credits.info()"
   ]
  },
  {
   "cell_type": "markdown",
   "metadata": {},
   "source": [
    "No presenta valores Nulos"
   ]
  },
  {
   "cell_type": "markdown",
   "metadata": {},
   "source": [
    "## 1.3) Eliminación Registros Duplicados de los Datasets:' df_credits y 'df_movies'."
   ]
  },
  {
   "cell_type": "code",
   "execution_count": null,
   "metadata": {},
   "outputs": [],
   "source": [
    "### Total de Registros duplicados en: \"df_movies\"\n",
    "print(\"Total de Registros Duplicados en: 'df_movies' = \", df_movies[df_movies['id'].duplicated()]['id'].count())\n",
    "\n",
    "### Total de Registros duplicados en: \"df_credits\"\n",
    "print(\"Total de Registros Duplicados en: 'df_credits' = \", df_credits[df_credits['id'].duplicated()]['id'].count())"
   ]
  },
  {
   "cell_type": "markdown",
   "metadata": {},
   "source": [
    "Visualizando Registros Duplicados"
   ]
  },
  {
   "cell_type": "code",
   "execution_count": null,
   "metadata": {},
   "outputs": [],
   "source": [
    "### Visualizando y validando los datos de cada registros duplicados de df_credits; ordenados por el codigo de la película:\n",
    "DataSets = 'df_movies'\n",
    "print(f\"Visualización del Dataset: {DataSets}: \\n\\n, {df_movies[df_movies.duplicated(subset=['id'], keep=False)].sort_values(by=['id'])}\")"
   ]
  },
  {
   "cell_type": "code",
   "execution_count": null,
   "metadata": {},
   "outputs": [],
   "source": [
    "### Visualizando y validando los datos de cada registros duplicados de df_credits; ordenados por el codigo de la película:\n",
    "DataSets = 'df_credits'\n",
    "print(f\"Visualización del Dataset: {DataSets}: \\n\\n, {df_credits[df_credits.duplicated(subset=['id'], keep=False)].sort_values(by=['id'])}\")"
   ]
  },
  {
   "cell_type": "markdown",
   "metadata": {},
   "source": [
    "Eliminando Registros Duplicados"
   ]
  },
  {
   "cell_type": "code",
   "execution_count": null,
   "metadata": {},
   "outputs": [],
   "source": [
    "### Eliminando los valores duplicados en df_movies\n",
    "df_movies.drop_duplicates(subset=['id'], keep='first', inplace=True)\n",
    "df_movies[df_movies['id'].duplicated()].value_counts().sum()\n",
    "\n",
    "### Eliminando los valores duplicados en df_credits\n",
    "df_credits.drop_duplicates(subset=['id'], keep='first', inplace=True)\n",
    "df_credits[df_credits['id'].duplicated()].value_counts().sum()"
   ]
  },
  {
   "cell_type": "code",
   "execution_count": null,
   "metadata": {},
   "outputs": [],
   "source": [
    "### Total de Registros duplicados en: \"df_movies\"\n",
    "print(\"Total de Registros Duplicados en: 'df_movies' = \", df_movies[df_movies['id'].duplicated()]['id'].count())\n",
    "\n",
    "### Total de Registros duplicados en: \"df_credits\"\n",
    "print(\"Total de Registros Duplicados en: 'df_credits' = \", df_credits[df_credits['id'].duplicated()]['id'].count())"
   ]
  },
  {
   "cell_type": "markdown",
   "metadata": {},
   "source": [
    "# 2) Analisís Exploratorios de los Datos (EDA)"
   ]
  },
  {
   "cell_type": "markdown",
   "metadata": {},
   "source": [
    "## 2.1) Preprocesamiento de Datos:"
   ]
  },
  {
   "cell_type": "markdown",
   "metadata": {},
   "source": [
    "+   2.1.1) Valores Faltantes\n",
    "+   2.1.2) Valores Atípicos\n",
    "+   2.1.3) Escalado / Normalizado\n",
    "+   2.1.4) Codificación de Variables\n",
    "+   2.1.5) Seleccion de atributos\n",
    "+   2.1.6) Ingeniería de Features"
   ]
  },
  {
   "cell_type": "markdown",
   "metadata": {},
   "source": [
    "### 2.1.1) Valores Faltantes"
   ]
  },
  {
   "cell_type": "code",
   "execution_count": null,
   "metadata": {},
   "outputs": [],
   "source": [
    "### Valores nulos en cada columna de \"df_movies\"\n",
    "print(\"Valores Nulos del Dataset: 'df_movies' \")\n",
    "print(\"=\"*37)\n",
    "df_movies.isna().sum()"
   ]
  },
  {
   "cell_type": "markdown",
   "metadata": {},
   "source": [
    "Totalizando Valores Faltantes en cada DataSets:"
   ]
  },
  {
   "cell_type": "code",
   "execution_count": null,
   "metadata": {},
   "outputs": [],
   "source": [
    "#df_movies.isna().sum()\n",
    "### Total de valores nulos en \"df_movies\"\n",
    "print(\"Total de valores nulos en 'df_movies'= \", df_movies.isna().sum().sum())\n",
    "\n",
    "#df_movies.isna().sum()\n",
    "### Total de valores nulos en \"df_credits\"\n",
    "print(\"Total de valores nulos en 'df_credits'= \", df_credits.isna().sum().sum())"
   ]
  },
  {
   "cell_type": "markdown",
   "metadata": {},
   "source": [
    "El Datasets de 'df_credits' no refleja valores nulos. "
   ]
  },
  {
   "cell_type": "markdown",
   "metadata": {},
   "source": [
    "Revisando Columnas con Valores NaN"
   ]
  },
  {
   "cell_type": "markdown",
   "metadata": {},
   "source": [
    "1) Columna = 'original_language'"
   ]
  },
  {
   "cell_type": "code",
   "execution_count": null,
   "metadata": {},
   "outputs": [],
   "source": [
    "### INformación Detallada de la Columna: 'original_language'\n",
    "Columna = 'original_language'\n",
    "print(f\"Analizando los Valores Nulos en la Columna:   '{Columna}'\")\n",
    "print(f\"Total Registros: {df_movies.shape[0]}\")\n",
    "print(f\"Total Valores Nulos: {df_movies[Columna].isna().sum()}\")\n",
    "print(f\"Porcentaje Valores Nulos: {round((df_movies[Columna].isna().sum()/df_movies.shape[0])*100,3)} %\")\n",
    "print(f\"Frecuencia del Valor que mas se repite: {df_movies[Columna].describe()[3]}     Porcentaje= {round((df_movies[Columna].describe()[3]/df_movies[Columna].describe()[0])*100,3)} %    Atributo: {df_movies[Columna].describe()[2]}\")\n",
    "df_movies[Columna].describe()"
   ]
  },
  {
   "cell_type": "markdown",
   "metadata": {},
   "source": [
    "En resumen en la columna 'original_language' tiene el 0,024 % de valores nulos.\n",
    "En el 70.992 % de los casos, el Idioma predominante es Ingles ('en').<Br>\n",
    "Por lo tanto se decide imputar los 11 valores nulos con el idioma que tiene la mayor frecuencia = 'en'."
   ]
  },
  {
   "cell_type": "code",
   "execution_count": null,
   "metadata": {},
   "outputs": [],
   "source": [
    "Columna = 'original_language'\n",
    "DatosImputar = 'en'\n",
    "\n",
    "print(f\"Total Valores Nulos: {df_movies[Columna].isna().sum()}    Porcentaje= {round((df_movies[Columna].isna().sum()/df_movies.shape[0])*100,5)} %\")\n",
    "\n",
    "print(\"Realizando la Imputación o reemplazo de los valores..........\")\n",
    "df_movies[Columna].fillna(DatosImputar, inplace=True)\n",
    "\n",
    "print(f\"Total Valores Nulos: {df_movies[Columna].isna().sum()}    Porcentaje= {round((df_movies[Columna].isna().sum()/df_movies.shape[0])*100,5)} %\")"
   ]
  },
  {
   "cell_type": "markdown",
   "metadata": {},
   "source": [
    "2) Columna = 'overview'"
   ]
  },
  {
   "cell_type": "code",
   "execution_count": null,
   "metadata": {},
   "outputs": [],
   "source": [
    "### INformación Detallada de la Columna: 'overview'\n",
    "Columna = 'overview'\n",
    "print(f\"Analizando los Valores Nulos en la Columna:   '{Columna}'\")\n",
    "print(f\"Total Registros: {df_movies.shape[0]}\")\n",
    "print(f\"Total Valores Nulos: {df_movies[Columna].isna().sum()}\")\n",
    "print(f\"Porcentaje Valores Nulos: {round((df_movies[Columna].isna().sum()/df_movies.shape[0])*100,3)} %\")\n",
    "print(f\"Frecuencia del Valor que mas se repite: {df_movies[Columna].describe()[3]}     Porcentaje= {round((df_movies[Columna].describe()[3]/df_movies[Columna].describe()[0])*100,3)} %    Atributo: {df_movies[Columna].describe()[2]}\")\n",
    "df_movies[Columna].describe()"
   ]
  },
  {
   "cell_type": "markdown",
   "metadata": {},
   "source": [
    "La información de la columna 'overview' es relevante ya que nos ofrece una caracteristica general de la película. No tener este atributo impacta en la recomendación de la película, en el caso de utilizar esta columna para la dicha recomendación. En resumen, en este momento no es oprtuno eliminar estos valores NaN. Total de valores nulos 941.  (2.075 %) "
   ]
  },
  {
   "cell_type": "markdown",
   "metadata": {},
   "source": [
    "3) Columna = 'runtime'"
   ]
  },
  {
   "cell_type": "code",
   "execution_count": null,
   "metadata": {},
   "outputs": [],
   "source": [
    "### Información Detallada de la Columna: 'runtime'\n",
    "Columna = 'runtime'\n",
    "print(f\"Analizando los Valores Nulos en la Columna:   '{Columna}'\")\n",
    "print(f\"Total Registros: {df_movies.shape[0]}\")\n",
    "print(f\"Total Valores Nulos: {df_movies[Columna].isna().sum()}\")\n",
    "print(f\"Porcentaje Valores Nulos: {round((df_movies[Columna].isna().sum()/df_movies.shape[0])*100,3)} %\")\n",
    "\n",
    "df_movies[Columna].describe()"
   ]
  },
  {
   "cell_type": "markdown",
   "metadata": {},
   "source": [
    "En este caso, se procede a imputar con el valor del Cuartil Q3 (107); ya que indica que el 75 % de la duración <Br>de la película dura aproximadamente 107 minutos o menos.<Br> En resumen, se procede a sustituir los 246 valores nulos de la columna 'runtime' por 107 (Tiempo en minutos) ya que la diferencia entre el Q3 y la media (13), es mucho menor que la desviación estandar; qué es la que nos indica la dispersión de los datos.<Br> Estos 246 valores quedarian a menos de una desviación estandar de la media."
   ]
  },
  {
   "cell_type": "code",
   "execution_count": null,
   "metadata": {},
   "outputs": [],
   "source": [
    "### Información Detallada de la Columna: 'runtime'\n",
    "Columna = 'runtime'\n",
    "DatosImputar = 107    # Q3 = Cuartil 3\n",
    "\n",
    "print(f\"Total Valores Nulos: {df_movies[Columna].isna().sum()}    Porcentaje= {round((df_movies[Columna].isna().sum()/df_movies.shape[0])*100,3)} %\")\n",
    "\n",
    "print(\"Realizando la Imputación o reemplazo de los valores..........\")\n",
    "df_movies[Columna].fillna(DatosImputar, inplace=True)\n",
    "\n",
    "print(f\"Total Valores Nulos: {df_movies[Columna].isna().sum()}    Porcentaje= {round((df_movies[Columna].isna().sum()/df_movies.shape[0])*100,3)} %\")"
   ]
  },
  {
   "cell_type": "markdown",
   "metadata": {},
   "source": [
    "4) Columna = 'status'"
   ]
  },
  {
   "cell_type": "code",
   "execution_count": null,
   "metadata": {},
   "outputs": [],
   "source": [
    "### Información Detallada de la Columna: 'status'\n",
    "Columna = 'status'\n",
    "print(f\"Analizando los Valores Nulos en la Columna:   '{Columna}'\")\n",
    "print(f\"Total Registros: {df_movies.shape[0]}\")\n",
    "print(f\"Total Valores Nulos: {df_movies[Columna].isna().sum()}\")\n",
    "print(f\"Porcentaje Valores Nulos: {round((df_movies[Columna].isna().sum()/df_movies.shape[0])*100,3)} %\")\n",
    "print(f\"Frecuencia del Valor que mas se repite: {df_movies[Columna].describe()[3]}     Porcentaje= {round((df_movies[Columna].describe()[3]/df_movies[Columna].describe()[0])*100,3)} %    Atributo: {df_movies[Columna].describe()[2]}\")\n",
    "df_movies[Columna].describe()"
   ]
  },
  {
   "cell_type": "markdown",
   "metadata": {},
   "source": [
    "Se puede observar que hay 80 películas (0.176 %) de un total de 45376 con valores nulos en el columa de 'status'. <Br> Es de notar que el 99.205 % de todas las peliculas estan con estatus de 'Release' (Estrenadas). <Br>Es muy probable que para la fecha actual, ya estas películas también esten estrenadas. <Br>Adicionalmente, si una película no ha sido estrenada hasta la fecha actual, entonces el usuario no podrá sugerirla como que le gustó; ya que no ha visto todavía. En este sentido, el Sistema de Recomendación estaría sólo esperando que la vea. <Br>Por tales razones, se procede a imputar este campo por el atributo 'Released'. Cabe destacar, que el error por lo imputación es muy pequeño y que adicionalmente, tiende a disminuir, dado que es solo de tiempo."
   ]
  },
  {
   "cell_type": "code",
   "execution_count": null,
   "metadata": {},
   "outputs": [],
   "source": [
    "### Información Detallada de la Columna: 'status'\n",
    "Columna = 'status'\n",
    "DatosImputar = 'Released'  \n",
    "\n",
    "print(f\"Total Valores Nulos: {df_movies[Columna].isna().sum()}    Porcentaje= {round((df_movies[Columna].isna().sum()/df_movies.shape[0])*100,3)} %\")\n",
    "\n",
    "print(\"Realizando la Imputación o reemplazo de los valores..........\")\n",
    "df_movies[Columna].fillna(DatosImputar, inplace=True)\n",
    "\n",
    "print(f\"Total Valores Nulos: {df_movies[Columna].isna().sum()}    Porcentaje= {round((df_movies[Columna].isna().sum()/df_movies.shape[0])*100,3)} %\")"
   ]
  },
  {
   "cell_type": "markdown",
   "metadata": {},
   "source": [
    "5) Columna = 'tagline'"
   ]
  },
  {
   "cell_type": "code",
   "execution_count": null,
   "metadata": {},
   "outputs": [],
   "source": [
    "### Información Detallada de la Columna: 'tagline'\n",
    "Columna = 'tagline'\n",
    "print(f\"Analizando los Valores Nulos en la Columna:   '{Columna}'\")\n",
    "print(f\"Total Registros: {df_movies.shape[0]}\")\n",
    "print(f\"Total Valores Nulos: {df_movies[Columna].isna().sum()}\")\n",
    "print(f\"Porcentaje Valores Nulos: {round((df_movies[Columna].isna().sum()/df_movies.shape[0])*100,3)} %\")\n",
    "print(f\"Frecuencia del Valor que mas se repite: {df_movies[Columna].describe()[3]}     Porcentaje= {round((df_movies[Columna].describe()[3]/df_movies[Columna].describe()[0])*100,3)} %    Atributo: {df_movies[Columna].describe()[2]}\")\n",
    "df_movies[Columna].describe()"
   ]
  },
  {
   "cell_type": "markdown",
   "metadata": {},
   "source": [
    "Esta columna representa menos de la mitad de datos válidos del Dataset. <Br> El 55.04 % de esta columna son datos faltantes, en este caso datos nulos. <Br> Se procede a eliminar esta columna 'tagline'"
   ]
  },
  {
   "cell_type": "code",
   "execution_count": null,
   "metadata": {},
   "outputs": [],
   "source": [
    "### Se procede a eliminar la columna 'tagline':\n",
    "df_movies.drop(columns=['tagline'], inplace=True)"
   ]
  },
  {
   "cell_type": "markdown",
   "metadata": {},
   "source": [
    "6) Columna = 'Franquicia'"
   ]
  },
  {
   "cell_type": "code",
   "execution_count": null,
   "metadata": {},
   "outputs": [],
   "source": [
    "### Información Detallada de la Columna: 'Franquicia'\n",
    "Columna = 'Franquicia'\n",
    "print(f\"Analizando los Valores Nulos en la Columna:   '{Columna}'\")\n",
    "print(f\"Total Registros: {df_movies.shape[0]}\")\n",
    "print(f\"Total Valores Nulos: {df_movies[Columna].isna().sum()}\")\n",
    "print(f\"Porcentaje Valores Nulos: {round((df_movies[Columna].isna().sum()/df_movies.shape[0])*100,3)} %\")\n",
    "print(f\"Frecuencia del Valor que mas se repite: {df_movies[Columna].describe()[3]}     Porcentaje= {round((df_movies[Columna].describe()[3]/df_movies[Columna].describe()[0])*100,3)} %    Atributo: {df_movies[Columna].describe()[2]}\")\n",
    "df_movies[Columna].describe()"
   ]
  },
  {
   "cell_type": "markdown",
   "metadata": {},
   "source": [
    "Se puede observar que la Columna 'Franquicia' tiene el 90.109 % de valores faltantes. Sin embargo, no se procede tomar ninguna acción ya que es una columna clave para responder la consulta de la función Nro.3."
   ]
  },
  {
   "cell_type": "markdown",
   "metadata": {},
   "source": [
    "Validando los Cambios Realizados"
   ]
  },
  {
   "cell_type": "code",
   "execution_count": null,
   "metadata": {},
   "outputs": [],
   "source": [
    "### Valores nulos en cada columna de \"df_movies\"\n",
    "print(\"Valores Nulos del Dataset: 'df_movies' \")\n",
    "print(\"=\"*37)\n",
    "df_movies.isna().sum()"
   ]
  },
  {
   "cell_type": "code",
   "execution_count": null,
   "metadata": {},
   "outputs": [],
   "source": [
    "### Valores nulos en cada columna de \"df_movies\"\n",
    "print(\"Informacion de Variables del Dataset: 'df_movies' \")\n",
    "print(\"=\"*48)\n",
    "df_movies.info()"
   ]
  },
  {
   "cell_type": "markdown",
   "metadata": {},
   "source": [
    "Normalizando la columna 'popularity', ya que esta definida como objeto y en realidad es númerica."
   ]
  },
  {
   "cell_type": "code",
   "execution_count": null,
   "metadata": {},
   "outputs": [],
   "source": [
    "print(\"Tipo de variable antes del cambio: \",df_movies['popularity'].dtype)\n",
    "df_movies['popularity'] = pd.to_numeric(df_movies['popularity'], errors='coerce')\n",
    "print(\"Tipo de variable despúes del cambio: \",df_movies['popularity'].dtype)"
   ]
  },
  {
   "cell_type": "markdown",
   "metadata": {},
   "source": [
    "###   2.1.2) Valores Atípicos"
   ]
  },
  {
   "cell_type": "markdown",
   "metadata": {},
   "source": [
    "Analizando las Variables Cuantitativas"
   ]
  },
  {
   "cell_type": "code",
   "execution_count": null,
   "metadata": {},
   "outputs": [],
   "source": [
    "### Variables Cualitativas\n",
    "ColumnasCualitativas = df_movies[['overview', 'spoken_languages', 'status', 'Franquicia', 'Generos','Productores', 'Paises', 'return', 'IdiomasH']]\n",
    "\n",
    "### Variables Cuantitativas\n",
    "ColumnasCuantitativas = df_movies[['budget', 'revenue', 'return', 'popularity', 'vote_average', 'vote_count', 'runtime', 'Anio']]"
   ]
  },
  {
   "cell_type": "code",
   "execution_count": null,
   "metadata": {},
   "outputs": [],
   "source": [
    "### Visualizando Estadídtica de las Variables Cuantitativas\n",
    "df_movies.describe()"
   ]
  },
  {
   "cell_type": "markdown",
   "metadata": {},
   "source": [
    "Visualizando las Correlaciones de las Variables Cuantitativas"
   ]
  },
  {
   "cell_type": "markdown",
   "metadata": {},
   "source": [
    "Graficando un diagrama de cajas para visualizar los valores atípicos"
   ]
  },
  {
   "cell_type": "code",
   "execution_count": null,
   "metadata": {},
   "outputs": [],
   "source": [
    "# Selecciona las variables cuantitativas\n",
    "ColumnasCuantitativas = df_movies[['budget', 'revenue', 'return', 'popularity', 'vote_average', 'vote_count', 'runtime', 'Anio']]\n",
    "\n",
    "# Calcula la matriz de correlación\n",
    "correlation_matrix = ColumnasCuantitativas.corr()\n",
    "\n",
    "# Crea un mapa de calor para visualizar las correlaciones\n",
    "plt.figure(figsize=(10, 8))\n",
    "sns.heatmap(correlation_matrix, annot=True, cmap='coolwarm', center=0)\n",
    "plt.title('Mapa de Calor de Correlaciones')\n",
    "plt.show()"
   ]
  },
  {
   "cell_type": "markdown",
   "metadata": {},
   "source": [
    "No se observa ninguna correlación significativa.<Br> Preguntas a reflexionar: <Br>\n",
    "1) Una película con una alta popularidad, debería ser recomendada? <Br> \n",
    "2) Una película con una alta popularidad, deberia tener un mayor vote_average? Deberian ser directamente proporcionales? (Su Correlación = 0.15. No existe ninguna relación !!!)"
   ]
  },
  {
   "cell_type": "code",
   "execution_count": null,
   "metadata": {},
   "outputs": [],
   "source": [
    "### Grafico de Distribución de Frecuencia\n",
    "Columna = 'vote_average'\n",
    "\n",
    "# Crear un histograma y gráfico de densidad para la popularidad sin escala logarítmica\n",
    "plt.figure(figsize=(8, 6))\n",
    "sns.histplot(data=df_movies, x= Columna, kde=True)\n",
    "plt.title('Distribución de Frecuencia')\n",
    "plt.xlabel(Columna)\n",
    "plt.ylabel('Frecuencia')\n",
    "plt.show()"
   ]
  },
  {
   "cell_type": "markdown",
   "metadata": {},
   "source": [
    "Como podemos observar en la Gráfica de Distribución de Frecuencias, los valores no estan todos en un mismo rango. Por eso, en la siguienta Gráfica utilizamos una función logaritmica para resultar mejor la distribución de la variable 'vote_average'"
   ]
  },
  {
   "cell_type": "code",
   "execution_count": null,
   "metadata": {},
   "outputs": [],
   "source": [
    "# Aplicar escala logarítmica a los valores de vote_average\n",
    "popularity_log = np.log1p(df_movies['vote_average'])  # np.log1p para evitar el log(0)\n",
    "\n",
    "# Crear un histograma y gráfico de densidad para la popularidad logaritmizada\n",
    "plt.figure(figsize=(8, 6))\n",
    "sns.histplot(data=popularity_log, kde=True)\n",
    "plt.title('Distribución de Popularidad (Escala Logarítmica)')\n",
    "plt.xlabel('Log(Popularidad)')\n",
    "plt.ylabel('Frecuencia')\n",
    "plt.show()"
   ]
  },
  {
   "cell_type": "markdown",
   "metadata": {},
   "source": [
    "Definitivamente, de estas variables cuantitativas la \"popularidad\" y \"voto promedio\", aunque no tengan ninguna correlación entre ellas, ni tampoco con el resto de variables cuantitativas, podrian ser significativas para la recomendación."
   ]
  },
  {
   "cell_type": "code",
   "execution_count": null,
   "metadata": {},
   "outputs": [],
   "source": [
    "# Aplicar escala logarítmica a los valores de popularidad\n",
    "popularity_log = np.log1p(df_movies['popularity'])  # np.log1p para evitar el log(0)\n",
    "\n",
    "# Crear un histograma y gráfico de densidad para la popularidad logaritmizada\n",
    "plt.figure(figsize=(8, 6))\n",
    "sns.histplot(data=popularity_log, kde=True)\n",
    "plt.title('Distribución de Popularidad (Escala Logarítmica)')\n",
    "plt.xlabel('Log(Popularidad)')\n",
    "plt.ylabel('Frecuencia')\n",
    "plt.show()"
   ]
  },
  {
   "cell_type": "code",
   "execution_count": null,
   "metadata": {},
   "outputs": [],
   "source": [
    "import matplotlib.pyplot as plt\n",
    "import seaborn as sns\n",
    "\n",
    "# Selecciona las variables cuantitativas\n",
    "ColumnasCuantitativas = df_movies[['budget', 'revenue', 'return', 'popularity', 'vote_average', 'vote_count', 'runtime', 'Anio']]\n",
    "\n",
    "# Crea subplots de diagramas de caja individuales para cada variable\n",
    "plt.figure(figsize=(12, 8))\n",
    "for i, column in enumerate(ColumnasCuantitativas.columns, 1):\n",
    "    plt.subplot(2, 4, i)\n",
    "    sns.boxplot(data=ColumnasCuantitativas[column], color='skyblue')\n",
    "    \n",
    "    # Calcula la cantidad de valores atípicos\n",
    "    q1 = ColumnasCuantitativas[column].quantile(0.25)\n",
    "    q3 = ColumnasCuantitativas[column].quantile(0.75)\n",
    "    iqr = q3 - q1\n",
    "    outliers = ((ColumnasCuantitativas[column] < q1 - 1.5 * iqr) | (ColumnasCuantitativas[column] > q3 + 1.5 * iqr)).sum()\n",
    "    \n",
    "    plt.title(f'Diagrama de Caja de {column}\\nValores Atípicos: {outliers}')\n",
    "    plt.xlabel(column)\n",
    "\n",
    "plt.tight_layout()\n",
    "plt.savefig(\"GraficaDispersion.png\") \n",
    "plt.show()\n"
   ]
  },
  {
   "cell_type": "markdown",
   "metadata": {},
   "source": [
    "Las variables con menos valores atípicos son: **El año, el voto promedio y la popularidad.**"
   ]
  },
  {
   "cell_type": "markdown",
   "metadata": {},
   "source": [
    "Podemos observar que la columna 'popularity' esta definida como objeto, pero es de tipo númerico.  "
   ]
  },
  {
   "cell_type": "markdown",
   "metadata": {},
   "source": [
    "### 2.1.3) Escalado / Normalizado"
   ]
  },
  {
   "cell_type": "markdown",
   "metadata": {},
   "source": [
    "Dado que estamos utilizando la Similitud del Coseno, como medida de similitud para hacer la recomendación de las películas, es poco probable realizar algun tipo de escalado y/o normalización de variables. <Br>  La similitud del coseno ya tiene en cuenta la magnitud de las variables y se enfoca en la dirección relativa entre los vectores de características."
   ]
  },
  {
   "cell_type": "markdown",
   "metadata": {},
   "source": [
    "Dado que la similitud del coseno se basa en el ángulo entre los vectores y no en la magnitud absoluta; no deberíamos tener problemas de escala que afecten considerablemente a los resultados de la recomendación de la película."
   ]
  },
  {
   "cell_type": "markdown",
   "metadata": {},
   "source": [
    "### 2.1.4) Codificación de Variables"
   ]
  },
  {
   "cell_type": "markdown",
   "metadata": {},
   "source": [
    "La similitud del coseno realiza sus operaciones con vectores numéricos y no requiere una codificación explícita de variables categóricas."
   ]
  },
  {
   "cell_type": "markdown",
   "metadata": {},
   "source": [
    "La similitud del coseno calcula la similitud entre dos vectores númericos basándose en el ángulo entre ellos en un espacio n-dimensional. No asigna un valor numérico a las categorías en sí, por lo que no es necesario convertir variables categóricas en variables numéricas codificadas."
   ]
  },
  {
   "cell_type": "markdown",
   "metadata": {},
   "source": [
    "### 2.1.5) Selección de Atributos"
   ]
  },
  {
   "cell_type": "code",
   "execution_count": null,
   "metadata": {},
   "outputs": [],
   "source": [
    "df_movies.columns"
   ]
  },
  {
   "cell_type": "markdown",
   "metadata": {},
   "source": [
    "2.1.5.1) Eliminación de Columnas del Datasets: 'df_movies'"
   ]
  },
  {
   "cell_type": "code",
   "execution_count": null,
   "metadata": {},
   "outputs": [],
   "source": [
    "### Se procede a eliminar las 5 columnas desanidadas y la columna 'release_date':\n",
    "df_movies.drop(columns=['belongs_to_collection', 'genres', 'production_companies', 'production_countries', 'spoken_languages', 'release_date' ], inplace=True)\n",
    "\n",
    "df_movies.columns"
   ]
  },
  {
   "cell_type": "markdown",
   "metadata": {},
   "source": [
    "2.1.5.2) Selecion de Actores desde el Datasets: 'df_credits', para la recomendacion."
   ]
  },
  {
   "cell_type": "markdown",
   "metadata": {},
   "source": [
    "Visualizando la Columna: 'cast_name' "
   ]
  },
  {
   "cell_type": "code",
   "execution_count": null,
   "metadata": {},
   "outputs": [],
   "source": [
    "### Visualizndo los atributos de la columna 'cast_name' del datasets 'df_credits'\n",
    "df_credits['cast_name']"
   ]
  },
  {
   "cell_type": "markdown",
   "metadata": {},
   "source": [
    "Como ya se había mencionado anteriormente, la columna 'cast_name', contiene los nombres de los actores ordenados desde el protagonista, primer actor, segundo actor, tercer actor y así sucesivamente. "
   ]
  },
  {
   "cell_type": "markdown",
   "metadata": {},
   "source": [
    "Visualizando la Cantidad de Actores por Películas"
   ]
  },
  {
   "cell_type": "code",
   "execution_count": null,
   "metadata": {},
   "outputs": [],
   "source": [
    "### Cantidad de Actores por Películas\n",
    "\n",
    "longDeCadaCampo = df_credits['cast_name'].str.split(',').apply(len) # Se hace una division de la cadena \n",
    "                                                                    # y se obtienela longitud o tamaño de actores por películas \n",
    "print(\"Cantidad de Actores por Películas\\n\", longDeCadaCampo[longDeCadaCampo != 3])"
   ]
  },
  {
   "cell_type": "markdown",
   "metadata": {},
   "source": [
    "Como podemos observar es una cantidad variable por película. <Br>\n",
    "Dado que los actores son factor muy importante en la recomendación de películas, se procede a extraer como máximo 3 actores por películas, cuales quedaran de la siguiente manera:<Br>\n",
    "Una primera columna llamada 'Protagonista', con el nombre del Protaginista,<Br>\n",
    "Una segunda columna llamada 'Actor1', con el nombre del Actor Principal, y<Br>\n",
    "Una tercera columna llamada 'Actor2', con el nombre del Actor Secundario.<Br>"
   ]
  },
  {
   "cell_type": "markdown",
   "metadata": {},
   "source": [
    "Función para Crear Columnas por Actores."
   ]
  },
  {
   "cell_type": "code",
   "execution_count": null,
   "metadata": {},
   "outputs": [],
   "source": [
    "### Realizando la Separacion de los Actores de las Películas\n",
    "\n",
    "N = 3  # Número de actores a seleccionar de cada película.\n",
    "\n",
    "# Función para obtener una lista de nombres y completar con \"No Hay\" si es necesario\n",
    "def get_names(row):\n",
    "    names = row.split(',')\n",
    "    if len(names) >= 1:\n",
    "        Protagonist = names[0]\n",
    "    else:\n",
    "        Protagonist = np.nan\n",
    "    if len(names) >= 2:\n",
    "        Actor1 = names[1]\n",
    "    else:\n",
    "        Actor1 = np.nan\n",
    "    if len(names) >= 3:\n",
    "        Actor2 = names[2]\n",
    "    else:\n",
    "        Actor2 = np.nan\n",
    "    return Protagonist, Actor1, Actor2\n",
    "\n",
    "# Dividir la columna nombres_personas y obtener nuevas columnas\n",
    "df_credits[['Protagonista', 'Actor1', 'Actor2']] = pd.DataFrame(df_credits['cast_name'].apply(get_names).tolist())\n",
    "\n",
    "# Eliminar la columna original nombres_personas si no la necesitas\n",
    "df_credits.drop(columns=['cast_name'], inplace=True)\n",
    "\n",
    "# Mostrar el DataFrame resultante\n",
    "df_credits"
   ]
  },
  {
   "cell_type": "markdown",
   "metadata": {},
   "source": [
    "Validando Valores Nulos"
   ]
  },
  {
   "cell_type": "code",
   "execution_count": null,
   "metadata": {},
   "outputs": [],
   "source": [
    "### Visualizando Valores Nulos en 'df_credits'\n",
    "df_credits.isna().sum()"
   ]
  },
  {
   "cell_type": "markdown",
   "metadata": {},
   "source": [
    "Aparecieron valores nulos en las columnas de Protagonista, Actor1 y Actor2, despúes de separarlos en columnas; los cuales son significativos para el proyecto, ya que la Recomendación de Películas estará basada entre otras, con estas tres variables. Por tal razón, se procede a eliminar estos registros con NaN."
   ]
  },
  {
   "cell_type": "code",
   "execution_count": null,
   "metadata": {},
   "outputs": [],
   "source": [
    "### Se procede a eliminar los valores nulos de estas tres columnsa ya que serán utilizadas en la recomendación.\n",
    "df_credits.dropna(subset=['Protagonista', 'Actor1', 'Actor2'], inplace=True)\n",
    "\n",
    "### Visualizando Valores Nulos en 'df_credits'\n",
    "df_credits.isna().sum()"
   ]
  },
  {
   "cell_type": "markdown",
   "metadata": {},
   "source": [
    "2.1.5.3) Selecion del Director desde el Datasets: 'df_credits', para la recomendacion."
   ]
  },
  {
   "cell_type": "code",
   "execution_count": null,
   "metadata": {},
   "outputs": [],
   "source": [
    "df_credits[['crew_job', 'crew_name']]"
   ]
  },
  {
   "cell_type": "markdown",
   "metadata": {},
   "source": [
    "Se puede observar que el primer nombre de la columna 'crew_job' representa al Director de la Peliículas. <Br>\n",
    "Los otros nombres se correspondes a cada uno de los otros roles existentes."
   ]
  },
  {
   "cell_type": "markdown",
   "metadata": {},
   "source": [
    "Se procede a crear una sola columna con el nombre del Director."
   ]
  },
  {
   "cell_type": "code",
   "execution_count": null,
   "metadata": {},
   "outputs": [],
   "source": [
    "# Crear una nueva columna 'Director' con los nombres de los directores\n",
    "df_credits['Director'] = df_credits['crew_name'].str.split(',').str[0]\n",
    "\n",
    "### Eliminando columnas de 'crew_job' y 'crew_name'\n",
    "### Se procede a eliminar las 2 columnas anidadas ya que no la vamos a utilizar mas:\n",
    "df_credits.drop(columns=['crew_job', 'crew_name'], inplace=True)\n",
    "df_credits"
   ]
  },
  {
   "cell_type": "markdown",
   "metadata": {},
   "source": [
    "Validando los Cambios realizados"
   ]
  },
  {
   "cell_type": "code",
   "execution_count": null,
   "metadata": {},
   "outputs": [],
   "source": [
    "### Total de Registros duplicados en: \"df_credits\"\n",
    "print(\"Total Registros Duplicados de 'df_credits' = \",df_credits[df_credits['id'].duplicated()]['id'].count())\n",
    "\n",
    "### Total de Registros duplicados en: df_movies\n",
    "print(\"Total Registros Duplicados de 'df_movies' = \", df_movies[df_movies['id'].duplicated()]['id'].count(),\"\\n\")\n",
    "\n",
    "### Dimensiones de \"df_credits\"\n",
    "print(\"Dimensiones del Datasets de 'df_credits' = \", df_credits.shape)\n",
    "\n",
    "### Dimensiones de \"df_movies\"\n",
    "print(\"Dimensiones del Datasets de 'df_movies' = \", df_movies.shape,\"\\n\")\n",
    "      \n",
    "### Columnas de \"df_credits\"\n",
    "print(\"Columnas de 'df_credits' = \", df_credits.columns,\"\\n\")\n",
    "\n",
    "### Columnas de \"df_movies\"\n",
    "print(\"Columnas de 'df_movies' = \", df_movies.columns)     \n",
    "      "
   ]
  },
  {
   "cell_type": "markdown",
   "metadata": {},
   "source": [
    "2.1.5.4) Unión de ambos Datasets df_credits, para realizar mejor manipulacion de las variables."
   ]
  },
  {
   "cell_type": "code",
   "execution_count": null,
   "metadata": {},
   "outputs": [],
   "source": [
    "### Se procede a eliminar las 2 columnas desanidadas del Datasets: 'df_credits':\n",
    "df_credits.drop(columns=['cast', 'crew'], inplace=True)\n",
    "\n",
    "df_credits.columns"
   ]
  },
  {
   "cell_type": "markdown",
   "metadata": {},
   "source": [
    "Validando Informacion de Nulos y tipos de variables ante de unir los dos datasets"
   ]
  },
  {
   "cell_type": "code",
   "execution_count": null,
   "metadata": {},
   "outputs": [],
   "source": [
    "df_movies.isna().sum()"
   ]
  },
  {
   "cell_type": "code",
   "execution_count": null,
   "metadata": {},
   "outputs": [],
   "source": [
    "df_movies.info()"
   ]
  },
  {
   "cell_type": "code",
   "execution_count": null,
   "metadata": {},
   "outputs": [],
   "source": [
    "df_credits.isna().sum()"
   ]
  },
  {
   "cell_type": "code",
   "execution_count": null,
   "metadata": {},
   "outputs": [],
   "source": [
    "df_credits.info()"
   ]
  },
  {
   "cell_type": "markdown",
   "metadata": {},
   "source": [
    "Se puede observar el codigo de la pelicula son de diferentes tipos en los Datasets. <Br>Se procede tambien a convertirlos en númerico para realizar la unión de ambos Datasets:"
   ]
  },
  {
   "cell_type": "code",
   "execution_count": null,
   "metadata": {},
   "outputs": [],
   "source": [
    "### Se resetean los indices de los dos Dataset, dado las modificaciones que se han realizado.\n",
    "df_movies.reset_index(drop=True, inplace=True)\n",
    "df_credits.reset_index(drop=True, inplace=True)\n",
    "\n",
    "### Se lleva en ambas columnas el tipo de codigo de la película 'id' a ent64 para facilitar el merge:\n",
    "df_credits['id'] = df_credits['id'].astype('int64')\n",
    "df_movies['id'] = df_movies['id'].astype('int64')\n",
    "\n",
    "### Se procede a realizar el merge entre los dos dataframes:\n",
    "df_movies_JOIN = pd.merge(df_movies, df_credits, on='id')\n",
    "df_movies_JOIN.columns"
   ]
  },
  {
   "cell_type": "code",
   "execution_count": null,
   "metadata": {},
   "outputs": [],
   "source": [
    "### Validando Valores Nulos\n",
    "df_movies_JOIN.isna().sum()"
   ]
  },
  {
   "cell_type": "markdown",
   "metadata": {},
   "source": [
    "2.1.5.5) Selección de Variables para la Recomendación de Películas."
   ]
  },
  {
   "cell_type": "markdown",
   "metadata": {},
   "source": [
    "Columnas Selecionadas para la Recomendación"
   ]
  },
  {
   "cell_type": "code",
   "execution_count": null,
   "metadata": {},
   "outputs": [],
   "source": [
    "### Columnas Selecionadas para la Recomendación\n",
    "ColumnasSR = df_movies_JOIN[['id', 'title', 'Generos', 'Director', 'Protagonista', 'Actor1', 'Actor2', 'popularity', 'Anio','vote_average', 'Franquicia']].copy()\n",
    "ColumnasSR"
   ]
  },
  {
   "cell_type": "markdown",
   "metadata": {},
   "source": [
    "La Columna 'Franquicia' está practicamente vacía. Pero, puede ayudar en aquellos casos que exista."
   ]
  },
  {
   "cell_type": "code",
   "execution_count": null,
   "metadata": {},
   "outputs": [],
   "source": [
    "### Cantidad de Valores Unicos de las Columnas Seleccionadas para la Recomendación\n",
    "print(\"Cantidad de Valoque Unicos de cada una de estas Columnas: \\n\", ColumnasSR.nunique())"
   ]
  },
  {
   "cell_type": "markdown",
   "metadata": {},
   "source": [
    "### 2.1.6) Ingeníeria de Features"
   ]
  },
  {
   "cell_type": "markdown",
   "metadata": {},
   "source": [
    "Dado que el cálculo de similitud se basa en las características presentes en los datos y no en una representación numérica específica de ellas, no es necesario realizar transformaciones complejas o ingeniería de características en el sentido tradicional. Las características originales, ya sean cuantitativas o incluso cualitativas, se utilizan directamente en el cálculo de similitud del coseno."
   ]
  },
  {
   "cell_type": "markdown",
   "metadata": {},
   "source": [
    "La similitud del coseno opera en el espacio de características original sin requerir codificaciones específicas ni combinaciones de características."
   ]
  },
  {
   "cell_type": "markdown",
   "metadata": {},
   "source": [
    "En nuestro caso, la selección de las características relevantes es el factor primordial para nuestra recomendación. Y adicionalmente, en la calidad de los datos que tengamos"
   ]
  },
  {
   "cell_type": "markdown",
   "metadata": {},
   "source": [
    "# 3) Guardando el DataSets resultante para luego subirlo a GitHub."
   ]
  },
  {
   "cell_type": "markdown",
   "metadata": {},
   "source": [
    "### En resumen, estaremos trabajando con un DataSets de 40666 Registros y 22 Columnas"
   ]
  },
  {
   "cell_type": "code",
   "execution_count": null,
   "metadata": {},
   "outputs": [],
   "source": [
    "### Dimensiones del DataSets\n",
    "df_movies_JOIN.shape"
   ]
  },
  {
   "cell_type": "markdown",
   "metadata": {},
   "source": [
    "### Cargando el nuevo Dataset resultante para realizar pruebas locales"
   ]
  },
  {
   "cell_type": "code",
   "execution_count": null,
   "metadata": {},
   "outputs": [],
   "source": [
    "### Realizando la carga en disco para subir el nuevo DataSets de Datos: df_movies_JOIN\n",
    "df_movies_JOIN.to_csv('DataSets/df_movies_JOIN.csv', sep=',')"
   ]
  },
  {
   "cell_type": "markdown",
   "metadata": {},
   "source": [
    "### "
   ]
  },
  {
   "cell_type": "markdown",
   "metadata": {},
   "source": [
    "# 4) Funciones APis"
   ]
  },
  {
   "cell_type": "markdown",
   "metadata": {},
   "source": [
    "### "
   ]
  },
  {
   "cell_type": "markdown",
   "metadata": {},
   "source": [
    "### 4.1) Funciones Requeridas"
   ]
  },
  {
   "cell_type": "markdown",
   "metadata": {},
   "source": [
    "### Función Nro. 1 <Br>\n",
    "'''Ingresas el idioma, retornando la cantidad de peliculas producidas en el mismo'''"
   ]
  },
  {
   "cell_type": "code",
   "execution_count": null,
   "metadata": {},
   "outputs": [],
   "source": [
    "df_movies_JOIN['original_language'].nunique()"
   ]
  },
  {
   "cell_type": "code",
   "execution_count": null,
   "metadata": {},
   "outputs": [],
   "source": [
    "### FUNCION Nro. 1\n",
    "#@app.get('/peliculas_idioma/{idioma}')\n",
    "def peliculas_idioma(idioma:str):\n",
    "    '''Ingresas el idioma, retornando la cantidad de peliculas producidas en el mismo'''\n",
    "    try:\n",
    "        idioma = idioma.lower()\n",
    "        mask = df_movies_JOIN[df_movies_JOIN['original_language'].str.lower() == idioma]\n",
    "        \n",
    "        if mask.empty:\n",
    "            {'Error': 'Idioma no encontrado. Intente de nuevo...!!! '}    # Si la mascara esta vacía, entonces no encontro ningun idioma.\n",
    "        \n",
    "        respuesta = mask.shape[0]   # Si la mascara no esta vacís, entonces registra la cantidad de registros o filas = Total de Películas.         \n",
    "\n",
    "        return {'idioma':idioma, 'cantidad':respuesta}   # Retorna el resultado\n",
    "\n",
    "    except Exception as e:\n",
    "        return {'error': f'Ocurrió un error: {e}'}\n",
    "\n",
    "### Probando la funcón::\n",
    "Idioma = 'es'\n",
    "Respuesta = peliculas_idioma(Idioma)\n",
    "print(Respuesta) "
   ]
  },
  {
   "cell_type": "markdown",
   "metadata": {},
   "source": [
    "### Función Nro. 2 <Br>\n",
    "'''Ingresas la pelicula, retornando la duracion y el año'''"
   ]
  },
  {
   "cell_type": "code",
   "execution_count": null,
   "metadata": {},
   "outputs": [],
   "source": [
    "### FUNCION Nro. 2\n",
    "#@app.get('/peliculas_duracion/{pelicula}')   \n",
    "def peliculas_duracion(pelicula:str):\n",
    "    '''Ingresas la pelicula, retornando la duracion y el año'''\n",
    "    try:\n",
    "        pelicula = pelicula.lower()\n",
    "        datos_pelicula = df_movies_JOIN[df_movies_JOIN['title'].str.lower() == pelicula]  # Si no lo encuentra se convierte en un Dataframe vacío\n",
    "        \n",
    "        if datos_pelicula.empty:\n",
    "            return {'error': 'Película no encontrada en el DataFrame.'}\n",
    "        \n",
    "        duracion = int(datos_pelicula['runtime'].iloc[0])   # Extrae la primera fila de la columna 'runtime' = Duración\n",
    "        anio = int(datos_pelicula['Anio'].iloc[0])          # Extrae la primera fila de la columna 'Anio' = Anio\n",
    "\n",
    "        return {'pelicula':pelicula, 'duracion':duracion, 'anio':anio}\n",
    "\n",
    "    except Exception as e:\n",
    "        return {'Error': f'Por favor, corrija este error: {e}'}\n",
    "\n",
    "\n",
    "### Llamando a la función:\n",
    "Pelicula = 'Jumanji'\n",
    "Respuesta = peliculas_duracion(Pelicula)\n",
    "print(Respuesta)  "
   ]
  },
  {
   "cell_type": "markdown",
   "metadata": {},
   "source": [
    "### Función Nro. 3 <Br>\n",
    "'''Se ingresa la franquicia, retornando la cantidad de peliculas, ganancia total y promedio'''"
   ]
  },
  {
   "cell_type": "code",
   "execution_count": null,
   "metadata": {},
   "outputs": [],
   "source": [
    "### FUNCION Nro. 3\n",
    "#@app.get('/franquicia/{franquicia}')\n",
    "def franquicia(franquicia:str):\n",
    "    '''Se ingresa la franquicia, retornando la cantidad de peliculas, ganancia total y promedio'''\n",
    "    try:\n",
    "        franquicia = franquicia.lower()\n",
    "        datos_franquicia = df_movies_JOIN[df_movies_JOIN['Franquicia'].str.lower() == franquicia]\n",
    "        \n",
    "        if datos_franquicia.empty:\n",
    "            return {'error': 'Franquicia no encontrada en el DataFrame.'}\n",
    "        \n",
    "        cantidad = int(datos_franquicia['Franquicia'].shape[0])\n",
    "        ganancia_total = float(datos_franquicia['revenue'].sum())\n",
    "        \n",
    "        if cantidad == 0:\n",
    "            ganancia_promedio = 0\n",
    "        else:\n",
    "            ganancia_promedio = float(ganancia_total/cantidad)\n",
    "        \n",
    "        return {'franquicia':franquicia, 'cantidad':cantidad, 'ganancia_total':ganancia_total, 'ganancia_promedio':ganancia_promedio}\n",
    "        \n",
    "    except Exception as e:\n",
    "        return {'Error': f'Por favor, corrija este error: {e}'}\n",
    "### Llamando a la función:\n",
    "franquicia1 = 'Toy Story Collection'\n",
    "Respuesta = franquicia(franquicia1)\n",
    "print(Respuesta) "
   ]
  },
  {
   "cell_type": "markdown",
   "metadata": {},
   "source": [
    "### Función Nro. 4 <Br>\n",
    "'''Ingresas el pais, retornando la cantidad de peliculas producidas en el mismo'''"
   ]
  },
  {
   "cell_type": "code",
   "execution_count": null,
   "metadata": {},
   "outputs": [],
   "source": [
    "### FUNCION Nro. 4 \n",
    "#@app.get('/peliculas_pais/{pais}')\n",
    "def peliculas_pais(pais:str):\n",
    "    '''Ingresas el pais, retornando la cantidad de peliculas producidas en el mismo'''\n",
    "    try:\n",
    "        pais = pais.lower()\n",
    "        datos_pais = df_movies_JOIN[df_movies_JOIN['Paises'].str.lower() == pais]\n",
    "        \n",
    "        if datos_pais.empty:\n",
    "            return {'error': 'País no encontrado en el DataFrame.'}\n",
    "        \n",
    "        cantidad = int(datos_pais['Paises'].shape[0]) \n",
    "        \n",
    "        return {'pais':pais, 'cantidad':cantidad}  \n",
    "  \n",
    "    except Exception as e:\n",
    "        return {'Error': f'Por favor, corrija este error: {e}'} \n",
    "\n",
    "\n",
    "### Llamando a la función:\n",
    "Pais = 'Spain'\n",
    "Respuesta = peliculas_pais(Pais)\n",
    "print(Respuesta) "
   ]
  },
  {
   "cell_type": "markdown",
   "metadata": {},
   "source": [
    "### Función Nro. 5 <Br>\n",
    "'''Ingresas la productora, entregandote el revenue total y la cantidad de peliculas que realizo '''"
   ]
  },
  {
   "cell_type": "code",
   "execution_count": null,
   "metadata": {},
   "outputs": [],
   "source": [
    "### FUNCION Nro. 5\n",
    "#@app.get('/productoras_exitosas/{productora}')\n",
    "def productoras_exitosas(productora:str):\n",
    "    '''Ingresas la productora, entregandote el revenue total y la cantidad de peliculas que realizo '''\n",
    "    try:\n",
    "        productora = productora.lower() \n",
    "        datos_productora = df_movies_JOIN[df_movies_JOIN['Productores'].str.lower().str.contains(productora)]\n",
    "        \n",
    "        if datos_productora.empty:\n",
    "            return {'error': 'Productota no encontrada en el DataFrame.'}\n",
    "                  \n",
    "        revenue_total = float(datos_productora['revenue'].sum())\n",
    "        cantidad = int(datos_productora['revenue'].shape[0])\n",
    "        \n",
    "        return {'productora':productora, 'revenue_total': revenue_total,'cantidad':cantidad}\n",
    "    \n",
    "    except Exception as e:\n",
    "        return {'Error': f'Por favor, corrija este error: {e}'}\n",
    "# Aplicar la función para extraer el valor 'name' y crear la nueva columna 'Collection'\n",
    "\n",
    "productora = 'Touchstone Pictures'\n",
    "Respuesta = productoras_exitosas(productora)\n",
    "print(Respuesta)"
   ]
  },
  {
   "cell_type": "markdown",
   "metadata": {},
   "source": [
    "### Función Nro. 6 <Br>\n",
    "''' Se ingresa el nombre de un director que se encuentre dentro de un dataset debiendo devolver el éxito del mismo medido a través del retorno. <Br>\n",
    "Además, deberá devolver el nombre de cada película con la fecha de lanzamiento, retorno individual, costo y ganancia de la misma. En formato Lista '''"
   ]
  },
  {
   "cell_type": "markdown",
   "metadata": {},
   "source": [
    "''' Se ingresa el nombre de un director que se encuentre dentro de un dataset debiendo devolver el éxito del mismo medido a través del retorno. <Br>\n",
    "Además, deberá devolver el nombre de cada película con la fecha de lanzamiento, retorno individual, costo y ganancia de la misma. En formato Lista '''"
   ]
  },
  {
   "cell_type": "code",
   "execution_count": null,
   "metadata": {},
   "outputs": [],
   "source": [
    "### FUNCION Nro. 6\n",
    "#@app.get('/get_director/{nombre_director}')\n",
    "def get_director(nombre_director:str):\n",
    "    try:\n",
    "        nombre_director = nombre_director.lower()\n",
    "        \n",
    "        datos_director = df_movies_JOIN[df_movies_JOIN['Director'].str.lower().str.contains(nombre_director)]    # #Hacemos una lista de ocurrencia de Directores en un DF temporal\n",
    "      \n",
    "        if datos_director.empty:\n",
    "            return {'error': 'País no encontrada en el DataFrame.'}\n",
    "        \n",
    "        # Peliculas del Director con sus respectivas variables       \n",
    "        Peliculas_del_Director = datos_director[['title', 'Anio', 'revenue', 'budget']]\n",
    "        \n",
    "        # Retorno del exito \n",
    "        retorno_total_director = float(Peliculas_del_Director['revenue'].sum() / Peliculas_del_Director['budget'].sum())\n",
    "        \n",
    "        # Convertir el DataFrame en una lista de diccionarios\n",
    "        Lista_De_Dicc = Peliculas_del_Director.to_dict('records')\n",
    "        \n",
    "        return {'director':nombre_director, 'retorno_total_director':retorno_total_director, 'peliculas':Lista_De_Dicc}\n",
    "        \n",
    "    except Exception as e:\n",
    "        return {'Error': f'Por favor, corrija este error: {e}'} \n",
    "\n",
    "### Llamando a la función:\n",
    "NombreDelDirector = 'John Lasseter'\n",
    "#NombreDelDirector = 'Larry J'   # No es director######################\n",
    "#NombreDelDirector = 'Joe Johnston'\n",
    "Respuesta = get_director(NombreDelDirector)\n",
    "print(Respuesta)  "
   ]
  },
  {
   "cell_type": "markdown",
   "metadata": {},
   "source": [
    "### 4.2) Función de Recomendación de 5 Películas"
   ]
  },
  {
   "cell_type": "markdown",
   "metadata": {},
   "source": [
    "Esta función está utilizando la Simulitud del Coseno para encontrar las películas semilares !!!"
   ]
  },
  {
   "cell_type": "code",
   "execution_count": null,
   "metadata": {},
   "outputs": [],
   "source": [
    "# ML\n",
    "#@app.get('/recomendacion/{titulo}')\n",
    "def recomendacion(titulo:str):\n",
    "    '''Ingresas un nombre de pelicula y te recomienda las similares en una lista'''\n",
    "    try:\n",
    "        # Convertir el título ingresado por el usuario a minúsculas\n",
    "        titulo = titulo.lower()\n",
    "        \n",
    "        # Buscar el título en minúsculas en el DataFrame\n",
    "        datos_titulo = df_movies_JOIN.loc[df_movies_JOIN['title'].str.lower() == titulo]\n",
    "        \n",
    "        if datos_titulo.empty:   # Si no exite la pelicula envia mensaje de error\n",
    "            return {'error': 'Película no encontrada en el DataFrame.'}\n",
    "            \n",
    "        movie_id = df_movies_JOIN.loc[df_movies_JOIN['title'].str.lower()  == titulo, 'id'].iloc[0]\n",
    "        # Obteneiendo las características de las siguientes variables predictoras del Dataset\n",
    "        genre_features = df_movies_JOIN['Generos']\n",
    "        director_features = df_movies_JOIN['Director']\n",
    "        protagonist_features = df_movies_JOIN['Protagonista']\n",
    "        actor1_features = df_movies_JOIN['Actor1']\n",
    "        actor2_features = df_movies_JOIN['Actor2']\n",
    "        popularity_features = df_movies_JOIN['popularity'].fillna(0).astype(str)  # Convertir a cadena y llenar valores NaN con '0'\n",
    "        anio_features = df_movies_JOIN['Anio'].fillna(0).astype(str)  # Convertir a cadena y llenar valores NaN con '0'\n",
    "        vote_average_features = df_movies_JOIN['vote_average'].fillna(0).astype(str)  # Convertir a cadena y llenar valores NaN con '0'\n",
    "        franquicia_features = df_movies_JOIN['Franquicia']\n",
    "        \n",
    "        # Concatenar todas las características\n",
    "        all_features = franquicia_features + ' ' + genre_features + ' ' + director_features + ' ' + protagonist_features + ' ' + actor1_features + ' ' + actor2_features + ' ' + popularity_features + ' ' + anio_features  + ' ' + vote_average_features\n",
    "\n",
    "        # Crear un objeto CountVectorizer para convertir las características en vectores\n",
    "        vectorizer = CountVectorizer(analyzer='word', lowercase=True, token_pattern=r'\\w+')\n",
    "\n",
    "        # Obtener la matriz de documentos término-frecuencia (DTM) a partir de las características\n",
    "        all_features_matrix = vectorizer.fit_transform(all_features)\n",
    "\n",
    "        # Obtener las características de la película que le gustó al usuario\n",
    "        movie_features = df_movies_JOIN.loc[df_movies_JOIN['id'] == movie_id, 'Franquicia'].iloc[0] + ' ' + df_movies_JOIN.loc[df_movies_JOIN['id'] == movie_id, 'Generos'].iloc[0] + ' ' + df_movies_JOIN.loc[df_movies_JOIN['id'] == movie_id, 'Director'].iloc[0] + ' ' + df_movies_JOIN.loc[df_movies_JOIN['id'] == movie_id, 'Protagonista'].iloc[0] + ' ' + df_movies_JOIN.loc[df_movies_JOIN['id'] == movie_id, 'Actor1'].iloc[0] + ' ' + df_movies_JOIN.loc[df_movies_JOIN['id'] == movie_id, 'Actor2'].iloc[0] + ' ' + popularity_features.iloc[0] + ' ' + anio_features.iloc[0] + ' ' + vote_average_features.iloc[0]\n",
    "        movie_features_matrix = vectorizer.transform([movie_features])\n",
    "\n",
    "        # Calcular la similitud del coseno entre la película que le gustó al usuario y todas las demás películas\n",
    "        similarities = cosine_similarity(movie_features_matrix, all_features_matrix)\n",
    "\n",
    "        # Obtener los índices de las películas más similares\n",
    "        similar_indices = similarities.argsort()[0][-6:-1]\n",
    "\n",
    "        # Obtener los títulos de las películas más similares para la recomendación\n",
    "        recomendacion = df_movies_JOIN.loc[similar_indices, 'title']\n",
    "        \n",
    "        recomendacion = recomendacion.tolist()\n",
    "        \n",
    "        return {'Películas Recomendadas': recomendacion}\n",
    "        \n",
    "    except IndexError:\n",
    "        return {'Error': 'Película no encontrada. Intente de nuevo...!!! '}\n",
    "    \n",
    "    except Exception as e:\n",
    "        return {'error': f'Ocurrió un error: {e}'}\n",
    "\n",
    "\n",
    "titulo = 'toy story'\n",
    "Recomendacion = recomendacion(titulo) \n",
    "print(Recomendacion)"
   ]
  },
  {
   "cell_type": "markdown",
   "metadata": {},
   "source": [
    "# 5) Finalización del Proyecto"
   ]
  },
  {
   "cell_type": "markdown",
   "metadata": {},
   "source": [
    "### "
   ]
  },
  {
   "cell_type": "markdown",
   "metadata": {},
   "source": [
    "# Muchas gracias, por su atención.!!!"
   ]
  }
 ],
 "metadata": {
  "kernelspec": {
   "display_name": "Python 3",
   "language": "python",
   "name": "python3"
  },
  "language_info": {
   "codemirror_mode": {
    "name": "ipython",
    "version": 3
   },
   "file_extension": ".py",
   "mimetype": "text/x-python",
   "name": "python",
   "nbconvert_exporter": "python",
   "pygments_lexer": "ipython3",
   "version": "3.11.3"
  },
  "orig_nbformat": 4
 },
 "nbformat": 4,
 "nbformat_minor": 2
}
