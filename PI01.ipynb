{
 "cells": [
  {
   "cell_type": "markdown",
   "metadata": {},
   "source": [
    "# <h2 align=center> PROYECTO INDIVIDUAL Nº1 </h2>\n",
    "# <h1 align=center>Recomendacion de Películas</h1>\n",
    "        @autor: Lesmen Gerardo García Pernia"
   ]
  },
  {
   "cell_type": "markdown",
   "metadata": {},
   "source": [
    "## Objetivos:"
   ]
  },
  {
   "cell_type": "markdown",
   "metadata": {},
   "source": [
    "+ Crear un Modelo de Sistema de Recomendacion utilizando las caracteristicas de las películas para encontrar peliculas similares a las que ha visto un determinado usuario y le han gustado."
   ]
  },
  {
   "cell_type": "markdown",
   "metadata": {},
   "source": [
    "Estaremos utilizando un Sistema de Recomendacion Basado en el Analisis de Contenido <Br>\n",
    "El objetivo de este tipo de modelo es analizar y seleccionar desde una gran Base de Datos, productos que sean similares a las caracteristicas de preferencia de un usuario. *\"Seleccionar productos similares a aquellos que te gustan\"*"
   ]
  },
  {
   "cell_type": "markdown",
   "metadata": {},
   "source": [
    "Información adicioal:"
   ]
  },
  {
   "cell_type": "markdown",
   "metadata": {},
   "source": [
    "https://www.futurespace.es/sistemas-de-recomendacion-de-contenidos-adivina-que-piensan-tus-clientes/\n",
    "\n",
    "https://learn.microsoft.com/es-es/azure/architecture/solution-ideas/articles/build-content-based-recommendation-system-using-recommender\n"
   ]
  },
  {
   "cell_type": "markdown",
   "metadata": {},
   "source": [
    "### Librerias Utilizadas:\n",
    "fastapi==0.93.0<Br>\n",
    "pandas==1.3.5<Br>\n",
    "pip==23.2.1<Br>\n",
    "typing-extensions==4.5.0<Br>\n",
    "uvicorn==0.20.0<Br>\n",
    "scikit-learn==1.0.2<Br>\n",
    "regex==2023.5.5<Br>\n",
    "sklearn==0.0.post5<Br>\n",
    "matplotlib==3.7.1<Br>\n",
    "seaborn=0.12.2<Br>\n",
    "numpy=1.24.3<Br>"
   ]
  },
  {
   "cell_type": "code",
   "execution_count": 344,
   "metadata": {},
   "outputs": [],
   "source": [
    "import pandas as pd\n",
    "import numpy as np\n",
    "import seaborn as sns\n",
    "import matplotlib.pyplot as plt\n",
    "import re\n",
    "import ast\n",
    "from sklearn.metrics.pairwise import cosine_similarity\n",
    "from sklearn.feature_extraction.text import CountVectorizer\n",
    "import matplotlib.pyplot as plt\n",
    "import seaborn as sns"
   ]
  },
  {
   "cell_type": "markdown",
   "metadata": {},
   "source": [
    "Fuente de datos\n",
    "\n",
    "+ [Dataset](https://drive.google.com/drive/folders/1mfUVyP3jS-UMdKHERknkQ4gaCRCO2e1v): <Br>\n",
    "Dos (2) Archivos de datos: movies_dataset.csv y credits.csv\n",
    "+ [Diccionario de datos](https://docs.google.com/spreadsheets/d/1QkHH5er-74Bpk122tJxy_0D49pJMIwKLurByOfmxzho/edit#gid=0): <br/>\n",
    "Diccionario con algunas descripciones de las columnas disponibles en el dataset.\n"
   ]
  },
  {
   "cell_type": "markdown",
   "metadata": {},
   "source": [
    "# 1) Extracción Transformación y Carga (ETL)"
   ]
  },
  {
   "cell_type": "markdown",
   "metadata": {},
   "source": [
    "Dataset Originales de datos: movies_dataset.csv y credits.csv"
   ]
  },
  {
   "cell_type": "code",
   "execution_count": 345,
   "metadata": {},
   "outputs": [
    {
     "name": "stderr",
     "output_type": "stream",
     "text": [
      "C:\\Users\\lesme\\AppData\\Local\\Temp\\ipykernel_2084\\1988553726.py:2: DtypeWarning: Columns (10) have mixed types. Specify dtype option on import or set low_memory=False.\n",
      "  df_movies = pd.read_csv('../DataSetsPI/movies_dataset.csv')      # Pesa  34 MB\n"
     ]
    }
   ],
   "source": [
    "### Datasets Originales de Datos. \n",
    "df_movies = pd.read_csv('../DataSetsPI/movies_dataset.csv')      # Pesa  34 MB\n",
    "df_credits = pd.read_csv('../DataSetsPI/credits.csv')            # Pesa 186 MB\n"
   ]
  },
  {
   "cell_type": "markdown",
   "metadata": {},
   "source": [
    "## 1.1) Revision inicial de los datos de \"df_movies\""
   ]
  },
  {
   "cell_type": "markdown",
   "metadata": {},
   "source": [
    "### 1.1.1) Requerimientos Iniciales del Proyecto:"
   ]
  },
  {
   "cell_type": "code",
   "execution_count": 347,
   "metadata": {},
   "outputs": [
    {
     "data": {
      "text/html": [
       "<div>\n",
       "<style scoped>\n",
       "    .dataframe tbody tr th:only-of-type {\n",
       "        vertical-align: middle;\n",
       "    }\n",
       "\n",
       "    .dataframe tbody tr th {\n",
       "        vertical-align: top;\n",
       "    }\n",
       "\n",
       "    .dataframe thead th {\n",
       "        text-align: right;\n",
       "    }\n",
       "</style>\n",
       "<table border=\"1\" class=\"dataframe\">\n",
       "  <thead>\n",
       "    <tr style=\"text-align: right;\">\n",
       "      <th></th>\n",
       "      <th>adult</th>\n",
       "      <th>belongs_to_collection</th>\n",
       "      <th>budget</th>\n",
       "      <th>genres</th>\n",
       "      <th>homepage</th>\n",
       "      <th>id</th>\n",
       "      <th>imdb_id</th>\n",
       "      <th>original_language</th>\n",
       "      <th>original_title</th>\n",
       "      <th>overview</th>\n",
       "      <th>...</th>\n",
       "      <th>release_date</th>\n",
       "      <th>revenue</th>\n",
       "      <th>runtime</th>\n",
       "      <th>spoken_languages</th>\n",
       "      <th>status</th>\n",
       "      <th>tagline</th>\n",
       "      <th>title</th>\n",
       "      <th>video</th>\n",
       "      <th>vote_average</th>\n",
       "      <th>vote_count</th>\n",
       "    </tr>\n",
       "  </thead>\n",
       "  <tbody>\n",
       "    <tr>\n",
       "      <th>0</th>\n",
       "      <td>False</td>\n",
       "      <td>{'id': 10194, 'name': 'Toy Story Collection', ...</td>\n",
       "      <td>30000000</td>\n",
       "      <td>[{'id': 16, 'name': 'Animation'}, {'id': 35, '...</td>\n",
       "      <td>http://toystory.disney.com/toy-story</td>\n",
       "      <td>862</td>\n",
       "      <td>tt0114709</td>\n",
       "      <td>en</td>\n",
       "      <td>Toy Story</td>\n",
       "      <td>Led by Woody, Andy's toys live happily in his ...</td>\n",
       "      <td>...</td>\n",
       "      <td>1995-10-30</td>\n",
       "      <td>373554033.0</td>\n",
       "      <td>81.0</td>\n",
       "      <td>[{'iso_639_1': 'en', 'name': 'English'}]</td>\n",
       "      <td>Released</td>\n",
       "      <td>NaN</td>\n",
       "      <td>Toy Story</td>\n",
       "      <td>False</td>\n",
       "      <td>7.7</td>\n",
       "      <td>5415.0</td>\n",
       "    </tr>\n",
       "    <tr>\n",
       "      <th>1</th>\n",
       "      <td>False</td>\n",
       "      <td>NaN</td>\n",
       "      <td>65000000</td>\n",
       "      <td>[{'id': 12, 'name': 'Adventure'}, {'id': 14, '...</td>\n",
       "      <td>NaN</td>\n",
       "      <td>8844</td>\n",
       "      <td>tt0113497</td>\n",
       "      <td>en</td>\n",
       "      <td>Jumanji</td>\n",
       "      <td>When siblings Judy and Peter discover an encha...</td>\n",
       "      <td>...</td>\n",
       "      <td>1995-12-15</td>\n",
       "      <td>262797249.0</td>\n",
       "      <td>104.0</td>\n",
       "      <td>[{'iso_639_1': 'en', 'name': 'English'}, {'iso...</td>\n",
       "      <td>Released</td>\n",
       "      <td>Roll the dice and unleash the excitement!</td>\n",
       "      <td>Jumanji</td>\n",
       "      <td>False</td>\n",
       "      <td>6.9</td>\n",
       "      <td>2413.0</td>\n",
       "    </tr>\n",
       "    <tr>\n",
       "      <th>2</th>\n",
       "      <td>False</td>\n",
       "      <td>{'id': 119050, 'name': 'Grumpy Old Men Collect...</td>\n",
       "      <td>0</td>\n",
       "      <td>[{'id': 10749, 'name': 'Romance'}, {'id': 35, ...</td>\n",
       "      <td>NaN</td>\n",
       "      <td>15602</td>\n",
       "      <td>tt0113228</td>\n",
       "      <td>en</td>\n",
       "      <td>Grumpier Old Men</td>\n",
       "      <td>A family wedding reignites the ancient feud be...</td>\n",
       "      <td>...</td>\n",
       "      <td>1995-12-22</td>\n",
       "      <td>0.0</td>\n",
       "      <td>101.0</td>\n",
       "      <td>[{'iso_639_1': 'en', 'name': 'English'}]</td>\n",
       "      <td>Released</td>\n",
       "      <td>Still Yelling. Still Fighting. Still Ready for...</td>\n",
       "      <td>Grumpier Old Men</td>\n",
       "      <td>False</td>\n",
       "      <td>6.5</td>\n",
       "      <td>92.0</td>\n",
       "    </tr>\n",
       "  </tbody>\n",
       "</table>\n",
       "<p>3 rows × 24 columns</p>\n",
       "</div>"
      ],
      "text/plain": [
       "   adult                              belongs_to_collection    budget  \\\n",
       "0  False  {'id': 10194, 'name': 'Toy Story Collection', ...  30000000   \n",
       "1  False                                                NaN  65000000   \n",
       "2  False  {'id': 119050, 'name': 'Grumpy Old Men Collect...         0   \n",
       "\n",
       "                                              genres  \\\n",
       "0  [{'id': 16, 'name': 'Animation'}, {'id': 35, '...   \n",
       "1  [{'id': 12, 'name': 'Adventure'}, {'id': 14, '...   \n",
       "2  [{'id': 10749, 'name': 'Romance'}, {'id': 35, ...   \n",
       "\n",
       "                               homepage     id    imdb_id original_language  \\\n",
       "0  http://toystory.disney.com/toy-story    862  tt0114709                en   \n",
       "1                                   NaN   8844  tt0113497                en   \n",
       "2                                   NaN  15602  tt0113228                en   \n",
       "\n",
       "     original_title                                           overview  ...  \\\n",
       "0         Toy Story  Led by Woody, Andy's toys live happily in his ...  ...   \n",
       "1           Jumanji  When siblings Judy and Peter discover an encha...  ...   \n",
       "2  Grumpier Old Men  A family wedding reignites the ancient feud be...  ...   \n",
       "\n",
       "  release_date      revenue runtime  \\\n",
       "0   1995-10-30  373554033.0    81.0   \n",
       "1   1995-12-15  262797249.0   104.0   \n",
       "2   1995-12-22          0.0   101.0   \n",
       "\n",
       "                                    spoken_languages    status  \\\n",
       "0           [{'iso_639_1': 'en', 'name': 'English'}]  Released   \n",
       "1  [{'iso_639_1': 'en', 'name': 'English'}, {'iso...  Released   \n",
       "2           [{'iso_639_1': 'en', 'name': 'English'}]  Released   \n",
       "\n",
       "                                             tagline             title  video  \\\n",
       "0                                                NaN         Toy Story  False   \n",
       "1          Roll the dice and unleash the excitement!           Jumanji  False   \n",
       "2  Still Yelling. Still Fighting. Still Ready for...  Grumpier Old Men  False   \n",
       "\n",
       "  vote_average vote_count  \n",
       "0          7.7     5415.0  \n",
       "1          6.9     2413.0  \n",
       "2          6.5       92.0  \n",
       "\n",
       "[3 rows x 24 columns]"
      ]
     },
     "execution_count": 347,
     "metadata": {},
     "output_type": "execute_result"
    }
   ],
   "source": [
    "### Visualizar el dataSets de movies:\n",
    "df_movies.head(3)"
   ]
  },
  {
   "cell_type": "code",
   "execution_count": 348,
   "metadata": {},
   "outputs": [
    {
     "name": "stdout",
     "output_type": "stream",
     "text": [
      "Tipos de Datos de cada Columna del Dataset: 'df_movies' \n",
      "======================================================\n",
      "<class 'pandas.core.frame.DataFrame'>\n",
      "RangeIndex: 45466 entries, 0 to 45465\n",
      "Data columns (total 24 columns):\n",
      " #   Column                 Non-Null Count  Dtype  \n",
      "---  ------                 --------------  -----  \n",
      " 0   adult                  45466 non-null  object \n",
      " 1   belongs_to_collection  4494 non-null   object \n",
      " 2   budget                 45466 non-null  object \n",
      " 3   genres                 45466 non-null  object \n",
      " 4   homepage               7782 non-null   object \n",
      " 5   id                     45466 non-null  object \n",
      " 6   imdb_id                45449 non-null  object \n",
      " 7   original_language      45455 non-null  object \n",
      " 8   original_title         45466 non-null  object \n",
      " 9   overview               44512 non-null  object \n",
      " 10  popularity             45461 non-null  object \n",
      " 11  poster_path            45080 non-null  object \n",
      " 12  production_companies   45463 non-null  object \n",
      " 13  production_countries   45463 non-null  object \n",
      " 14  release_date           45379 non-null  object \n",
      " 15  revenue                45460 non-null  float64\n",
      " 16  runtime                45203 non-null  float64\n",
      " 17  spoken_languages       45460 non-null  object \n",
      " 18  status                 45379 non-null  object \n",
      " 19  tagline                20412 non-null  object \n",
      " 20  title                  45460 non-null  object \n",
      " 21  video                  45460 non-null  object \n",
      " 22  vote_average           45460 non-null  float64\n",
      " 23  vote_count             45460 non-null  float64\n",
      "dtypes: float64(4), object(20)\n",
      "memory usage: 8.3+ MB\n"
     ]
    }
   ],
   "source": [
    "### Visualizar los tipos de datos de las columnas y cantidad total:\n",
    "print(\"Tipos de Datos de cada Columna del Dataset: 'df_movies' \")\n",
    "print(\"=\"*54)\n",
    "df_movies.info()"
   ]
  },
  {
   "cell_type": "code",
   "execution_count": 349,
   "metadata": {},
   "outputs": [
    {
     "name": "stdout",
     "output_type": "stream",
     "text": [
      "Visualizando Estadisticos Principales de los datos númericos del Dataset: 'df_movies' \n",
      "====================================================================================\n"
     ]
    },
    {
     "data": {
      "text/html": [
       "<div>\n",
       "<style scoped>\n",
       "    .dataframe tbody tr th:only-of-type {\n",
       "        vertical-align: middle;\n",
       "    }\n",
       "\n",
       "    .dataframe tbody tr th {\n",
       "        vertical-align: top;\n",
       "    }\n",
       "\n",
       "    .dataframe thead th {\n",
       "        text-align: right;\n",
       "    }\n",
       "</style>\n",
       "<table border=\"1\" class=\"dataframe\">\n",
       "  <thead>\n",
       "    <tr style=\"text-align: right;\">\n",
       "      <th></th>\n",
       "      <th>revenue</th>\n",
       "      <th>runtime</th>\n",
       "      <th>vote_average</th>\n",
       "      <th>vote_count</th>\n",
       "    </tr>\n",
       "  </thead>\n",
       "  <tbody>\n",
       "    <tr>\n",
       "      <th>count</th>\n",
       "      <td>4.546000e+04</td>\n",
       "      <td>45203.000000</td>\n",
       "      <td>45460.000000</td>\n",
       "      <td>45460.000000</td>\n",
       "    </tr>\n",
       "    <tr>\n",
       "      <th>mean</th>\n",
       "      <td>1.120935e+07</td>\n",
       "      <td>94.128199</td>\n",
       "      <td>5.618207</td>\n",
       "      <td>109.897338</td>\n",
       "    </tr>\n",
       "    <tr>\n",
       "      <th>std</th>\n",
       "      <td>6.433225e+07</td>\n",
       "      <td>38.407810</td>\n",
       "      <td>1.924216</td>\n",
       "      <td>491.310374</td>\n",
       "    </tr>\n",
       "    <tr>\n",
       "      <th>min</th>\n",
       "      <td>0.000000e+00</td>\n",
       "      <td>0.000000</td>\n",
       "      <td>0.000000</td>\n",
       "      <td>0.000000</td>\n",
       "    </tr>\n",
       "    <tr>\n",
       "      <th>25%</th>\n",
       "      <td>0.000000e+00</td>\n",
       "      <td>85.000000</td>\n",
       "      <td>5.000000</td>\n",
       "      <td>3.000000</td>\n",
       "    </tr>\n",
       "    <tr>\n",
       "      <th>50%</th>\n",
       "      <td>0.000000e+00</td>\n",
       "      <td>95.000000</td>\n",
       "      <td>6.000000</td>\n",
       "      <td>10.000000</td>\n",
       "    </tr>\n",
       "    <tr>\n",
       "      <th>75%</th>\n",
       "      <td>0.000000e+00</td>\n",
       "      <td>107.000000</td>\n",
       "      <td>6.800000</td>\n",
       "      <td>34.000000</td>\n",
       "    </tr>\n",
       "    <tr>\n",
       "      <th>max</th>\n",
       "      <td>2.787965e+09</td>\n",
       "      <td>1256.000000</td>\n",
       "      <td>10.000000</td>\n",
       "      <td>14075.000000</td>\n",
       "    </tr>\n",
       "  </tbody>\n",
       "</table>\n",
       "</div>"
      ],
      "text/plain": [
       "            revenue       runtime  vote_average    vote_count\n",
       "count  4.546000e+04  45203.000000  45460.000000  45460.000000\n",
       "mean   1.120935e+07     94.128199      5.618207    109.897338\n",
       "std    6.433225e+07     38.407810      1.924216    491.310374\n",
       "min    0.000000e+00      0.000000      0.000000      0.000000\n",
       "25%    0.000000e+00     85.000000      5.000000      3.000000\n",
       "50%    0.000000e+00     95.000000      6.000000     10.000000\n",
       "75%    0.000000e+00    107.000000      6.800000     34.000000\n",
       "max    2.787965e+09   1256.000000     10.000000  14075.000000"
      ]
     },
     "execution_count": 349,
     "metadata": {},
     "output_type": "execute_result"
    }
   ],
   "source": [
    "### Visualizar los datos númericos:\n",
    "print(\"Visualizando Estadisticos Principales de los datos númericos del Dataset: 'df_movies' \")\n",
    "print(\"=\"*84)\n",
    "df_movies.describe()"
   ]
  },
  {
   "cell_type": "code",
   "execution_count": 350,
   "metadata": {},
   "outputs": [
    {
     "name": "stdout",
     "output_type": "stream",
     "text": [
      "Valores Nulos del Dataset: 'df_movies' \n",
      "=====================================\n"
     ]
    },
    {
     "data": {
      "text/plain": [
       "adult                        0\n",
       "belongs_to_collection    40972\n",
       "budget                       0\n",
       "genres                       0\n",
       "homepage                 37684\n",
       "id                           0\n",
       "imdb_id                     17\n",
       "original_language           11\n",
       "original_title               0\n",
       "overview                   954\n",
       "popularity                   5\n",
       "poster_path                386\n",
       "production_companies         3\n",
       "production_countries         3\n",
       "release_date                87\n",
       "revenue                      6\n",
       "runtime                    263\n",
       "spoken_languages             6\n",
       "status                      87\n",
       "tagline                  25054\n",
       "title                        6\n",
       "video                        6\n",
       "vote_average                 6\n",
       "vote_count                   6\n",
       "dtype: int64"
      ]
     },
     "execution_count": 350,
     "metadata": {},
     "output_type": "execute_result"
    }
   ],
   "source": [
    "### Valores nulos en cada columna de \"df_movies\"\n",
    "print(\"Valores Nulos del Dataset: 'df_movies' \")\n",
    "print(\"=\"*37)\n",
    "df_movies.isna().sum()"
   ]
  },
  {
   "cell_type": "code",
   "execution_count": 351,
   "metadata": {},
   "outputs": [
    {
     "name": "stdout",
     "output_type": "stream",
     "text": [
      "Total de valores nulos en 'df_movies'=  105562\n"
     ]
    }
   ],
   "source": [
    "### Total de valores nulos en \"df_movies\"\n",
    "print(\"Total de valores nulos en 'df_movies'= \", df_movies.isna().sum().sum())"
   ]
  },
  {
   "cell_type": "markdown",
   "metadata": {},
   "source": [
    "### Se procede a realizar los requerimiento iniciales del proyecto."
   ]
  },
  {
   "cell_type": "markdown",
   "metadata": {},
   "source": [
    "### 1.1.1.1) Requerimiento del Proyecto, Nro.: 1"
   ]
  },
  {
   "cell_type": "markdown",
   "metadata": {},
   "source": [
    "+ Algunos campos, como **`belongs_to_collection`**, **`production_companies`** y otros (ver diccionario de datos) están anidados, esto es o bien tienen un diccionario o una lista como valores en cada fila, ¡deberán desanidarlos para poder  y unirlos al dataset de nuevo hacer alguna de las consultas de la API! O bien buscar la manera de acceder a esos datos sin desanidarlos."
   ]
  },
  {
   "cell_type": "code",
   "execution_count": 352,
   "metadata": {},
   "outputs": [
    {
     "data": {
      "text/html": [
       "<div>\n",
       "<style scoped>\n",
       "    .dataframe tbody tr th:only-of-type {\n",
       "        vertical-align: middle;\n",
       "    }\n",
       "\n",
       "    .dataframe tbody tr th {\n",
       "        vertical-align: top;\n",
       "    }\n",
       "\n",
       "    .dataframe thead th {\n",
       "        text-align: right;\n",
       "    }\n",
       "</style>\n",
       "<table border=\"1\" class=\"dataframe\">\n",
       "  <thead>\n",
       "    <tr style=\"text-align: right;\">\n",
       "      <th></th>\n",
       "      <th>belongs_to_collection</th>\n",
       "      <th>production_companies</th>\n",
       "    </tr>\n",
       "  </thead>\n",
       "  <tbody>\n",
       "    <tr>\n",
       "      <th>0</th>\n",
       "      <td>{'id': 10194, 'name': 'Toy Story Collection', ...</td>\n",
       "      <td>[{'name': 'Pixar Animation Studios', 'id': 3}]</td>\n",
       "    </tr>\n",
       "    <tr>\n",
       "      <th>1</th>\n",
       "      <td>NaN</td>\n",
       "      <td>[{'name': 'TriStar Pictures', 'id': 559}, {'na...</td>\n",
       "    </tr>\n",
       "    <tr>\n",
       "      <th>2</th>\n",
       "      <td>{'id': 119050, 'name': 'Grumpy Old Men Collect...</td>\n",
       "      <td>[{'name': 'Warner Bros.', 'id': 6194}, {'name'...</td>\n",
       "    </tr>\n",
       "    <tr>\n",
       "      <th>3</th>\n",
       "      <td>NaN</td>\n",
       "      <td>[{'name': 'Twentieth Century Fox Film Corporat...</td>\n",
       "    </tr>\n",
       "    <tr>\n",
       "      <th>4</th>\n",
       "      <td>{'id': 96871, 'name': 'Father of the Bride Col...</td>\n",
       "      <td>[{'name': 'Sandollar Productions', 'id': 5842}...</td>\n",
       "    </tr>\n",
       "    <tr>\n",
       "      <th>...</th>\n",
       "      <td>...</td>\n",
       "      <td>...</td>\n",
       "    </tr>\n",
       "    <tr>\n",
       "      <th>45461</th>\n",
       "      <td>NaN</td>\n",
       "      <td>[]</td>\n",
       "    </tr>\n",
       "    <tr>\n",
       "      <th>45462</th>\n",
       "      <td>NaN</td>\n",
       "      <td>[{'name': 'Sine Olivia', 'id': 19653}]</td>\n",
       "    </tr>\n",
       "    <tr>\n",
       "      <th>45463</th>\n",
       "      <td>NaN</td>\n",
       "      <td>[{'name': 'American World Pictures', 'id': 6165}]</td>\n",
       "    </tr>\n",
       "    <tr>\n",
       "      <th>45464</th>\n",
       "      <td>NaN</td>\n",
       "      <td>[{'name': 'Yermoliev', 'id': 88753}]</td>\n",
       "    </tr>\n",
       "    <tr>\n",
       "      <th>45465</th>\n",
       "      <td>NaN</td>\n",
       "      <td>[]</td>\n",
       "    </tr>\n",
       "  </tbody>\n",
       "</table>\n",
       "<p>45466 rows × 2 columns</p>\n",
       "</div>"
      ],
      "text/plain": [
       "                                   belongs_to_collection  \\\n",
       "0      {'id': 10194, 'name': 'Toy Story Collection', ...   \n",
       "1                                                    NaN   \n",
       "2      {'id': 119050, 'name': 'Grumpy Old Men Collect...   \n",
       "3                                                    NaN   \n",
       "4      {'id': 96871, 'name': 'Father of the Bride Col...   \n",
       "...                                                  ...   \n",
       "45461                                                NaN   \n",
       "45462                                                NaN   \n",
       "45463                                                NaN   \n",
       "45464                                                NaN   \n",
       "45465                                                NaN   \n",
       "\n",
       "                                    production_companies  \n",
       "0         [{'name': 'Pixar Animation Studios', 'id': 3}]  \n",
       "1      [{'name': 'TriStar Pictures', 'id': 559}, {'na...  \n",
       "2      [{'name': 'Warner Bros.', 'id': 6194}, {'name'...  \n",
       "3      [{'name': 'Twentieth Century Fox Film Corporat...  \n",
       "4      [{'name': 'Sandollar Productions', 'id': 5842}...  \n",
       "...                                                  ...  \n",
       "45461                                                 []  \n",
       "45462             [{'name': 'Sine Olivia', 'id': 19653}]  \n",
       "45463  [{'name': 'American World Pictures', 'id': 6165}]  \n",
       "45464               [{'name': 'Yermoliev', 'id': 88753}]  \n",
       "45465                                                 []  \n",
       "\n",
       "[45466 rows x 2 columns]"
      ]
     },
     "execution_count": 352,
     "metadata": {},
     "output_type": "execute_result"
    }
   ],
   "source": [
    "df_movies[['belongs_to_collection','production_companies']]"
   ]
  },
  {
   "cell_type": "code",
   "execution_count": 353,
   "metadata": {},
   "outputs": [
    {
     "data": {
      "text/plain": [
       "adult                                                                False\n",
       "belongs_to_collection    {'id': 119050, 'name': 'Grumpy Old Men Collect...\n",
       "budget                                                                   0\n",
       "genres                   [{'id': 10749, 'name': 'Romance'}, {'id': 35, ...\n",
       "homepage                                                               NaN\n",
       "id                                                                   15602\n",
       "imdb_id                                                          tt0113228\n",
       "original_language                                                       en\n",
       "original_title                                            Grumpier Old Men\n",
       "overview                 A family wedding reignites the ancient feud be...\n",
       "popularity                                                         11.7129\n",
       "poster_path                               /6ksm1sjKMFLbO7UY2i6G1ju9SML.jpg\n",
       "production_companies     [{'name': 'Warner Bros.', 'id': 6194}, {'name'...\n",
       "production_countries     [{'iso_3166_1': 'US', 'name': 'United States o...\n",
       "release_date                                                    1995-12-22\n",
       "revenue                                                                0.0\n",
       "runtime                                                              101.0\n",
       "spoken_languages                  [{'iso_639_1': 'en', 'name': 'English'}]\n",
       "status                                                            Released\n",
       "tagline                  Still Yelling. Still Fighting. Still Ready for...\n",
       "title                                                     Grumpier Old Men\n",
       "video                                                                False\n",
       "vote_average                                                           6.5\n",
       "vote_count                                                            92.0\n",
       "Name: 2, dtype: object"
      ]
     },
     "execution_count": 353,
     "metadata": {},
     "output_type": "execute_result"
    }
   ],
   "source": [
    "### Visualizando el 3er registro del Dataset para visualizar sus datos\n",
    "df_movies.iloc[2]"
   ]
  },
  {
   "cell_type": "markdown",
   "metadata": {},
   "source": [
    "Efectivamen el datasets de 'df_movies' tiene varias columnas anidadas. <Br>Se procede a su visualizacion en detalle"
   ]
  },
  {
   "cell_type": "markdown",
   "metadata": {},
   "source": [
    "### A) Visualización de las Columnas Anidadas del Datasets 'df_movies'"
   ]
  },
  {
   "cell_type": "markdown",
   "metadata": {},
   "source": [
    "1) Visualizando la columna: *`belongs_to_collection`*"
   ]
  },
  {
   "cell_type": "code",
   "execution_count": 354,
   "metadata": {},
   "outputs": [
    {
     "name": "stdout",
     "output_type": "stream",
     "text": [
      "1) Visualizando los datos horizontalmente:\n",
      " =========================================\n",
      "{'id': 96871, 'name': 'Father of the Bride Collection', 'poster_path': '/nts4iOmNnq7GNicycMJ9pSAn204.jpg', 'backdrop_path': '/7qwE57OVZmMJChBpLEbJEmzUydk.jpg'} \n",
      "\n",
      "2) Visualizando los datos verticalmente:\n",
      " =======================================\n",
      "id: 96871\n",
      "name: Father of the Bride Collection\n",
      "poster_path: /nts4iOmNnq7GNicycMJ9pSAn204.jpg\n",
      "backdrop_path: /7qwE57OVZmMJChBpLEbJEmzUydk.jpg\n",
      "====================================================================================================\n",
      "La columna 'belongs_to_collection', se refiere a la franquicia que realizó la película\n",
      "====================================================================================================\n"
     ]
    }
   ],
   "source": [
    "### Visualizando la cadena en forma de diccionario de la columna \"belongs_to_collection\", de un determinado registro. \n",
    "\n",
    "fila_indice = 4  # Indice del registro o fila que se quiere visualizar.\n",
    "Columna = 'belongs_to_collection'\n",
    "CadenaDeDiccionario = df_movies.at[fila_indice, Columna]\n",
    "\n",
    "print(\"1) Visualizando los datos horizontalmente:\\n\", \"=\"*41)\n",
    "print(CadenaDeDiccionario,\"\\n\")\n",
    "\n",
    "print(\"2) Visualizando los datos verticalmente:\\n\", \"=\"*39)\n",
    "\n",
    "### Convertir la cadena de caracteres en un diccionario usando eval()\n",
    "DiccionarioDeDatos = eval(CadenaDeDiccionario)\n",
    "\n",
    "### Ciclo for par avisualizar por clave valor, emulando un diccionario a partir de una cadena de caracteres\n",
    "for key, value in DiccionarioDeDatos.items():\n",
    "    print(f\"{key}: {value}\")\n",
    " \n",
    "print(\"=\"*100)    \n",
    "print(f\"La columna '{Columna}', se refiere a la franquicia que realizó la película\")\n",
    "print(\"=\"*100)     \n"
   ]
  },
  {
   "cell_type": "markdown",
   "metadata": {},
   "source": [
    "De la columna \"belongs_to_collection\" nos interesa extraer el nombre de la Franquicia. Osea extraer la clave: name y su respectivo valor."
   ]
  },
  {
   "cell_type": "markdown",
   "metadata": {},
   "source": [
    "2) Visualizando la columna: *`genres`*"
   ]
  },
  {
   "cell_type": "code",
   "execution_count": 355,
   "metadata": {},
   "outputs": [
    {
     "name": "stdout",
     "output_type": "stream",
     "text": [
      "1) Visualizando los datos horizontalmente:\n",
      " =========================================\n",
      "[{'id': 35, 'name': 'Comedy'}, {'id': 18, 'name': 'Drama'}, {'id': 10749, 'name': 'Romance'}] \n",
      "\n",
      "2) Visualizando los datos verticalmente:\n",
      " =======================================\n",
      "id: 35\n",
      "name: Comedy\n",
      "--------------------\n",
      "id: 18\n",
      "name: Drama\n",
      "--------------------\n",
      "id: 10749\n",
      "name: Romance\n",
      "--------------------\n",
      "====================================================================================================\n",
      "La columna 'genres', se refiere a la franquicia que realizó la película. (Dato relevante en el proyecto)\n",
      "====================================================================================================\n"
     ]
    }
   ],
   "source": [
    "### Visualizando la lista de diccionario de la columna \"genres\" de un determinado registro. \n",
    "\n",
    "fila_indice = 3  # Indice del registro a visualizar.\n",
    "Columna = 'genres'\n",
    "\n",
    "CadenaDeDiccionario = df_movies.at[fila_indice, Columna]\n",
    "\n",
    "print(\"1) Visualizando los datos horizontalmente:\\n\", \"=\"*41)\n",
    "print(CadenaDeDiccionario,\"\\n\")\n",
    "\n",
    "print(\"2) Visualizando los datos verticalmente:\\n\", \"=\"*39)\n",
    "\n",
    "lista_str = df_movies.at[fila_indice, Columna]   # Toma la cedana de caracteres en forma de lista de diccionarios\n",
    "lista = ast.literal_eval(lista_str)             # Convierte la cadena en dormato de lista.\n",
    "N = len(lista)                                 # Cantidad de diccionarios a mostrar de la lista\n",
    "for diccionario in lista[:N]:                 # For para imprimir todos los diccionarios de la lista.\n",
    "    for key, value in diccionario.items():\n",
    "        print(f\"{key}: {value}\")\n",
    "    print(\"--------------------\")\n",
    "    \n",
    "print(\"=\"*100)    \n",
    "print(f\"La columna '{Columna}', se refiere a la franquicia que realizó la película. (Dato relevante en el proyecto)\")\n",
    "print(\"=\"*100)"
   ]
  },
  {
   "cell_type": "markdown",
   "metadata": {},
   "source": [
    "De la columna \"genres\", nos interesa extraer todos los Generos de la Película. En esta caso la película podria tener varios generos. Por lo tanto debemos extraer todos sus claves valor de: name."
   ]
  },
  {
   "cell_type": "markdown",
   "metadata": {},
   "source": [
    "3) Visualizando la columna: *`production_companies`*"
   ]
  },
  {
   "cell_type": "code",
   "execution_count": 356,
   "metadata": {},
   "outputs": [
    {
     "name": "stdout",
     "output_type": "stream",
     "text": [
      "1) Visualizando los datos horizontalmente:\n",
      " =========================================\n",
      "[{'name': 'Regency Enterprises', 'id': 508}, {'name': 'Forward Pass', 'id': 675}, {'name': 'Warner Bros.', 'id': 6194}] \n",
      "\n",
      "2) Visualizando los datos verticalmente:\n",
      " =======================================\n",
      "name: Regency Enterprises\n",
      "id: 508\n",
      "--------------------\n",
      "name: Forward Pass\n",
      "id: 675\n",
      "--------------------\n",
      "name: Warner Bros.\n",
      "id: 6194\n",
      "--------------------\n",
      "====================================================================================================\n",
      "La columna 'production_companies', se refiere a la franquicia que realizó la película\n",
      "====================================================================================================\n"
     ]
    }
   ],
   "source": [
    "### Visualizando la lista de diccionario de la columna \"production_companies\" de un determinado registro. \n",
    "\n",
    "fila_indice = 5  # Indice del registro o fila que se quiere visualizar.\n",
    "Columna = 'production_companies'\n",
    "\n",
    "CadenaDeDiccionario = df_movies.at[fila_indice, Columna]\n",
    "\n",
    "print(\"1) Visualizando los datos horizontalmente:\\n\", \"=\"*41)\n",
    "print(CadenaDeDiccionario,\"\\n\")\n",
    "\n",
    "print(\"2) Visualizando los datos verticalmente:\\n\", \"=\"*39)\n",
    "\n",
    "lista_str = df_movies.at[fila_indice, Columna]\n",
    "lista = ast.literal_eval(lista_str)\n",
    "N = len(lista) # Cantidad de diccionarios a mostrar de la lista\n",
    "for diccionario in lista[:N]:\n",
    "    for key, value in diccionario.items():\n",
    "        print(f\"{key}: {value}\")\n",
    "    print(\"--------------------\")\n",
    "    \n",
    "print(\"=\"*100)    \n",
    "print(f\"La columna '{Columna}', se refiere a la franquicia que realizó la película\")\n",
    "print(\"=\"*100)"
   ]
  },
  {
   "cell_type": "markdown",
   "metadata": {},
   "source": [
    "De la columna \"production_companies\" nos interesa extraer todos las Compañias de Produccion de la Película. En esta caso la película podria tener varias compañias de producción. Por lo tanto debemos extraer todos sus claves valor de: name."
   ]
  },
  {
   "cell_type": "markdown",
   "metadata": {},
   "source": [
    "4) Visualizando la columna: *`production_countries`*"
   ]
  },
  {
   "cell_type": "code",
   "execution_count": 357,
   "metadata": {},
   "outputs": [
    {
     "name": "stdout",
     "output_type": "stream",
     "text": [
      "1) Visualizando los datos horizontalmente:\n",
      " =========================================\n",
      "[{'iso_3166_1': 'US', 'name': 'United States of America'}] \n",
      "\n",
      "2) Visualizando los datos verticalmente:\n",
      " =======================================\n",
      "iso_3166_1: US\n",
      "name: United States of America\n",
      "--------------------\n",
      "====================================================================================================\n",
      "La columna 'production_countries', se refiere a la franquicia que realizó la película\n",
      "====================================================================================================\n"
     ]
    }
   ],
   "source": [
    "### Visualizando la lista de diccionario de la columna \"production_countries\" de un determinado registro. \n",
    "\n",
    "fila_indice = 3500  # Indice del registro o fila que se quiere visualizar.\n",
    "Columna = 'production_countries'\n",
    "\n",
    "CadenaDeDiccionario = df_movies.at[fila_indice, Columna]\n",
    "\n",
    "print(\"1) Visualizando los datos horizontalmente:\\n\", \"=\"*41)\n",
    "print(CadenaDeDiccionario,\"\\n\")\n",
    "\n",
    "print(\"2) Visualizando los datos verticalmente:\\n\", \"=\"*39)\n",
    "\n",
    "lista_str = df_movies.at[fila_indice, Columna]\n",
    "lista = ast.literal_eval(lista_str)\n",
    "N = len(lista) # Cantidad de diccionarios a mostrar de la lista\n",
    "for diccionario in lista[:N]:\n",
    "    for key, value in diccionario.items():\n",
    "        print(f\"{key}: {value}\")\n",
    "    print(\"--------------------\")\n",
    "    \n",
    "print(\"=\"*100)    \n",
    "print(f\"La columna '{Columna}', se refiere a la franquicia que realizó la película\")\n",
    "print(\"=\"*100)"
   ]
  },
  {
   "cell_type": "markdown",
   "metadata": {},
   "source": [
    "De la columna \"production_countries\" nos interesa extraer todos las Paises de Produccion de la Película. En esta caso la película podria tener varias paises de producción. Por lo tanto debemos extraer todos sus claves valor de: name."
   ]
  },
  {
   "cell_type": "markdown",
   "metadata": {},
   "source": [
    "5) Visualizando la columna: *`spoken_languages`*"
   ]
  },
  {
   "cell_type": "code",
   "execution_count": 358,
   "metadata": {},
   "outputs": [
    {
     "name": "stdout",
     "output_type": "stream",
     "text": [
      "1) Visualizando los datos horizontalmente:\n",
      " =========================================\n",
      "[{'iso_639_1': 'en', 'name': 'English'}] \n",
      "\n",
      "2) Visualizando los datos verticalmente:\n",
      " =======================================\n",
      "iso_639_1: en\n",
      "name: English\n",
      "--------------------\n",
      "====================================================================================================\n",
      "La columna 'spoken_languages', se refiere a la franquicia que realizó la película\n",
      "====================================================================================================\n"
     ]
    }
   ],
   "source": [
    "### Visualizando la lista de diccionario de la columna \"genres\" de un determinado registro. \n",
    "fila_indice = 2  # Indice del registro o fila que se quiere visualizar.\n",
    "Columna = 'spoken_languages'\n",
    "\n",
    "CadenaDeDiccionario = df_movies.at[fila_indice, Columna]\n",
    "\n",
    "print(\"1) Visualizando los datos horizontalmente:\\n\", \"=\"*41)\n",
    "print(CadenaDeDiccionario,\"\\n\")\n",
    "\n",
    "print(\"2) Visualizando los datos verticalmente:\\n\", \"=\"*39)\n",
    "\n",
    "lista_str = df_movies.at[fila_indice, Columna]\n",
    "lista = ast.literal_eval(lista_str)\n",
    "N = len(lista) # Cantidad de diccionarios a mostrar de la lista\n",
    "for diccionario in lista[:N]:\n",
    "    for key, value in diccionario.items():\n",
    "        print(f\"{key}: {value}\")\n",
    "    print(\"--------------------\")\n",
    "    \n",
    "print(\"=\"*100)    \n",
    "print(f\"La columna '{Columna}', se refiere a la franquicia que realizó la película\")\n",
    "print(\"=\"*100)"
   ]
  },
  {
   "cell_type": "markdown",
   "metadata": {},
   "source": [
    "De la columna \"spoken_languages\" nos interesa extraer todos los Idiomas que se hablan en la película. <Br>En esta caso en la película podrian hablarse varios idiomas. Por lo tanto debemos extraer todos sus claves valor de: name."
   ]
  },
  {
   "cell_type": "code",
   "execution_count": 359,
   "metadata": {},
   "outputs": [
    {
     "name": "stdout",
     "output_type": "stream",
     "text": [
      "{'id': 119050, 'name': 'Grumpy Old Men Collection', 'poster_path': '/nLvUdqgPgm3F85NMCii9gVFUcet.jpg', 'backdrop_path': '/hypTnLot2z8wpFS7qwsQHW1uV8u.jpg'}\n",
      "[{'id': 10749, 'name': 'Romance'}, {'id': 35, 'name': 'Comedy'}]\n",
      "[{'name': 'Warner Bros.', 'id': 6194}, {'name': 'Lancaster Gate', 'id': 19464}]\n",
      "[{'iso_3166_1': 'US', 'name': 'United States of America'}]\n",
      "[{'iso_639_1': 'en', 'name': 'English'}]\n"
     ]
    }
   ],
   "source": [
    "### Visualizando todas las columnas anidadas de un determinado registro o fila.\n",
    "for i in (1,3,12,13,17):\n",
    "    print(df_movies.iloc[2][i])"
   ]
  },
  {
   "cell_type": "markdown",
   "metadata": {},
   "source": [
    "### B) Funciones para Desanidar las Columnas Anidadas del Datasets 'df_movies'"
   ]
  },
  {
   "cell_type": "markdown",
   "metadata": {},
   "source": [
    "Se procede a desanidar o separar el valor de la clave-valor: en las siguientes columnas:\n",
    "\n",
    "<ul>\n",
    "<li> 1) belongs_to_collection (Diccionario).</li>\n",
    "<li> 2) genres (Lista de Diccionario). </li>\n",
    "<li> 3) production_companies (Lista de Diccionario).</li>\n",
    "<li> 4) production_countries (Lista de Diccionario).</li>\n",
    "<li> 5) spoken_languages (Lista de Diccionario).</li>\n",
    "</ul>"
   ]
  },
  {
   "cell_type": "markdown",
   "metadata": {},
   "source": [
    "Se procede a crear dos Funciones para Desanidar estas 5 columnas anidadas. La primera función ***(`Extraer_Valor_Dicc`)***, para extraer de la columna 'belongs_to_collection' sus campos en forma de diccionarios. Y la segunda función ***(`Extraer_Valor_List`)***, para extraer del resto de las columnas que contienen sus campos como una lista de diccionarios."
   ]
  },
  {
   "cell_type": "markdown",
   "metadata": {},
   "source": [
    "1 ) Funcion: `Extraer_Valor_Dicc`:<Br>\n",
    "*Funcion para evaluar la columnas string pero en forma de diccionarios y extraer el valor asociado a la claves claves- valor"
   ]
  },
  {
   "cell_type": "code",
   "execution_count": 360,
   "metadata": {},
   "outputs": [],
   "source": [
    "# Función para extraer el valor de la clave 'name', de la columna diccionario: \n",
    "def Extraer_Valor_Dicc(value):\n",
    "    try:\n",
    "        diccionario = ast.literal_eval(value)  #Evaluamos cada atributo como un diccionario de Python\n",
    "        if isinstance(diccionario, dict): #Si el valor es un diccionario, extrae el valor asociado a la clave 'name', para luego retornarlo\n",
    "            return diccionario.get('name', '')\n",
    "    except (ValueError, SyntaxError): #Si no es posible evaluarlo como un diccionario, capturamos las excepciones (ValueError o SyntaxError) y devolvemos una cadena vacía.\n",
    "        pass\n",
    "    return ''  # En caso de no ser un diccionario, se devuelve una cadena vacía."
   ]
  },
  {
   "cell_type": "markdown",
   "metadata": {},
   "source": [
    "2  ) Funcion: `Extraer_Valor_Lista`:<Br>\n",
    "*Funcion para evaluar la columnas string pero en forma de listas de diccionarios y extraer el valor asociado a la claves claves- valor"
   ]
  },
  {
   "cell_type": "code",
   "execution_count": 361,
   "metadata": {},
   "outputs": [],
   "source": [
    "# Función para extraer el valor de la clave 'name', de la columna lista de diccionarios: genres\n",
    "def Extraer_Valor_List(value):\n",
    "    try:\n",
    "        lista_de_diccionarios = ast.literal_eval(value) ##Evaluamos cada atributo como una lista de diccionario de Python\n",
    "        if isinstance(lista_de_diccionarios, list): #Si el valor es una lista de diccionario, extrae el valor asociado a la \n",
    "                                                    #clave 'name' de cada diccionario y lo concatena en una sola cadena.\n",
    "            names = [dic.get('name', '') for dic in lista_de_diccionarios if isinstance(dic, dict)]\n",
    "            return ','.join(names)\n",
    "    except (ValueError, SyntaxError):\n",
    "        pass\n",
    "    return ''  # Si no es posible evaluarlo como una lista de diccionarios, se devuelve una cadena vacía"
   ]
  },
  {
   "cell_type": "markdown",
   "metadata": {},
   "source": [
    "### C) Desanidando las Funcióes Anidadas del Datasets 'df_movies'"
   ]
  },
  {
   "cell_type": "markdown",
   "metadata": {},
   "source": [
    "1) Desanidando la Columna **`'belongs_to_collection'`**, por el atributo {name} que representa el nombre de la Franquicia."
   ]
  },
  {
   "cell_type": "code",
   "execution_count": 362,
   "metadata": {},
   "outputs": [
    {
     "name": "stdout",
     "output_type": "stream",
     "text": [
      "Cantidad de Valores Nulos de la Columna belongs_to_collection, antes de desanidar= 40972\n",
      "Cantidad de Valores Nulos de la Columna Franquicia, despúes de desanidar: 0\n"
     ]
    },
    {
     "data": {
      "text/plain": [
       "0                  Toy Story Collection\n",
       "1                                      \n",
       "2             Grumpy Old Men Collection\n",
       "3                                      \n",
       "4        Father of the Bride Collection\n",
       "                      ...              \n",
       "45461                                  \n",
       "45462                                  \n",
       "45463                                  \n",
       "45464                                  \n",
       "45465                                  \n",
       "Name: Franquicia, Length: 45466, dtype: object"
      ]
     },
     "execution_count": 362,
     "metadata": {},
     "output_type": "execute_result"
    }
   ],
   "source": [
    "### Desanidando por la clave-valor de: name\n",
    "### Aplicar la función para extraer el valor 'name' y crear la nueva columna 'Franquicia'\n",
    "\n",
    "Columna = 'belongs_to_collection'   # Columna a Desanidar\n",
    "NuevaColumna = 'Franquicia'         # Nueva Columna\n",
    "\n",
    "print(f\"Cantidad de Valores Nulos de la Columna {Columna}, antes de desanidar= {df_movies[Columna].isna().sum()}\")\n",
    "\n",
    "df_movies[NuevaColumna] = df_movies[Columna].apply(Extraer_Valor_Dicc)\n",
    "\n",
    "### Eliminando la columna: belongs_to_collection\n",
    "###df_movies.drop(columns=[Columna], inplace=True)\n",
    "\n",
    "print(f\"Cantidad de Valores Nulos de la Columna {NuevaColumna}, despúes de desanidar: {df_movies[NuevaColumna].isna().sum()}\")\n",
    "\n",
    "### Se procede a eliminar los valores nulos\n",
    "#df_movies.dropna(subset=[NuevaColumna], inplace=True)\n",
    "#print(f\"Eliminando Valores Nulos. Cantidad de Valores Nulos de la Columna {NuevaColumna}: {df_movies[NuevaColumna].isna().sum()}\")\n",
    "\n",
    "df_movies[NuevaColumna]"
   ]
  },
  {
   "cell_type": "code",
   "execution_count": 363,
   "metadata": {},
   "outputs": [
    {
     "data": {
      "text/plain": [
       "adult                        0\n",
       "belongs_to_collection    40972\n",
       "budget                       0\n",
       "genres                       0\n",
       "homepage                 37684\n",
       "id                           0\n",
       "imdb_id                     17\n",
       "original_language           11\n",
       "original_title               0\n",
       "overview                   954\n",
       "popularity                   5\n",
       "poster_path                386\n",
       "production_companies         3\n",
       "production_countries         3\n",
       "release_date                87\n",
       "revenue                      6\n",
       "runtime                    263\n",
       "spoken_languages             6\n",
       "status                      87\n",
       "tagline                  25054\n",
       "title                        6\n",
       "video                        6\n",
       "vote_average                 6\n",
       "vote_count                   6\n",
       "Franquicia                   0\n",
       "dtype: int64"
      ]
     },
     "execution_count": 363,
     "metadata": {},
     "output_type": "execute_result"
    }
   ],
   "source": [
    "df_movies.isna().sum()"
   ]
  },
  {
   "cell_type": "markdown",
   "metadata": {},
   "source": [
    "Se puede observar que hay muchos valores NaN"
   ]
  },
  {
   "cell_type": "markdown",
   "metadata": {},
   "source": [
    "2) Desanidando la Columna **`'genres'`**, por el atributo {name} que representa el nombre los Generos de la Películas."
   ]
  },
  {
   "cell_type": "code",
   "execution_count": 364,
   "metadata": {},
   "outputs": [
    {
     "name": "stdout",
     "output_type": "stream",
     "text": [
      "Cantidad de Valores Nulos de la Columna genres, antes de desanidar= 0\n",
      "Cantidad de Valores Nulos de la Columna Generos, despúes de desanidar: 0\n"
     ]
    },
    {
     "data": {
      "text/plain": [
       "0         Animation,Comedy,Family\n",
       "1        Adventure,Fantasy,Family\n",
       "2                  Romance,Comedy\n",
       "3            Comedy,Drama,Romance\n",
       "4                          Comedy\n",
       "                   ...           \n",
       "45461                Drama,Family\n",
       "45462                       Drama\n",
       "45463       Action,Drama,Thriller\n",
       "45464                            \n",
       "45465                            \n",
       "Name: Generos, Length: 45466, dtype: object"
      ]
     },
     "execution_count": 364,
     "metadata": {},
     "output_type": "execute_result"
    }
   ],
   "source": [
    "### Desanidando por la clave-valor de: name\n",
    "### Aplicar la función para extraer el valor 'name' y crear la nueva columna 'Generos'\n",
    "\n",
    "Columna = 'genres'   # Columna a Desanidar\n",
    "NuevaColumna = 'Generos'         # Nueva Columna\n",
    "\n",
    "print(f\"Cantidad de Valores Nulos de la Columna {Columna}, antes de desanidar= {df_movies[Columna].isna().sum()}\")\n",
    "\n",
    "df_movies[NuevaColumna] = df_movies[Columna].apply(Extraer_Valor_List)\n",
    "\n",
    "print(f\"Cantidad de Valores Nulos de la Columna {NuevaColumna}, despúes de desanidar: {df_movies[NuevaColumna].isna().sum()}\")\n",
    "\n",
    "### Eliminando la columna: genres\n",
    "### df_movies.drop(columns=[Columna], inplace=True)\n",
    "\n",
    "### Se procede a eliminar los valores nulos\n",
    "#df_movies.dropna(subset=[NuevaColumna], inplace=True)\n",
    "#print(f\"Eliminando Valores Nulos. Cantidad de Valores Nulos de la Columna {NuevaColumna}: {df_movies[NuevaColumna].isna().sum()}\")\n",
    "\n",
    "df_movies[NuevaColumna]"
   ]
  },
  {
   "cell_type": "code",
   "execution_count": 365,
   "metadata": {},
   "outputs": [
    {
     "name": "stdout",
     "output_type": "stream",
     "text": [
      "Total de valores nulos en 'df_movies'=  105562\n"
     ]
    }
   ],
   "source": [
    "### Total de valores nulos en \"df_movies\"\n",
    "print(\"Total de valores nulos en 'df_movies'= \", df_movies.isna().sum().sum())"
   ]
  },
  {
   "cell_type": "markdown",
   "metadata": {},
   "source": [
    "Los Generos quedan divididos por comas. También se observa valores en blanco."
   ]
  },
  {
   "cell_type": "markdown",
   "metadata": {},
   "source": [
    "3) Desanidando la Columna **`'production_companies'`**, por el atributo {name} que representa el nombre de las Compañias Productoras de Películas."
   ]
  },
  {
   "cell_type": "code",
   "execution_count": 366,
   "metadata": {},
   "outputs": [
    {
     "name": "stdout",
     "output_type": "stream",
     "text": [
      "Cantidad de Valores Nulos de la Columna production_companies, antes de desanidar= 3\n",
      "Cantidad de Valores Nulos de la Columna Productores, despúes de desanidar: 0\n"
     ]
    },
    {
     "data": {
      "text/plain": [
       "0                                  Pixar Animation Studios\n",
       "1        TriStar Pictures,Teitler Film,Interscope Commu...\n",
       "2                              Warner Bros.,Lancaster Gate\n",
       "3                   Twentieth Century Fox Film Corporation\n",
       "4                Sandollar Productions,Touchstone Pictures\n",
       "                               ...                        \n",
       "45461                                                     \n",
       "45462                                          Sine Olivia\n",
       "45463                              American World Pictures\n",
       "45464                                            Yermoliev\n",
       "45465                                                     \n",
       "Name: Productores, Length: 45466, dtype: object"
      ]
     },
     "execution_count": 366,
     "metadata": {},
     "output_type": "execute_result"
    }
   ],
   "source": [
    "### Desanidando por la clave-valor de: name\n",
    "### Aplicar la función para extraer el valor 'name' y crear la nueva columna 'Productores'\n",
    "\n",
    "Columna = 'production_companies'     # Columna a Desanidar\n",
    "NuevaColumna = 'Productores'         # Nueva Columna\n",
    "\n",
    "print(f\"Cantidad de Valores Nulos de la Columna {Columna}, antes de desanidar= {df_movies[Columna].isna().sum()}\")\n",
    "\n",
    "df_movies[NuevaColumna] = df_movies[Columna].apply(Extraer_Valor_List)\n",
    "\n",
    "### Eliminando la columna: genres\n",
    "### df_movies.drop(columns=[Columna], inplace=True)\n",
    "\n",
    "print(f\"Cantidad de Valores Nulos de la Columna {NuevaColumna}, despúes de desanidar: {df_movies[NuevaColumna].isna().sum()}\")\n",
    "\n",
    "### Se procede a eliminar los valores nulos\n",
    "#df_movies.dropna(subset=[NuevaColumna], inplace=True)\n",
    "#print(f\"Eliminando Valores Nulos. Cantidad de Valores Nulos de la Columna {NuevaColumna}: {df_movies[NuevaColumna].isna().sum()}\")\n",
    "\n",
    "df_movies[NuevaColumna]"
   ]
  },
  {
   "cell_type": "markdown",
   "metadata": {},
   "source": [
    "Las compañias quedan separadas por comas. También se observan registros en blanco."
   ]
  },
  {
   "cell_type": "markdown",
   "metadata": {},
   "source": [
    "4) Desanidando la Columna **`'production_countries'`**, por el atributo {name} que representa el nombre del País de Producción de la Película."
   ]
  },
  {
   "cell_type": "code",
   "execution_count": 367,
   "metadata": {},
   "outputs": [
    {
     "name": "stdout",
     "output_type": "stream",
     "text": [
      "Cantidad de Valores Nulos de la Columna production_countries, antes de desanidar= 3\n",
      "Cantidad de Valores Nulos de la Columna Paises, despúes de desanidar: 0\n"
     ]
    },
    {
     "data": {
      "text/plain": [
       "0        United States of America\n",
       "1        United States of America\n",
       "2        United States of America\n",
       "3        United States of America\n",
       "4        United States of America\n",
       "                   ...           \n",
       "45461                        Iran\n",
       "45462                 Philippines\n",
       "45463    United States of America\n",
       "45464                      Russia\n",
       "45465              United Kingdom\n",
       "Name: Paises, Length: 45466, dtype: object"
      ]
     },
     "execution_count": 367,
     "metadata": {},
     "output_type": "execute_result"
    }
   ],
   "source": [
    "### Desanidando por la clave-valor de: name\n",
    "### Aplicar la función para extraer el valor 'name' y crear la nueva columna 'Paises'\n",
    "\n",
    "Columna = 'production_countries'     # Columna a Desanidar\n",
    "NuevaColumna = 'Paises'              # Nueva Columna\n",
    "\n",
    "print(f\"Cantidad de Valores Nulos de la Columna {Columna}, antes de desanidar= {df_movies[Columna].isna().sum()}\")\n",
    "\n",
    "df_movies[NuevaColumna] = df_movies[Columna].apply(Extraer_Valor_List)\n",
    "\n",
    "### Eliminando la columna: genres\n",
    "### df_movies.drop(columns=[Columna], inplace=True)\n",
    "\n",
    "print(f\"Cantidad de Valores Nulos de la Columna {NuevaColumna}, despúes de desanidar: {df_movies[NuevaColumna].isna().sum()}\")\n",
    "\n",
    "### Se procede a eliminar los valores nulos\n",
    "#df_movies.dropna(subset=[NuevaColumna], inplace=True)\n",
    "#print(f\"Eliminando Valores Nulos. Cantidad de Valores Nulos de la Columna {NuevaColumna}: {df_movies[NuevaColumna].isna().sum()}\")\n",
    "\n",
    "df_movies[NuevaColumna]"
   ]
  },
  {
   "cell_type": "markdown",
   "metadata": {},
   "source": [
    "5) Desanidando la Columna **`'spoken_languages'`**, por el atributo {name} que representa el nombre de los Idiomas que se hablan en la Película."
   ]
  },
  {
   "cell_type": "code",
   "execution_count": 368,
   "metadata": {},
   "outputs": [
    {
     "name": "stdout",
     "output_type": "stream",
     "text": [
      "Cantidad de Valores Nulos de la Columna spoken_languages, antes de desanidar= 6\n",
      "Cantidad de Valores Nulos de la Columna IdiomasH, despúes de desanidar: 0\n"
     ]
    },
    {
     "data": {
      "text/plain": [
       "0                 English\n",
       "1        English,Français\n",
       "2                 English\n",
       "3                 English\n",
       "4                 English\n",
       "               ...       \n",
       "45461               فارسی\n",
       "45462                    \n",
       "45463             English\n",
       "45464                    \n",
       "45465             English\n",
       "Name: IdiomasH, Length: 45466, dtype: object"
      ]
     },
     "execution_count": 368,
     "metadata": {},
     "output_type": "execute_result"
    }
   ],
   "source": [
    "### Desanidando por la clave-valor de: name\n",
    "### Aplicar la función para extraer el valor 'name' y crear la nueva columna 'IdiomasH'\n",
    "\n",
    "Columna = 'spoken_languages'           # Columna a Desanidar\n",
    "NuevaColumna = 'IdiomasH'              # Nueva Columna (Idiomas Hablados en la Película)\n",
    "\n",
    "print(f\"Cantidad de Valores Nulos de la Columna {Columna}, antes de desanidar= {df_movies[Columna].isna().sum()}\")\n",
    "\n",
    "df_movies[NuevaColumna] = df_movies[Columna].apply(Extraer_Valor_List)\n",
    "\n",
    "### Eliminando la columna: genres\n",
    "### df_movies.drop(columns=[Columna], inplace=True)\n",
    "\n",
    "print(f\"Cantidad de Valores Nulos de la Columna {NuevaColumna}, despúes de desanidar: {df_movies[NuevaColumna].isna().sum()}\")\n",
    "\n",
    "### Se procede a eliminar los valores nulos\n",
    "#df_movies.dropna(subset=[NuevaColumna], inplace=True)\n",
    "#print(f\"Eliminando Valores Nulos. Cantidad de Valores Nulos de la Columna {NuevaColumna}: {df_movies[NuevaColumna].isna().sum()}\")\n",
    "\n",
    "df_movies[NuevaColumna]"
   ]
  },
  {
   "cell_type": "code",
   "execution_count": 369,
   "metadata": {},
   "outputs": [
    {
     "name": "stdout",
     "output_type": "stream",
     "text": [
      "Columnas del DataSets de Movies:\n",
      "\n",
      " Index(['adult', 'belongs_to_collection', 'budget', 'genres', 'homepage', 'id',\n",
      "       'imdb_id', 'original_language', 'original_title', 'overview',\n",
      "       'popularity', 'poster_path', 'production_companies',\n",
      "       'production_countries', 'release_date', 'revenue', 'runtime',\n",
      "       'spoken_languages', 'status', 'tagline', 'title', 'video',\n",
      "       'vote_average', 'vote_count', 'Franquicia', 'Generos', 'Productores',\n",
      "       'Paises', 'IdiomasH'],\n",
      "      dtype='object') \n",
      "\n",
      "Dimensiones del DataSets de Movies:  (45466, 29) \n",
      "\n"
     ]
    }
   ],
   "source": [
    "### Información de Columnas y Filas del DataSets\n",
    "print(\"Columnas del DataSets de Movies:\\n\\n\",df_movies.columns,\"\\n\")\n",
    "print(\"Dimensiones del DataSets de Movies: \",df_movies.shape,\"\\n\")"
   ]
  },
  {
   "cell_type": "code",
   "execution_count": 370,
   "metadata": {},
   "outputs": [
    {
     "data": {
      "text/plain": [
       "adult                        0\n",
       "belongs_to_collection    40972\n",
       "budget                       0\n",
       "genres                       0\n",
       "homepage                 37684\n",
       "id                           0\n",
       "imdb_id                     17\n",
       "original_language           11\n",
       "original_title               0\n",
       "overview                   954\n",
       "popularity                   5\n",
       "poster_path                386\n",
       "production_companies         3\n",
       "production_countries         3\n",
       "release_date                87\n",
       "revenue                      6\n",
       "runtime                    263\n",
       "spoken_languages             6\n",
       "status                      87\n",
       "tagline                  25054\n",
       "title                        6\n",
       "video                        6\n",
       "vote_average                 6\n",
       "vote_count                   6\n",
       "Franquicia                   0\n",
       "Generos                      0\n",
       "Productores                  0\n",
       "Paises                       0\n",
       "IdiomasH                     0\n",
       "dtype: int64"
      ]
     },
     "execution_count": 370,
     "metadata": {},
     "output_type": "execute_result"
    }
   ],
   "source": [
    "df_movies.isna().sum()"
   ]
  },
  {
   "cell_type": "markdown",
   "metadata": {},
   "source": [
    "### 1.1.1.2) Requerimiento del Proyecto, Nro. 2"
   ]
  },
  {
   "cell_type": "markdown",
   "metadata": {},
   "source": [
    "+ Los valores nulos de los campos **`revenue`**, **`budget`** deben ser rellenados por el número **`0`**."
   ]
  },
  {
   "cell_type": "code",
   "execution_count": 371,
   "metadata": {},
   "outputs": [
    {
     "name": "stdout",
     "output_type": "stream",
     "text": [
      "Cantidad de Valores Nulos de 'revenue': 6\n",
      "Cantidad de Valores Nulos de 'budget': 0\n"
     ]
    }
   ],
   "source": [
    "print(\"Cantidad de Valores Nulos de 'revenue':\",df_movies['revenue'].isna().sum())\n",
    "print(\"Cantidad de Valores Nulos de 'budget':\",df_movies['budget'].isna().sum())"
   ]
  },
  {
   "cell_type": "code",
   "execution_count": 372,
   "metadata": {},
   "outputs": [
    {
     "name": "stdout",
     "output_type": "stream",
     "text": [
      "Cantidad de Valores Nulos de 'revenue': 0\n",
      "Cantidad de Valores Nulos de 'budget': 0\n"
     ]
    }
   ],
   "source": [
    "# Se procede a sustituir los 6 valores nulos en la columna \"revenue\" y \"budget\", con cero (0).\n",
    "df_movies['revenue'] = df_movies['revenue'].fillna(0)\n",
    "df_movies['budget'] = df_movies['budget'].fillna(0)\n",
    "\n",
    "# Otra forma de hacerlo: \n",
    "# df_movies2['revenue'].fillna(0,inplace=True)\n",
    "\n",
    "# Validamos que ya no existan valores nulos:\n",
    "print(\"Cantidad de Valores Nulos de 'revenue':\",df_movies['revenue'].isna().sum())\n",
    "print(\"Cantidad de Valores Nulos de 'budget':\",df_movies['budget'].isna().sum())"
   ]
  },
  {
   "cell_type": "code",
   "execution_count": 373,
   "metadata": {},
   "outputs": [
    {
     "name": "stdout",
     "output_type": "stream",
     "text": [
      "Cantidad de Valores Nulos de 'budget': 3\n"
     ]
    }
   ],
   "source": [
    "### La columna 'budget' esta definida como Objeto, pero es Númerico.\n",
    "### Convertiendo la columna de tipo objeto a tipo numerico, y los que no sean numericos los convierte en NaN:\n",
    "\n",
    "df_movies['budget'] = pd.to_numeric(df_movies['budget'], errors='coerce')\n",
    "\n",
    "### Validano los cambios realizados a númerico y luego si se ha creado algun NaN:\n",
    "print(\"Cantidad de Valores Nulos de 'budget':\",df_movies['budget'].isna().sum())"
   ]
  },
  {
   "cell_type": "code",
   "execution_count": 374,
   "metadata": {},
   "outputs": [
    {
     "name": "stdout",
     "output_type": "stream",
     "text": [
      "Cantidad de Valores Nulos de 'budget': 0\n"
     ]
    }
   ],
   "source": [
    "# Se procede a sustituir los 3 valores nuevos por ceros\n",
    "df_movies['budget'] = df_movies['budget'].fillna(0)\n",
    "\n",
    "### Validano los cambios realizados a númerico y luego si se ha creado algun NaN:\n",
    "print(\"Cantidad de Valores Nulos de 'budget':\",df_movies['budget'].isna().sum())"
   ]
  },
  {
   "cell_type": "code",
   "execution_count": 375,
   "metadata": {},
   "outputs": [
    {
     "data": {
      "text/plain": [
       "adult                        0\n",
       "belongs_to_collection    40972\n",
       "budget                       0\n",
       "genres                       0\n",
       "homepage                 37684\n",
       "id                           0\n",
       "imdb_id                     17\n",
       "original_language           11\n",
       "original_title               0\n",
       "overview                   954\n",
       "popularity                   5\n",
       "poster_path                386\n",
       "production_companies         3\n",
       "production_countries         3\n",
       "release_date                87\n",
       "revenue                      0\n",
       "runtime                    263\n",
       "spoken_languages             6\n",
       "status                      87\n",
       "tagline                  25054\n",
       "title                        6\n",
       "video                        6\n",
       "vote_average                 6\n",
       "vote_count                   6\n",
       "Franquicia                   0\n",
       "Generos                      0\n",
       "Productores                  0\n",
       "Paises                       0\n",
       "IdiomasH                     0\n",
       "dtype: int64"
      ]
     },
     "execution_count": 375,
     "metadata": {},
     "output_type": "execute_result"
    }
   ],
   "source": [
    "### Valores Nulos del DataSets\n",
    "df_movies.isna().sum()"
   ]
  },
  {
   "cell_type": "markdown",
   "metadata": {},
   "source": [
    "### 1.1.1.3) Requerimiento del Proyecto, Nro. 3"
   ]
  },
  {
   "cell_type": "markdown",
   "metadata": {},
   "source": [
    "+ Los valores nulos del campo **`release_date`** deben eliminarse."
   ]
  },
  {
   "cell_type": "code",
   "execution_count": 376,
   "metadata": {},
   "outputs": [
    {
     "name": "stdout",
     "output_type": "stream",
     "text": [
      "Total de Valores Nulos de la columna 'release_date'=  87\n"
     ]
    }
   ],
   "source": [
    "print(\"Total de Valores Nulos de la columna 'release_date'= \",df_movies['release_date'].isna().sum())"
   ]
  },
  {
   "cell_type": "markdown",
   "metadata": {},
   "source": [
    "Eliminando Valores Nulos en la Columna 'release_date'"
   ]
  },
  {
   "cell_type": "code",
   "execution_count": 377,
   "metadata": {},
   "outputs": [
    {
     "name": "stdout",
     "output_type": "stream",
     "text": [
      "Total de Valores Nulos de la columna 'release_date'=  0\n"
     ]
    }
   ],
   "source": [
    "df_movies.dropna(subset=['release_date'], inplace=True)\n",
    "print(\"Total de Valores Nulos de la columna 'release_date'= \",df_movies['release_date'].isna().sum())"
   ]
  },
  {
   "cell_type": "markdown",
   "metadata": {},
   "source": [
    "### 1.1.1.4) Requerimiento del Proyecto, Nro. 4"
   ]
  },
  {
   "cell_type": "markdown",
   "metadata": {},
   "source": [
    "+ De haber fechas, deberán tener el formato **`AAAA-mm-dd`**, además deberán crear la columna **`release_year`** donde extraerán el año de la fecha de estreno."
   ]
  },
  {
   "cell_type": "code",
   "execution_count": 378,
   "metadata": {},
   "outputs": [
    {
     "name": "stdout",
     "output_type": "stream",
     "text": [
      "0        1995-10-30\n",
      "1        1995-12-15\n",
      "2        1995-12-22\n",
      "3        1995-12-22\n",
      "4        1995-02-10\n",
      "            ...    \n",
      "45460    1991-05-13\n",
      "45462    2011-11-17\n",
      "45463    2003-08-01\n",
      "45464    1917-10-21\n",
      "45465    2017-06-09\n",
      "Name: release_date, Length: 45379, dtype: object\n",
      "<class 'pandas.core.series.Series'>\n",
      "Index: 45379 entries, 0 to 45465\n",
      "Series name: release_date\n",
      "Non-Null Count  Dtype \n",
      "--------------  ----- \n",
      "45379 non-null  object\n",
      "dtypes: object(1)\n",
      "memory usage: 709.0+ KB\n"
     ]
    }
   ],
   "source": [
    "### Validan el tipo de columna 'release_date' y sus datos\n",
    "print(df_movies['release_date'])\n",
    "df_movies['release_date'].info()\n"
   ]
  },
  {
   "cell_type": "markdown",
   "metadata": {},
   "source": [
    "Se puede observar que la columna 'release_date' es una fecha y esta definido como tipo objeto"
   ]
  },
  {
   "cell_type": "markdown",
   "metadata": {},
   "source": [
    "Validamos si hay valores nulos"
   ]
  },
  {
   "cell_type": "code",
   "execution_count": 379,
   "metadata": {},
   "outputs": [
    {
     "name": "stdout",
     "output_type": "stream",
     "text": [
      "Cantidad de Valores Nulos de 'release_date': 0\n"
     ]
    }
   ],
   "source": [
    "### Validamos si tiene NaN:\n",
    "print(\"Cantidad de Valores Nulos de 'release_date':\",df_movies['release_date'].isna().sum())"
   ]
  },
  {
   "cell_type": "markdown",
   "metadata": {},
   "source": [
    "Convertimos a formato fecha"
   ]
  },
  {
   "cell_type": "code",
   "execution_count": 380,
   "metadata": {},
   "outputs": [
    {
     "name": "stdout",
     "output_type": "stream",
     "text": [
      "Cantidad de Valores Nulos de 'release_date': 3\n"
     ]
    }
   ],
   "source": [
    "### Primero convertimos a datetime la columna 'release_date'\n",
    "### Y forzamos a convertir en NaN a todos los valores que den error (errors='coerce).\n",
    "\n",
    "df_movies['release_date'] = pd.to_datetime(df_movies['release_date'], errors='coerce')\n",
    "\n",
    "### Validamos nuevamente la cantidad de valores NaN\n",
    "print(\"Cantidad de Valores Nulos de 'release_date':\",df_movies['release_date'].isna().sum())"
   ]
  },
  {
   "cell_type": "code",
   "execution_count": 381,
   "metadata": {},
   "outputs": [
    {
     "name": "stdout",
     "output_type": "stream",
     "text": [
      "<class 'pandas.core.series.Series'>\n",
      "Index: 45379 entries, 0 to 45465\n",
      "Series name: release_date\n",
      "Non-Null Count  Dtype         \n",
      "--------------  -----         \n",
      "45376 non-null  datetime64[ns]\n",
      "dtypes: datetime64[ns](1)\n",
      "memory usage: 709.0 KB\n"
     ]
    }
   ],
   "source": [
    "### Validando que se realizó el cambio\n",
    "df_movies['release_date'].info()"
   ]
  },
  {
   "cell_type": "code",
   "execution_count": 382,
   "metadata": {},
   "outputs": [
    {
     "name": "stdout",
     "output_type": "stream",
     "text": [
      "Cantidad de Valores Nulos de 'release_date': 3\n"
     ]
    }
   ],
   "source": [
    "### Validamos si tiene NaN:\n",
    "print(\"Cantidad de Valores Nulos de 'release_date':\",df_movies['release_date'].isna().sum())"
   ]
  },
  {
   "cell_type": "markdown",
   "metadata": {},
   "source": [
    "Se procede a eliminar los 3 nuevos valores nulos que aparecieron después de convertirlos a formato fecha."
   ]
  },
  {
   "cell_type": "code",
   "execution_count": 383,
   "metadata": {},
   "outputs": [
    {
     "name": "stdout",
     "output_type": "stream",
     "text": [
      "Total de Valores Nulos de la columna 'release_date'=  0\n"
     ]
    }
   ],
   "source": [
    "df_movies.dropna(subset=['release_date'], inplace=True)\n",
    "print(\"Total de Valores Nulos de la columna 'release_date'= \",df_movies['release_date'].isna().sum())"
   ]
  },
  {
   "cell_type": "markdown",
   "metadata": {},
   "source": [
    "Se crea la nueva columna del añio"
   ]
  },
  {
   "cell_type": "code",
   "execution_count": 384,
   "metadata": {},
   "outputs": [
    {
     "name": "stdout",
     "output_type": "stream",
     "text": [
      "  release_date  Anio\n",
      "0   1995-10-30  1995\n",
      "1   1995-12-15  1995\n",
      "2   1995-12-22  1995\n",
      "3   1995-12-22  1995\n",
      "4   1995-02-10  1995\n"
     ]
    },
    {
     "data": {
      "text/html": [
       "<div>\n",
       "<style scoped>\n",
       "    .dataframe tbody tr th:only-of-type {\n",
       "        vertical-align: middle;\n",
       "    }\n",
       "\n",
       "    .dataframe tbody tr th {\n",
       "        vertical-align: top;\n",
       "    }\n",
       "\n",
       "    .dataframe thead th {\n",
       "        text-align: right;\n",
       "    }\n",
       "</style>\n",
       "<table border=\"1\" class=\"dataframe\">\n",
       "  <thead>\n",
       "    <tr style=\"text-align: right;\">\n",
       "      <th></th>\n",
       "      <th>release_date</th>\n",
       "      <th>Anio</th>\n",
       "    </tr>\n",
       "  </thead>\n",
       "  <tbody>\n",
       "    <tr>\n",
       "      <th>45460</th>\n",
       "      <td>1991-05-13</td>\n",
       "      <td>1991</td>\n",
       "    </tr>\n",
       "    <tr>\n",
       "      <th>45462</th>\n",
       "      <td>2011-11-17</td>\n",
       "      <td>2011</td>\n",
       "    </tr>\n",
       "    <tr>\n",
       "      <th>45463</th>\n",
       "      <td>2003-08-01</td>\n",
       "      <td>2003</td>\n",
       "    </tr>\n",
       "    <tr>\n",
       "      <th>45464</th>\n",
       "      <td>1917-10-21</td>\n",
       "      <td>1917</td>\n",
       "    </tr>\n",
       "    <tr>\n",
       "      <th>45465</th>\n",
       "      <td>2017-06-09</td>\n",
       "      <td>2017</td>\n",
       "    </tr>\n",
       "  </tbody>\n",
       "</table>\n",
       "</div>"
      ],
      "text/plain": [
       "      release_date  Anio\n",
       "45460   1991-05-13  1991\n",
       "45462   2011-11-17  2011\n",
       "45463   2003-08-01  2003\n",
       "45464   1917-10-21  1917\n",
       "45465   2017-06-09  2017"
      ]
     },
     "execution_count": 384,
     "metadata": {},
     "output_type": "execute_result"
    }
   ],
   "source": [
    "### Como efectivamente todos los registros de la columna 'release_date' tienen el mismo formato, \n",
    "### pasamos a crear la columna de años:\n",
    "\n",
    "#Creamos la columna 'release_year' que va a contener el año de la columna 'release_date'\n",
    "df_movies['Anio'] = pd.to_datetime(df_movies['release_date']).dt.year\n",
    "\n",
    "### Validamos la nueva columna de 'release_year'\n",
    "print(df_movies[['release_date','Anio']].head(5))\n",
    "df_movies[['release_date','Anio']].tail(5)"
   ]
  },
  {
   "cell_type": "code",
   "execution_count": 385,
   "metadata": {},
   "outputs": [
    {
     "data": {
      "text/plain": [
       "adult                        0\n",
       "belongs_to_collection    40888\n",
       "budget                       0\n",
       "genres                       0\n",
       "homepage                 37610\n",
       "id                           0\n",
       "imdb_id                     14\n",
       "original_language           11\n",
       "original_title               0\n",
       "overview                   941\n",
       "popularity                   0\n",
       "poster_path                339\n",
       "production_companies         0\n",
       "production_countries         0\n",
       "release_date                 0\n",
       "revenue                      0\n",
       "runtime                    246\n",
       "spoken_languages             0\n",
       "status                      80\n",
       "tagline                  24978\n",
       "title                        0\n",
       "video                        0\n",
       "vote_average                 0\n",
       "vote_count                   0\n",
       "Franquicia                   0\n",
       "Generos                      0\n",
       "Productores                  0\n",
       "Paises                       0\n",
       "IdiomasH                     0\n",
       "Anio                         0\n",
       "dtype: int64"
      ]
     },
     "execution_count": 385,
     "metadata": {},
     "output_type": "execute_result"
    }
   ],
   "source": [
    "### Visualizando Valores Nulos\n",
    "df_movies.isna().sum()"
   ]
  },
  {
   "cell_type": "markdown",
   "metadata": {},
   "source": [
    "### 1.1.1.5) Requerimiento del Proyecto, Nro. 5"
   ]
  },
  {
   "cell_type": "markdown",
   "metadata": {},
   "source": [
    "+ Crear la columna con el retorno de inversión, llamada **`return`** con los campos **`revenue`** y **`budget`**, dividiendo estas dos últimas **`revenue / budget`**, cuando no hay datos disponibles para calcularlo, deberá tomar el valor **`0`**."
   ]
  },
  {
   "cell_type": "code",
   "execution_count": 386,
   "metadata": {},
   "outputs": [
    {
     "name": "stdout",
     "output_type": "stream",
     "text": [
      "0\n"
     ]
    },
    {
     "data": {
      "text/plain": [
       "0"
      ]
     },
     "execution_count": 386,
     "metadata": {},
     "output_type": "execute_result"
    }
   ],
   "source": [
    "### Validando que no hay NaN, en ninguna de las dos columnas:\n",
    "print(df_movies['budget'].isna().sum())\n",
    "df_movies['revenue'].isna().sum()"
   ]
  },
  {
   "cell_type": "code",
   "execution_count": 387,
   "metadata": {},
   "outputs": [
    {
     "data": {
      "text/html": [
       "<div>\n",
       "<style scoped>\n",
       "    .dataframe tbody tr th:only-of-type {\n",
       "        vertical-align: middle;\n",
       "    }\n",
       "\n",
       "    .dataframe tbody tr th {\n",
       "        vertical-align: top;\n",
       "    }\n",
       "\n",
       "    .dataframe thead th {\n",
       "        text-align: right;\n",
       "    }\n",
       "</style>\n",
       "<table border=\"1\" class=\"dataframe\">\n",
       "  <thead>\n",
       "    <tr style=\"text-align: right;\">\n",
       "      <th></th>\n",
       "      <th>budget</th>\n",
       "      <th>revenue</th>\n",
       "    </tr>\n",
       "  </thead>\n",
       "  <tbody>\n",
       "    <tr>\n",
       "      <th>count</th>\n",
       "      <td>4.537600e+04</td>\n",
       "      <td>4.537600e+04</td>\n",
       "    </tr>\n",
       "    <tr>\n",
       "      <th>mean</th>\n",
       "      <td>4.232604e+06</td>\n",
       "      <td>1.123010e+07</td>\n",
       "    </tr>\n",
       "    <tr>\n",
       "      <th>std</th>\n",
       "      <td>1.743986e+07</td>\n",
       "      <td>6.438996e+07</td>\n",
       "    </tr>\n",
       "    <tr>\n",
       "      <th>min</th>\n",
       "      <td>0.000000e+00</td>\n",
       "      <td>0.000000e+00</td>\n",
       "    </tr>\n",
       "    <tr>\n",
       "      <th>25%</th>\n",
       "      <td>0.000000e+00</td>\n",
       "      <td>0.000000e+00</td>\n",
       "    </tr>\n",
       "    <tr>\n",
       "      <th>50%</th>\n",
       "      <td>0.000000e+00</td>\n",
       "      <td>0.000000e+00</td>\n",
       "    </tr>\n",
       "    <tr>\n",
       "      <th>75%</th>\n",
       "      <td>0.000000e+00</td>\n",
       "      <td>0.000000e+00</td>\n",
       "    </tr>\n",
       "    <tr>\n",
       "      <th>max</th>\n",
       "      <td>3.800000e+08</td>\n",
       "      <td>2.787965e+09</td>\n",
       "    </tr>\n",
       "  </tbody>\n",
       "</table>\n",
       "</div>"
      ],
      "text/plain": [
       "             budget       revenue\n",
       "count  4.537600e+04  4.537600e+04\n",
       "mean   4.232604e+06  1.123010e+07\n",
       "std    1.743986e+07  6.438996e+07\n",
       "min    0.000000e+00  0.000000e+00\n",
       "25%    0.000000e+00  0.000000e+00\n",
       "50%    0.000000e+00  0.000000e+00\n",
       "75%    0.000000e+00  0.000000e+00\n",
       "max    3.800000e+08  2.787965e+09"
      ]
     },
     "execution_count": 387,
     "metadata": {},
     "output_type": "execute_result"
    }
   ],
   "source": [
    "### Validando datos\n",
    "df_movies[['budget','revenue']].describe()"
   ]
  },
  {
   "cell_type": "markdown",
   "metadata": {},
   "source": [
    "Se puede observar que ambas columnas tienen valores en ceros (0)"
   ]
  },
  {
   "cell_type": "code",
   "execution_count": 388,
   "metadata": {},
   "outputs": [],
   "source": [
    "### Se realiza esta conversion para detectar la existencia de algun dato, con un posible error. (Por si acaso !!!!)\n",
    "df_movies['budget'] = pd.to_numeric(df_movies['budget'], errors='coerce')\n",
    "df_movies['revenue'] = pd.to_numeric(df_movies['revenue'], errors='coerce')"
   ]
  },
  {
   "cell_type": "markdown",
   "metadata": {},
   "source": [
    "Se valida nuevamente si aparecieron valores nulos."
   ]
  },
  {
   "cell_type": "code",
   "execution_count": 389,
   "metadata": {},
   "outputs": [
    {
     "name": "stdout",
     "output_type": "stream",
     "text": [
      "0\n"
     ]
    },
    {
     "data": {
      "text/plain": [
       "0"
      ]
     },
     "execution_count": 389,
     "metadata": {},
     "output_type": "execute_result"
    }
   ],
   "source": [
    "### Validando que no hay NaN, en ninguna de las dos columnas:\n",
    "print(df_movies['budget'].isna().sum())\n",
    "df_movies['revenue'].isna().sum()"
   ]
  },
  {
   "cell_type": "code",
   "execution_count": 390,
   "metadata": {},
   "outputs": [
    {
     "name": "stdout",
     "output_type": "stream",
     "text": [
      "       revenue      budget     return\n",
      "0  373554033.0  30000000.0  12.451801\n",
      "1  262797249.0  65000000.0   4.043035\n",
      "2          0.0         0.0   0.000000\n",
      "3   81452156.0  16000000.0   5.090760\n",
      "4   76578911.0         0.0   0.000000\n",
      "5  187436818.0  60000000.0   3.123947\n",
      "6          0.0  58000000.0   0.000000\n",
      "7          0.0         0.0   0.000000\n",
      "8   64350171.0  35000000.0   1.838576\n",
      "9  352194034.0  58000000.0   6.072311\n"
     ]
    },
    {
     "data": {
      "text/html": [
       "<div>\n",
       "<style scoped>\n",
       "    .dataframe tbody tr th:only-of-type {\n",
       "        vertical-align: middle;\n",
       "    }\n",
       "\n",
       "    .dataframe tbody tr th {\n",
       "        vertical-align: top;\n",
       "    }\n",
       "\n",
       "    .dataframe thead th {\n",
       "        text-align: right;\n",
       "    }\n",
       "</style>\n",
       "<table border=\"1\" class=\"dataframe\">\n",
       "  <thead>\n",
       "    <tr style=\"text-align: right;\">\n",
       "      <th></th>\n",
       "      <th>revenue</th>\n",
       "      <th>budget</th>\n",
       "      <th>return</th>\n",
       "    </tr>\n",
       "  </thead>\n",
       "  <tbody>\n",
       "    <tr>\n",
       "      <th>45455</th>\n",
       "      <td>0.0</td>\n",
       "      <td>0.0</td>\n",
       "      <td>0.0</td>\n",
       "    </tr>\n",
       "    <tr>\n",
       "      <th>45456</th>\n",
       "      <td>0.0</td>\n",
       "      <td>0.0</td>\n",
       "      <td>0.0</td>\n",
       "    </tr>\n",
       "    <tr>\n",
       "      <th>45457</th>\n",
       "      <td>0.0</td>\n",
       "      <td>0.0</td>\n",
       "      <td>0.0</td>\n",
       "    </tr>\n",
       "    <tr>\n",
       "      <th>45458</th>\n",
       "      <td>0.0</td>\n",
       "      <td>0.0</td>\n",
       "      <td>0.0</td>\n",
       "    </tr>\n",
       "    <tr>\n",
       "      <th>45459</th>\n",
       "      <td>0.0</td>\n",
       "      <td>0.0</td>\n",
       "      <td>0.0</td>\n",
       "    </tr>\n",
       "    <tr>\n",
       "      <th>45460</th>\n",
       "      <td>0.0</td>\n",
       "      <td>0.0</td>\n",
       "      <td>0.0</td>\n",
       "    </tr>\n",
       "    <tr>\n",
       "      <th>45462</th>\n",
       "      <td>0.0</td>\n",
       "      <td>0.0</td>\n",
       "      <td>0.0</td>\n",
       "    </tr>\n",
       "    <tr>\n",
       "      <th>45463</th>\n",
       "      <td>0.0</td>\n",
       "      <td>0.0</td>\n",
       "      <td>0.0</td>\n",
       "    </tr>\n",
       "    <tr>\n",
       "      <th>45464</th>\n",
       "      <td>0.0</td>\n",
       "      <td>0.0</td>\n",
       "      <td>0.0</td>\n",
       "    </tr>\n",
       "    <tr>\n",
       "      <th>45465</th>\n",
       "      <td>0.0</td>\n",
       "      <td>0.0</td>\n",
       "      <td>0.0</td>\n",
       "    </tr>\n",
       "  </tbody>\n",
       "</table>\n",
       "</div>"
      ],
      "text/plain": [
       "       revenue  budget  return\n",
       "45455      0.0     0.0     0.0\n",
       "45456      0.0     0.0     0.0\n",
       "45457      0.0     0.0     0.0\n",
       "45458      0.0     0.0     0.0\n",
       "45459      0.0     0.0     0.0\n",
       "45460      0.0     0.0     0.0\n",
       "45462      0.0     0.0     0.0\n",
       "45463      0.0     0.0     0.0\n",
       "45464      0.0     0.0     0.0\n",
       "45465      0.0     0.0     0.0"
      ]
     },
     "execution_count": 390,
     "metadata": {},
     "output_type": "execute_result"
    }
   ],
   "source": [
    "### Creando la columna con la formula del retorno de inversión 'return'\n",
    "df_movies['return'] = df_movies.apply(lambda x_return: 0 if x_return['budget'] == 0 else (x_return['revenue'] / x_return['budget']), axis=1)\n",
    "\n",
    "### Visualizando las columnas\n",
    "print(df_movies[['revenue', 'budget','return']].head(10))\n",
    "df_movies[['revenue', 'budget','return']].tail(10)"
   ]
  },
  {
   "cell_type": "markdown",
   "metadata": {},
   "source": [
    "### 1.1.1.6) Requerimiento del Proyecto, Nro. 6"
   ]
  },
  {
   "cell_type": "markdown",
   "metadata": {},
   "source": [
    "+ Eliminar las siguientes 6 columnas que no serán utilizadas, **`video`**,**`imdb_id`**,**`adult`**,**`original_title`**,**`poster_path`** y **`homepage`**."
   ]
  },
  {
   "cell_type": "code",
   "execution_count": 391,
   "metadata": {},
   "outputs": [
    {
     "name": "stdout",
     "output_type": "stream",
     "text": [
      "Total de Columnas= 31\n",
      "Nro de Columnas a eliminar el el Requerimienti Nro.6 = 6 \n",
      "Columnas Restantes = 25\n"
     ]
    }
   ],
   "source": [
    "### Total de Columnas\n",
    "print(\"Total de Columnas=\",df_movies.columns.value_counts().sum())\n",
    "\n",
    "### Cantidad de columnas a eliminar por el Requeriiento Nro.6\n",
    "print(\"Nro de Columnas a eliminar el el Requerimienti Nro.6 = 6 \")\n",
    "\n",
    "### Se procede a eliminar las 6 columnas que no serán utilizadas:\n",
    "df_movies.drop(columns=['video', 'imdb_id','adult', 'original_title', 'poster_path', 'homepage'], inplace=True)\n",
    "\n",
    "### Columnas Restantes:\n",
    "print(\"Columnas Restantes =\",df_movies.columns.value_counts().sum())"
   ]
  },
  {
   "cell_type": "code",
   "execution_count": 392,
   "metadata": {},
   "outputs": [
    {
     "name": "stdout",
     "output_type": "stream",
     "text": [
      "Columnas del DataSets de Movies:\n",
      "\n",
      " Index(['belongs_to_collection', 'budget', 'genres', 'id', 'original_language',\n",
      "       'overview', 'popularity', 'production_companies',\n",
      "       'production_countries', 'release_date', 'revenue', 'runtime',\n",
      "       'spoken_languages', 'status', 'tagline', 'title', 'vote_average',\n",
      "       'vote_count', 'Franquicia', 'Generos', 'Productores', 'Paises',\n",
      "       'IdiomasH', 'Anio', 'return'],\n",
      "      dtype='object') \n",
      "\n",
      "Dimensiones del DataSets de Movies:  (45376, 25) \n",
      "\n"
     ]
    }
   ],
   "source": [
    "### Información de Columnas y Filas del DataSets\n",
    "print(\"Columnas del DataSets de Movies:\\n\\n\",df_movies.columns,\"\\n\")\n",
    "print(\"Dimensiones del DataSets de Movies: \",df_movies.shape,\"\\n\")"
   ]
  },
  {
   "cell_type": "code",
   "execution_count": 393,
   "metadata": {},
   "outputs": [
    {
     "name": "stdout",
     "output_type": "stream",
     "text": [
      "<class 'pandas.core.frame.DataFrame'>\n",
      "Index: 45376 entries, 0 to 45465\n",
      "Data columns (total 25 columns):\n",
      " #   Column                 Non-Null Count  Dtype         \n",
      "---  ------                 --------------  -----         \n",
      " 0   belongs_to_collection  4488 non-null   object        \n",
      " 1   budget                 45376 non-null  float64       \n",
      " 2   genres                 45376 non-null  object        \n",
      " 3   id                     45376 non-null  object        \n",
      " 4   original_language      45365 non-null  object        \n",
      " 5   overview               44435 non-null  object        \n",
      " 6   popularity             45376 non-null  object        \n",
      " 7   production_companies   45376 non-null  object        \n",
      " 8   production_countries   45376 non-null  object        \n",
      " 9   release_date           45376 non-null  datetime64[ns]\n",
      " 10  revenue                45376 non-null  float64       \n",
      " 11  runtime                45130 non-null  float64       \n",
      " 12  spoken_languages       45376 non-null  object        \n",
      " 13  status                 45296 non-null  object        \n",
      " 14  tagline                20398 non-null  object        \n",
      " 15  title                  45376 non-null  object        \n",
      " 16  vote_average           45376 non-null  float64       \n",
      " 17  vote_count             45376 non-null  float64       \n",
      " 18  Franquicia             45376 non-null  object        \n",
      " 19  Generos                45376 non-null  object        \n",
      " 20  Productores            45376 non-null  object        \n",
      " 21  Paises                 45376 non-null  object        \n",
      " 22  IdiomasH               45376 non-null  object        \n",
      " 23  Anio                   45376 non-null  int32         \n",
      " 24  return                 45376 non-null  float64       \n",
      "dtypes: datetime64[ns](1), float64(6), int32(1), object(17)\n",
      "memory usage: 8.8+ MB\n",
      "None\n"
     ]
    }
   ],
   "source": [
    "### Validando Tipos de Columnas\n",
    "print(df_movies.info())"
   ]
  },
  {
   "cell_type": "code",
   "execution_count": 394,
   "metadata": {},
   "outputs": [
    {
     "data": {
      "text/plain": [
       "belongs_to_collection    40888\n",
       "budget                       0\n",
       "genres                       0\n",
       "id                           0\n",
       "original_language           11\n",
       "overview                   941\n",
       "popularity                   0\n",
       "production_companies         0\n",
       "production_countries         0\n",
       "release_date                 0\n",
       "revenue                      0\n",
       "runtime                    246\n",
       "spoken_languages             0\n",
       "status                      80\n",
       "tagline                  24978\n",
       "title                        0\n",
       "vote_average                 0\n",
       "vote_count                   0\n",
       "Franquicia                   0\n",
       "Generos                      0\n",
       "Productores                  0\n",
       "Paises                       0\n",
       "IdiomasH                     0\n",
       "Anio                         0\n",
       "return                       0\n",
       "dtype: int64"
      ]
     },
     "execution_count": 394,
     "metadata": {},
     "output_type": "execute_result"
    }
   ],
   "source": [
    "### Visualizando Valores Nulos\n",
    "df_movies.isna().sum()"
   ]
  },
  {
   "cell_type": "markdown",
   "metadata": {},
   "source": [
    "### Fin de Requerimientos iniciales del Proyecto"
   ]
  },
  {
   "cell_type": "markdown",
   "metadata": {},
   "source": [
    "### "
   ]
  },
  {
   "cell_type": "markdown",
   "metadata": {},
   "source": [
    "## 1.2) Revision inicial de los datos de \"df_credits\""
   ]
  },
  {
   "cell_type": "code",
   "execution_count": 395,
   "metadata": {},
   "outputs": [
    {
     "name": "stdout",
     "output_type": "stream",
     "text": [
      "Columnas del DataSets de Movies:\n",
      "\n",
      " Index(['cast', 'crew', 'id'], dtype='object') \n",
      "\n",
      "Dimensiones del DataSets de Movies:  (45476, 3) \n",
      "\n"
     ]
    }
   ],
   "source": [
    "### Información de Columnas y Filas del DataSets\n",
    "print(\"Columnas del DataSets de Movies:\\n\\n\",df_credits.columns,\"\\n\")\n",
    "print(\"Dimensiones del DataSets de Movies: \",df_credits.shape,\"\\n\")"
   ]
  },
  {
   "cell_type": "code",
   "execution_count": 396,
   "metadata": {},
   "outputs": [
    {
     "data": {
      "text/html": [
       "<div>\n",
       "<style scoped>\n",
       "    .dataframe tbody tr th:only-of-type {\n",
       "        vertical-align: middle;\n",
       "    }\n",
       "\n",
       "    .dataframe tbody tr th {\n",
       "        vertical-align: top;\n",
       "    }\n",
       "\n",
       "    .dataframe thead th {\n",
       "        text-align: right;\n",
       "    }\n",
       "</style>\n",
       "<table border=\"1\" class=\"dataframe\">\n",
       "  <thead>\n",
       "    <tr style=\"text-align: right;\">\n",
       "      <th></th>\n",
       "      <th>cast</th>\n",
       "      <th>crew</th>\n",
       "      <th>id</th>\n",
       "    </tr>\n",
       "  </thead>\n",
       "  <tbody>\n",
       "    <tr>\n",
       "      <th>0</th>\n",
       "      <td>[{'cast_id': 14, 'character': 'Woody (voice)',...</td>\n",
       "      <td>[{'credit_id': '52fe4284c3a36847f8024f49', 'de...</td>\n",
       "      <td>862</td>\n",
       "    </tr>\n",
       "    <tr>\n",
       "      <th>1</th>\n",
       "      <td>[{'cast_id': 1, 'character': 'Alan Parrish', '...</td>\n",
       "      <td>[{'credit_id': '52fe44bfc3a36847f80a7cd1', 'de...</td>\n",
       "      <td>8844</td>\n",
       "    </tr>\n",
       "  </tbody>\n",
       "</table>\n",
       "</div>"
      ],
      "text/plain": [
       "                                                cast  \\\n",
       "0  [{'cast_id': 14, 'character': 'Woody (voice)',...   \n",
       "1  [{'cast_id': 1, 'character': 'Alan Parrish', '...   \n",
       "\n",
       "                                                crew    id  \n",
       "0  [{'credit_id': '52fe4284c3a36847f8024f49', 'de...   862  \n",
       "1  [{'credit_id': '52fe44bfc3a36847f80a7cd1', 'de...  8844  "
      ]
     },
     "execution_count": 396,
     "metadata": {},
     "output_type": "execute_result"
    }
   ],
   "source": [
    "### Visualizando los datos\n",
    "df_credits.head(2)\n"
   ]
  },
  {
   "cell_type": "markdown",
   "metadata": {},
   "source": [
    "### En el  dataset \"df_credits\" se requiere desanidar sus dos columnas y <Br>filtrar por los atributos relevantes para el proyecto."
   ]
  },
  {
   "cell_type": "markdown",
   "metadata": {},
   "source": [
    "### 1.2.1) Visualizando la primera columna: ***`cast`***"
   ]
  },
  {
   "cell_type": "markdown",
   "metadata": {},
   "source": [
    "### Columna de Reparto de la Pelicula (cast)"
   ]
  },
  {
   "cell_type": "markdown",
   "metadata": {},
   "source": [
    "Esta columna cast describe información sobre el reparto de una película. <Br>\n",
    "Cada registro en el DataFrame representa un miembro del reparto de la película y contiene la siguiente información:\n",
    "\n",
    "+ \"cast_id\": El ID del reparto al que pertenece el actor o actriz.\n",
    "+ \"character\": El personaje que el actor o actriz interpreta en la película.\n",
    "+ \"credit_id\": El ID del crédito en la base de datos de la película.\n",
    "+ \"gender\": El género del actor o actriz (1 para mujeres, 2 para hombres).\n",
    "+ \"id\": El ID del actor o actriz en la base de datos de la película.\n",
    "+ \"name\": El nombre del actor o actriz. \n",
    "+ \"order\": El orden en el que aparece el actor o actriz en los créditos de la película.\n",
    "+ \"profile_path\": La ruta de acceso al perfil del actor o actriz en la base de datos de la película. <Br>"
   ]
  },
  {
   "cell_type": "code",
   "execution_count": 397,
   "metadata": {},
   "outputs": [
    {
     "name": "stdout",
     "output_type": "stream",
     "text": [
      "1) Visualizando los datos horizontalmente:\n",
      " =========================================\n",
      "[{'cast_id': 1, 'character': 'Alan Parrish', 'credit_id': '52fe44bfc3a36847f80a7c73', 'gender': 2, 'id': 2157, 'name': 'Robin Williams', 'order': 0, 'profile_path': '/sojtJyIV3lkUeThD7A2oHNm8183.jpg'}, {'cast_id': 8, 'character': 'Samuel Alan Parrish / Van Pelt', 'credit_id': '52fe44bfc3a36847f80a7c99', 'gender': 2, 'id': 8537, 'name': 'Jonathan Hyde', 'order': 1, 'profile_path': '/7il5D76vx6QVRVlpVvBPEC40MBi.jpg'}, {'cast_id': 2, 'character': 'Judy Sheperd', 'credit_id': '52fe44bfc3a36847f80a7c77', 'gender': 1, 'id': 205, 'name': 'Kirsten Dunst', 'order': 2, 'profile_path': '/wBXvh6PJd0IUVNpvatPC1kzuHtm.jpg'}, {'cast_id': 24, 'character': 'Peter Shepherd', 'credit_id': '52fe44c0c3a36847f80a7ce7', 'gender': 0, 'id': 145151, 'name': 'Bradley Pierce', 'order': 3, 'profile_path': '/j6iW0vVA23GQniAPSYI6mi4hiEW.jpg'}, {'cast_id': 10, 'character': 'Sarah Whittle', 'credit_id': '52fe44bfc3a36847f80a7c9d', 'gender': 1, 'id': 5149, 'name': 'Bonnie Hunt', 'order': 4, 'profile_path': '/7spiVQwmr8siw5QCcvvdRG3c7Lf.jpg'}, {'cast_id': 25, 'character': 'Nora Shepherd', 'credit_id': '52fe44c0c3a36847f80a7ceb', 'gender': 1, 'id': 10739, 'name': 'Bebe Neuwirth', 'order': 5, 'profile_path': '/xm58rpMRVDHS0IGttw1pTlqGwkN.jpg'}, {'cast_id': 26, 'character': 'Carl Bentley', 'credit_id': '52fe44c0c3a36847f80a7cef', 'gender': 2, 'id': 58563, 'name': 'David Alan Grier', 'order': 6, 'profile_path': '/5tkt3qRZTco4sz604aTIarQ0m8W.jpg'}, {'cast_id': 11, 'character': 'Carol Anne Parrish', 'credit_id': '52fe44bfc3a36847f80a7ca1', 'gender': 1, 'id': 1276, 'name': 'Patricia Clarkson', 'order': 7, 'profile_path': '/10ZSyaUqzUlKTd60HmeiGhlytZG.jpg'}, {'cast_id': 14, 'character': 'Alan Parrish (young)', 'credit_id': '52fe44bfc3a36847f80a7cad', 'gender': 0, 'id': 46530, 'name': 'Adam Hann-Byrd', 'order': 8, 'profile_path': '/hEoqDqtMO91hYWD5iDrDesnLDlt.jpg'}, {'cast_id': 13, 'character': 'Sarah Whittle (young)', 'credit_id': '52fe44bfc3a36847f80a7ca9', 'gender': 1, 'id': 56523, 'name': 'Laura Bell Bundy', 'order': 9, 'profile_path': '/8tAVDBRoZPjKfCbBDyh4iK9JNEp.jpg'}, {'cast_id': 31, 'character': 'Exterminator', 'credit_id': '52fe44c0c3a36847f80a7cff', 'gender': 2, 'id': 51551, 'name': 'James Handy', 'order': 10, 'profile_path': '/vm0WQmuP8jEGgFTd3VCcJe7zpUi.jpg'}, {'cast_id': 12, 'character': 'Mrs. Thomas the Realtor', 'credit_id': '52fe44bfc3a36847f80a7ca5', 'gender': 1, 'id': 56522, 'name': 'Gillian Barber', 'order': 11, 'profile_path': '/qoqPX15J5jh6Sy0A9JvvRJIuw64.jpg'}, {'cast_id': 28, 'character': 'Benjamin', 'credit_id': '52fe44c0c3a36847f80a7cf3', 'gender': 2, 'id': 1000304, 'name': 'Brandon Obray', 'order': 12, 'profile_path': None}, {'cast_id': 29, 'character': 'Caleb', 'credit_id': '52fe44c0c3a36847f80a7cf7', 'gender': 0, 'id': 188949, 'name': 'Cyrus Thiedeke', 'order': 13, 'profile_path': None}, {'cast_id': 30, 'character': 'Billy Jessup', 'credit_id': '52fe44c0c3a36847f80a7cfb', 'gender': 0, 'id': 1076551, 'name': 'Gary Joseph Thorup', 'order': 14, 'profile_path': None}, {'cast_id': 32, 'character': 'Cop', 'credit_id': '5588053fc3a36838530063f5', 'gender': 0, 'id': 1480246, 'name': 'Leonard Zola', 'order': 15, 'profile_path': None}, {'cast_id': 33, 'character': 'Bum', 'credit_id': '55935687925141645a002097', 'gender': 2, 'id': 25024, 'name': 'Lloyd Berry', 'order': 16, 'profile_path': '/s7SVCOtvcuQ9wRQPZfUdahb5x88.jpg'}, {'cast_id': 34, 'character': 'Jim Shepherd', 'credit_id': '559356d09251415df8002cb7', 'gender': 2, 'id': 27110, 'name': 'Malcolm Stewart', 'order': 17, 'profile_path': '/l2vgzkLR7GRr8ugjZCILA0OiliI.jpg'}, {'cast_id': 35, 'character': 'Martha Shepherd', 'credit_id': '55935730925141645a0020ad', 'gender': 0, 'id': 53715, 'name': 'Annabel Kershaw', 'order': 18, 'profile_path': '/1VqbvAohBwFhETZtDe76JXQcxKm.jpg'}, {'cast_id': 36, 'character': 'Gun Salesman', 'credit_id': '5593576992514167fd000610', 'gender': 2, 'id': 1379424, 'name': 'Darryl Henriques', 'order': 19, 'profile_path': '/7QMHooY9ewNQlE24WKAOdwW0evU.jpg'}, {'cast_id': 37, 'character': 'Paramedic', 'credit_id': '559357ae92514152de002f42', 'gender': 0, 'id': 1235504, 'name': 'Robyn Driscoll', 'order': 20, 'profile_path': None}, {'cast_id': 50, 'character': 'Paramedic', 'credit_id': '5657803b925141018f00a5dc', 'gender': 2, 'id': 25389, 'name': 'Peter Bryant', 'order': 21, 'profile_path': '/fkcx9Tnp25UC5HlI2eW3nGvumsZ.jpg'}, {'cast_id': 39, 'character': 'Girl', 'credit_id': '559358e292514152de002f63', 'gender': 0, 'id': 1483449, 'name': 'Sarah Gilson', 'order': 22, 'profile_path': None}, {'cast_id': 40, 'character': 'Girl', 'credit_id': '5593590d92514152db002df3', 'gender': 0, 'id': 1483450, 'name': 'Florica Vlad', 'order': 23, 'profile_path': None}, {'cast_id': 41, 'character': 'Baker', 'credit_id': '55935946c3a36869d1001b4d', 'gender': 0, 'id': 1483451, 'name': 'June Lion', 'order': 24, 'profile_path': None}, {'cast_id': 42, 'character': 'Pianist', 'credit_id': '5593597692514167fd000644', 'gender': 0, 'id': 1483452, 'name': 'Brenda Lockmuller', 'order': 25, 'profile_path': None}] \n",
      "\n",
      "2) Visualizando los datos verticalmente:\n",
      " =======================================\n",
      "cast_id: 1\n",
      "character: Alan Parrish\n",
      "credit_id: 52fe44bfc3a36847f80a7c73\n",
      "gender: 2\n",
      "id: 2157\n",
      "name: Robin Williams\n",
      "order: 0\n",
      "profile_path: /sojtJyIV3lkUeThD7A2oHNm8183.jpg\n",
      "-------------------------------------------------------\n",
      "cast_id: 8\n",
      "character: Samuel Alan Parrish / Van Pelt\n",
      "credit_id: 52fe44bfc3a36847f80a7c99\n",
      "gender: 2\n",
      "id: 8537\n",
      "name: Jonathan Hyde\n",
      "order: 1\n",
      "profile_path: /7il5D76vx6QVRVlpVvBPEC40MBi.jpg\n",
      "-------------------------------------------------------\n",
      "cast_id: 2\n",
      "character: Judy Sheperd\n",
      "credit_id: 52fe44bfc3a36847f80a7c77\n",
      "gender: 1\n",
      "id: 205\n",
      "name: Kirsten Dunst\n",
      "order: 2\n",
      "profile_path: /wBXvh6PJd0IUVNpvatPC1kzuHtm.jpg\n",
      "-------------------------------------------------------\n",
      "cast_id: 24\n",
      "character: Peter Shepherd\n",
      "credit_id: 52fe44c0c3a36847f80a7ce7\n",
      "gender: 0\n",
      "id: 145151\n",
      "name: Bradley Pierce\n",
      "order: 3\n",
      "profile_path: /j6iW0vVA23GQniAPSYI6mi4hiEW.jpg\n",
      "-------------------------------------------------------\n",
      "cast_id: 10\n",
      "character: Sarah Whittle\n",
      "credit_id: 52fe44bfc3a36847f80a7c9d\n",
      "gender: 1\n",
      "id: 5149\n",
      "name: Bonnie Hunt\n",
      "order: 4\n",
      "profile_path: /7spiVQwmr8siw5QCcvvdRG3c7Lf.jpg\n",
      "-------------------------------------------------------\n",
      "cast_id: 25\n",
      "character: Nora Shepherd\n",
      "credit_id: 52fe44c0c3a36847f80a7ceb\n",
      "gender: 1\n",
      "id: 10739\n",
      "name: Bebe Neuwirth\n",
      "order: 5\n",
      "profile_path: /xm58rpMRVDHS0IGttw1pTlqGwkN.jpg\n",
      "-------------------------------------------------------\n",
      "cast_id: 26\n",
      "character: Carl Bentley\n",
      "credit_id: 52fe44c0c3a36847f80a7cef\n",
      "gender: 2\n",
      "id: 58563\n",
      "name: David Alan Grier\n",
      "order: 6\n",
      "profile_path: /5tkt3qRZTco4sz604aTIarQ0m8W.jpg\n",
      "-------------------------------------------------------\n",
      "cast_id: 11\n",
      "character: Carol Anne Parrish\n",
      "credit_id: 52fe44bfc3a36847f80a7ca1\n",
      "gender: 1\n",
      "id: 1276\n",
      "name: Patricia Clarkson\n",
      "order: 7\n",
      "profile_path: /10ZSyaUqzUlKTd60HmeiGhlytZG.jpg\n",
      "-------------------------------------------------------\n",
      "cast_id: 14\n",
      "character: Alan Parrish (young)\n",
      "credit_id: 52fe44bfc3a36847f80a7cad\n",
      "gender: 0\n",
      "id: 46530\n",
      "name: Adam Hann-Byrd\n",
      "order: 8\n",
      "profile_path: /hEoqDqtMO91hYWD5iDrDesnLDlt.jpg\n",
      "-------------------------------------------------------\n",
      "cast_id: 13\n",
      "character: Sarah Whittle (young)\n",
      "credit_id: 52fe44bfc3a36847f80a7ca9\n",
      "gender: 1\n",
      "id: 56523\n",
      "name: Laura Bell Bundy\n",
      "order: 9\n",
      "profile_path: /8tAVDBRoZPjKfCbBDyh4iK9JNEp.jpg\n",
      "-------------------------------------------------------\n",
      "cast_id: 31\n",
      "character: Exterminator\n",
      "credit_id: 52fe44c0c3a36847f80a7cff\n",
      "gender: 2\n",
      "id: 51551\n",
      "name: James Handy\n",
      "order: 10\n",
      "profile_path: /vm0WQmuP8jEGgFTd3VCcJe7zpUi.jpg\n",
      "-------------------------------------------------------\n",
      "cast_id: 12\n",
      "character: Mrs. Thomas the Realtor\n",
      "credit_id: 52fe44bfc3a36847f80a7ca5\n",
      "gender: 1\n",
      "id: 56522\n",
      "name: Gillian Barber\n",
      "order: 11\n",
      "profile_path: /qoqPX15J5jh6Sy0A9JvvRJIuw64.jpg\n",
      "-------------------------------------------------------\n",
      "cast_id: 28\n",
      "character: Benjamin\n",
      "credit_id: 52fe44c0c3a36847f80a7cf3\n",
      "gender: 2\n",
      "id: 1000304\n",
      "name: Brandon Obray\n",
      "order: 12\n",
      "profile_path: None\n",
      "-------------------------------------------------------\n",
      "cast_id: 29\n",
      "character: Caleb\n",
      "credit_id: 52fe44c0c3a36847f80a7cf7\n",
      "gender: 0\n",
      "id: 188949\n",
      "name: Cyrus Thiedeke\n",
      "order: 13\n",
      "profile_path: None\n",
      "-------------------------------------------------------\n",
      "cast_id: 30\n",
      "character: Billy Jessup\n",
      "credit_id: 52fe44c0c3a36847f80a7cfb\n",
      "gender: 0\n",
      "id: 1076551\n",
      "name: Gary Joseph Thorup\n",
      "order: 14\n",
      "profile_path: None\n",
      "-------------------------------------------------------\n",
      "cast_id: 32\n",
      "character: Cop\n",
      "credit_id: 5588053fc3a36838530063f5\n",
      "gender: 0\n",
      "id: 1480246\n",
      "name: Leonard Zola\n",
      "order: 15\n",
      "profile_path: None\n",
      "-------------------------------------------------------\n",
      "cast_id: 33\n",
      "character: Bum\n",
      "credit_id: 55935687925141645a002097\n",
      "gender: 2\n",
      "id: 25024\n",
      "name: Lloyd Berry\n",
      "order: 16\n",
      "profile_path: /s7SVCOtvcuQ9wRQPZfUdahb5x88.jpg\n",
      "-------------------------------------------------------\n",
      "cast_id: 34\n",
      "character: Jim Shepherd\n",
      "credit_id: 559356d09251415df8002cb7\n",
      "gender: 2\n",
      "id: 27110\n",
      "name: Malcolm Stewart\n",
      "order: 17\n",
      "profile_path: /l2vgzkLR7GRr8ugjZCILA0OiliI.jpg\n",
      "-------------------------------------------------------\n",
      "cast_id: 35\n",
      "character: Martha Shepherd\n",
      "credit_id: 55935730925141645a0020ad\n",
      "gender: 0\n",
      "id: 53715\n",
      "name: Annabel Kershaw\n",
      "order: 18\n",
      "profile_path: /1VqbvAohBwFhETZtDe76JXQcxKm.jpg\n",
      "-------------------------------------------------------\n",
      "cast_id: 36\n",
      "character: Gun Salesman\n",
      "credit_id: 5593576992514167fd000610\n",
      "gender: 2\n",
      "id: 1379424\n",
      "name: Darryl Henriques\n",
      "order: 19\n",
      "profile_path: /7QMHooY9ewNQlE24WKAOdwW0evU.jpg\n",
      "-------------------------------------------------------\n",
      "cast_id: 37\n",
      "character: Paramedic\n",
      "credit_id: 559357ae92514152de002f42\n",
      "gender: 0\n",
      "id: 1235504\n",
      "name: Robyn Driscoll\n",
      "order: 20\n",
      "profile_path: None\n",
      "-------------------------------------------------------\n",
      "cast_id: 50\n",
      "character: Paramedic\n",
      "credit_id: 5657803b925141018f00a5dc\n",
      "gender: 2\n",
      "id: 25389\n",
      "name: Peter Bryant\n",
      "order: 21\n",
      "profile_path: /fkcx9Tnp25UC5HlI2eW3nGvumsZ.jpg\n",
      "-------------------------------------------------------\n",
      "cast_id: 39\n",
      "character: Girl\n",
      "credit_id: 559358e292514152de002f63\n",
      "gender: 0\n",
      "id: 1483449\n",
      "name: Sarah Gilson\n",
      "order: 22\n",
      "profile_path: None\n",
      "-------------------------------------------------------\n",
      "cast_id: 40\n",
      "character: Girl\n",
      "credit_id: 5593590d92514152db002df3\n",
      "gender: 0\n",
      "id: 1483450\n",
      "name: Florica Vlad\n",
      "order: 23\n",
      "profile_path: None\n",
      "-------------------------------------------------------\n",
      "cast_id: 41\n",
      "character: Baker\n",
      "credit_id: 55935946c3a36869d1001b4d\n",
      "gender: 0\n",
      "id: 1483451\n",
      "name: June Lion\n",
      "order: 24\n",
      "profile_path: None\n",
      "-------------------------------------------------------\n",
      "cast_id: 42\n",
      "character: Pianist\n",
      "credit_id: 5593597692514167fd000644\n",
      "gender: 0\n",
      "id: 1483452\n",
      "name: Brenda Lockmuller\n",
      "order: 25\n",
      "profile_path: None\n",
      "-------------------------------------------------------\n",
      "======================================================================================\n",
      "La columna 'cast', se refiere al Equipo de Reparto de la Película (Cast)\n",
      "======================================================================================\n"
     ]
    }
   ],
   "source": [
    "### Visualizando la lista de diccionario de la columna \"cast\" de un determinado registro. \n",
    "fila_indice = 1  # Indice del registro o fila que se quiere visualizar.\n",
    "Columna = 'cast'\n",
    "DataSets = 'df_credits'\n",
    "\n",
    "Cadena = df_credits.at[fila_indice, Columna]\n",
    "\n",
    "print(\"1) Visualizando los datos horizontalmente:\\n\", \"=\"*41)\n",
    "print(Cadena,\"\\n\")\n",
    "\n",
    "print(\"2) Visualizando los datos verticalmente:\\n\", \"=\"*39)\n",
    "\n",
    "lista_str = df_credits.at[fila_indice, Columna]\n",
    "lista = ast.literal_eval(lista_str)\n",
    "N = len(lista) # Cantidad de diccionarios a mostrar de la lista\n",
    "for diccionario in lista[:N]:\n",
    "    for key, value in diccionario.items():\n",
    "        print(f\"{key}: {value}\")\n",
    "    print(\"-------------------------------------------------------\")\n",
    "    \n",
    "print(\"=\"*86)    \n",
    "print(f\"La columna '{Columna}', se refiere al Equipo de Reparto de la Película (Cast)\")\n",
    "print(\"=\"*86)"
   ]
  },
  {
   "cell_type": "markdown",
   "metadata": {},
   "source": [
    "Importante detallar en la salida anterior, que el atributo order toma valores naturales positivos incluyendo al cero ( 0,1,2,3); donde el valor 0 (Cero) corresponde al Protagonista, el valor 1 corresponde al Actor Principal o Primer Actor, el valor 2 corresponde al Actor Secundario y asi sucesivamente."
   ]
  },
  {
   "cell_type": "markdown",
   "metadata": {},
   "source": [
    "### 1.2.2) Visualizando la primera columna: ***`crew`***"
   ]
  },
  {
   "cell_type": "markdown",
   "metadata": {},
   "source": [
    "### Columna de Producción de la Pelicula (crew)"
   ]
  },
  {
   "cell_type": "markdown",
   "metadata": {},
   "source": [
    "La columna \"crew\" contiene información sobre el equipo de producción de una película. <Br>\n",
    "\n",
    "Cada registro en el DataFrame contiene la siguiente información:\n",
    "\n",
    "+   \"credit_id\": El ID del crédito en la base de datos de la película.\n",
    "+   \"department\": El departamento en el que trabaja el miembro del equipo de producción (por ejemplo, dirección, guion, diseño de producción, fotografía, etc.).\n",
    "+    \"gender\": El género del miembro del equipo de producción (1 para mujeres, 2 para hombres).\n",
    "+   \"id\": El ID del miembro del equipo de producción en la base de datos de la película.\n",
    "+   \"job\": El trabajo que realiza el miembro del equipo de producción (por ejemplo, director, guionista, diseñador de producción, director de fotografía, etc.).\n",
    "+   \"name\": El nombre del miembro del equipo de producción.\n",
    "+   \"profile_path\": La ruta de acceso al perfil del miembro del equipo de producción en la base de datos de la película."
   ]
  },
  {
   "cell_type": "code",
   "execution_count": 398,
   "metadata": {},
   "outputs": [
    {
     "name": "stdout",
     "output_type": "stream",
     "text": [
      "1) Visualizando los datos horizontalmente:\n",
      " =========================================\n",
      "[{'credit_id': '52fe4284c3a36847f8024f49', 'department': 'Directing', 'gender': 2, 'id': 7879, 'job': 'Director', 'name': 'John Lasseter', 'profile_path': '/7EdqiNbr4FRjIhKHyPPdFfEEEFG.jpg'}, {'credit_id': '52fe4284c3a36847f8024f4f', 'department': 'Writing', 'gender': 2, 'id': 12891, 'job': 'Screenplay', 'name': 'Joss Whedon', 'profile_path': '/dTiVsuaTVTeGmvkhcyJvKp2A5kr.jpg'}, {'credit_id': '52fe4284c3a36847f8024f55', 'department': 'Writing', 'gender': 2, 'id': 7, 'job': 'Screenplay', 'name': 'Andrew Stanton', 'profile_path': '/pvQWsu0qc8JFQhMVJkTHuexUAa1.jpg'}, {'credit_id': '52fe4284c3a36847f8024f5b', 'department': 'Writing', 'gender': 2, 'id': 12892, 'job': 'Screenplay', 'name': 'Joel Cohen', 'profile_path': '/dAubAiZcvKFbboWlj7oXOkZnTSu.jpg'}, {'credit_id': '52fe4284c3a36847f8024f61', 'department': 'Writing', 'gender': 0, 'id': 12893, 'job': 'Screenplay', 'name': 'Alec Sokolow', 'profile_path': '/v79vlRYi94BZUQnkkyznbGUZLjT.jpg'}, {'credit_id': '52fe4284c3a36847f8024f67', 'department': 'Production', 'gender': 1, 'id': 12894, 'job': 'Producer', 'name': 'Bonnie Arnold', 'profile_path': None}, {'credit_id': '52fe4284c3a36847f8024f6d', 'department': 'Production', 'gender': 0, 'id': 12895, 'job': 'Executive Producer', 'name': 'Ed Catmull', 'profile_path': None}, {'credit_id': '52fe4284c3a36847f8024f73', 'department': 'Production', 'gender': 2, 'id': 12896, 'job': 'Producer', 'name': 'Ralph Guggenheim', 'profile_path': None}, {'credit_id': '52fe4284c3a36847f8024f79', 'department': 'Production', 'gender': 2, 'id': 12897, 'job': 'Executive Producer', 'name': 'Steve Jobs', 'profile_path': '/mOMP3SwD5qWQSR0ldCIByd3guTV.jpg'}, {'credit_id': '52fe4284c3a36847f8024f8b', 'department': 'Editing', 'gender': 2, 'id': 8, 'job': 'Editor', 'name': 'Lee Unkrich', 'profile_path': '/bdTCCXjgOV3YyaNmLGYGOxFQMOc.jpg'}, {'credit_id': '52fe4284c3a36847f8024f91', 'department': 'Art', 'gender': 2, 'id': 7883, 'job': 'Art Direction', 'name': 'Ralph Eggleston', 'profile_path': '/uUfcGKDsKO1aROMpXRs67Hn6RvR.jpg'}, {'credit_id': '598331bf925141421201044b', 'department': 'Editing', 'gender': 2, 'id': 1168870, 'job': 'Editor', 'name': 'Robert Gordon', 'profile_path': None}, {'credit_id': '5892168cc3a36809660095f9', 'department': 'Sound', 'gender': 0, 'id': 1552883, 'job': 'Foley Editor', 'name': 'Mary Helen Leasman', 'profile_path': None}, {'credit_id': '5531824d9251415289000945', 'department': 'Visual Effects', 'gender': 0, 'id': 1453514, 'job': 'Animation', 'name': 'Kim Blanchette', 'profile_path': None}, {'credit_id': '589215969251412dcb009bf6', 'department': 'Sound', 'gender': 0, 'id': 1414182, 'job': 'ADR Editor', 'name': 'Marilyn McCoppen', 'profile_path': None}, {'credit_id': '589217099251412dc500a018', 'department': 'Sound', 'gender': 2, 'id': 7885, 'job': 'Orchestrator', 'name': 'Randy Newman', 'profile_path': '/w0JzfoiM25nrnxYOzosPHRq6mlE.jpg'}, {'credit_id': '5693e6b29251417b0e0000e3', 'department': 'Editing', 'gender': 0, 'id': 1429549, 'job': 'Color Timer', 'name': 'Dale E. Grahn', 'profile_path': None}, {'credit_id': '572e2522c3a36869e6001a9c', 'department': 'Visual Effects', 'gender': 0, 'id': 7949, 'job': 'CG Painter', 'name': 'Robin Cooper', 'profile_path': None}, {'credit_id': '574f12309251415ca1000012', 'department': 'Writing', 'gender': 2, 'id': 7879, 'job': 'Original Story', 'name': 'John Lasseter', 'profile_path': '/7EdqiNbr4FRjIhKHyPPdFfEEEFG.jpg'}, {'credit_id': '574f1240c3a3682e7300001c', 'department': 'Writing', 'gender': 2, 'id': 12890, 'job': 'Original Story', 'name': 'Pete Docter', 'profile_path': '/r6ngPgnReA3RHmKjmSoVsc6Awjp.jpg'}, {'credit_id': '574f12519251415c92000015', 'department': 'Writing', 'gender': 0, 'id': 7911, 'job': 'Original Story', 'name': 'Joe Ranft', 'profile_path': '/f1BoWC2JbCcfP1e5hKfGsxkHzVU.jpg'}, {'credit_id': '574f12cec3a3682e82000022', 'department': 'Crew', 'gender': 0, 'id': 1629419, 'job': 'Post Production Supervisor', 'name': 'Patsy Bouge', 'profile_path': None}, {'credit_id': '574f14f19251415ca1000082', 'department': 'Art', 'gender': 0, 'id': 7961, 'job': 'Sculptor', 'name': 'Norm DeCarlo', 'profile_path': None}, {'credit_id': '5751ae4bc3a3683772002b7f', 'department': 'Visual Effects', 'gender': 2, 'id': 12905, 'job': 'Animation Director', 'name': 'Ash Brannon', 'profile_path': '/6ueWgPEEBHvS3De2BHYQnYjRTig.jpg'}, {'credit_id': '5891edbe9251412dc5007cd6', 'department': 'Sound', 'gender': 2, 'id': 7885, 'job': 'Music', 'name': 'Randy Newman', 'profile_path': '/w0JzfoiM25nrnxYOzosPHRq6mlE.jpg'}, {'credit_id': '589213d39251412dc8009832', 'department': 'Directing', 'gender': 0, 'id': 1748707, 'job': 'Layout', 'name': 'Roman Figun', 'profile_path': None}, {'credit_id': '5892173dc3a3680968009351', 'department': 'Sound', 'gender': 2, 'id': 4949, 'job': 'Orchestrator', 'name': 'Don Davis', 'profile_path': None}, {'credit_id': '589217cec3a3686b0a0052ba', 'department': 'Sound', 'gender': 0, 'id': 1372885, 'job': 'Music Editor', 'name': 'James Flamberg', 'profile_path': None}, {'credit_id': '58921831c3a3686348004a64', 'department': 'Editing', 'gender': 0, 'id': 1739962, 'job': 'Negative Cutter', 'name': 'Mary Beth Smith', 'profile_path': None}, {'credit_id': '58921838c3a36809700096c0', 'department': 'Editing', 'gender': 0, 'id': 1748513, 'job': 'Negative Cutter', 'name': 'Rick Mackay', 'profile_path': None}, {'credit_id': '589218429251412dd1009d1b', 'department': 'Art', 'gender': 0, 'id': 1458006, 'job': 'Title Designer', 'name': 'Susan Bradley', 'profile_path': None}, {'credit_id': '5891ed99c3a3680966007670', 'department': 'Crew', 'gender': 0, 'id': 1748557, 'job': 'Supervising Technical Director', 'name': 'William Reeves', 'profile_path': None}, {'credit_id': '5891edcec3a3686b0a002eb2', 'department': 'Sound', 'gender': 2, 'id': 7885, 'job': 'Songs', 'name': 'Randy Newman', 'profile_path': '/w0JzfoiM25nrnxYOzosPHRq6mlE.jpg'}, {'credit_id': '5891edf9c3a36809700075e6', 'department': 'Writing', 'gender': 2, 'id': 7, 'job': 'Original Story', 'name': 'Andrew Stanton', 'profile_path': '/pvQWsu0qc8JFQhMVJkTHuexUAa1.jpg'}, {'credit_id': '58920f0b9251412dd7009104', 'department': 'Crew', 'gender': 2, 'id': 12890, 'job': 'Supervising Animator', 'name': 'Pete Docter', 'profile_path': '/r6ngPgnReA3RHmKjmSoVsc6Awjp.jpg'}, {'credit_id': '58920f1fc3a3680977009021', 'department': 'Sound', 'gender': 2, 'id': 2216, 'job': 'Sound Designer', 'name': 'Gary Rydstrom', 'profile_path': '/jZpr1nVfO7lldWI0YtmP1FGw7Rj.jpg'}, {'credit_id': '58920f389251412dd700912d', 'department': 'Production', 'gender': 0, 'id': 12909, 'job': 'Production Supervisor', 'name': 'Karen Robert Jackson', 'profile_path': None}, {'credit_id': '58920fbd9251412dcb00969c', 'department': 'Crew', 'gender': 0, 'id': 953331, 'job': 'Executive Music Producer', 'name': 'Chris Montan', 'profile_path': None}, {'credit_id': '589210069251412dd7009219', 'department': 'Visual Effects', 'gender': 0, 'id': 7893, 'job': 'Animation Director', 'name': 'Rich Quade', 'profile_path': None}, {'credit_id': '589210329251412dcd00943b', 'department': 'Visual Effects', 'gender': 0, 'id': 8025, 'job': 'Animation', 'name': 'Michael Berenstein', 'profile_path': None}, {'credit_id': '5892103bc3a368096a009180', 'department': 'Visual Effects', 'gender': 0, 'id': 78009, 'job': 'Animation', 'name': 'Colin Brady', 'profile_path': None}, {'credit_id': '5892105dc3a3680968008db2', 'department': 'Visual Effects', 'gender': 0, 'id': 1748682, 'job': 'Animation', 'name': 'Davey Crockett Feiten', 'profile_path': None}, {'credit_id': '589210669251412dcd009466', 'department': 'Visual Effects', 'gender': 0, 'id': 1454030, 'job': 'Animation', 'name': 'Angie Glocka', 'profile_path': None}, {'credit_id': '5892107c9251412dd1009613', 'department': 'Visual Effects', 'gender': 0, 'id': 1748683, 'job': 'Animation', 'name': 'Rex Grignon', 'profile_path': None}, {'credit_id': '5892108ac3a3680973008d3f', 'department': 'Visual Effects', 'gender': 0, 'id': 1748684, 'job': 'Animation', 'name': 'Tom K. Gurney', 'profile_path': None}, {'credit_id': '58921093c3a3686348004477', 'department': 'Visual Effects', 'gender': 2, 'id': 8029, 'job': 'Animation', 'name': 'Jimmy Hayward', 'profile_path': '/lTDRpudEY7BDwTefXbXzMlmb0ui.jpg'}, {'credit_id': '5892109b9251412dcd0094b0', 'department': 'Visual Effects', 'gender': 0, 'id': 1426773, 'job': 'Animation', 'name': 'Hal T. Hickel', 'profile_path': None}, {'credit_id': '589210a29251412dc5009a29', 'department': 'Visual Effects', 'gender': 0, 'id': 8035, 'job': 'Animation', 'name': 'Karen Kiser', 'profile_path': None}, {'credit_id': '589210ccc3a3680977009191', 'department': 'Visual Effects', 'gender': 0, 'id': 1748688, 'job': 'Animation', 'name': 'Anthony B. LaMolinara', 'profile_path': None}, {'credit_id': '589210d7c3a3686b0a004c1f', 'department': 'Visual Effects', 'gender': 0, 'id': 587314, 'job': 'Animation', 'name': 'Guionne Leroy', 'profile_path': None}, {'credit_id': '589210e1c3a36809770091a7', 'department': 'Visual Effects', 'gender': 2, 'id': 7918, 'job': 'Animation', 'name': 'Bud Luckey', 'profile_path': '/pcCh7G19FKMNijmPQg1PMH1btic.jpg'}, {'credit_id': '589210ee9251412dc200978a', 'department': 'Visual Effects', 'gender': 0, 'id': 1748689, 'job': 'Animation', 'name': 'Les Major', 'profile_path': None}, {'credit_id': '589210fa9251412dc8009595', 'department': 'Visual Effects', 'gender': 2, 'id': 7892, 'job': 'Animation', 'name': 'Glenn McQueen', 'profile_path': None}, {'credit_id': '589211029251412dc8009598', 'department': 'Visual Effects', 'gender': 0, 'id': 555795, 'job': 'Animation', 'name': 'Mark Oftedal', 'profile_path': None}, {'credit_id': '5892110b9251412dc800959d', 'department': 'Visual Effects', 'gender': 2, 'id': 7882, 'job': 'Animation', 'name': 'Jeff Pidgeon', 'profile_path': '/yLddkg5HcgbJg00cS13GVBnP0HY.jpg'}, {'credit_id': '58921113c3a36863480044e4', 'department': 'Visual Effects', 'gender': 0, 'id': 8017, 'job': 'Animation', 'name': 'Jeff Pratt', 'profile_path': None}, {'credit_id': '5892111c9251412dcb0097e9', 'department': 'Visual Effects', 'gender': 0, 'id': 1184140, 'job': 'Animation', 'name': 'Steve Rabatich', 'profile_path': None}, {'credit_id': '58921123c3a36809700090f6', 'department': 'Visual Effects', 'gender': 0, 'id': 8049, 'job': 'Animation', 'name': 'Roger Rose', 'profile_path': None}, {'credit_id': '5892112b9251412dcb0097fb', 'department': 'Visual Effects', 'gender': 0, 'id': 1509559, 'job': 'Animation', 'name': 'Steve Segal', 'profile_path': None}, {'credit_id': '589211349251412dc80095c3', 'department': 'Visual Effects', 'gender': 0, 'id': 1748691, 'job': 'Animation', 'name': 'Doug Sheppeck', 'profile_path': None}, {'credit_id': '5892113cc3a3680970009106', 'department': 'Visual Effects', 'gender': 0, 'id': 8050, 'job': 'Animation', 'name': 'Alan Sperling', 'profile_path': None}, {'credit_id': '58921148c3a3686b0a004c99', 'department': 'Visual Effects', 'gender': 0, 'id': 8010, 'job': 'Animation', 'name': 'Doug Sweetland', 'profile_path': None}, {'credit_id': '58921150c3a3680966009125', 'department': 'Visual Effects', 'gender': 0, 'id': 8044, 'job': 'Animation', 'name': 'David Tart', 'profile_path': None}, {'credit_id': '589211629251412dc5009b00', 'department': 'Visual Effects', 'gender': 0, 'id': 1454034, 'job': 'Animation', 'name': 'Ken Willard', 'profile_path': None}, {'credit_id': '589211c1c3a3686b0a004d28', 'department': 'Visual Effects', 'gender': 0, 'id': 7887, 'job': 'Visual Effects Supervisor', 'name': 'Thomas Porter', 'profile_path': None}, {'credit_id': '589211d4c3a3680968008ed9', 'department': 'Visual Effects', 'gender': 0, 'id': 1406878, 'job': 'Visual Effects', 'name': 'Mark Thomas Henne', 'profile_path': None}, {'credit_id': '589211f59251412dd4008e65', 'department': 'Visual Effects', 'gender': 0, 'id': 1748698, 'job': 'Visual Effects', 'name': 'Oren Jacob', 'profile_path': None}, {'credit_id': '58921242c3a368096a00939b', 'department': 'Visual Effects', 'gender': 0, 'id': 1748699, 'job': 'Visual Effects', 'name': 'Darwyn Peachey', 'profile_path': None}, {'credit_id': '5892124b9251412dc5009bd2', 'department': 'Visual Effects', 'gender': 0, 'id': 1748701, 'job': 'Visual Effects', 'name': 'Mitch Prater', 'profile_path': None}, {'credit_id': '58921264c3a3686b0a004dbf', 'department': 'Visual Effects', 'gender': 0, 'id': 1748703, 'job': 'Visual Effects', 'name': 'Brian M. Rosen', 'profile_path': None}, {'credit_id': '589212709251412dcd009676', 'department': 'Lighting', 'gender': 1, 'id': 12912, 'job': 'Lighting Supervisor', 'name': 'Sharon Calahan', 'profile_path': None}, {'credit_id': '5892127fc3a3686b0a004de5', 'department': 'Lighting', 'gender': 0, 'id': 7899, 'job': 'Lighting Supervisor', 'name': 'Galyn Susman', 'profile_path': None}, {'credit_id': '589212cdc3a3680970009268', 'department': 'Visual Effects', 'gender': 0, 'id': 12915, 'job': 'CG Painter', 'name': 'William Cone', 'profile_path': None}, {'credit_id': '5892130f9251412dc8009791', 'department': 'Art', 'gender': 0, 'id': 1748705, 'job': 'Sculptor', 'name': 'Shelley Daniels Lekven', 'profile_path': None}, {'credit_id': '5892131c9251412dd4008f4c', 'department': 'Visual Effects', 'gender': 2, 'id': 7889, 'job': 'Character Designer', 'name': 'Bob Pauley', 'profile_path': None}, {'credit_id': '589213249251412dd100987b', 'department': 'Visual Effects', 'gender': 2, 'id': 7918, 'job': 'Character Designer', 'name': 'Bud Luckey', 'profile_path': '/pcCh7G19FKMNijmPQg1PMH1btic.jpg'}, {'credit_id': '5892132b9251412dc80097b1', 'department': 'Visual Effects', 'gender': 2, 'id': 7, 'job': 'Character Designer', 'name': 'Andrew Stanton', 'profile_path': '/pvQWsu0qc8JFQhMVJkTHuexUAa1.jpg'}, {'credit_id': '58921332c3a368634800467b', 'department': 'Visual Effects', 'gender': 0, 'id': 12915, 'job': 'Character Designer', 'name': 'William Cone', 'profile_path': None}, {'credit_id': '5892135f9251412dd4008f90', 'department': 'Visual Effects', 'gender': 0, 'id': 1748706, 'job': 'Character Designer', 'name': 'Steve Johnson', 'profile_path': None}, {'credit_id': '58921384c3a3680973008fd4', 'department': 'Visual Effects', 'gender': 0, 'id': 1176752, 'job': 'Character Designer', 'name': 'Dan Haskett', 'profile_path': None}, {'credit_id': '5892138e9251412dc20099fc', 'department': 'Visual Effects', 'gender': 0, 'id': 1088034, 'job': 'Character Designer', 'name': 'Tom Holloway', 'profile_path': '/a0r0T2usTBpgMI5aZbRBDW1fTl8.jpg'}, {'credit_id': '58921395c3a368097700942f', 'department': 'Visual Effects', 'gender': 0, 'id': 1447465, 'job': 'Character Designer', 'name': 'Jean Gillmore', 'profile_path': None}, {'credit_id': '589213e2c3a3680973009026', 'department': 'Directing', 'gender': 0, 'id': 1748709, 'job': 'Layout', 'name': 'Desirée Mourad', 'profile_path': None}, {'credit_id': '589214099251412dc5009d57', 'department': 'Art', 'gender': 0, 'id': 1748710, 'job': 'Set Dresser', 'name': \"Kelly O'Connell\", 'profile_path': None}, {'credit_id': '58921411c3a3686b0a004f70', 'department': 'Art', 'gender': 0, 'id': 1443471, 'job': 'Set Dresser', 'name': 'Sonoko Konishi', 'profile_path': None}, {'credit_id': '58921434c3a368096a00956e', 'department': 'Art', 'gender': 0, 'id': 1748711, 'job': 'Set Dresser', 'name': 'Ann M. Rockwell', 'profile_path': None}, {'credit_id': '5892144ac3a36809680090de', 'department': 'Editing', 'gender': 0, 'id': 1748712, 'job': 'Editorial Manager', 'name': 'Julie M. McDonald', 'profile_path': None}, {'credit_id': '58921479c3a368096800910f', 'department': 'Editing', 'gender': 0, 'id': 1589729, 'job': 'Assistant Editor', 'name': 'Robin Lee', 'profile_path': None}, {'credit_id': '5892148b9251412dd10099cc', 'department': 'Editing', 'gender': 0, 'id': 1748716, 'job': 'Assistant Editor', 'name': 'Tom Freeman', 'profile_path': None}, {'credit_id': '589214959251412dcb009b1f', 'department': 'Editing', 'gender': 0, 'id': 1748717, 'job': 'Assistant Editor', 'name': 'Ada Cochavi', 'profile_path': None}, {'credit_id': '5892149ec3a3686348004798', 'department': 'Editing', 'gender': 0, 'id': 1336438, 'job': 'Assistant Editor', 'name': 'Dana Mulligan', 'profile_path': None}, {'credit_id': '589214adc3a368096a0095db', 'department': 'Editing', 'gender': 0, 'id': 1748718, 'job': 'Editorial Coordinator', 'name': 'Deirdre Morrison', 'profile_path': None}, {'credit_id': '589214c7c3a368097700952b', 'department': 'Production', 'gender': 0, 'id': 1748719, 'job': 'Production Coordinator', 'name': 'Lori Lombardo', 'profile_path': None}, {'credit_id': '589214cec3a368096a009603', 'department': 'Production', 'gender': 0, 'id': 1748720, 'job': 'Production Coordinator', 'name': 'Ellen Devine', 'profile_path': None}, {'credit_id': '589214e39251412dc8009904', 'department': 'Crew', 'gender': 0, 'id': 1468014, 'job': 'Unit Publicist', 'name': 'Lauren Beth Strogoff', 'profile_path': None}, {'credit_id': '58921544c3a3686b0a00507d', 'department': 'Sound', 'gender': 2, 'id': 2216, 'job': 'Sound Re-Recording Mixer', 'name': 'Gary Rydstrom', 'profile_path': '/jZpr1nVfO7lldWI0YtmP1FGw7Rj.jpg'}, {'credit_id': '5892154c9251412dd1009a56', 'department': 'Sound', 'gender': 0, 'id': 1425978, 'job': 'Sound Re-Recording Mixer', 'name': 'Gary Summers', 'profile_path': None}, {'credit_id': '58921555c3a36809680091bd', 'department': 'Sound', 'gender': 2, 'id': 8276, 'job': 'Supervising Sound Editor', 'name': 'Tim Holland', 'profile_path': None}, {'credit_id': '589215c39251412dcb009c12', 'department': 'Sound', 'gender': 0, 'id': 7069, 'job': 'Sound Effects Editor', 'name': 'Pat Jackson', 'profile_path': None}, {'credit_id': '58921698c3a368096a009788', 'department': 'Crew', 'gender': 2, 'id': 15894, 'job': 'Sound Design Assistant', 'name': 'Tom Myers', 'profile_path': None}, {'credit_id': '589216a89251412dc2009ca4', 'department': 'Sound', 'gender': 0, 'id': 1414177, 'job': 'Assistant Sound Editor', 'name': 'J.R. Grubbs', 'profile_path': None}, {'credit_id': '589216c19251412dc2009cb9', 'department': 'Sound', 'gender': 1, 'id': 1748724, 'job': 'Assistant Sound Editor', 'name': 'Susan Sanford', 'profile_path': None}, {'credit_id': '589216ccc3a3680973009274', 'department': 'Sound', 'gender': 0, 'id': 1748725, 'job': 'Assistant Sound Editor', 'name': 'Susan Popovic', 'profile_path': None}, {'credit_id': '589216d79251412dc8009aa0', 'department': 'Sound', 'gender': 0, 'id': 8067, 'job': 'Assistant Sound Editor', 'name': 'Dan Engstrom', 'profile_path': None}, {'credit_id': '589216e49251412dcd009a4f', 'department': 'Production', 'gender': 1, 'id': 7902, 'job': 'Casting Consultant', 'name': 'Ruth Lambert', 'profile_path': None}, {'credit_id': '589216f39251412dc2009cf3', 'department': 'Production', 'gender': 0, 'id': 84493, 'job': 'ADR Voice Casting', 'name': 'Mickie McGowan', 'profile_path': '/k7TjJBfINsg8vLQxJwos6XObAD6.jpg'}] \n",
      "\n",
      "2) Visualizando los datos verticalmente:\n",
      " =======================================\n",
      "credit_id: 52fe4284c3a36847f8024f49\n",
      "department: Directing\n",
      "gender: 2\n",
      "id: 7879\n",
      "job: Director\n",
      "name: John Lasseter\n",
      "profile_path: /7EdqiNbr4FRjIhKHyPPdFfEEEFG.jpg\n",
      "-------------------------------------------------------\n",
      "credit_id: 52fe4284c3a36847f8024f4f\n",
      "department: Writing\n",
      "gender: 2\n",
      "id: 12891\n",
      "job: Screenplay\n",
      "name: Joss Whedon\n",
      "profile_path: /dTiVsuaTVTeGmvkhcyJvKp2A5kr.jpg\n",
      "-------------------------------------------------------\n",
      "credit_id: 52fe4284c3a36847f8024f55\n",
      "department: Writing\n",
      "gender: 2\n",
      "id: 7\n",
      "job: Screenplay\n",
      "name: Andrew Stanton\n",
      "profile_path: /pvQWsu0qc8JFQhMVJkTHuexUAa1.jpg\n",
      "-------------------------------------------------------\n",
      "credit_id: 52fe4284c3a36847f8024f5b\n",
      "department: Writing\n",
      "gender: 2\n",
      "id: 12892\n",
      "job: Screenplay\n",
      "name: Joel Cohen\n",
      "profile_path: /dAubAiZcvKFbboWlj7oXOkZnTSu.jpg\n",
      "-------------------------------------------------------\n",
      "credit_id: 52fe4284c3a36847f8024f61\n",
      "department: Writing\n",
      "gender: 0\n",
      "id: 12893\n",
      "job: Screenplay\n",
      "name: Alec Sokolow\n",
      "profile_path: /v79vlRYi94BZUQnkkyznbGUZLjT.jpg\n",
      "-------------------------------------------------------\n",
      "credit_id: 52fe4284c3a36847f8024f67\n",
      "department: Production\n",
      "gender: 1\n",
      "id: 12894\n",
      "job: Producer\n",
      "name: Bonnie Arnold\n",
      "profile_path: None\n",
      "-------------------------------------------------------\n",
      "credit_id: 52fe4284c3a36847f8024f6d\n",
      "department: Production\n",
      "gender: 0\n",
      "id: 12895\n",
      "job: Executive Producer\n",
      "name: Ed Catmull\n",
      "profile_path: None\n",
      "-------------------------------------------------------\n",
      "credit_id: 52fe4284c3a36847f8024f73\n",
      "department: Production\n",
      "gender: 2\n",
      "id: 12896\n",
      "job: Producer\n",
      "name: Ralph Guggenheim\n",
      "profile_path: None\n",
      "-------------------------------------------------------\n",
      "credit_id: 52fe4284c3a36847f8024f79\n",
      "department: Production\n",
      "gender: 2\n",
      "id: 12897\n",
      "job: Executive Producer\n",
      "name: Steve Jobs\n",
      "profile_path: /mOMP3SwD5qWQSR0ldCIByd3guTV.jpg\n",
      "-------------------------------------------------------\n",
      "credit_id: 52fe4284c3a36847f8024f8b\n",
      "department: Editing\n",
      "gender: 2\n",
      "id: 8\n",
      "job: Editor\n",
      "name: Lee Unkrich\n",
      "profile_path: /bdTCCXjgOV3YyaNmLGYGOxFQMOc.jpg\n",
      "-------------------------------------------------------\n",
      "credit_id: 52fe4284c3a36847f8024f91\n",
      "department: Art\n",
      "gender: 2\n",
      "id: 7883\n",
      "job: Art Direction\n",
      "name: Ralph Eggleston\n",
      "profile_path: /uUfcGKDsKO1aROMpXRs67Hn6RvR.jpg\n",
      "-------------------------------------------------------\n",
      "credit_id: 598331bf925141421201044b\n",
      "department: Editing\n",
      "gender: 2\n",
      "id: 1168870\n",
      "job: Editor\n",
      "name: Robert Gordon\n",
      "profile_path: None\n",
      "-------------------------------------------------------\n",
      "credit_id: 5892168cc3a36809660095f9\n",
      "department: Sound\n",
      "gender: 0\n",
      "id: 1552883\n",
      "job: Foley Editor\n",
      "name: Mary Helen Leasman\n",
      "profile_path: None\n",
      "-------------------------------------------------------\n",
      "credit_id: 5531824d9251415289000945\n",
      "department: Visual Effects\n",
      "gender: 0\n",
      "id: 1453514\n",
      "job: Animation\n",
      "name: Kim Blanchette\n",
      "profile_path: None\n",
      "-------------------------------------------------------\n",
      "credit_id: 589215969251412dcb009bf6\n",
      "department: Sound\n",
      "gender: 0\n",
      "id: 1414182\n",
      "job: ADR Editor\n",
      "name: Marilyn McCoppen\n",
      "profile_path: None\n",
      "-------------------------------------------------------\n",
      "credit_id: 589217099251412dc500a018\n",
      "department: Sound\n",
      "gender: 2\n",
      "id: 7885\n",
      "job: Orchestrator\n",
      "name: Randy Newman\n",
      "profile_path: /w0JzfoiM25nrnxYOzosPHRq6mlE.jpg\n",
      "-------------------------------------------------------\n",
      "credit_id: 5693e6b29251417b0e0000e3\n",
      "department: Editing\n",
      "gender: 0\n",
      "id: 1429549\n",
      "job: Color Timer\n",
      "name: Dale E. Grahn\n",
      "profile_path: None\n",
      "-------------------------------------------------------\n",
      "credit_id: 572e2522c3a36869e6001a9c\n",
      "department: Visual Effects\n",
      "gender: 0\n",
      "id: 7949\n",
      "job: CG Painter\n",
      "name: Robin Cooper\n",
      "profile_path: None\n",
      "-------------------------------------------------------\n",
      "credit_id: 574f12309251415ca1000012\n",
      "department: Writing\n",
      "gender: 2\n",
      "id: 7879\n",
      "job: Original Story\n",
      "name: John Lasseter\n",
      "profile_path: /7EdqiNbr4FRjIhKHyPPdFfEEEFG.jpg\n",
      "-------------------------------------------------------\n",
      "credit_id: 574f1240c3a3682e7300001c\n",
      "department: Writing\n",
      "gender: 2\n",
      "id: 12890\n",
      "job: Original Story\n",
      "name: Pete Docter\n",
      "profile_path: /r6ngPgnReA3RHmKjmSoVsc6Awjp.jpg\n",
      "-------------------------------------------------------\n",
      "credit_id: 574f12519251415c92000015\n",
      "department: Writing\n",
      "gender: 0\n",
      "id: 7911\n",
      "job: Original Story\n",
      "name: Joe Ranft\n",
      "profile_path: /f1BoWC2JbCcfP1e5hKfGsxkHzVU.jpg\n",
      "-------------------------------------------------------\n",
      "credit_id: 574f12cec3a3682e82000022\n",
      "department: Crew\n",
      "gender: 0\n",
      "id: 1629419\n",
      "job: Post Production Supervisor\n",
      "name: Patsy Bouge\n",
      "profile_path: None\n",
      "-------------------------------------------------------\n",
      "credit_id: 574f14f19251415ca1000082\n",
      "department: Art\n",
      "gender: 0\n",
      "id: 7961\n",
      "job: Sculptor\n",
      "name: Norm DeCarlo\n",
      "profile_path: None\n",
      "-------------------------------------------------------\n",
      "credit_id: 5751ae4bc3a3683772002b7f\n",
      "department: Visual Effects\n",
      "gender: 2\n",
      "id: 12905\n",
      "job: Animation Director\n",
      "name: Ash Brannon\n",
      "profile_path: /6ueWgPEEBHvS3De2BHYQnYjRTig.jpg\n",
      "-------------------------------------------------------\n",
      "credit_id: 5891edbe9251412dc5007cd6\n",
      "department: Sound\n",
      "gender: 2\n",
      "id: 7885\n",
      "job: Music\n",
      "name: Randy Newman\n",
      "profile_path: /w0JzfoiM25nrnxYOzosPHRq6mlE.jpg\n",
      "-------------------------------------------------------\n",
      "credit_id: 589213d39251412dc8009832\n",
      "department: Directing\n",
      "gender: 0\n",
      "id: 1748707\n",
      "job: Layout\n",
      "name: Roman Figun\n",
      "profile_path: None\n",
      "-------------------------------------------------------\n",
      "credit_id: 5892173dc3a3680968009351\n",
      "department: Sound\n",
      "gender: 2\n",
      "id: 4949\n",
      "job: Orchestrator\n",
      "name: Don Davis\n",
      "profile_path: None\n",
      "-------------------------------------------------------\n",
      "credit_id: 589217cec3a3686b0a0052ba\n",
      "department: Sound\n",
      "gender: 0\n",
      "id: 1372885\n",
      "job: Music Editor\n",
      "name: James Flamberg\n",
      "profile_path: None\n",
      "-------------------------------------------------------\n",
      "credit_id: 58921831c3a3686348004a64\n",
      "department: Editing\n",
      "gender: 0\n",
      "id: 1739962\n",
      "job: Negative Cutter\n",
      "name: Mary Beth Smith\n",
      "profile_path: None\n",
      "-------------------------------------------------------\n",
      "credit_id: 58921838c3a36809700096c0\n",
      "department: Editing\n",
      "gender: 0\n",
      "id: 1748513\n",
      "job: Negative Cutter\n",
      "name: Rick Mackay\n",
      "profile_path: None\n",
      "-------------------------------------------------------\n",
      "credit_id: 589218429251412dd1009d1b\n",
      "department: Art\n",
      "gender: 0\n",
      "id: 1458006\n",
      "job: Title Designer\n",
      "name: Susan Bradley\n",
      "profile_path: None\n",
      "-------------------------------------------------------\n",
      "credit_id: 5891ed99c3a3680966007670\n",
      "department: Crew\n",
      "gender: 0\n",
      "id: 1748557\n",
      "job: Supervising Technical Director\n",
      "name: William Reeves\n",
      "profile_path: None\n",
      "-------------------------------------------------------\n",
      "credit_id: 5891edcec3a3686b0a002eb2\n",
      "department: Sound\n",
      "gender: 2\n",
      "id: 7885\n",
      "job: Songs\n",
      "name: Randy Newman\n",
      "profile_path: /w0JzfoiM25nrnxYOzosPHRq6mlE.jpg\n",
      "-------------------------------------------------------\n",
      "credit_id: 5891edf9c3a36809700075e6\n",
      "department: Writing\n",
      "gender: 2\n",
      "id: 7\n",
      "job: Original Story\n",
      "name: Andrew Stanton\n",
      "profile_path: /pvQWsu0qc8JFQhMVJkTHuexUAa1.jpg\n",
      "-------------------------------------------------------\n",
      "credit_id: 58920f0b9251412dd7009104\n",
      "department: Crew\n",
      "gender: 2\n",
      "id: 12890\n",
      "job: Supervising Animator\n",
      "name: Pete Docter\n",
      "profile_path: /r6ngPgnReA3RHmKjmSoVsc6Awjp.jpg\n",
      "-------------------------------------------------------\n",
      "credit_id: 58920f1fc3a3680977009021\n",
      "department: Sound\n",
      "gender: 2\n",
      "id: 2216\n",
      "job: Sound Designer\n",
      "name: Gary Rydstrom\n",
      "profile_path: /jZpr1nVfO7lldWI0YtmP1FGw7Rj.jpg\n",
      "-------------------------------------------------------\n",
      "credit_id: 58920f389251412dd700912d\n",
      "department: Production\n",
      "gender: 0\n",
      "id: 12909\n",
      "job: Production Supervisor\n",
      "name: Karen Robert Jackson\n",
      "profile_path: None\n",
      "-------------------------------------------------------\n",
      "credit_id: 58920fbd9251412dcb00969c\n",
      "department: Crew\n",
      "gender: 0\n",
      "id: 953331\n",
      "job: Executive Music Producer\n",
      "name: Chris Montan\n",
      "profile_path: None\n",
      "-------------------------------------------------------\n",
      "credit_id: 589210069251412dd7009219\n",
      "department: Visual Effects\n",
      "gender: 0\n",
      "id: 7893\n",
      "job: Animation Director\n",
      "name: Rich Quade\n",
      "profile_path: None\n",
      "-------------------------------------------------------\n",
      "credit_id: 589210329251412dcd00943b\n",
      "department: Visual Effects\n",
      "gender: 0\n",
      "id: 8025\n",
      "job: Animation\n",
      "name: Michael Berenstein\n",
      "profile_path: None\n",
      "-------------------------------------------------------\n",
      "credit_id: 5892103bc3a368096a009180\n",
      "department: Visual Effects\n",
      "gender: 0\n",
      "id: 78009\n",
      "job: Animation\n",
      "name: Colin Brady\n",
      "profile_path: None\n",
      "-------------------------------------------------------\n",
      "credit_id: 5892105dc3a3680968008db2\n",
      "department: Visual Effects\n",
      "gender: 0\n",
      "id: 1748682\n",
      "job: Animation\n",
      "name: Davey Crockett Feiten\n",
      "profile_path: None\n",
      "-------------------------------------------------------\n",
      "credit_id: 589210669251412dcd009466\n",
      "department: Visual Effects\n",
      "gender: 0\n",
      "id: 1454030\n",
      "job: Animation\n",
      "name: Angie Glocka\n",
      "profile_path: None\n",
      "-------------------------------------------------------\n",
      "credit_id: 5892107c9251412dd1009613\n",
      "department: Visual Effects\n",
      "gender: 0\n",
      "id: 1748683\n",
      "job: Animation\n",
      "name: Rex Grignon\n",
      "profile_path: None\n",
      "-------------------------------------------------------\n",
      "credit_id: 5892108ac3a3680973008d3f\n",
      "department: Visual Effects\n",
      "gender: 0\n",
      "id: 1748684\n",
      "job: Animation\n",
      "name: Tom K. Gurney\n",
      "profile_path: None\n",
      "-------------------------------------------------------\n",
      "credit_id: 58921093c3a3686348004477\n",
      "department: Visual Effects\n",
      "gender: 2\n",
      "id: 8029\n",
      "job: Animation\n",
      "name: Jimmy Hayward\n",
      "profile_path: /lTDRpudEY7BDwTefXbXzMlmb0ui.jpg\n",
      "-------------------------------------------------------\n",
      "credit_id: 5892109b9251412dcd0094b0\n",
      "department: Visual Effects\n",
      "gender: 0\n",
      "id: 1426773\n",
      "job: Animation\n",
      "name: Hal T. Hickel\n",
      "profile_path: None\n",
      "-------------------------------------------------------\n",
      "credit_id: 589210a29251412dc5009a29\n",
      "department: Visual Effects\n",
      "gender: 0\n",
      "id: 8035\n",
      "job: Animation\n",
      "name: Karen Kiser\n",
      "profile_path: None\n",
      "-------------------------------------------------------\n",
      "credit_id: 589210ccc3a3680977009191\n",
      "department: Visual Effects\n",
      "gender: 0\n",
      "id: 1748688\n",
      "job: Animation\n",
      "name: Anthony B. LaMolinara\n",
      "profile_path: None\n",
      "-------------------------------------------------------\n",
      "credit_id: 589210d7c3a3686b0a004c1f\n",
      "department: Visual Effects\n",
      "gender: 0\n",
      "id: 587314\n",
      "job: Animation\n",
      "name: Guionne Leroy\n",
      "profile_path: None\n",
      "-------------------------------------------------------\n",
      "credit_id: 589210e1c3a36809770091a7\n",
      "department: Visual Effects\n",
      "gender: 2\n",
      "id: 7918\n",
      "job: Animation\n",
      "name: Bud Luckey\n",
      "profile_path: /pcCh7G19FKMNijmPQg1PMH1btic.jpg\n",
      "-------------------------------------------------------\n",
      "credit_id: 589210ee9251412dc200978a\n",
      "department: Visual Effects\n",
      "gender: 0\n",
      "id: 1748689\n",
      "job: Animation\n",
      "name: Les Major\n",
      "profile_path: None\n",
      "-------------------------------------------------------\n",
      "credit_id: 589210fa9251412dc8009595\n",
      "department: Visual Effects\n",
      "gender: 2\n",
      "id: 7892\n",
      "job: Animation\n",
      "name: Glenn McQueen\n",
      "profile_path: None\n",
      "-------------------------------------------------------\n",
      "credit_id: 589211029251412dc8009598\n",
      "department: Visual Effects\n",
      "gender: 0\n",
      "id: 555795\n",
      "job: Animation\n",
      "name: Mark Oftedal\n",
      "profile_path: None\n",
      "-------------------------------------------------------\n",
      "credit_id: 5892110b9251412dc800959d\n",
      "department: Visual Effects\n",
      "gender: 2\n",
      "id: 7882\n",
      "job: Animation\n",
      "name: Jeff Pidgeon\n",
      "profile_path: /yLddkg5HcgbJg00cS13GVBnP0HY.jpg\n",
      "-------------------------------------------------------\n",
      "credit_id: 58921113c3a36863480044e4\n",
      "department: Visual Effects\n",
      "gender: 0\n",
      "id: 8017\n",
      "job: Animation\n",
      "name: Jeff Pratt\n",
      "profile_path: None\n",
      "-------------------------------------------------------\n",
      "credit_id: 5892111c9251412dcb0097e9\n",
      "department: Visual Effects\n",
      "gender: 0\n",
      "id: 1184140\n",
      "job: Animation\n",
      "name: Steve Rabatich\n",
      "profile_path: None\n",
      "-------------------------------------------------------\n",
      "credit_id: 58921123c3a36809700090f6\n",
      "department: Visual Effects\n",
      "gender: 0\n",
      "id: 8049\n",
      "job: Animation\n",
      "name: Roger Rose\n",
      "profile_path: None\n",
      "-------------------------------------------------------\n",
      "credit_id: 5892112b9251412dcb0097fb\n",
      "department: Visual Effects\n",
      "gender: 0\n",
      "id: 1509559\n",
      "job: Animation\n",
      "name: Steve Segal\n",
      "profile_path: None\n",
      "-------------------------------------------------------\n",
      "credit_id: 589211349251412dc80095c3\n",
      "department: Visual Effects\n",
      "gender: 0\n",
      "id: 1748691\n",
      "job: Animation\n",
      "name: Doug Sheppeck\n",
      "profile_path: None\n",
      "-------------------------------------------------------\n",
      "credit_id: 5892113cc3a3680970009106\n",
      "department: Visual Effects\n",
      "gender: 0\n",
      "id: 8050\n",
      "job: Animation\n",
      "name: Alan Sperling\n",
      "profile_path: None\n",
      "-------------------------------------------------------\n",
      "credit_id: 58921148c3a3686b0a004c99\n",
      "department: Visual Effects\n",
      "gender: 0\n",
      "id: 8010\n",
      "job: Animation\n",
      "name: Doug Sweetland\n",
      "profile_path: None\n",
      "-------------------------------------------------------\n",
      "credit_id: 58921150c3a3680966009125\n",
      "department: Visual Effects\n",
      "gender: 0\n",
      "id: 8044\n",
      "job: Animation\n",
      "name: David Tart\n",
      "profile_path: None\n",
      "-------------------------------------------------------\n",
      "credit_id: 589211629251412dc5009b00\n",
      "department: Visual Effects\n",
      "gender: 0\n",
      "id: 1454034\n",
      "job: Animation\n",
      "name: Ken Willard\n",
      "profile_path: None\n",
      "-------------------------------------------------------\n",
      "credit_id: 589211c1c3a3686b0a004d28\n",
      "department: Visual Effects\n",
      "gender: 0\n",
      "id: 7887\n",
      "job: Visual Effects Supervisor\n",
      "name: Thomas Porter\n",
      "profile_path: None\n",
      "-------------------------------------------------------\n",
      "credit_id: 589211d4c3a3680968008ed9\n",
      "department: Visual Effects\n",
      "gender: 0\n",
      "id: 1406878\n",
      "job: Visual Effects\n",
      "name: Mark Thomas Henne\n",
      "profile_path: None\n",
      "-------------------------------------------------------\n",
      "credit_id: 589211f59251412dd4008e65\n",
      "department: Visual Effects\n",
      "gender: 0\n",
      "id: 1748698\n",
      "job: Visual Effects\n",
      "name: Oren Jacob\n",
      "profile_path: None\n",
      "-------------------------------------------------------\n",
      "credit_id: 58921242c3a368096a00939b\n",
      "department: Visual Effects\n",
      "gender: 0\n",
      "id: 1748699\n",
      "job: Visual Effects\n",
      "name: Darwyn Peachey\n",
      "profile_path: None\n",
      "-------------------------------------------------------\n",
      "credit_id: 5892124b9251412dc5009bd2\n",
      "department: Visual Effects\n",
      "gender: 0\n",
      "id: 1748701\n",
      "job: Visual Effects\n",
      "name: Mitch Prater\n",
      "profile_path: None\n",
      "-------------------------------------------------------\n",
      "credit_id: 58921264c3a3686b0a004dbf\n",
      "department: Visual Effects\n",
      "gender: 0\n",
      "id: 1748703\n",
      "job: Visual Effects\n",
      "name: Brian M. Rosen\n",
      "profile_path: None\n",
      "-------------------------------------------------------\n",
      "credit_id: 589212709251412dcd009676\n",
      "department: Lighting\n",
      "gender: 1\n",
      "id: 12912\n",
      "job: Lighting Supervisor\n",
      "name: Sharon Calahan\n",
      "profile_path: None\n",
      "-------------------------------------------------------\n",
      "credit_id: 5892127fc3a3686b0a004de5\n",
      "department: Lighting\n",
      "gender: 0\n",
      "id: 7899\n",
      "job: Lighting Supervisor\n",
      "name: Galyn Susman\n",
      "profile_path: None\n",
      "-------------------------------------------------------\n",
      "credit_id: 589212cdc3a3680970009268\n",
      "department: Visual Effects\n",
      "gender: 0\n",
      "id: 12915\n",
      "job: CG Painter\n",
      "name: William Cone\n",
      "profile_path: None\n",
      "-------------------------------------------------------\n",
      "credit_id: 5892130f9251412dc8009791\n",
      "department: Art\n",
      "gender: 0\n",
      "id: 1748705\n",
      "job: Sculptor\n",
      "name: Shelley Daniels Lekven\n",
      "profile_path: None\n",
      "-------------------------------------------------------\n",
      "credit_id: 5892131c9251412dd4008f4c\n",
      "department: Visual Effects\n",
      "gender: 2\n",
      "id: 7889\n",
      "job: Character Designer\n",
      "name: Bob Pauley\n",
      "profile_path: None\n",
      "-------------------------------------------------------\n",
      "credit_id: 589213249251412dd100987b\n",
      "department: Visual Effects\n",
      "gender: 2\n",
      "id: 7918\n",
      "job: Character Designer\n",
      "name: Bud Luckey\n",
      "profile_path: /pcCh7G19FKMNijmPQg1PMH1btic.jpg\n",
      "-------------------------------------------------------\n",
      "credit_id: 5892132b9251412dc80097b1\n",
      "department: Visual Effects\n",
      "gender: 2\n",
      "id: 7\n",
      "job: Character Designer\n",
      "name: Andrew Stanton\n",
      "profile_path: /pvQWsu0qc8JFQhMVJkTHuexUAa1.jpg\n",
      "-------------------------------------------------------\n",
      "credit_id: 58921332c3a368634800467b\n",
      "department: Visual Effects\n",
      "gender: 0\n",
      "id: 12915\n",
      "job: Character Designer\n",
      "name: William Cone\n",
      "profile_path: None\n",
      "-------------------------------------------------------\n",
      "credit_id: 5892135f9251412dd4008f90\n",
      "department: Visual Effects\n",
      "gender: 0\n",
      "id: 1748706\n",
      "job: Character Designer\n",
      "name: Steve Johnson\n",
      "profile_path: None\n",
      "-------------------------------------------------------\n",
      "credit_id: 58921384c3a3680973008fd4\n",
      "department: Visual Effects\n",
      "gender: 0\n",
      "id: 1176752\n",
      "job: Character Designer\n",
      "name: Dan Haskett\n",
      "profile_path: None\n",
      "-------------------------------------------------------\n",
      "credit_id: 5892138e9251412dc20099fc\n",
      "department: Visual Effects\n",
      "gender: 0\n",
      "id: 1088034\n",
      "job: Character Designer\n",
      "name: Tom Holloway\n",
      "profile_path: /a0r0T2usTBpgMI5aZbRBDW1fTl8.jpg\n",
      "-------------------------------------------------------\n",
      "credit_id: 58921395c3a368097700942f\n",
      "department: Visual Effects\n",
      "gender: 0\n",
      "id: 1447465\n",
      "job: Character Designer\n",
      "name: Jean Gillmore\n",
      "profile_path: None\n",
      "-------------------------------------------------------\n",
      "credit_id: 589213e2c3a3680973009026\n",
      "department: Directing\n",
      "gender: 0\n",
      "id: 1748709\n",
      "job: Layout\n",
      "name: Desirée Mourad\n",
      "profile_path: None\n",
      "-------------------------------------------------------\n",
      "credit_id: 589214099251412dc5009d57\n",
      "department: Art\n",
      "gender: 0\n",
      "id: 1748710\n",
      "job: Set Dresser\n",
      "name: Kelly O'Connell\n",
      "profile_path: None\n",
      "-------------------------------------------------------\n",
      "credit_id: 58921411c3a3686b0a004f70\n",
      "department: Art\n",
      "gender: 0\n",
      "id: 1443471\n",
      "job: Set Dresser\n",
      "name: Sonoko Konishi\n",
      "profile_path: None\n",
      "-------------------------------------------------------\n",
      "credit_id: 58921434c3a368096a00956e\n",
      "department: Art\n",
      "gender: 0\n",
      "id: 1748711\n",
      "job: Set Dresser\n",
      "name: Ann M. Rockwell\n",
      "profile_path: None\n",
      "-------------------------------------------------------\n",
      "credit_id: 5892144ac3a36809680090de\n",
      "department: Editing\n",
      "gender: 0\n",
      "id: 1748712\n",
      "job: Editorial Manager\n",
      "name: Julie M. McDonald\n",
      "profile_path: None\n",
      "-------------------------------------------------------\n",
      "credit_id: 58921479c3a368096800910f\n",
      "department: Editing\n",
      "gender: 0\n",
      "id: 1589729\n",
      "job: Assistant Editor\n",
      "name: Robin Lee\n",
      "profile_path: None\n",
      "-------------------------------------------------------\n",
      "credit_id: 5892148b9251412dd10099cc\n",
      "department: Editing\n",
      "gender: 0\n",
      "id: 1748716\n",
      "job: Assistant Editor\n",
      "name: Tom Freeman\n",
      "profile_path: None\n",
      "-------------------------------------------------------\n",
      "credit_id: 589214959251412dcb009b1f\n",
      "department: Editing\n",
      "gender: 0\n",
      "id: 1748717\n",
      "job: Assistant Editor\n",
      "name: Ada Cochavi\n",
      "profile_path: None\n",
      "-------------------------------------------------------\n",
      "credit_id: 5892149ec3a3686348004798\n",
      "department: Editing\n",
      "gender: 0\n",
      "id: 1336438\n",
      "job: Assistant Editor\n",
      "name: Dana Mulligan\n",
      "profile_path: None\n",
      "-------------------------------------------------------\n",
      "credit_id: 589214adc3a368096a0095db\n",
      "department: Editing\n",
      "gender: 0\n",
      "id: 1748718\n",
      "job: Editorial Coordinator\n",
      "name: Deirdre Morrison\n",
      "profile_path: None\n",
      "-------------------------------------------------------\n",
      "credit_id: 589214c7c3a368097700952b\n",
      "department: Production\n",
      "gender: 0\n",
      "id: 1748719\n",
      "job: Production Coordinator\n",
      "name: Lori Lombardo\n",
      "profile_path: None\n",
      "-------------------------------------------------------\n",
      "credit_id: 589214cec3a368096a009603\n",
      "department: Production\n",
      "gender: 0\n",
      "id: 1748720\n",
      "job: Production Coordinator\n",
      "name: Ellen Devine\n",
      "profile_path: None\n",
      "-------------------------------------------------------\n",
      "credit_id: 589214e39251412dc8009904\n",
      "department: Crew\n",
      "gender: 0\n",
      "id: 1468014\n",
      "job: Unit Publicist\n",
      "name: Lauren Beth Strogoff\n",
      "profile_path: None\n",
      "-------------------------------------------------------\n",
      "credit_id: 58921544c3a3686b0a00507d\n",
      "department: Sound\n",
      "gender: 2\n",
      "id: 2216\n",
      "job: Sound Re-Recording Mixer\n",
      "name: Gary Rydstrom\n",
      "profile_path: /jZpr1nVfO7lldWI0YtmP1FGw7Rj.jpg\n",
      "-------------------------------------------------------\n",
      "credit_id: 5892154c9251412dd1009a56\n",
      "department: Sound\n",
      "gender: 0\n",
      "id: 1425978\n",
      "job: Sound Re-Recording Mixer\n",
      "name: Gary Summers\n",
      "profile_path: None\n",
      "-------------------------------------------------------\n",
      "credit_id: 58921555c3a36809680091bd\n",
      "department: Sound\n",
      "gender: 2\n",
      "id: 8276\n",
      "job: Supervising Sound Editor\n",
      "name: Tim Holland\n",
      "profile_path: None\n",
      "-------------------------------------------------------\n",
      "credit_id: 589215c39251412dcb009c12\n",
      "department: Sound\n",
      "gender: 0\n",
      "id: 7069\n",
      "job: Sound Effects Editor\n",
      "name: Pat Jackson\n",
      "profile_path: None\n",
      "-------------------------------------------------------\n",
      "credit_id: 58921698c3a368096a009788\n",
      "department: Crew\n",
      "gender: 2\n",
      "id: 15894\n",
      "job: Sound Design Assistant\n",
      "name: Tom Myers\n",
      "profile_path: None\n",
      "-------------------------------------------------------\n",
      "credit_id: 589216a89251412dc2009ca4\n",
      "department: Sound\n",
      "gender: 0\n",
      "id: 1414177\n",
      "job: Assistant Sound Editor\n",
      "name: J.R. Grubbs\n",
      "profile_path: None\n",
      "-------------------------------------------------------\n",
      "credit_id: 589216c19251412dc2009cb9\n",
      "department: Sound\n",
      "gender: 1\n",
      "id: 1748724\n",
      "job: Assistant Sound Editor\n",
      "name: Susan Sanford\n",
      "profile_path: None\n",
      "-------------------------------------------------------\n",
      "credit_id: 589216ccc3a3680973009274\n",
      "department: Sound\n",
      "gender: 0\n",
      "id: 1748725\n",
      "job: Assistant Sound Editor\n",
      "name: Susan Popovic\n",
      "profile_path: None\n",
      "-------------------------------------------------------\n",
      "credit_id: 589216d79251412dc8009aa0\n",
      "department: Sound\n",
      "gender: 0\n",
      "id: 8067\n",
      "job: Assistant Sound Editor\n",
      "name: Dan Engstrom\n",
      "profile_path: None\n",
      "-------------------------------------------------------\n",
      "credit_id: 589216e49251412dcd009a4f\n",
      "department: Production\n",
      "gender: 1\n",
      "id: 7902\n",
      "job: Casting Consultant\n",
      "name: Ruth Lambert\n",
      "profile_path: None\n",
      "-------------------------------------------------------\n",
      "credit_id: 589216f39251412dc2009cf3\n",
      "department: Production\n",
      "gender: 0\n",
      "id: 84493\n",
      "job: ADR Voice Casting\n",
      "name: Mickie McGowan\n",
      "profile_path: /k7TjJBfINsg8vLQxJwos6XObAD6.jpg\n",
      "-------------------------------------------------------\n",
      "======================================================================================\n",
      "La columna 'crew', se refiere al Equipo de Producción de la Película (Crew)\n",
      "======================================================================================\n"
     ]
    }
   ],
   "source": [
    "### Visualizando la lista de diccionario de la columna \"crew\" de un determinado registro. \n",
    "fila_indice = 0  # Indice del registro o fila que se quiere visualizar.\n",
    "Columna = 'crew'\n",
    "\n",
    "Cadena = df_credits.at[fila_indice, Columna]\n",
    "\n",
    "print(\"1) Visualizando los datos horizontalmente:\\n\", \"=\"*41)\n",
    "print(Cadena,\"\\n\")\n",
    "\n",
    "print(\"2) Visualizando los datos verticalmente:\\n\", \"=\"*39)\n",
    "\n",
    "lista_str = df_credits.at[fila_indice, Columna]\n",
    "lista = ast.literal_eval(lista_str)\n",
    "N = len(lista) # Cantidad de diccionarios a mostrar de la lista\n",
    "for diccionario in lista[:N]:\n",
    "    for key, value in diccionario.items():\n",
    "        print(f\"{key}: {value}\")\n",
    "    print(\"-------------------------------------------------------\")\n",
    "    \n",
    "print(\"=\"*86)    \n",
    "print(f\"La columna '{Columna}', se refiere al Equipo de Producción de la Película (Crew)\")\n",
    "print(\"=\"*86)"
   ]
  },
  {
   "cell_type": "markdown",
   "metadata": {},
   "source": [
    "En este caso solo se va a desanidar por name y job ya que es relevante para el Sistema de Recomendación."
   ]
  },
  {
   "cell_type": "markdown",
   "metadata": {},
   "source": [
    "### 1.2.3) Función para Desanidar las Columnas: ***`'cast'`*** y ***`'crew'`***<br>\n",
    "Nombre de la Función: `Extraer_Valor_List_Credits`"
   ]
  },
  {
   "cell_type": "code",
   "execution_count": 399,
   "metadata": {},
   "outputs": [],
   "source": [
    "### Se procede desanidadas la columna de 'cast', por las clave valor de: 'character' y 'name'.\n",
    "\n",
    "claves = ['name']\n",
    "\n",
    "def Extraer_Valor_List_Credits(cadena, clave):\n",
    "    try:\n",
    "        lista_de_diccionarios = ast.literal_eval(cadena)                                               \n",
    "        if isinstance(lista_de_diccionarios, list):                                      \n",
    "            lista_encontrada = [str(dic.get(clave, '')) for dic in lista_de_diccionarios if isinstance(dic, dict)]\n",
    "            return ','.join(lista_encontrada)\n",
    "    except (ValueError, SyntaxError):\n",
    "        pass\n",
    "    return ''  # Si no es posible evaluarlo como una lista de diccionarios, se devuelve una  cadena vacía"
   ]
  },
  {
   "cell_type": "markdown",
   "metadata": {},
   "source": [
    "### 1.2.3.1) Desanidando la Columna:  ***`cast`***"
   ]
  },
  {
   "cell_type": "code",
   "execution_count": 400,
   "metadata": {},
   "outputs": [
    {
     "data": {
      "text/html": [
       "<div>\n",
       "<style scoped>\n",
       "    .dataframe tbody tr th:only-of-type {\n",
       "        vertical-align: middle;\n",
       "    }\n",
       "\n",
       "    .dataframe tbody tr th {\n",
       "        vertical-align: top;\n",
       "    }\n",
       "\n",
       "    .dataframe thead th {\n",
       "        text-align: right;\n",
       "    }\n",
       "</style>\n",
       "<table border=\"1\" class=\"dataframe\">\n",
       "  <thead>\n",
       "    <tr style=\"text-align: right;\">\n",
       "      <th></th>\n",
       "      <th>cast</th>\n",
       "      <th>crew</th>\n",
       "      <th>id</th>\n",
       "      <th>cast_name</th>\n",
       "    </tr>\n",
       "  </thead>\n",
       "  <tbody>\n",
       "    <tr>\n",
       "      <th>0</th>\n",
       "      <td>[{'cast_id': 14, 'character': 'Woody (voice)',...</td>\n",
       "      <td>[{'credit_id': '52fe4284c3a36847f8024f49', 'de...</td>\n",
       "      <td>862</td>\n",
       "      <td>Tom Hanks,Tim Allen,Don Rickles,Jim Varney,Wal...</td>\n",
       "    </tr>\n",
       "    <tr>\n",
       "      <th>1</th>\n",
       "      <td>[{'cast_id': 1, 'character': 'Alan Parrish', '...</td>\n",
       "      <td>[{'credit_id': '52fe44bfc3a36847f80a7cd1', 'de...</td>\n",
       "      <td>8844</td>\n",
       "      <td>Robin Williams,Jonathan Hyde,Kirsten Dunst,Bra...</td>\n",
       "    </tr>\n",
       "  </tbody>\n",
       "</table>\n",
       "</div>"
      ],
      "text/plain": [
       "                                                cast  \\\n",
       "0  [{'cast_id': 14, 'character': 'Woody (voice)',...   \n",
       "1  [{'cast_id': 1, 'character': 'Alan Parrish', '...   \n",
       "\n",
       "                                                crew    id  \\\n",
       "0  [{'credit_id': '52fe4284c3a36847f8024f49', 'de...   862   \n",
       "1  [{'credit_id': '52fe44bfc3a36847f80a7cd1', 'de...  8844   \n",
       "\n",
       "                                           cast_name  \n",
       "0  Tom Hanks,Tim Allen,Don Rickles,Jim Varney,Wal...  \n",
       "1  Robin Williams,Jonathan Hyde,Kirsten Dunst,Bra...  "
      ]
     },
     "execution_count": 400,
     "metadata": {},
     "output_type": "execute_result"
    }
   ],
   "source": [
    "### Llamado a la función para desanidar la columna: 'cast'\n",
    "\n",
    "### Desanidando por la clave: {name}, correspondiente a los actores de la películas.\n",
    "claves = ['name']\n",
    "\n",
    "for clave in claves:\n",
    "    df_credits[f'cast_{clave}'] = df_credits['cast'].apply(Extraer_Valor_List_Credits, clave=clave)\n",
    "\n",
    "df_credits.head(2)"
   ]
  },
  {
   "cell_type": "code",
   "execution_count": 401,
   "metadata": {},
   "outputs": [
    {
     "name": "stdout",
     "output_type": "stream",
     "text": [
      "======================================================================================\n",
      "La columna 'cast_name', correspndiente a una variable cualitativa ordinal de Actores\n",
      "======================================================================================\n"
     ]
    },
    {
     "data": {
      "text/plain": [
       "0        Tom Hanks,Tim Allen,Don Rickles,Jim Varney,Wal...\n",
       "1        Robin Williams,Jonathan Hyde,Kirsten Dunst,Bra...\n",
       "2        Walter Matthau,Jack Lemmon,Ann-Margret,Sophia ...\n",
       "3        Whitney Houston,Angela Bassett,Loretta Devine,...\n",
       "4        Steve Martin,Diane Keaton,Martin Short,Kimberl...\n",
       "                               ...                        \n",
       "45471              Leila Hatami,Kourosh Tahami,Elham Korda\n",
       "45472    Angel Aquino,Perry Dizon,Hazel Orencio,Joel To...\n",
       "45473    Erika Eleniak,Adam Baldwin,Julie du Page,James...\n",
       "45474    Iwan Mosschuchin,Nathalie Lissenko,Pavel Pavlo...\n",
       "45475                                                     \n",
       "Name: cast_name, Length: 45476, dtype: object"
      ]
     },
     "execution_count": 401,
     "metadata": {},
     "output_type": "execute_result"
    }
   ],
   "source": [
    "### Visualizando la nueva columna 'cast_name', correspondiente a una variable cualitativa ordinal de Actores.\n",
    "### EL orden es importante.\n",
    "Columna = 'cast_name'\n",
    "print(\"=\"*86)    \n",
    "print(f\"La columna '{Columna}', correspndiente a una variable cualitativa ordinal de Actores\")\n",
    "print(\"=\"*86)\n",
    "df_credits['cast_name']"
   ]
  },
  {
   "cell_type": "markdown",
   "metadata": {},
   "source": [
    "Se puede observar que en la nueva columna 'cast_name' se tienen los nombre de los actores ordenados. <Br>El primer nombre corresponde al Protagonista (order = 0), <Br>El siguiente al Primer Actor o Actor Principal (order = 1), <Br>El siguiente al Segundo Actor o Actor Secundario (order = 2), y asi sucesivamente. <Br>Este es un buen ejemplo de una variable donde importa el orden; por lo tanto se denomina Variable Cualitativa Ordinal."
   ]
  },
  {
   "cell_type": "markdown",
   "metadata": {},
   "source": [
    "### 1.2.3.2) Desanidando la Columna:  ***`crew`***"
   ]
  },
  {
   "cell_type": "code",
   "execution_count": 402,
   "metadata": {},
   "outputs": [
    {
     "data": {
      "text/html": [
       "<div>\n",
       "<style scoped>\n",
       "    .dataframe tbody tr th:only-of-type {\n",
       "        vertical-align: middle;\n",
       "    }\n",
       "\n",
       "    .dataframe tbody tr th {\n",
       "        vertical-align: top;\n",
       "    }\n",
       "\n",
       "    .dataframe thead th {\n",
       "        text-align: right;\n",
       "    }\n",
       "</style>\n",
       "<table border=\"1\" class=\"dataframe\">\n",
       "  <thead>\n",
       "    <tr style=\"text-align: right;\">\n",
       "      <th></th>\n",
       "      <th>cast</th>\n",
       "      <th>crew</th>\n",
       "      <th>id</th>\n",
       "      <th>cast_name</th>\n",
       "      <th>crew_job</th>\n",
       "      <th>crew_name</th>\n",
       "    </tr>\n",
       "  </thead>\n",
       "  <tbody>\n",
       "    <tr>\n",
       "      <th>0</th>\n",
       "      <td>[{'cast_id': 14, 'character': 'Woody (voice)',...</td>\n",
       "      <td>[{'credit_id': '52fe4284c3a36847f8024f49', 'de...</td>\n",
       "      <td>862</td>\n",
       "      <td>Tom Hanks,Tim Allen,Don Rickles,Jim Varney,Wal...</td>\n",
       "      <td>Director,Screenplay,Screenplay,Screenplay,Scre...</td>\n",
       "      <td>John Lasseter,Joss Whedon,Andrew Stanton,Joel ...</td>\n",
       "    </tr>\n",
       "    <tr>\n",
       "      <th>1</th>\n",
       "      <td>[{'cast_id': 1, 'character': 'Alan Parrish', '...</td>\n",
       "      <td>[{'credit_id': '52fe44bfc3a36847f80a7cd1', 'de...</td>\n",
       "      <td>8844</td>\n",
       "      <td>Robin Williams,Jonathan Hyde,Kirsten Dunst,Bra...</td>\n",
       "      <td>Executive Producer,Screenplay,Original Music C...</td>\n",
       "      <td>Larry J. Franco,Jonathan Hensleigh,James Horne...</td>\n",
       "    </tr>\n",
       "  </tbody>\n",
       "</table>\n",
       "</div>"
      ],
      "text/plain": [
       "                                                cast  \\\n",
       "0  [{'cast_id': 14, 'character': 'Woody (voice)',...   \n",
       "1  [{'cast_id': 1, 'character': 'Alan Parrish', '...   \n",
       "\n",
       "                                                crew    id  \\\n",
       "0  [{'credit_id': '52fe4284c3a36847f8024f49', 'de...   862   \n",
       "1  [{'credit_id': '52fe44bfc3a36847f80a7cd1', 'de...  8844   \n",
       "\n",
       "                                           cast_name  \\\n",
       "0  Tom Hanks,Tim Allen,Don Rickles,Jim Varney,Wal...   \n",
       "1  Robin Williams,Jonathan Hyde,Kirsten Dunst,Bra...   \n",
       "\n",
       "                                            crew_job  \\\n",
       "0  Director,Screenplay,Screenplay,Screenplay,Scre...   \n",
       "1  Executive Producer,Screenplay,Original Music C...   \n",
       "\n",
       "                                           crew_name  \n",
       "0  John Lasseter,Joss Whedon,Andrew Stanton,Joel ...  \n",
       "1  Larry J. Franco,Jonathan Hensleigh,James Horne...  "
      ]
     },
     "execution_count": 402,
     "metadata": {},
     "output_type": "execute_result"
    }
   ],
   "source": [
    "### Llamado a la función para desanidar la columna: 'crew'\n",
    "\n",
    "### Desanidando por la clave: {job} y {name}, correspondiente la Cargo o rol, y Nombre de la persona que desempeña ese cargo.\n",
    "claves = ['job', 'name']\n",
    "\n",
    "for clave in claves:\n",
    "    df_credits[f'crew_{clave}'] = df_credits['crew'].apply(Extraer_Valor_List_Credits, clave=clave)\n",
    "\n",
    "df_credits.head(2)"
   ]
  },
  {
   "cell_type": "code",
   "execution_count": 403,
   "metadata": {},
   "outputs": [
    {
     "name": "stdout",
     "output_type": "stream",
     "text": [
      "======================================================================================\n",
      "La columna 'crew_job', correspndiente a una variable cualitativa ordinal de Roles o Cargos\n",
      "======================================================================================\n"
     ]
    },
    {
     "data": {
      "text/plain": [
       "0        Director,Screenplay,Screenplay,Screenplay,Scre...\n",
       "1        Executive Producer,Screenplay,Original Music C...\n",
       "2               Director,Characters,Writer,Sound Recordist\n",
       "3        Director,Screenplay,Producer,Producer,Producer...\n",
       "4        Original Music Composer,Director of Photograph...\n",
       "                               ...                        \n",
       "45471    Director,Producer,Camera Supervisor,Script,Edi...\n",
       "45472    Director,Writer,Production Design,Music,Editor...\n",
       "45473    Director,Screenplay,Screenplay,Original Music ...\n",
       "45474                                    Director,Producer\n",
       "45475                                             Director\n",
       "Name: crew_job, Length: 45476, dtype: object"
      ]
     },
     "execution_count": 403,
     "metadata": {},
     "output_type": "execute_result"
    }
   ],
   "source": [
    "### Visualizando la nueva columna 'crew_name', correspondiente a una variable cualitativa ordinal por Cargos.\n",
    "### EL primero corresponde al Director\n",
    "Columna = 'crew_job'\n",
    "print(\"=\"*86)    \n",
    "print(f\"La columna '{Columna}', correspndiente a una variable cualitativa ordinal de Roles o Cargos\")\n",
    "print(\"=\"*86)\n",
    "df_credits['crew_job']"
   ]
  },
  {
   "cell_type": "code",
   "execution_count": 404,
   "metadata": {},
   "outputs": [
    {
     "name": "stdout",
     "output_type": "stream",
     "text": [
      "======================================================================================\n",
      "La columna 'crew_job', correspndiente a una variable cualitativa ordinal de Nombres por Cargo\n",
      "======================================================================================\n"
     ]
    },
    {
     "data": {
      "text/plain": [
       "0        John Lasseter,Joss Whedon,Andrew Stanton,Joel ...\n",
       "1        Larry J. Franco,Jonathan Hensleigh,James Horne...\n",
       "2        Howard Deutch,Mark Steven Johnson,Mark Steven ...\n",
       "3        Forest Whitaker,Ronald Bass,Ronald Bass,Ezra S...\n",
       "4        Alan Silvestri,Elliot Davis,Nancy Meyers,Nancy...\n",
       "                               ...                        \n",
       "45471    Hamid Nematollah,Hamid Nematollah,Farshad Moha...\n",
       "45472    Lav Diaz,Lav Diaz,Dante Perez,Lav Diaz,Lav Dia...\n",
       "45473    Mark L. Lester,C. Courtney Joyner,Jeffrey Gold...\n",
       "45474                 Yakov Protazanov,Joseph N. Ermolieff\n",
       "45475                                        Daisy Asquith\n",
       "Name: crew_name, Length: 45476, dtype: object"
      ]
     },
     "execution_count": 404,
     "metadata": {},
     "output_type": "execute_result"
    }
   ],
   "source": [
    "### Visualizando la nueva columna 'crew_name', correspondiente a una variable cualitativa ordinal por Cargos.\n",
    "### EL primero corresponde al Director\n",
    "df_credits['crew_name']\n",
    "print(\"=\"*86)    \n",
    "print(f\"La columna '{Columna}', correspndiente a una variable cualitativa ordinal de Nombres por Cargo\")\n",
    "print(\"=\"*86)\n",
    "df_credits['crew_name']"
   ]
  },
  {
   "cell_type": "code",
   "execution_count": 405,
   "metadata": {},
   "outputs": [
    {
     "data": {
      "text/plain": [
       "Index(['cast', 'crew', 'id', 'cast_name', 'crew_job', 'crew_name'], dtype='object')"
      ]
     },
     "execution_count": 405,
     "metadata": {},
     "output_type": "execute_result"
    }
   ],
   "source": [
    "### Validacion de las nuevas columnas\n",
    "df_credits.columns"
   ]
  },
  {
   "cell_type": "code",
   "execution_count": 406,
   "metadata": {},
   "outputs": [
    {
     "name": "stdout",
     "output_type": "stream",
     "text": [
      "<class 'pandas.core.frame.DataFrame'>\n",
      "RangeIndex: 45476 entries, 0 to 45475\n",
      "Data columns (total 6 columns):\n",
      " #   Column     Non-Null Count  Dtype \n",
      "---  ------     --------------  ----- \n",
      " 0   cast       45476 non-null  object\n",
      " 1   crew       45476 non-null  object\n",
      " 2   id         45476 non-null  int64 \n",
      " 3   cast_name  45476 non-null  object\n",
      " 4   crew_job   45476 non-null  object\n",
      " 5   crew_name  45476 non-null  object\n",
      "dtypes: int64(1), object(5)\n",
      "memory usage: 2.1+ MB\n"
     ]
    }
   ],
   "source": [
    "### Informacion de las dimensiones de df_credits\n",
    "df_credits.info()"
   ]
  },
  {
   "cell_type": "markdown",
   "metadata": {},
   "source": [
    "No presenta valores Nulos"
   ]
  },
  {
   "cell_type": "markdown",
   "metadata": {},
   "source": [
    "## 1.3) Eliminación Registros Duplicados de los Datasets:' df_credits y 'df_movies'."
   ]
  },
  {
   "cell_type": "code",
   "execution_count": 407,
   "metadata": {},
   "outputs": [
    {
     "name": "stdout",
     "output_type": "stream",
     "text": [
      "Total de Registros Duplicados en: 'df_movies' =  30\n",
      "Total de Registros Duplicados en: 'df_credits' =  44\n"
     ]
    }
   ],
   "source": [
    "### Total de Registros duplicados en: \"df_movies\"\n",
    "print(\"Total de Registros Duplicados en: 'df_movies' = \", df_movies[df_movies['id'].duplicated()]['id'].count())\n",
    "\n",
    "### Total de Registros duplicados en: \"df_credits\"\n",
    "print(\"Total de Registros Duplicados en: 'df_credits' = \", df_credits[df_credits['id'].duplicated()]['id'].count())"
   ]
  },
  {
   "cell_type": "markdown",
   "metadata": {},
   "source": [
    "Visualizando Registros Duplicados"
   ]
  },
  {
   "cell_type": "code",
   "execution_count": 408,
   "metadata": {},
   "outputs": [
    {
     "name": "stdout",
     "output_type": "stream",
     "text": [
      "Visualización del Dataset: df_movies: \n",
      "\n",
      ",                                    belongs_to_collection      budget  \\\n",
      "676                                                  NaN         0.0   \n",
      "1465                                                 NaN         0.0   \n",
      "44821  {'id': 34055, 'name': 'Pokémon Collection', 'p...  16000000.0   \n",
      "4114   {'id': 34055, 'name': 'Pokémon Collection', 'p...  16000000.0   \n",
      "5710                                                 NaN         0.0   \n",
      "20899                                                NaN         0.0   \n",
      "23534                                                NaN   3512454.0   \n",
      "4356                                                 NaN   3512454.0   \n",
      "24844                                                NaN         0.0   \n",
      "14012                                                NaN         0.0   \n",
      "21165                                                NaN         0.0   \n",
      "19890                                                NaN         0.0   \n",
      "5535   {'id': 34055, 'name': 'Pokémon Collection', 'p...         0.0   \n",
      "44826  {'id': 34055, 'name': 'Pokémon Collection', 'p...         0.0   \n",
      "11342                                                NaN      2500.0   \n",
      "15765                                                NaN      2500.0   \n",
      "838                                                  NaN         0.0   \n",
      "30001                                                NaN         0.0   \n",
      "16764                                                NaN         0.0   \n",
      "13261                                                NaN         0.0   \n",
      "13375                                                NaN         0.0   \n",
      "10419                                                NaN   1600000.0   \n",
      "12066                                                NaN   1600000.0   \n",
      "5130                                                 NaN  26000000.0   \n",
      "33743                                                NaN  26000000.0   \n",
      "19925                                                NaN         0.0   \n",
      "21854                                                NaN         0.0   \n",
      "35798  {'id': 158365, 'name': 'Why We Fight', 'poster...         0.0   \n",
      "13220  {'id': 158365, 'name': 'Why We Fight', 'poster...         0.0   \n",
      "13603                                                NaN         0.0   \n",
      "28860                                                NaN         0.0   \n",
      "22151                                                NaN         0.0   \n",
      "14000                                                NaN         0.0   \n",
      "949                                                  NaN         4.0   \n",
      "15074                                                NaN         4.0   \n",
      "8068                                                 NaN         0.0   \n",
      "9327                                                 NaN         0.0   \n",
      "17229                                                NaN         0.0   \n",
      "23044                                                NaN         0.0   \n",
      "24164                                                NaN         0.0   \n",
      "45265                                                NaN         0.0   \n",
      "33184                                                NaN    980000.0   \n",
      "40040                                                NaN    980000.0   \n",
      "15702                                                NaN         0.0   \n",
      "29374                                                NaN         0.0   \n",
      "33826                                                NaN  30000000.0   \n",
      "5865                                                 NaN  30000000.0   \n",
      "7345                                                 NaN         0.0   \n",
      "9165                                                 NaN         0.0   \n",
      "26625                                                NaN  10000000.0   \n",
      "9576                                                 NaN  10000000.0   \n",
      "20843                                                NaN  40000000.0   \n",
      "11155                                                NaN  40000000.0   \n",
      "2564                                                 NaN         0.0   \n",
      "21116                                                NaN         0.0   \n",
      "13946                                                NaN         0.0   \n",
      "40276                                                NaN         0.0   \n",
      "38871                                                NaN         0.0   \n",
      "16167                                                NaN         0.0   \n",
      "\n",
      "                                                  genres      id  \\\n",
      "676    [{'id': 18, 'name': 'Drama'}, {'id': 10749, 'n...  105045   \n",
      "1465   [{'id': 18, 'name': 'Drama'}, {'id': 10749, 'n...  105045   \n",
      "44821  [{'id': 12, 'name': 'Adventure'}, {'id': 14, '...   10991   \n",
      "4114   [{'id': 12, 'name': 'Adventure'}, {'id': 14, '...   10991   \n",
      "5710                       [{'id': 18, 'name': 'Drama'}]  109962   \n",
      "20899                      [{'id': 18, 'name': 'Drama'}]  109962   \n",
      "23534                      [{'id': 18, 'name': 'Drama'}]  110428   \n",
      "4356                       [{'id': 18, 'name': 'Drama'}]  110428   \n",
      "24844  [{'id': 35, 'name': 'Comedy'}, {'id': 18, 'nam...   11115   \n",
      "14012  [{'id': 35, 'name': 'Comedy'}, {'id': 18, 'nam...   11115   \n",
      "21165  [{'id': 14, 'name': 'Fantasy'}, {'id': 18, 'na...  119916   \n",
      "19890  [{'id': 14, 'name': 'Fantasy'}, {'id': 18, 'na...  119916   \n",
      "5535   [{'id': 12, 'name': 'Adventure'}, {'id': 14, '...   12600   \n",
      "44826  [{'id': 12, 'name': 'Adventure'}, {'id': 14, '...   12600   \n",
      "11342  [{'id': 18, 'name': 'Drama'}, {'id': 35, 'name...   13209   \n",
      "15765  [{'id': 18, 'name': 'Drama'}, {'id': 35, 'name...   13209   \n",
      "838                        [{'id': 18, 'name': 'Drama'}]  132641   \n",
      "30001                      [{'id': 18, 'name': 'Drama'}]  132641   \n",
      "16764  [{'id': 53, 'name': 'Thriller'}, {'id': 9648, ...  141971   \n",
      "13261  [{'id': 53, 'name': 'Thriller'}, {'id': 9648, ...  141971   \n",
      "13375  [{'id': 53, 'name': 'Thriller'}, {'id': 9648, ...  141971   \n",
      "10419  [{'id': 18, 'name': 'Drama'}, {'id': 80, 'name...   14788   \n",
      "12066  [{'id': 18, 'name': 'Drama'}, {'id': 80, 'name...   14788   \n",
      "5130   [{'id': 12, 'name': 'Adventure'}, {'id': 10751...   15028   \n",
      "33743  [{'id': 12, 'name': 'Adventure'}, {'id': 10751...   15028   \n",
      "19925  [{'id': 18, 'name': 'Drama'}, {'id': 878, 'nam...  152795   \n",
      "21854  [{'id': 18, 'name': 'Drama'}, {'id': 878, 'nam...  152795   \n",
      "35798                [{'id': 99, 'name': 'Documentary'}]  159849   \n",
      "13220                [{'id': 99, 'name': 'Documentary'}]  159849   \n",
      "13603  [{'id': 18, 'name': 'Drama'}, {'id': 35, 'name...  168538   \n",
      "28860  [{'id': 18, 'name': 'Drama'}, {'id': 35, 'name...  168538   \n",
      "22151  [{'id': 28, 'name': 'Action'}, {'id': 27, 'nam...   18440   \n",
      "14000  [{'id': 28, 'name': 'Action'}, {'id': 27, 'nam...   18440   \n",
      "949    [{'id': 18, 'name': 'Drama'}, {'id': 10749, 'n...   22649   \n",
      "15074  [{'id': 18, 'name': 'Drama'}, {'id': 10749, 'n...   22649   \n",
      "8068   [{'id': 12, 'name': 'Adventure'}, {'id': 16, '...   23305   \n",
      "9327   [{'id': 12, 'name': 'Adventure'}, {'id': 16, '...   23305   \n",
      "17229                      [{'id': 18, 'name': 'Drama'}]   25541   \n",
      "23044                      [{'id': 18, 'name': 'Drama'}]   25541   \n",
      "24164  [{'id': 35, 'name': 'Comedy'}, {'id': 18, 'nam...  265189   \n",
      "45265  [{'id': 35, 'name': 'Comedy'}, {'id': 18, 'nam...  265189   \n",
      "33184  [{'id': 18, 'name': 'Drama'}, {'id': 14, 'name...  298721   \n",
      "40040  [{'id': 18, 'name': 'Drama'}, {'id': 14, 'name...  298721   \n",
      "15702  [{'id': 18, 'name': 'Drama'}, {'id': 10769, 'n...   42495   \n",
      "29374  [{'id': 18, 'name': 'Drama'}, {'id': 10769, 'n...   42495   \n",
      "33826  [{'id': 35, 'name': 'Comedy'}, {'id': 80, 'nam...    4912   \n",
      "5865   [{'id': 35, 'name': 'Comedy'}, {'id': 80, 'nam...    4912   \n",
      "7345   [{'id': 80, 'name': 'Crime'}, {'id': 18, 'name...    5511   \n",
      "9165   [{'id': 80, 'name': 'Crime'}, {'id': 18, 'name...    5511   \n",
      "26625  [{'id': 18, 'name': 'Drama'}, {'id': 27, 'name...   69234   \n",
      "9576   [{'id': 18, 'name': 'Drama'}, {'id': 27, 'name...   69234   \n",
      "20843  [{'id': 12, 'name': 'Adventure'}, {'id': 18, '...   77221   \n",
      "11155  [{'id': 12, 'name': 'Adventure'}, {'id': 18, '...   77221   \n",
      "2564                 [{'id': 99, 'name': 'Documentary'}]   84198   \n",
      "21116                [{'id': 99, 'name': 'Documentary'}]   84198   \n",
      "13946                     [{'id': 35, 'name': 'Comedy'}]   97995   \n",
      "40276                     [{'id': 35, 'name': 'Comedy'}]   97995   \n",
      "38871  [{'id': 28, 'name': 'Action'}, {'id': 18, 'nam...   99080   \n",
      "16167  [{'id': 28, 'name': 'Action'}, {'id': 18, 'nam...   99080   \n",
      "\n",
      "      original_language                                           overview  \\\n",
      "676                  de  East-Berlin, 1961, shortly after the erection ...   \n",
      "1465                 de  East-Berlin, 1961, shortly after the erection ...   \n",
      "44821                ja  When Molly Hale's sadness of her father's disa...   \n",
      "4114                 ja  When Molly Hale's sadness of her father's disa...   \n",
      "5710                 en  Two literary women compete for 20 years: one w...   \n",
      "20899                en  Two literary women compete for 20 years: one w...   \n",
      "23534                fr  Winter, 1915. Confined by her family to an asy...   \n",
      "4356                 fr  Winter, 1915. Confined by her family to an asy...   \n",
      "24844                en  As an ex-gambler teaches a hot-shot college ki...   \n",
      "14012                en  As an ex-gambler teaches a hot-shot college ki...   \n",
      "21165                en  Prospero, the true Duke of Milan is now living...   \n",
      "19890                en  Prospero, the true Duke of Milan is now living...   \n",
      "5535                 ja  All your favorite Pokémon characters are back,...   \n",
      "44826                ja  All your favorite Pokémon characters are back,...   \n",
      "11342                fa  Since women are banned from soccer matches, Ir...   \n",
      "15765                fa  Since women are banned from soccer matches, Ir...   \n",
      "838                  ja  Ten years into a marriage, the wife is disappo...   \n",
      "30001                ja  Ten years into a marriage, the wife is disappo...   \n",
      "16764                fi  Recovering from a nail gun shot to the head an...   \n",
      "13261                fi  Recovering from a nail gun shot to the head an...   \n",
      "13375                fi  Recovering from a nail gun shot to the head an...   \n",
      "10419                en  Set against the backdrop of a decaying Midwest...   \n",
      "12066                en  Set against the backdrop of a decaying Midwest...   \n",
      "5130                 en  Until now, Zak Gibbs' greatest challenge has b...   \n",
      "33743                en  Until now, Zak Gibbs' greatest challenge has b...   \n",
      "19925                en  More than two decades after catapulting to sta...   \n",
      "21854                en  More than two decades after catapulting to sta...   \n",
      "35798                en  The third film of Frank Capra's 'Why We Fight\"...   \n",
      "13220                en  The third film of Frank Capra's 'Why We Fight\"...   \n",
      "13603                en  In Zola's Paris, an ingenue arrives at a tony ...   \n",
      "28860                en  In Zola's Paris, an ingenue arrives at a tony ...   \n",
      "22151                en  When a comet strikes Earth and kicks up a clou...   \n",
      "14000                en  When a comet strikes Earth and kicks up a clou...   \n",
      "949                  en  British nurse Catherine Barkley (Helen Hayes) ...   \n",
      "15074                en  British nurse Catherine Barkley (Helen Hayes) ...   \n",
      "8068                 en  In feudal India, a warrior (Khan) who renounce...   \n",
      "9327                 en  In feudal India, a warrior (Khan) who renounce...   \n",
      "17229                da  Former Danish servicemen Lars and Jimmy are th...   \n",
      "23044                da  Former Danish servicemen Lars and Jimmy are th...   \n",
      "24164                sv  While holidaying in the French Alps, a Swedish...   \n",
      "45265                sv  While holidaying in the French Alps, a Swedish...   \n",
      "33184                th  In a hospital, ten soldiers are being treated ...   \n",
      "40040                th  In a hospital, ten soldiers are being treated ...   \n",
      "15702                en  King Lear, old and tired, divides his kingdom ...   \n",
      "29374                en  King Lear, old and tired, divides his kingdom ...   \n",
      "33826                en  Television made him famous, but his biggest hi...   \n",
      "5865                 en  Television made him famous, but his biggest hi...   \n",
      "7345                 fr  Hitman Jef Costello is a perfectionist who alw...   \n",
      "9165                 fr  Hitman Jef Costello is a perfectionist who alw...   \n",
      "26625                en  Count de Chagnie has discovered Christine's si...   \n",
      "9576                 en  Count de Chagnie has discovered Christine's si...   \n",
      "20843                en  On the Arabian Peninsula in the 1930s, two war...   \n",
      "11155                en  On the Arabian Peninsula in the 1930s, two war...   \n",
      "2564                 en  Using personal stories, this powerful document...   \n",
      "21116                en  Using personal stories, this powerful document...   \n",
      "13946                en  After breaking a mirror in his home, superstit...   \n",
      "40276                en  After breaking a mirror in his home, superstit...   \n",
      "38871                en  Originally called White Thunder, American prod...   \n",
      "16167                en  Originally called White Thunder, American prod...   \n",
      "\n",
      "      popularity                               production_companies  \\\n",
      "676     0.122178  [{'name': 'Studio Babelsberg', 'id': 264}, {'n...   \n",
      "1465    0.122178  [{'name': 'Studio Babelsberg', 'id': 264}, {'n...   \n",
      "44821   6.480376  [{'name': 'TV Tokyo', 'id': 3034}, {'name': '4...   \n",
      "4114   10.264597  [{'name': 'TV Tokyo', 'id': 3034}, {'name': '4...   \n",
      "5710   12.180836  [{'name': 'Metro-Goldwyn-Mayer (MGM)', 'id': 8...   \n",
      "20899  10.396878  [{'name': 'Metro-Goldwyn-Mayer (MGM)', 'id': 8...   \n",
      "23534   0.110065  [{'name': 'Canal+', 'id': 5358}, {'name': 'Art...   \n",
      "4356    0.134014  [{'name': 'Canal+', 'id': 5358}, {'name': 'Art...   \n",
      "24844   6.880365  [{'name': 'Andertainment Group', 'id': 2634}, ...   \n",
      "14012   6.880365  [{'name': 'Andertainment Group', 'id': 2634}, ...   \n",
      "21165   0.000018                                                 []   \n",
      "19890   0.000018                                                 []   \n",
      "5535    7.072301                                                 []   \n",
      "44826   6.080108                                                 []   \n",
      "11342    1.52896  [{'name': 'Jafar Panahi Film Productions', 'id...   \n",
      "15765   1.529879  [{'name': 'Jafar Panahi Film Productions', 'id...   \n",
      "838     0.096079              [{'name': 'Toho Company', 'id': 882}]   \n",
      "30001   0.619388              [{'name': 'Toho Company', 'id': 882}]   \n",
      "16764   0.411949     [{'name': 'Filmiteollisuus Fine', 'id': 5166}]   \n",
      "13261   0.411949     [{'name': 'Filmiteollisuus Fine', 'id': 5166}]   \n",
      "13375   0.411949     [{'name': 'Filmiteollisuus Fine', 'id': 5166}]   \n",
      "10419   3.185256  [{'name': 'Magnolia Pictures', 'id': 1030}, {'...   \n",
      "12066   3.008299  [{'name': 'Magnolia Pictures', 'id': 1030}, {'...   \n",
      "5130    5.373623  [{'name': 'Paramount Pictures', 'id': 4}, {'na...   \n",
      "33743   4.920175  [{'name': 'Paramount Pictures', 'id': 4}, {'na...   \n",
      "19925   8.534039  [{'name': 'Pandora Filmproduktion', 'id': 254}...   \n",
      "21854   8.534039  [{'name': 'Pandora Filmproduktion', 'id': 254}...   \n",
      "35798   0.473322                                                 []   \n",
      "13220   0.473322                                                 []   \n",
      "13603   1.276602  [{'name': 'Cannon Group', 'id': 1444}, {'name'...   \n",
      "28860   1.276602  [{'name': 'Cannon Group', 'id': 1444}, {'name'...   \n",
      "22151   1.436085                                                 []   \n",
      "14000   1.436085                                                 []   \n",
      "949     1.914697          [{'name': 'Paramount Pictures', 'id': 4}]   \n",
      "15074   2.411191          [{'name': 'Paramount Pictures', 'id': 4}]   \n",
      "8068    1.967992                 [{'name': 'Filmfour', 'id': 6705}]   \n",
      "9327    1.967992                 [{'name': 'Filmfour', 'id': 6705}]   \n",
      "17229   2.587911                                                 []   \n",
      "23044   2.587911                                                 []   \n",
      "24164  12.165685  [{'name': 'Motlys', 'id': 2783}, {'name': 'Cop...   \n",
      "45265  12.165685  [{'name': 'Motlys', 'id': 2783}, {'name': 'Cop...   \n",
      "33184   2.535419  [{'name': 'Match Factory, The', 'id': 7306}, {...   \n",
      "40040   2.535419  [{'name': 'Match Factory, The', 'id': 7306}, {...   \n",
      "15702   0.187901  [{'name': 'Royal Shakespeare Company', 'id': 5...   \n",
      "29374   0.187901  [{'name': 'Royal Shakespeare Company', 'id': 5...   \n",
      "33826   7.645827  [{'name': 'Miramax Films', 'id': 14}, {'name':...   \n",
      "5865   11.331072  [{'name': 'Miramax Films', 'id': 14}, {'name':...   \n",
      "7345    9.091288  [{'name': 'Fida cinematografica', 'id': 73}, {...   \n",
      "9165    9.091288  [{'name': 'Fida cinematografica', 'id': 73}, {...   \n",
      "26625    0.43849  [{'name': 'Beta Film', 'id': 1080}, {'name': '...   \n",
      "9576    0.441872  [{'name': 'Beta Film', 'id': 1080}, {'name': '...   \n",
      "20843   6.475665  [{'name': 'France 2 Cinéma', 'id': 83}, {'name...   \n",
      "11155   6.652197  [{'name': 'France 2 Cinéma', 'id': 83}, {'name...   \n",
      "2564    0.501046                                                 []   \n",
      "21116   1.673307                                                 []   \n",
      "13946   0.141558  [{'name': 'Max Linder Productions', 'id': 38162}]   \n",
      "40276   0.141558  [{'name': 'Max Linder Productions', 'id': 38162}]   \n",
      "38871   0.002362                                                 []   \n",
      "16167   0.002362                                                 []   \n",
      "\n",
      "                                    production_countries release_date  ...  \\\n",
      "676            [{'iso_3166_1': 'DE', 'name': 'Germany'}]   1995-02-16  ...   \n",
      "1465           [{'iso_3166_1': 'DE', 'name': 'Germany'}]   1995-02-16  ...   \n",
      "44821            [{'iso_3166_1': 'JP', 'name': 'Japan'}]   2000-07-08  ...   \n",
      "4114             [{'iso_3166_1': 'JP', 'name': 'Japan'}]   2000-07-08  ...   \n",
      "5710   [{'iso_3166_1': 'US', 'name': 'United States o...   1981-09-23  ...   \n",
      "20899  [{'iso_3166_1': 'US', 'name': 'United States o...   1981-09-23  ...   \n",
      "23534           [{'iso_3166_1': 'FR', 'name': 'France'}]   2013-03-13  ...   \n",
      "4356            [{'iso_3166_1': 'FR', 'name': 'France'}]   2013-03-13  ...   \n",
      "24844  [{'iso_3166_1': 'US', 'name': 'United States o...   2008-01-29  ...   \n",
      "14012  [{'iso_3166_1': 'US', 'name': 'United States o...   2008-01-29  ...   \n",
      "21165                                                 []   1980-02-27  ...   \n",
      "19890                                                 []   1980-02-27  ...   \n",
      "5535   [{'iso_3166_1': 'JP', 'name': 'Japan'}, {'iso_...   2001-07-06  ...   \n",
      "44826  [{'iso_3166_1': 'JP', 'name': 'Japan'}, {'iso_...   2001-07-06  ...   \n",
      "11342             [{'iso_3166_1': 'IR', 'name': 'Iran'}]   2006-05-26  ...   \n",
      "15765             [{'iso_3166_1': 'IR', 'name': 'Iran'}]   2006-05-26  ...   \n",
      "838              [{'iso_3166_1': 'JP', 'name': 'Japan'}]   1953-04-29  ...   \n",
      "30001            [{'iso_3166_1': 'JP', 'name': 'Japan'}]   1953-04-29  ...   \n",
      "16764          [{'iso_3166_1': 'FI', 'name': 'Finland'}]   2008-12-26  ...   \n",
      "13261          [{'iso_3166_1': 'FI', 'name': 'Finland'}]   2008-12-26  ...   \n",
      "13375          [{'iso_3166_1': 'FI', 'name': 'Finland'}]   2008-12-26  ...   \n",
      "10419  [{'iso_3166_1': 'US', 'name': 'United States o...   2005-09-03  ...   \n",
      "12066  [{'iso_3166_1': 'US', 'name': 'United States o...   2005-09-03  ...   \n",
      "5130   [{'iso_3166_1': 'US', 'name': 'United States o...   2002-03-17  ...   \n",
      "33743  [{'iso_3166_1': 'US', 'name': 'United States o...   2002-03-17  ...   \n",
      "19925  [{'iso_3166_1': 'BE', 'name': 'Belgium'}, {'is...   2013-05-16  ...   \n",
      "21854  [{'iso_3166_1': 'BE', 'name': 'Belgium'}, {'is...   2013-05-16  ...   \n",
      "35798  [{'iso_3166_1': 'US', 'name': 'United States o...   1943-01-01  ...   \n",
      "13220  [{'iso_3166_1': 'US', 'name': 'United States o...   1943-01-01  ...   \n",
      "13603                                                 []   1983-06-13  ...   \n",
      "28860                                                 []   1983-06-13  ...   \n",
      "22151  [{'iso_3166_1': 'US', 'name': 'United States o...   2007-01-01  ...   \n",
      "14000  [{'iso_3166_1': 'US', 'name': 'United States o...   2007-01-01  ...   \n",
      "949    [{'iso_3166_1': 'US', 'name': 'United States o...   1932-12-08  ...   \n",
      "15074  [{'iso_3166_1': 'US', 'name': 'United States o...   1932-12-08  ...   \n",
      "8068   [{'iso_3166_1': 'FR', 'name': 'France'}, {'iso...   2001-09-23  ...   \n",
      "9327   [{'iso_3166_1': 'FR', 'name': 'France'}, {'iso...   2001-09-23  ...   \n",
      "17229  [{'iso_3166_1': 'SE', 'name': 'Sweden'}, {'iso...   2009-10-21  ...   \n",
      "23044  [{'iso_3166_1': 'SE', 'name': 'Sweden'}, {'iso...   2009-10-21  ...   \n",
      "24164  [{'iso_3166_1': 'NO', 'name': 'Norway'}, {'iso...   2014-08-15  ...   \n",
      "45265  [{'iso_3166_1': 'NO', 'name': 'Norway'}, {'iso...   2014-08-15  ...   \n",
      "33184  [{'iso_3166_1': 'GB', 'name': 'United Kingdom'...   2015-09-02  ...   \n",
      "40040  [{'iso_3166_1': 'GB', 'name': 'United Kingdom'...   2015-09-02  ...   \n",
      "15702  [{'iso_3166_1': 'DK', 'name': 'Denmark'}, {'is...   1971-02-04  ...   \n",
      "29374  [{'iso_3166_1': 'DK', 'name': 'Denmark'}, {'is...   1971-02-04  ...   \n",
      "33826  [{'iso_3166_1': 'US', 'name': 'United States o...   2002-12-30  ...   \n",
      "5865   [{'iso_3166_1': 'US', 'name': 'United States o...   2002-12-30  ...   \n",
      "7345   [{'iso_3166_1': 'FR', 'name': 'France'}, {'iso...   1967-10-25  ...   \n",
      "9165   [{'iso_3166_1': 'FR', 'name': 'France'}, {'iso...   1967-10-25  ...   \n",
      "26625  [{'iso_3166_1': 'FR', 'name': 'France'}, {'iso...   1990-03-18  ...   \n",
      "9576   [{'iso_3166_1': 'FR', 'name': 'France'}, {'iso...   1990-03-18  ...   \n",
      "20843  [{'iso_3166_1': 'FR', 'name': 'France'}, {'iso...   2011-12-21  ...   \n",
      "11155  [{'iso_3166_1': 'FR', 'name': 'France'}, {'iso...   2011-12-21  ...   \n",
      "2564   [{'iso_3166_1': 'US', 'name': 'United States o...   2012-03-22  ...   \n",
      "21116  [{'iso_3166_1': 'US', 'name': 'United States o...   2012-03-22  ...   \n",
      "13946  [{'iso_3166_1': 'US', 'name': 'United States o...   1921-02-06  ...   \n",
      "40276  [{'iso_3166_1': 'US', 'name': 'United States o...   1921-02-06  ...   \n",
      "38871                                                 []   1931-06-21  ...   \n",
      "16167                                                 []   1931-06-21  ...   \n",
      "\n",
      "                                             title  vote_average vote_count  \\\n",
      "676                                    The Promise           5.0        1.0   \n",
      "1465                                   The Promise           5.0        1.0   \n",
      "44821                Pokémon: Spell of the Unknown           6.0      144.0   \n",
      "4114                 Pokémon: Spell of the Unknown           6.0      143.0   \n",
      "5710                               Rich and Famous           4.9        7.0   \n",
      "20899                              Rich and Famous           4.9        7.0   \n",
      "23534                         Camille Claudel 1915           7.0       20.0   \n",
      "4356                          Camille Claudel 1915           7.0       20.0   \n",
      "24844                                         Deal           5.2       22.0   \n",
      "14012                                         Deal           5.2       22.0   \n",
      "21165                                  The Tempest           0.0        0.0   \n",
      "19890                                  The Tempest           0.0        0.0   \n",
      "5535   Pokémon 4Ever: Celebi - Voice of the Forest           5.7       82.0   \n",
      "44826  Pokémon 4Ever: Celebi - Voice of the Forest           5.7       82.0   \n",
      "11342                                      Offside           6.7       27.0   \n",
      "15765                                      Offside           6.7       27.0   \n",
      "838                                           Wife           0.0        0.0   \n",
      "30001                                         Wife           0.0        0.0   \n",
      "16764                                     Blackout           6.7        3.0   \n",
      "13261                                     Blackout           6.7        3.0   \n",
      "13375                                     Blackout           6.7        3.0   \n",
      "10419                                       Bubble           6.4       36.0   \n",
      "12066                                       Bubble           6.4       36.0   \n",
      "5130                                 Clockstoppers           4.9       89.0   \n",
      "33743                                Clockstoppers           4.9       90.0   \n",
      "19925                                 The Congress           6.4      165.0   \n",
      "21854                                 The Congress           6.4      165.0   \n",
      "35798             Why We Fight: Divide and Conquer           5.0        1.0   \n",
      "13220             Why We Fight: Divide and Conquer           5.0        1.0   \n",
      "13603               Nana, the True Key of Pleasure           4.7        3.0   \n",
      "28860               Nana, the True Key of Pleasure           4.7        3.0   \n",
      "22151                             Days of Darkness           5.0        5.0   \n",
      "14000                             Days of Darkness           5.0        5.0   \n",
      "949                             A Farewell to Arms           6.2       29.0   \n",
      "15074                           A Farewell to Arms           6.2       29.0   \n",
      "8068                                   The Warrior           6.3       15.0   \n",
      "9327                                   The Warrior           6.3       15.0   \n",
      "17229                                  Brotherhood           7.1       21.0   \n",
      "23044                                  Brotherhood           7.1       21.0   \n",
      "24164                                Force Majeure           6.8      255.0   \n",
      "45265                                Force Majeure           6.8      255.0   \n",
      "33184                        Cemetery of Splendour           4.4       50.0   \n",
      "40040                        Cemetery of Splendour           4.4       50.0   \n",
      "15702                                    King Lear           8.0        3.0   \n",
      "29374                                    King Lear           8.0        3.0   \n",
      "33826              Confessions of a Dangerous Mind           6.6      281.0   \n",
      "5865               Confessions of a Dangerous Mind           6.6      281.0   \n",
      "7345                                   Le Samouraï           7.9      187.0   \n",
      "9165                                   Le Samouraï           7.9      187.0   \n",
      "26625                     The Phantom of the Opera           5.0        3.0   \n",
      "9576                      The Phantom of the Opera           5.0        3.0   \n",
      "20843                                   Black Gold           5.9       77.0   \n",
      "11155                                   Black Gold           5.9       77.0   \n",
      "2564                          A Place at the Table           6.9        7.0   \n",
      "21116                         A Place at the Table           6.9        7.0   \n",
      "13946                         Seven Years Bad Luck           5.6        4.0   \n",
      "40276                         Seven Years Bad Luck           5.6        4.0   \n",
      "38871                                   The Viking           0.0        0.0   \n",
      "16167                                   The Viking           0.0        0.0   \n",
      "\n",
      "               Franquicia                                            Generos  \\\n",
      "676                                                            Drama,Romance   \n",
      "1465                                                           Drama,Romance   \n",
      "44821  Pokémon Collection          Adventure,Fantasy,Animation,Action,Family   \n",
      "4114   Pokémon Collection          Adventure,Fantasy,Animation,Action,Family   \n",
      "5710                                                                   Drama   \n",
      "20899                                                                  Drama   \n",
      "23534                                                                  Drama   \n",
      "4356                                                                   Drama   \n",
      "24844                                                           Comedy,Drama   \n",
      "14012                                                           Comedy,Drama   \n",
      "21165                                          Fantasy,Drama,Science Fiction   \n",
      "19890                                          Fantasy,Drama,Science Fiction   \n",
      "5535   Pokémon Collection  Adventure,Fantasy,Animation,Science Fiction,Fa...   \n",
      "44826  Pokémon Collection  Adventure,Fantasy,Animation,Science Fiction,Fa...   \n",
      "11342                                                   Drama,Comedy,Foreign   \n",
      "15765                                                   Drama,Comedy,Foreign   \n",
      "838                                                                    Drama   \n",
      "30001                                                                  Drama   \n",
      "16764                                                       Thriller,Mystery   \n",
      "13261                                                       Thriller,Mystery   \n",
      "13375                                                       Thriller,Mystery   \n",
      "10419                                                    Drama,Crime,Mystery   \n",
      "12066                                                    Drama,Crime,Mystery   \n",
      "5130                               Adventure,Family,Science Fiction,Thriller   \n",
      "33743                              Adventure,Family,Science Fiction,Thriller   \n",
      "19925                                        Drama,Science Fiction,Animation   \n",
      "21854                                        Drama,Science Fiction,Animation   \n",
      "35798        Why We Fight                                        Documentary   \n",
      "13220        Why We Fight                                        Documentary   \n",
      "13603                                                           Drama,Comedy   \n",
      "28860                                                           Drama,Comedy   \n",
      "22151                                          Action,Horror,Science Fiction   \n",
      "14000                                          Action,Horror,Science Fiction   \n",
      "949                                                        Drama,Romance,War   \n",
      "15074                                                      Drama,Romance,War   \n",
      "8068                                Adventure,Animation,Drama,Action,Foreign   \n",
      "9327                                Adventure,Animation,Drama,Action,Foreign   \n",
      "17229                                                                  Drama   \n",
      "23044                                                                  Drama   \n",
      "24164                                                           Comedy,Drama   \n",
      "45265                                                           Comedy,Drama   \n",
      "33184                                                          Drama,Fantasy   \n",
      "40040                                                          Drama,Fantasy   \n",
      "15702                                                          Drama,Foreign   \n",
      "29374                                                          Drama,Foreign   \n",
      "33826                                    Comedy,Crime,Drama,Romance,Thriller   \n",
      "5865                                     Comedy,Crime,Drama,Romance,Thriller   \n",
      "7345                                                    Crime,Drama,Thriller   \n",
      "9165                                                    Crime,Drama,Thriller   \n",
      "26625                                    Drama,Horror,Music,Romance,TV Movie   \n",
      "9576                                     Drama,Horror,Music,Romance,TV Movie   \n",
      "20843                                                        Adventure,Drama   \n",
      "11155                                                        Adventure,Drama   \n",
      "2564                                                             Documentary   \n",
      "21116                                                            Documentary   \n",
      "13946                                                                 Comedy   \n",
      "40276                                                                 Comedy   \n",
      "38871                                         Action,Drama,Romance,Adventure   \n",
      "16167                                         Action,Drama,Romance,Adventure   \n",
      "\n",
      "                                             Productores  \\\n",
      "676    Studio Babelsberg,Centre National de la Cinéma...   \n",
      "1465   Studio Babelsberg,Centre National de la Cinéma...   \n",
      "44821  TV Tokyo,4 Kids Entertainment,Nintendo,Pikachu...   \n",
      "4114   TV Tokyo,4 Kids Entertainment,Nintendo,Pikachu...   \n",
      "5710                    Metro-Goldwyn-Mayer (MGM),Jaquet   \n",
      "20899                   Metro-Goldwyn-Mayer (MGM),Jaquet   \n",
      "23534  Canal+,Arte France Cinéma,3B Productions,C.R.R...   \n",
      "4356   Canal+,Arte France Cinéma,3B Productions,C.R.R...   \n",
      "24844  Andertainment Group,Crescent City Pictures,Tag...   \n",
      "14012  Andertainment Group,Crescent City Pictures,Tag...   \n",
      "21165                                                      \n",
      "19890                                                      \n",
      "5535                                                       \n",
      "44826                                                      \n",
      "11342                      Jafar Panahi Film Productions   \n",
      "15765                      Jafar Panahi Film Productions   \n",
      "838                                         Toho Company   \n",
      "30001                                       Toho Company   \n",
      "16764                               Filmiteollisuus Fine   \n",
      "13261                               Filmiteollisuus Fine   \n",
      "13375                               Filmiteollisuus Fine   \n",
      "10419                    Magnolia Pictures,Extension 765   \n",
      "12066                    Magnolia Pictures,Extension 765   \n",
      "5130   Paramount Pictures,Nickelodeon Movies,Valhalla...   \n",
      "33743  Paramount Pictures,Nickelodeon Movies,Valhalla...   \n",
      "19925  Pandora Filmproduktion,Entre Chien et Loup,Opu...   \n",
      "21854  Pandora Filmproduktion,Entre Chien et Loup,Opu...   \n",
      "35798                                                      \n",
      "13220                                                      \n",
      "13603             Cannon Group,Metro-Goldwyn-Mayer (MGM)   \n",
      "28860             Cannon Group,Metro-Goldwyn-Mayer (MGM)   \n",
      "22151                                                      \n",
      "14000                                                      \n",
      "949                                   Paramount Pictures   \n",
      "15074                                 Paramount Pictures   \n",
      "8068                                            Filmfour   \n",
      "9327                                            Filmfour   \n",
      "17229                                                      \n",
      "23044                                                      \n",
      "24164             Motlys,Coproduction Office,Film i Väst   \n",
      "45265             Motlys,Coproduction Office,Film i Väst   \n",
      "33184  Match Factory, The,Louverture Films,Tordenfilm...   \n",
      "40040  Match Factory, The,Louverture Films,Tordenfilm...   \n",
      "15702  Royal Shakespeare Company,Laterna Film,Athena ...   \n",
      "29374  Royal Shakespeare Company,Laterna Film,Athena ...   \n",
      "33826         Miramax Films,Allied Filmmakers,Mad Chance   \n",
      "5865          Miramax Films,Allied Filmmakers,Mad Chance   \n",
      "7345   Fida cinematografica,Compagnie Industrielle et...   \n",
      "9165   Fida cinematografica,Compagnie Industrielle et...   \n",
      "26625  Beta Film,Reteitalia,TF1,Hexatel,Saban/Scheric...   \n",
      "9576   Beta Film,Reteitalia,TF1,Hexatel,Saban/Scheric...   \n",
      "20843  France 2 Cinéma,Quinta Communications,Carthago...   \n",
      "11155  France 2 Cinéma,Quinta Communications,Carthago...   \n",
      "2564                                                       \n",
      "21116                                                      \n",
      "13946                             Max Linder Productions   \n",
      "40276                             Max Linder Productions   \n",
      "38871                                                      \n",
      "16167                                                      \n",
      "\n",
      "                                                  Paises  \\\n",
      "676                                              Germany   \n",
      "1465                                             Germany   \n",
      "44821                                              Japan   \n",
      "4114                                               Japan   \n",
      "5710                            United States of America   \n",
      "20899                           United States of America   \n",
      "23534                                             France   \n",
      "4356                                              France   \n",
      "24844                           United States of America   \n",
      "14012                           United States of America   \n",
      "21165                                                      \n",
      "19890                                                      \n",
      "5535                      Japan,United States of America   \n",
      "44826                     Japan,United States of America   \n",
      "11342                                               Iran   \n",
      "15765                                               Iran   \n",
      "838                                                Japan   \n",
      "30001                                              Japan   \n",
      "16764                                            Finland   \n",
      "13261                                            Finland   \n",
      "13375                                            Finland   \n",
      "10419                           United States of America   \n",
      "12066                           United States of America   \n",
      "5130                            United States of America   \n",
      "33743                           United States of America   \n",
      "19925    Belgium,France,Germany,Israel,Luxembourg,Poland   \n",
      "21854    Belgium,France,Germany,Israel,Luxembourg,Poland   \n",
      "35798                           United States of America   \n",
      "13220                           United States of America   \n",
      "13603                                                      \n",
      "28860                                                      \n",
      "22151                           United States of America   \n",
      "14000                           United States of America   \n",
      "949                             United States of America   \n",
      "15074                           United States of America   \n",
      "8068                 France,Germany,India,United Kingdom   \n",
      "9327                 France,Germany,India,United Kingdom   \n",
      "17229                                     Sweden,Denmark   \n",
      "23044                                     Sweden,Denmark   \n",
      "24164                               Norway,Sweden,France   \n",
      "45265                               Norway,Sweden,France   \n",
      "33184  United Kingdom,United States of America,France...   \n",
      "40040  United Kingdom,United States of America,France...   \n",
      "15702                             Denmark,United Kingdom   \n",
      "29374                             Denmark,United Kingdom   \n",
      "33826                           United States of America   \n",
      "5865                            United States of America   \n",
      "7345                                        France,Italy   \n",
      "9165                                        France,Italy   \n",
      "26625      France,Germany,Italy,United States of America   \n",
      "9576       France,Germany,Italy,United States of America   \n",
      "20843                         France,Italy,Qatar,Tunisia   \n",
      "11155                         France,Italy,Qatar,Tunisia   \n",
      "2564                            United States of America   \n",
      "21116                           United States of America   \n",
      "13946                           United States of America   \n",
      "40276                           United States of America   \n",
      "38871                                                      \n",
      "16167                                                      \n",
      "\n",
      "                             IdiomasH  Anio    return  \n",
      "676                           Deutsch  1995  0.000000  \n",
      "1465                          Deutsch  1995  0.000000  \n",
      "44821                         English  2000  4.275705  \n",
      "4114                          English  2000  4.275705  \n",
      "5710                          English  1981  0.000000  \n",
      "20899                         English  1981  0.000000  \n",
      "23534                        Français  2013  0.032985  \n",
      "4356                         Français  2013  0.032985  \n",
      "24844                         English  2008  0.000000  \n",
      "14012                         English  2008  0.000000  \n",
      "21165                                  1980  0.000000  \n",
      "19890                                  1980  0.000000  \n",
      "5535                              日本語  2001  0.000000  \n",
      "44826                             日本語  2001  0.000000  \n",
      "11342                           فارسی  2006  0.000000  \n",
      "15765                           فارسی  2006  0.000000  \n",
      "838                               日本語  1953  0.000000  \n",
      "30001                             日本語  1953  0.000000  \n",
      "16764                           suomi  2008  0.000000  \n",
      "13261                           suomi  2008  0.000000  \n",
      "13375                           suomi  2008  0.000000  \n",
      "10419                         English  2005  0.000000  \n",
      "12066                         English  2005  0.000000  \n",
      "5130                    Český,English  2002  1.492049  \n",
      "33743                   Český,English  2002  1.492049  \n",
      "19925                         English  2013  0.000000  \n",
      "21854                         English  2013  0.000000  \n",
      "35798                         English  1943  0.000000  \n",
      "13220                         English  1943  0.000000  \n",
      "13603                                  1983  0.000000  \n",
      "28860                                  1983  0.000000  \n",
      "22151                         English  2007  0.000000  \n",
      "14000                         English  2007  0.000000  \n",
      "949                           English  1932  6.250000  \n",
      "15074                         English  1932  6.250000  \n",
      "8068                           हिन्दी  2001  0.000000  \n",
      "9327                           हिन्दी  2001  0.000000  \n",
      "17229                           Dansk  2009  0.000000  \n",
      "23044                           Dansk  2009  0.000000  \n",
      "24164  Français,Norsk,svenska,English  2014  0.000000  \n",
      "45265  Français,Norsk,svenska,English  2014  0.000000  \n",
      "33184                 English,ภาษาไทย  2015  0.000000  \n",
      "40040                 English,ภาษาไทย  2015  0.000000  \n",
      "15702                         English  1971  0.000000  \n",
      "29374                         English  1971  0.000000  \n",
      "33826                         English  2002  1.100460  \n",
      "5865                          English  2002  1.100460  \n",
      "7345                         Français  1967  0.000000  \n",
      "9165                         Français  1967  0.000000  \n",
      "26625                English,Italiano  1990  0.000000  \n",
      "9576                 English,Italiano  1990  0.000000  \n",
      "20843                         English  2011  0.136150  \n",
      "11155                         English  2011  0.136150  \n",
      "2564                          English  2012  0.000000  \n",
      "21116                         English  2012  0.000000  \n",
      "13946                         English  1921  0.000000  \n",
      "40276                         English  1921  0.000000  \n",
      "38871                         English  1931  0.000000  \n",
      "16167                         English  1931  0.000000  \n",
      "\n",
      "[59 rows x 25 columns]\n"
     ]
    }
   ],
   "source": [
    "### Visualizando y validando los datos de cada registros duplicados de df_credits; ordenados por el codigo de la película:\n",
    "DataSets = 'df_movies'\n",
    "print(f\"Visualización del Dataset: {DataSets}: \\n\\n, {df_movies[df_movies.duplicated(subset=['id'], keep=False)].sort_values(by=['id'])}\")"
   ]
  },
  {
   "cell_type": "code",
   "execution_count": 409,
   "metadata": {},
   "outputs": [
    {
     "name": "stdout",
     "output_type": "stream",
     "text": [
      "Visualización del Dataset: df_credits: \n",
      "\n",
      ",                                                     cast  \\\n",
      "25885  [{'cast_id': 12, 'character': 'The Creature', ...   \n",
      "25950  [{'cast_id': 12, 'character': 'The Creature', ...   \n",
      "33838  [{'cast_id': 15, 'character': 'Chuck Barris', ...   \n",
      "5865   [{'cast_id': 15, 'character': 'Chuck Barris', ...   \n",
      "9165   [{'cast_id': 11, 'character': 'Jef Costello', ...   \n",
      "...                                                  ...   \n",
      "25887  [{'cast_id': 7, 'character': 'Hollander', 'cre...   \n",
      "24163  [{'cast_id': 2, 'character': 'Ebba', 'credit_i...   \n",
      "45275  [{'cast_id': 2, 'character': 'Ebba', 'credit_i...   \n",
      "33196  [{'cast_id': 1, 'character': 'Jenjira', 'credi...   \n",
      "40051  [{'cast_id': 1, 'character': 'Jenjira', 'credi...   \n",
      "\n",
      "                                                    crew      id  \\\n",
      "25885  [{'credit_id': '52fe4380c3a36847f80590dd', 'de...    3057   \n",
      "25950  [{'credit_id': '52fe4380c3a36847f80590dd', 'de...    3057   \n",
      "33838  [{'credit_id': '52fe43e2c3a36847f80760a9', 'de...    4912   \n",
      "5865   [{'credit_id': '52fe43e2c3a36847f80760b5', 'de...    4912   \n",
      "9165   [{'credit_id': '52fe440ac3a36847f807ee01', 'de...    5511   \n",
      "...                                                  ...     ...   \n",
      "25887  [{'credit_id': '52fe4da29251416c9111ce5d', 'de...  199591   \n",
      "24163  [{'credit_id': '534fd1a80e0a267eb6000e32', 'de...  265189   \n",
      "45275  [{'credit_id': '534fd1a80e0a267eb6000e32', 'de...  265189   \n",
      "33196  [{'credit_id': '5448c8efc3a3680fb4001582', 'de...  298721   \n",
      "40051  [{'credit_id': '5739ceeac3a3683c9d000c12', 'de...  298721   \n",
      "\n",
      "                                               cast_name  \\\n",
      "25885  Luke Goss,Alec Newman,Julie Delpy,William Hurt...   \n",
      "25950  Luke Goss,Alec Newman,Julie Delpy,William Hurt...   \n",
      "33838  Sam Rockwell,Drew Barrymore,Julia Roberts,Rutg...   \n",
      "5865   Sam Rockwell,Drew Barrymore,Julia Roberts,Rutg...   \n",
      "9165   Alain Delon,François Périer,Nathalie Delon,Cat...   \n",
      "...                                                  ...   \n",
      "25887  Michael Keaton,Michelle Monaghan,Andrew W. Wal...   \n",
      "24163  Lisa Loven Kongsli,Johannes Bah Kuhnke,Clara W...   \n",
      "45275  Lisa Loven Kongsli,Johannes Bah Kuhnke,Clara W...   \n",
      "33196  Jenjira Pongpas,Banlop Lomnoi,Jarinpattra Ruea...   \n",
      "40051  Jenjira Pongpas,Banlop Lomnoi,Jarinpattra Ruea...   \n",
      "\n",
      "                                                crew_job  \\\n",
      "25885  Novel,Screenplay,Producer,Music,Director of Ph...   \n",
      "25950  Novel,Screenplay,Producer,Music,Director of Ph...   \n",
      "33838  Director,Novel,Screenplay,Producer,Executive P...   \n",
      "5865   Screenplay,Executive Producer,Executive Produc...   \n",
      "9165   Director of Photography,Producer,Screenplay,Di...   \n",
      "...                                                  ...   \n",
      "25887  Screenplay,Producer,Editor,Original Music Comp...   \n",
      "24163  Director,Writer,Producer,Producer,Producer,Co-...   \n",
      "45275  Director,Writer,Producer,Producer,Producer,Co-...   \n",
      "33196  Director,Screenplay,Producer,Producer,Director...   \n",
      "40051  Producer,Producer,Screenplay,Director,Producer...   \n",
      "\n",
      "                                               crew_name  \n",
      "25885  Mary Shelley,Mark Kruger,James Wilberger,Roger...  \n",
      "25950  Mary Shelley,Mark Kruger,James Wilberger,Roger...  \n",
      "33838  George Clooney,Chuck Barris,Charlie Kaufman,An...  \n",
      "5865   Charlie Kaufman,Bob Weinstein,Harvey Weinstein...  \n",
      "9165   Henri Decaë,Raymond Borderie,Jean-Pierre Melvi...  \n",
      "...                                                  ...  \n",
      "25887  David Loughery,David Loughery,Andrew Mondshein...  \n",
      "24163  Ruben Östlund,Ruben Östlund,Philippe Bober,Eri...  \n",
      "45275  Ruben Östlund,Ruben Östlund,Philippe Bober,Eri...  \n",
      "33196  Apichatpong Weerasethakul,Apichatpong Weeraset...  \n",
      "40051  Michael Weber,Hans W. Geißendörfer,Apichatpong...  \n",
      "\n",
      "[87 rows x 6 columns]\n"
     ]
    }
   ],
   "source": [
    "### Visualizando y validando los datos de cada registros duplicados de df_credits; ordenados por el codigo de la película:\n",
    "DataSets = 'df_credits'\n",
    "print(f\"Visualización del Dataset: {DataSets}: \\n\\n, {df_credits[df_credits.duplicated(subset=['id'], keep=False)].sort_values(by=['id'])}\")"
   ]
  },
  {
   "cell_type": "markdown",
   "metadata": {},
   "source": [
    "Eliminando Registros Duplicados"
   ]
  },
  {
   "cell_type": "code",
   "execution_count": 410,
   "metadata": {},
   "outputs": [
    {
     "data": {
      "text/plain": [
       "0"
      ]
     },
     "execution_count": 410,
     "metadata": {},
     "output_type": "execute_result"
    }
   ],
   "source": [
    "### Eliminando los valores duplicados en df_movies\n",
    "df_movies.drop_duplicates(subset=['id'], keep='first', inplace=True)\n",
    "df_movies[df_movies['id'].duplicated()].value_counts().sum()\n",
    "\n",
    "### Eliminando los valores duplicados en df_credits\n",
    "df_credits.drop_duplicates(subset=['id'], keep='first', inplace=True)\n",
    "df_credits[df_credits['id'].duplicated()].value_counts().sum()"
   ]
  },
  {
   "cell_type": "code",
   "execution_count": 411,
   "metadata": {},
   "outputs": [
    {
     "name": "stdout",
     "output_type": "stream",
     "text": [
      "Total de Registros Duplicados en: 'df_movies' =  0\n",
      "Total de Registros Duplicados en: 'df_credits' =  0\n"
     ]
    }
   ],
   "source": [
    "### Total de Registros duplicados en: \"df_movies\"\n",
    "print(\"Total de Registros Duplicados en: 'df_movies' = \", df_movies[df_movies['id'].duplicated()]['id'].count())\n",
    "\n",
    "### Total de Registros duplicados en: \"df_credits\"\n",
    "print(\"Total de Registros Duplicados en: 'df_credits' = \", df_credits[df_credits['id'].duplicated()]['id'].count())"
   ]
  },
  {
   "cell_type": "markdown",
   "metadata": {},
   "source": [
    "# 2) Analisís Exploratorios de los Datos (EDA)"
   ]
  },
  {
   "cell_type": "markdown",
   "metadata": {},
   "source": [
    "## 2.1) Preprocesamiento de Datos:"
   ]
  },
  {
   "cell_type": "markdown",
   "metadata": {},
   "source": [
    "+   2.1.1) Valores Faltantes\n",
    "+   2.1.2) Valores Atípicos\n",
    "+   2.1.3) Escalado / Normalizado\n",
    "+   2.1.4) Codificación de Variables\n",
    "+   2.1.5) Seleccion de atributos\n",
    "+   2.1.6) Ingeniería de Features"
   ]
  },
  {
   "cell_type": "markdown",
   "metadata": {},
   "source": [
    "### 2.1.1) Valores Faltantes"
   ]
  },
  {
   "cell_type": "code",
   "execution_count": 412,
   "metadata": {},
   "outputs": [
    {
     "name": "stdout",
     "output_type": "stream",
     "text": [
      "Valores Nulos del Dataset: 'df_movies' \n",
      "=====================================\n"
     ]
    },
    {
     "data": {
      "text/plain": [
       "belongs_to_collection    40861\n",
       "budget                       0\n",
       "genres                       0\n",
       "id                           0\n",
       "original_language           11\n",
       "overview                   941\n",
       "popularity                   0\n",
       "production_companies         0\n",
       "production_countries         0\n",
       "release_date                 0\n",
       "revenue                      0\n",
       "runtime                    246\n",
       "spoken_languages             0\n",
       "status                      80\n",
       "tagline                  24959\n",
       "title                        0\n",
       "vote_average                 0\n",
       "vote_count                   0\n",
       "Franquicia                   0\n",
       "Generos                      0\n",
       "Productores                  0\n",
       "Paises                       0\n",
       "IdiomasH                     0\n",
       "Anio                         0\n",
       "return                       0\n",
       "dtype: int64"
      ]
     },
     "execution_count": 412,
     "metadata": {},
     "output_type": "execute_result"
    }
   ],
   "source": [
    "### Valores nulos en cada columna de \"df_movies\"\n",
    "print(\"Valores Nulos del Dataset: 'df_movies' \")\n",
    "print(\"=\"*37)\n",
    "df_movies.isna().sum()"
   ]
  },
  {
   "cell_type": "markdown",
   "metadata": {},
   "source": [
    "Totalizando Valores Faltantes en cada DataSets:"
   ]
  },
  {
   "cell_type": "code",
   "execution_count": 413,
   "metadata": {},
   "outputs": [
    {
     "name": "stdout",
     "output_type": "stream",
     "text": [
      "Total de valores nulos en 'df_movies'=  67098\n",
      "Total de valores nulos en 'df_credits'=  0\n"
     ]
    }
   ],
   "source": [
    "#df_movies.isna().sum()\n",
    "### Total de valores nulos en \"df_movies\"\n",
    "print(\"Total de valores nulos en 'df_movies'= \", df_movies.isna().sum().sum())\n",
    "\n",
    "#df_movies.isna().sum()\n",
    "### Total de valores nulos en \"df_credits\"\n",
    "print(\"Total de valores nulos en 'df_credits'= \", df_credits.isna().sum().sum())"
   ]
  },
  {
   "cell_type": "markdown",
   "metadata": {},
   "source": [
    "El Datasets de 'df_credits' no refleja valores nulos. "
   ]
  },
  {
   "cell_type": "markdown",
   "metadata": {},
   "source": [
    "Revisando Columnas con Valores NaN"
   ]
  },
  {
   "cell_type": "markdown",
   "metadata": {},
   "source": [
    "1) Columna = 'original_language'"
   ]
  },
  {
   "cell_type": "code",
   "execution_count": 414,
   "metadata": {},
   "outputs": [
    {
     "name": "stdout",
     "output_type": "stream",
     "text": [
      "Analizando los Valores Nulos en la Columna:   'original_language'\n",
      "Total Registros: 45346\n",
      "Total Valores Nulos: 11\n",
      "Porcentaje Valores Nulos: 0.024 %\n",
      "Frecuencia del Valor que mas se repite: 32184     Porcentaje= 70.992 %    Atributo: en\n"
     ]
    },
    {
     "data": {
      "text/plain": [
       "count     45335\n",
       "unique       89\n",
       "top          en\n",
       "freq      32184\n",
       "Name: original_language, dtype: object"
      ]
     },
     "execution_count": 414,
     "metadata": {},
     "output_type": "execute_result"
    }
   ],
   "source": [
    "### INformación Detallada de la Columna: 'original_language'\n",
    "Columna = 'original_language'\n",
    "print(f\"Analizando los Valores Nulos en la Columna:   '{Columna}'\")\n",
    "print(f\"Total Registros: {df_movies.shape[0]}\")\n",
    "print(f\"Total Valores Nulos: {df_movies[Columna].isna().sum()}\")\n",
    "print(f\"Porcentaje Valores Nulos: {round((df_movies[Columna].isna().sum()/df_movies.shape[0])*100,3)} %\")\n",
    "print(f\"Frecuencia del Valor que mas se repite: {df_movies[Columna].describe()[3]}     Porcentaje= {round((df_movies[Columna].describe()[3]/df_movies[Columna].describe()[0])*100,3)} %    Atributo: {df_movies[Columna].describe()[2]}\")\n",
    "df_movies[Columna].describe()"
   ]
  },
  {
   "cell_type": "markdown",
   "metadata": {},
   "source": [
    "En resumen en la columna 'original_language' tiene el 0,024 % de valores nulos.\n",
    "En el 70.992 % de los casos, el Idioma predominante es Ingles ('en').<Br>\n",
    "Por lo tanto se decide imputar los 11 valores nulos con el idioma que tiene la mayor frecuencia = 'en'."
   ]
  },
  {
   "cell_type": "code",
   "execution_count": 415,
   "metadata": {},
   "outputs": [
    {
     "name": "stdout",
     "output_type": "stream",
     "text": [
      "Total Valores Nulos: 11    Porcentaje= 0.02426 %\n",
      "Realizando la Imputación o reemplazo de los valores..........\n",
      "Total Valores Nulos: 0    Porcentaje= 0.0 %\n"
     ]
    }
   ],
   "source": [
    "Columna = 'original_language'\n",
    "DatosImputar = 'en'\n",
    "\n",
    "print(f\"Total Valores Nulos: {df_movies[Columna].isna().sum()}    Porcentaje= {round((df_movies[Columna].isna().sum()/df_movies.shape[0])*100,5)} %\")\n",
    "\n",
    "print(\"Realizando la Imputación o reemplazo de los valores..........\")\n",
    "df_movies[Columna].fillna(DatosImputar, inplace=True)\n",
    "\n",
    "print(f\"Total Valores Nulos: {df_movies[Columna].isna().sum()}    Porcentaje= {round((df_movies[Columna].isna().sum()/df_movies.shape[0])*100,5)} %\")"
   ]
  },
  {
   "cell_type": "markdown",
   "metadata": {},
   "source": [
    "2) Columna = 'overview'"
   ]
  },
  {
   "cell_type": "code",
   "execution_count": 416,
   "metadata": {},
   "outputs": [
    {
     "name": "stdout",
     "output_type": "stream",
     "text": [
      "Analizando los Valores Nulos en la Columna:   'overview'\n",
      "Total Registros: 45346\n",
      "Total Valores Nulos: 941\n",
      "Porcentaje Valores Nulos: 2.075 %\n",
      "Frecuencia del Valor que mas se repite: 133     Porcentaje= 0.3 %    Atributo: No overview found.\n"
     ]
    },
    {
     "data": {
      "text/plain": [
       "count                  44405\n",
       "unique                 44232\n",
       "top       No overview found.\n",
       "freq                     133\n",
       "Name: overview, dtype: object"
      ]
     },
     "execution_count": 416,
     "metadata": {},
     "output_type": "execute_result"
    }
   ],
   "source": [
    "### INformación Detallada de la Columna: 'overview'\n",
    "Columna = 'overview'\n",
    "print(f\"Analizando los Valores Nulos en la Columna:   '{Columna}'\")\n",
    "print(f\"Total Registros: {df_movies.shape[0]}\")\n",
    "print(f\"Total Valores Nulos: {df_movies[Columna].isna().sum()}\")\n",
    "print(f\"Porcentaje Valores Nulos: {round((df_movies[Columna].isna().sum()/df_movies.shape[0])*100,3)} %\")\n",
    "print(f\"Frecuencia del Valor que mas se repite: {df_movies[Columna].describe()[3]}     Porcentaje= {round((df_movies[Columna].describe()[3]/df_movies[Columna].describe()[0])*100,3)} %    Atributo: {df_movies[Columna].describe()[2]}\")\n",
    "df_movies[Columna].describe()"
   ]
  },
  {
   "cell_type": "markdown",
   "metadata": {},
   "source": [
    "La información de la columna 'overview' es relevante ya que nos ofrece una caracteristica general de la película. No tener este atributo impacta en la recomendación de la película, en el caso de utilizar esta columna para la dicha recomendación. En resumen, en este momento no es oprtuno eliminar estos valores NaN.   "
   ]
  },
  {
   "cell_type": "markdown",
   "metadata": {},
   "source": [
    "3) Columna = 'runtime'"
   ]
  },
  {
   "cell_type": "code",
   "execution_count": 417,
   "metadata": {},
   "outputs": [
    {
     "name": "stdout",
     "output_type": "stream",
     "text": [
      "Analizando los Valores Nulos en la Columna:   'runtime'\n",
      "Total Registros: 45346\n",
      "Total Valores Nulos: 246\n",
      "Porcentaje Valores Nulos: 0.542 %\n"
     ]
    },
    {
     "data": {
      "text/plain": [
       "count    45100.000000\n",
       "mean        94.177805\n",
       "std         38.348775\n",
       "min          0.000000\n",
       "25%         85.000000\n",
       "50%         95.000000\n",
       "75%        107.000000\n",
       "max       1256.000000\n",
       "Name: runtime, dtype: float64"
      ]
     },
     "execution_count": 417,
     "metadata": {},
     "output_type": "execute_result"
    }
   ],
   "source": [
    "### Información Detallada de la Columna: 'runtime'\n",
    "Columna = 'runtime'\n",
    "print(f\"Analizando los Valores Nulos en la Columna:   '{Columna}'\")\n",
    "print(f\"Total Registros: {df_movies.shape[0]}\")\n",
    "print(f\"Total Valores Nulos: {df_movies[Columna].isna().sum()}\")\n",
    "print(f\"Porcentaje Valores Nulos: {round((df_movies[Columna].isna().sum()/df_movies.shape[0])*100,3)} %\")\n",
    "\n",
    "df_movies[Columna].describe()"
   ]
  },
  {
   "cell_type": "markdown",
   "metadata": {},
   "source": [
    "En este caso, se procede a imputar con el valor del Cuartil Q3 (107); ya que indica que el 75 % de la duración <Br>de la película dura aproximadamente 107 minutos o menos.<Br> En resumen, se procede a sustituir los 246 valores nulos de la columna 'runtime' por 107 (Tiempo en minutos) ya que la diferencia entre el Q3 y la media (13), es mucho menor que la desviación estandar; qué es la que nos indica la dispersión de los datos.<Br> Estos 246 valores quedarian a menos de una desviación estandar de la media."
   ]
  },
  {
   "cell_type": "code",
   "execution_count": 418,
   "metadata": {},
   "outputs": [
    {
     "name": "stdout",
     "output_type": "stream",
     "text": [
      "Total Valores Nulos: 246    Porcentaje= 0.542 %\n",
      "Realizando la Imputación o reemplazo de los valores..........\n",
      "Total Valores Nulos: 0    Porcentaje= 0.0 %\n"
     ]
    }
   ],
   "source": [
    "### Información Detallada de la Columna: 'runtime'\n",
    "Columna = 'runtime'\n",
    "DatosImputar = 107    # Q3 = Cuartil 3\n",
    "\n",
    "print(f\"Total Valores Nulos: {df_movies[Columna].isna().sum()}    Porcentaje= {round((df_movies[Columna].isna().sum()/df_movies.shape[0])*100,3)} %\")\n",
    "\n",
    "print(\"Realizando la Imputación o reemplazo de los valores..........\")\n",
    "df_movies[Columna].fillna(DatosImputar, inplace=True)\n",
    "\n",
    "print(f\"Total Valores Nulos: {df_movies[Columna].isna().sum()}    Porcentaje= {round((df_movies[Columna].isna().sum()/df_movies.shape[0])*100,3)} %\")"
   ]
  },
  {
   "cell_type": "markdown",
   "metadata": {},
   "source": [
    "4) Columna = 'status'"
   ]
  },
  {
   "cell_type": "code",
   "execution_count": 419,
   "metadata": {},
   "outputs": [
    {
     "name": "stdout",
     "output_type": "stream",
     "text": [
      "Analizando los Valores Nulos en la Columna:   'status'\n",
      "Total Registros: 45346\n",
      "Total Valores Nulos: 80\n",
      "Porcentaje Valores Nulos: 0.176 %\n",
      "Frecuencia del Valor que mas se repite: 44907     Porcentaje= 99.207 %    Atributo: Released\n"
     ]
    },
    {
     "data": {
      "text/plain": [
       "count        45266\n",
       "unique           6\n",
       "top       Released\n",
       "freq         44907\n",
       "Name: status, dtype: object"
      ]
     },
     "execution_count": 419,
     "metadata": {},
     "output_type": "execute_result"
    }
   ],
   "source": [
    "### Información Detallada de la Columna: 'status'\n",
    "Columna = 'status'\n",
    "print(f\"Analizando los Valores Nulos en la Columna:   '{Columna}'\")\n",
    "print(f\"Total Registros: {df_movies.shape[0]}\")\n",
    "print(f\"Total Valores Nulos: {df_movies[Columna].isna().sum()}\")\n",
    "print(f\"Porcentaje Valores Nulos: {round((df_movies[Columna].isna().sum()/df_movies.shape[0])*100,3)} %\")\n",
    "print(f\"Frecuencia del Valor que mas se repite: {df_movies[Columna].describe()[3]}     Porcentaje= {round((df_movies[Columna].describe()[3]/df_movies[Columna].describe()[0])*100,3)} %    Atributo: {df_movies[Columna].describe()[2]}\")\n",
    "df_movies[Columna].describe()"
   ]
  },
  {
   "cell_type": "markdown",
   "metadata": {},
   "source": [
    "Se puede observar que hay 80 películas (0.176 %) de un total de 45376 con valores nulos en el columa de 'status'. <Br> Es de notar que el 99.205 % de todas las peliculas estan con estatus de 'Release' (Estrenadas). <Br>Es muy probable que para la fecha actual, ya estas películas también esten estrenadas. <Br>Adicionalmente, si una película no ha sido estrenada hasta la fecha actual, entonces el usuario no podrá sugerirla como que le gustó; ya que no ha visto todavía. En este sentido, el Sistema de Recomendación estaría sólo esperando que la vea. <Br>Por tales razones, se procede a imputar este campo por el atributo 'Released'. Cabe destacar, que el error por lo imputación es muy pequeño y que adicionalmente, tiende a disminuir, dado que es solo de tiempo."
   ]
  },
  {
   "cell_type": "code",
   "execution_count": 420,
   "metadata": {},
   "outputs": [
    {
     "name": "stdout",
     "output_type": "stream",
     "text": [
      "Total Valores Nulos: 80    Porcentaje= 0.176 %\n",
      "Realizando la Imputación o reemplazo de los valores..........\n",
      "Total Valores Nulos: 0    Porcentaje= 0.0 %\n"
     ]
    }
   ],
   "source": [
    "### Información Detallada de la Columna: 'status'\n",
    "Columna = 'status'\n",
    "DatosImputar = 'Released'  \n",
    "\n",
    "print(f\"Total Valores Nulos: {df_movies[Columna].isna().sum()}    Porcentaje= {round((df_movies[Columna].isna().sum()/df_movies.shape[0])*100,3)} %\")\n",
    "\n",
    "print(\"Realizando la Imputación o reemplazo de los valores..........\")\n",
    "df_movies[Columna].fillna(DatosImputar, inplace=True)\n",
    "\n",
    "print(f\"Total Valores Nulos: {df_movies[Columna].isna().sum()}    Porcentaje= {round((df_movies[Columna].isna().sum()/df_movies.shape[0])*100,3)} %\")"
   ]
  },
  {
   "cell_type": "markdown",
   "metadata": {},
   "source": [
    "5) Columna = 'tagline'"
   ]
  },
  {
   "cell_type": "code",
   "execution_count": 421,
   "metadata": {},
   "outputs": [
    {
     "name": "stdout",
     "output_type": "stream",
     "text": [
      "Analizando los Valores Nulos en la Columna:   'tagline'\n",
      "Total Registros: 45346\n",
      "Total Valores Nulos: 24959\n",
      "Porcentaje Valores Nulos: 55.041 %\n",
      "Frecuencia del Valor que mas se repite: 7     Porcentaje= 0.034 %    Atributo: Based on a true story.\n"
     ]
    },
    {
     "data": {
      "text/plain": [
       "count                      20387\n",
       "unique                     20269\n",
       "top       Based on a true story.\n",
       "freq                           7\n",
       "Name: tagline, dtype: object"
      ]
     },
     "execution_count": 421,
     "metadata": {},
     "output_type": "execute_result"
    }
   ],
   "source": [
    "### Información Detallada de la Columna: 'tagline'\n",
    "Columna = 'tagline'\n",
    "print(f\"Analizando los Valores Nulos en la Columna:   '{Columna}'\")\n",
    "print(f\"Total Registros: {df_movies.shape[0]}\")\n",
    "print(f\"Total Valores Nulos: {df_movies[Columna].isna().sum()}\")\n",
    "print(f\"Porcentaje Valores Nulos: {round((df_movies[Columna].isna().sum()/df_movies.shape[0])*100,3)} %\")\n",
    "print(f\"Frecuencia del Valor que mas se repite: {df_movies[Columna].describe()[3]}     Porcentaje= {round((df_movies[Columna].describe()[3]/df_movies[Columna].describe()[0])*100,3)} %    Atributo: {df_movies[Columna].describe()[2]}\")\n",
    "df_movies[Columna].describe()"
   ]
  },
  {
   "cell_type": "markdown",
   "metadata": {},
   "source": [
    "Esta columna representa menos de la mitad de datos válidos del Dataset. <Br> El 55.04 % de esta columna son datos faltantes, en este caso datos nulos. <Br> Se procede a eliminar esta columna 'tagline'"
   ]
  },
  {
   "cell_type": "code",
   "execution_count": 422,
   "metadata": {},
   "outputs": [],
   "source": [
    "### Se procede a eliminar la columna 'tagline':\n",
    "df_movies.drop(columns=['tagline'], inplace=True)"
   ]
  },
  {
   "cell_type": "markdown",
   "metadata": {},
   "source": [
    "6) Columna = 'Franquicia'"
   ]
  },
  {
   "cell_type": "code",
   "execution_count": 423,
   "metadata": {},
   "outputs": [
    {
     "name": "stdout",
     "output_type": "stream",
     "text": [
      "Analizando los Valores Nulos en la Columna:   'Franquicia'\n",
      "Total Registros: 45346\n",
      "Total Valores Nulos: 0\n",
      "Porcentaje Valores Nulos: 0.0 %\n",
      "Frecuencia del Valor que mas se repite: 40861     Porcentaje= 90.109 %    Atributo: \n"
     ]
    },
    {
     "data": {
      "text/plain": [
       "count     45346\n",
       "unique     1696\n",
       "top            \n",
       "freq      40861\n",
       "Name: Franquicia, dtype: object"
      ]
     },
     "execution_count": 423,
     "metadata": {},
     "output_type": "execute_result"
    }
   ],
   "source": [
    "### Información Detallada de la Columna: 'Franquicia'\n",
    "Columna = 'Franquicia'\n",
    "print(f\"Analizando los Valores Nulos en la Columna:   '{Columna}'\")\n",
    "print(f\"Total Registros: {df_movies.shape[0]}\")\n",
    "print(f\"Total Valores Nulos: {df_movies[Columna].isna().sum()}\")\n",
    "print(f\"Porcentaje Valores Nulos: {round((df_movies[Columna].isna().sum()/df_movies.shape[0])*100,3)} %\")\n",
    "print(f\"Frecuencia del Valor que mas se repite: {df_movies[Columna].describe()[3]}     Porcentaje= {round((df_movies[Columna].describe()[3]/df_movies[Columna].describe()[0])*100,3)} %    Atributo: {df_movies[Columna].describe()[2]}\")\n",
    "df_movies[Columna].describe()"
   ]
  },
  {
   "cell_type": "markdown",
   "metadata": {},
   "source": [
    "Se puede observar que la Columna 'Franquicia' tiene el 90.109 % de valores faltantes. Sin embargo, no se procede tomar ninguna acción ya que es una columna clave para responder la consulta de la función Nro.3."
   ]
  },
  {
   "cell_type": "markdown",
   "metadata": {},
   "source": [
    "Validando los Cambios Realizados"
   ]
  },
  {
   "cell_type": "code",
   "execution_count": 424,
   "metadata": {},
   "outputs": [
    {
     "name": "stdout",
     "output_type": "stream",
     "text": [
      "Valores Nulos del Dataset: 'df_movies' \n",
      "=====================================\n"
     ]
    },
    {
     "data": {
      "text/plain": [
       "belongs_to_collection    40861\n",
       "budget                       0\n",
       "genres                       0\n",
       "id                           0\n",
       "original_language            0\n",
       "overview                   941\n",
       "popularity                   0\n",
       "production_companies         0\n",
       "production_countries         0\n",
       "release_date                 0\n",
       "revenue                      0\n",
       "runtime                      0\n",
       "spoken_languages             0\n",
       "status                       0\n",
       "title                        0\n",
       "vote_average                 0\n",
       "vote_count                   0\n",
       "Franquicia                   0\n",
       "Generos                      0\n",
       "Productores                  0\n",
       "Paises                       0\n",
       "IdiomasH                     0\n",
       "Anio                         0\n",
       "return                       0\n",
       "dtype: int64"
      ]
     },
     "execution_count": 424,
     "metadata": {},
     "output_type": "execute_result"
    }
   ],
   "source": [
    "### Valores nulos en cada columna de \"df_movies\"\n",
    "print(\"Valores Nulos del Dataset: 'df_movies' \")\n",
    "print(\"=\"*37)\n",
    "df_movies.isna().sum()"
   ]
  },
  {
   "cell_type": "code",
   "execution_count": 425,
   "metadata": {},
   "outputs": [
    {
     "name": "stdout",
     "output_type": "stream",
     "text": [
      "Informacion de Variables del Dataset: 'df_movies' \n",
      "================================================\n",
      "<class 'pandas.core.frame.DataFrame'>\n",
      "Index: 45346 entries, 0 to 45465\n",
      "Data columns (total 24 columns):\n",
      " #   Column                 Non-Null Count  Dtype         \n",
      "---  ------                 --------------  -----         \n",
      " 0   belongs_to_collection  4485 non-null   object        \n",
      " 1   budget                 45346 non-null  float64       \n",
      " 2   genres                 45346 non-null  object        \n",
      " 3   id                     45346 non-null  object        \n",
      " 4   original_language      45346 non-null  object        \n",
      " 5   overview               44405 non-null  object        \n",
      " 6   popularity             45346 non-null  object        \n",
      " 7   production_companies   45346 non-null  object        \n",
      " 8   production_countries   45346 non-null  object        \n",
      " 9   release_date           45346 non-null  datetime64[ns]\n",
      " 10  revenue                45346 non-null  float64       \n",
      " 11  runtime                45346 non-null  float64       \n",
      " 12  spoken_languages       45346 non-null  object        \n",
      " 13  status                 45346 non-null  object        \n",
      " 14  title                  45346 non-null  object        \n",
      " 15  vote_average           45346 non-null  float64       \n",
      " 16  vote_count             45346 non-null  float64       \n",
      " 17  Franquicia             45346 non-null  object        \n",
      " 18  Generos                45346 non-null  object        \n",
      " 19  Productores            45346 non-null  object        \n",
      " 20  Paises                 45346 non-null  object        \n",
      " 21  IdiomasH               45346 non-null  object        \n",
      " 22  Anio                   45346 non-null  int32         \n",
      " 23  return                 45346 non-null  float64       \n",
      "dtypes: datetime64[ns](1), float64(6), int32(1), object(16)\n",
      "memory usage: 8.5+ MB\n"
     ]
    }
   ],
   "source": [
    "### Valores nulos en cada columna de \"df_movies\"\n",
    "print(\"Informacion de Variables del Dataset: 'df_movies' \")\n",
    "print(\"=\"*48)\n",
    "df_movies.info()"
   ]
  },
  {
   "cell_type": "markdown",
   "metadata": {},
   "source": [
    "Normalizando la columna 'popularity', ya que esta definida como objeto y en realidad es númerica."
   ]
  },
  {
   "cell_type": "code",
   "execution_count": 426,
   "metadata": {},
   "outputs": [
    {
     "name": "stdout",
     "output_type": "stream",
     "text": [
      "Tipo de variable antes del cambio:  object\n",
      "Tipo de variable despúes del cambio:  float64\n"
     ]
    }
   ],
   "source": [
    "print(\"Tipo de variable antes del cambio: \",df_movies['popularity'].dtype)\n",
    "df_movies['popularity'] = pd.to_numeric(df_movies['popularity'], errors='coerce')\n",
    "print(\"Tipo de variable despúes del cambio: \",df_movies['popularity'].dtype)"
   ]
  },
  {
   "cell_type": "markdown",
   "metadata": {},
   "source": [
    "###   2.1.2) Valores Atípicos"
   ]
  },
  {
   "cell_type": "markdown",
   "metadata": {},
   "source": [
    "Analizando las Variables Cuantitativas"
   ]
  },
  {
   "cell_type": "code",
   "execution_count": 427,
   "metadata": {},
   "outputs": [],
   "source": [
    "### Variables Cualitativas\n",
    "ColumnasCualitativas = df_movies[['overview', 'spoken_languages', 'status', 'Franquicia', 'Generos','Productores', 'Paises', 'return', 'IdiomasH']]\n",
    "\n",
    "### Variables Cuantitativas\n",
    "ColumnasCuantitativas = df_movies[['budget', 'revenue', 'return', 'popularity', 'vote_average', 'vote_count', 'runtime', 'Anio']]"
   ]
  },
  {
   "cell_type": "code",
   "execution_count": 428,
   "metadata": {},
   "outputs": [
    {
     "data": {
      "text/html": [
       "<div>\n",
       "<style scoped>\n",
       "    .dataframe tbody tr th:only-of-type {\n",
       "        vertical-align: middle;\n",
       "    }\n",
       "\n",
       "    .dataframe tbody tr th {\n",
       "        vertical-align: top;\n",
       "    }\n",
       "\n",
       "    .dataframe thead th {\n",
       "        text-align: right;\n",
       "    }\n",
       "</style>\n",
       "<table border=\"1\" class=\"dataframe\">\n",
       "  <thead>\n",
       "    <tr style=\"text-align: right;\">\n",
       "      <th></th>\n",
       "      <th>budget</th>\n",
       "      <th>popularity</th>\n",
       "      <th>release_date</th>\n",
       "      <th>revenue</th>\n",
       "      <th>runtime</th>\n",
       "      <th>vote_average</th>\n",
       "      <th>vote_count</th>\n",
       "      <th>Anio</th>\n",
       "      <th>return</th>\n",
       "    </tr>\n",
       "  </thead>\n",
       "  <tbody>\n",
       "    <tr>\n",
       "      <th>count</th>\n",
       "      <td>4.534600e+04</td>\n",
       "      <td>45346.000000</td>\n",
       "      <td>45346</td>\n",
       "      <td>4.534600e+04</td>\n",
       "      <td>45346.000000</td>\n",
       "      <td>45346.000000</td>\n",
       "      <td>45346.000000</td>\n",
       "      <td>45346.000000</td>\n",
       "      <td>4.534600e+04</td>\n",
       "    </tr>\n",
       "    <tr>\n",
       "      <th>mean</th>\n",
       "      <td>4.232580e+06</td>\n",
       "      <td>2.926188</td>\n",
       "      <td>1992-05-16 07:38:33.253649664</td>\n",
       "      <td>1.123366e+07</td>\n",
       "      <td>94.247365</td>\n",
       "      <td>5.624196</td>\n",
       "      <td>110.135293</td>\n",
       "      <td>1991.882834</td>\n",
       "      <td>6.604792e+02</td>\n",
       "    </tr>\n",
       "    <tr>\n",
       "      <th>min</th>\n",
       "      <td>0.000000e+00</td>\n",
       "      <td>0.000000</td>\n",
       "      <td>1874-12-09 00:00:00</td>\n",
       "      <td>0.000000e+00</td>\n",
       "      <td>0.000000</td>\n",
       "      <td>0.000000</td>\n",
       "      <td>0.000000</td>\n",
       "      <td>1874.000000</td>\n",
       "      <td>0.000000e+00</td>\n",
       "    </tr>\n",
       "    <tr>\n",
       "      <th>25%</th>\n",
       "      <td>0.000000e+00</td>\n",
       "      <td>0.388732</td>\n",
       "      <td>1978-10-06 00:00:00</td>\n",
       "      <td>0.000000e+00</td>\n",
       "      <td>85.000000</td>\n",
       "      <td>5.000000</td>\n",
       "      <td>3.000000</td>\n",
       "      <td>1978.000000</td>\n",
       "      <td>0.000000e+00</td>\n",
       "    </tr>\n",
       "    <tr>\n",
       "      <th>50%</th>\n",
       "      <td>0.000000e+00</td>\n",
       "      <td>1.130176</td>\n",
       "      <td>2001-08-30 00:00:00</td>\n",
       "      <td>0.000000e+00</td>\n",
       "      <td>95.000000</td>\n",
       "      <td>6.000000</td>\n",
       "      <td>10.000000</td>\n",
       "      <td>2001.000000</td>\n",
       "      <td>0.000000e+00</td>\n",
       "    </tr>\n",
       "    <tr>\n",
       "      <th>75%</th>\n",
       "      <td>0.000000e+00</td>\n",
       "      <td>3.689337</td>\n",
       "      <td>2010-12-17 00:00:00</td>\n",
       "      <td>0.000000e+00</td>\n",
       "      <td>107.000000</td>\n",
       "      <td>6.800000</td>\n",
       "      <td>34.000000</td>\n",
       "      <td>2010.000000</td>\n",
       "      <td>0.000000e+00</td>\n",
       "    </tr>\n",
       "    <tr>\n",
       "      <th>max</th>\n",
       "      <td>3.800000e+08</td>\n",
       "      <td>547.488298</td>\n",
       "      <td>2020-12-16 00:00:00</td>\n",
       "      <td>2.787965e+09</td>\n",
       "      <td>1256.000000</td>\n",
       "      <td>10.000000</td>\n",
       "      <td>14075.000000</td>\n",
       "      <td>2020.000000</td>\n",
       "      <td>1.239638e+07</td>\n",
       "    </tr>\n",
       "    <tr>\n",
       "      <th>std</th>\n",
       "      <td>1.744373e+07</td>\n",
       "      <td>6.010970</td>\n",
       "      <td>NaN</td>\n",
       "      <td>6.440990e+07</td>\n",
       "      <td>38.256207</td>\n",
       "      <td>1.915339</td>\n",
       "      <td>491.899276</td>\n",
       "      <td>24.053040</td>\n",
       "      <td>7.471800e+04</td>\n",
       "    </tr>\n",
       "  </tbody>\n",
       "</table>\n",
       "</div>"
      ],
      "text/plain": [
       "             budget    popularity                   release_date  \\\n",
       "count  4.534600e+04  45346.000000                          45346   \n",
       "mean   4.232580e+06      2.926188  1992-05-16 07:38:33.253649664   \n",
       "min    0.000000e+00      0.000000            1874-12-09 00:00:00   \n",
       "25%    0.000000e+00      0.388732            1978-10-06 00:00:00   \n",
       "50%    0.000000e+00      1.130176            2001-08-30 00:00:00   \n",
       "75%    0.000000e+00      3.689337            2010-12-17 00:00:00   \n",
       "max    3.800000e+08    547.488298            2020-12-16 00:00:00   \n",
       "std    1.744373e+07      6.010970                            NaN   \n",
       "\n",
       "            revenue       runtime  vote_average    vote_count          Anio  \\\n",
       "count  4.534600e+04  45346.000000  45346.000000  45346.000000  45346.000000   \n",
       "mean   1.123366e+07     94.247365      5.624196    110.135293   1991.882834   \n",
       "min    0.000000e+00      0.000000      0.000000      0.000000   1874.000000   \n",
       "25%    0.000000e+00     85.000000      5.000000      3.000000   1978.000000   \n",
       "50%    0.000000e+00     95.000000      6.000000     10.000000   2001.000000   \n",
       "75%    0.000000e+00    107.000000      6.800000     34.000000   2010.000000   \n",
       "max    2.787965e+09   1256.000000     10.000000  14075.000000   2020.000000   \n",
       "std    6.440990e+07     38.256207      1.915339    491.899276     24.053040   \n",
       "\n",
       "             return  \n",
       "count  4.534600e+04  \n",
       "mean   6.604792e+02  \n",
       "min    0.000000e+00  \n",
       "25%    0.000000e+00  \n",
       "50%    0.000000e+00  \n",
       "75%    0.000000e+00  \n",
       "max    1.239638e+07  \n",
       "std    7.471800e+04  "
      ]
     },
     "execution_count": 428,
     "metadata": {},
     "output_type": "execute_result"
    }
   ],
   "source": [
    "### Visualizando Estadídtica de las Variables Cuantitativas\n",
    "df_movies.describe()"
   ]
  },
  {
   "cell_type": "markdown",
   "metadata": {},
   "source": [
    "Visualizando las Correlaciones de las Variables Cuantitativas"
   ]
  },
  {
   "cell_type": "markdown",
   "metadata": {},
   "source": [
    "Graficando un diagrama de cajas para visualizar los valores atípicos"
   ]
  },
  {
   "cell_type": "code",
   "execution_count": 429,
   "metadata": {},
   "outputs": [
    {
     "data": {
      "image/png": "[encoded data removed]",
      "text/plain": [
       "<Figure size 1000x800 with 2 Axes>"
      ]
     },
     "metadata": {},
     "output_type": "display_data"
    }
   ],
   "source": [
    "# Selecciona las variables cuantitativas\n",
    "ColumnasCuantitativas = df_movies[['budget', 'revenue', 'return', 'popularity', 'vote_average', 'vote_count', 'runtime', 'Anio']]\n",
    "\n",
    "# Calcula la matriz de correlación\n",
    "correlation_matrix = ColumnasCuantitativas.corr()\n",
    "\n",
    "# Crea un mapa de calor para visualizar las correlaciones\n",
    "plt.figure(figsize=(10, 8))\n",
    "sns.heatmap(correlation_matrix, annot=True, cmap='coolwarm', center=0)\n",
    "plt.title('Mapa de Calor de Correlaciones')\n",
    "plt.show()"
   ]
  },
  {
   "cell_type": "markdown",
   "metadata": {},
   "source": [
    "No se observa ninguna correlación significativa.<Br> Preguntas a reflexionar: <Br>\n",
    "1) Una película con una alta popularidad, debería ser recomendada? <Br> \n",
    "2) Una película con una alta popularidad, deberia tener un mayor vote_average? Deberian ser directamente proporcionales? (Su Correlación = 0.15. No existe ninguna relación !!!)"
   ]
  },
  {
   "cell_type": "code",
   "execution_count": 430,
   "metadata": {},
   "outputs": [
    {
     "data": {
      "image/png": "[encoded data removed]",
      "text/plain": [
       "<Figure size 800x600 with 1 Axes>"
      ]
     },
     "metadata": {},
     "output_type": "display_data"
    }
   ],
   "source": [
    "### Grafico de Distribución de Frecuencia\n",
    "Columna = 'vote_average'\n",
    "\n",
    "# Crear un histograma y gráfico de densidad para la popularidad sin escala logarítmica\n",
    "plt.figure(figsize=(8, 6))\n",
    "sns.histplot(data=df_movies, x= Columna, kde=True)\n",
    "plt.title('Distribución de Frecuencia')\n",
    "plt.xlabel(Columna)\n",
    "plt.ylabel('Frecuencia')\n",
    "plt.show()"
   ]
  },
  {
   "cell_type": "markdown",
   "metadata": {},
   "source": [
    "Como podemos observar en la Gráfica de Distribución de Frecuencias, los valores no estan todos en un mismo rango. Por eso, en la siguienta Gráfica utilizamos una función logaritmica para resultar mejor la distribución de la variable 'vote_average'"
   ]
  },
  {
   "cell_type": "code",
   "execution_count": 431,
   "metadata": {},
   "outputs": [
    {
     "data": {
      "image/png": "[encoded data removed]",
      "text/plain": [
       "<Figure size 800x600 with 1 Axes>"
      ]
     },
     "metadata": {},
     "output_type": "display_data"
    }
   ],
   "source": [
    "# Aplicar escala logarítmica a los valores de vote_average\n",
    "popularity_log = np.log1p(df_movies['vote_average'])  # np.log1p para evitar el log(0)\n",
    "\n",
    "# Crear un histograma y gráfico de densidad para la popularidad logaritmizada\n",
    "plt.figure(figsize=(8, 6))\n",
    "sns.histplot(data=popularity_log, kde=True)\n",
    "plt.title('Distribución de Popularidad (Escala Logarítmica)')\n",
    "plt.xlabel('Log(Popularidad)')\n",
    "plt.ylabel('Frecuencia')\n",
    "plt.show()"
   ]
  },
  {
   "cell_type": "markdown",
   "metadata": {},
   "source": [
    "Definitivamente, de estas variables cuantitativas la \"popularidad\" y \"voto promedio\", aunque no tengan ninguna correlación entre ellas, ni tampoco con el resto de variables cuantitativas, podrian ser significativas para la recomendación."
   ]
  },
  {
   "cell_type": "code",
   "execution_count": 432,
   "metadata": {},
   "outputs": [
    {
     "data": {
      "image/png": "[encoded data removed]",
      "text/plain": [
       "<Figure size 800x600 with 1 Axes>"
      ]
     },
     "metadata": {},
     "output_type": "display_data"
    }
   ],
   "source": [
    "# Aplicar escala logarítmica a los valores de popularidad\n",
    "popularity_log = np.log1p(df_movies['popularity'])  # np.log1p para evitar el log(0)\n",
    "\n",
    "# Crear un histograma y gráfico de densidad para la popularidad logaritmizada\n",
    "plt.figure(figsize=(8, 6))\n",
    "sns.histplot(data=popularity_log, kde=True)\n",
    "plt.title('Distribución de Popularidad (Escala Logarítmica)')\n",
    "plt.xlabel('Log(Popularidad)')\n",
    "plt.ylabel('Frecuencia')\n",
    "plt.show()"
   ]
  },
  {
   "cell_type": "code",
   "execution_count": 433,
   "metadata": {},
   "outputs": [
    {
     "data": {
      "image/png": "[encoded data removed]",
      "text/plain": [
       "<Figure size 1200x800 with 8 Axes>"
      ]
     },
     "metadata": {},
     "output_type": "display_data"
    }
   ],
   "source": [
    "import matplotlib.pyplot as plt\n",
    "import seaborn as sns\n",
    "\n",
    "# Selecciona las variables cuantitativas\n",
    "ColumnasCuantitativas = df_movies[['budget', 'revenue', 'return', 'popularity', 'vote_average', 'vote_count', 'runtime', 'Anio']]\n",
    "\n",
    "# Crea subplots de diagramas de caja individuales para cada variable\n",
    "plt.figure(figsize=(12, 8))\n",
    "for i, column in enumerate(ColumnasCuantitativas.columns, 1):\n",
    "    plt.subplot(2, 4, i)\n",
    "    sns.boxplot(data=ColumnasCuantitativas[column], color='skyblue')\n",
    "    \n",
    "    # Calcula la cantidad de valores atípicos\n",
    "    q1 = ColumnasCuantitativas[column].quantile(0.25)\n",
    "    q3 = ColumnasCuantitativas[column].quantile(0.75)\n",
    "    iqr = q3 - q1\n",
    "    outliers = ((ColumnasCuantitativas[column] < q1 - 1.5 * iqr) | (ColumnasCuantitativas[column] > q3 + 1.5 * iqr)).sum()\n",
    "    \n",
    "    plt.title(f'Diagrama de Caja de {column}\\nValores Atípicos: {outliers}')\n",
    "    plt.xlabel(column)\n",
    "\n",
    "plt.tight_layout()\n",
    "plt.show()"
   ]
  },
  {
   "cell_type": "markdown",
   "metadata": {},
   "source": [
    "Las variables con menos valores atípicos son: **El año, el voto promedio y la popularidad.**"
   ]
  },
  {
   "cell_type": "markdown",
   "metadata": {},
   "source": [
    "Podemos observar que la columna 'popularity' esta definida como objeto, pero es de tipo númerico.  "
   ]
  },
  {
   "cell_type": "markdown",
   "metadata": {},
   "source": [
    "### 2.1.3) Escalado / Normalizado"
   ]
  },
  {
   "cell_type": "markdown",
   "metadata": {},
   "source": [
    "Dado que estamos utilizando la Similitud del Coseno, como medida de similitud para hacer la recomendación de las películas, es poco probable realizar algun tipo de escalado y/o normalización de variables. <Br>  La similitud del coseno ya tiene en cuenta la magnitud de las variables y se enfoca en la dirección relativa entre los vectores de características."
   ]
  },
  {
   "cell_type": "markdown",
   "metadata": {},
   "source": [
    "Dado que la similitud del coseno se basa en el ángulo entre los vectores y no en la magnitud absoluta; no deberíamos tener problemas de escala que afecten considerablemente a los resultados de la recomendación de la película."
   ]
  },
  {
   "cell_type": "markdown",
   "metadata": {},
   "source": [
    "### 2.1.4) Codificación de Variables"
   ]
  },
  {
   "cell_type": "markdown",
   "metadata": {},
   "source": [
    "La similitud del coseno realiza sus operaciones con vectores numéricos y no requiere una codificación explícita de variables categóricas."
   ]
  },
  {
   "cell_type": "markdown",
   "metadata": {},
   "source": [
    "La similitud del coseno calcula la similitud entre dos vectores númericos basándose en el ángulo entre ellos en un espacio n-dimensional. No asigna un valor numérico a las categorías en sí, por lo que no es necesario convertir variables categóricas en variables numéricas codificadas."
   ]
  },
  {
   "cell_type": "markdown",
   "metadata": {},
   "source": [
    "### 2.1.5) Selección de Atributos"
   ]
  },
  {
   "cell_type": "code",
   "execution_count": 434,
   "metadata": {},
   "outputs": [
    {
     "data": {
      "text/plain": [
       "Index(['belongs_to_collection', 'budget', 'genres', 'id', 'original_language',\n",
       "       'overview', 'popularity', 'production_companies',\n",
       "       'production_countries', 'release_date', 'revenue', 'runtime',\n",
       "       'spoken_languages', 'status', 'title', 'vote_average', 'vote_count',\n",
       "       'Franquicia', 'Generos', 'Productores', 'Paises', 'IdiomasH', 'Anio',\n",
       "       'return'],\n",
       "      dtype='object')"
      ]
     },
     "execution_count": 434,
     "metadata": {},
     "output_type": "execute_result"
    }
   ],
   "source": [
    "df_movies.columns"
   ]
  },
  {
   "cell_type": "markdown",
   "metadata": {},
   "source": [
    "2.1.5.1) Eliminación de Columnas del Datasets: 'df_movies'"
   ]
  },
  {
   "cell_type": "code",
   "execution_count": 435,
   "metadata": {},
   "outputs": [
    {
     "data": {
      "text/plain": [
       "Index(['budget', 'id', 'original_language', 'overview', 'popularity',\n",
       "       'revenue', 'runtime', 'status', 'title', 'vote_average', 'vote_count',\n",
       "       'Franquicia', 'Generos', 'Productores', 'Paises', 'IdiomasH', 'Anio',\n",
       "       'return'],\n",
       "      dtype='object')"
      ]
     },
     "execution_count": 435,
     "metadata": {},
     "output_type": "execute_result"
    }
   ],
   "source": [
    "### Se procede a eliminar las 5 columnas desanidadas y la columna 'release_date':\n",
    "df_movies.drop(columns=['belongs_to_collection', 'genres', 'production_companies', 'production_countries', 'spoken_languages', 'release_date' ], inplace=True)\n",
    "\n",
    "df_movies.columns"
   ]
  },
  {
   "cell_type": "markdown",
   "metadata": {},
   "source": [
    "2.1.5.2) Selecion de Actores desde el Datasets: 'df_credits', para la recomendacion."
   ]
  },
  {
   "cell_type": "markdown",
   "metadata": {},
   "source": [
    "Visualizando la Columna: 'cast_name' "
   ]
  },
  {
   "cell_type": "code",
   "execution_count": 436,
   "metadata": {},
   "outputs": [
    {
     "data": {
      "text/plain": [
       "0        Tom Hanks,Tim Allen,Don Rickles,Jim Varney,Wal...\n",
       "1        Robin Williams,Jonathan Hyde,Kirsten Dunst,Bra...\n",
       "2        Walter Matthau,Jack Lemmon,Ann-Margret,Sophia ...\n",
       "3        Whitney Houston,Angela Bassett,Loretta Devine,...\n",
       "4        Steve Martin,Diane Keaton,Martin Short,Kimberl...\n",
       "                               ...                        \n",
       "45471              Leila Hatami,Kourosh Tahami,Elham Korda\n",
       "45472    Angel Aquino,Perry Dizon,Hazel Orencio,Joel To...\n",
       "45473    Erika Eleniak,Adam Baldwin,Julie du Page,James...\n",
       "45474    Iwan Mosschuchin,Nathalie Lissenko,Pavel Pavlo...\n",
       "45475                                                     \n",
       "Name: cast_name, Length: 45432, dtype: object"
      ]
     },
     "execution_count": 436,
     "metadata": {},
     "output_type": "execute_result"
    }
   ],
   "source": [
    "### Visualizndo los atributos de la columna 'cast_name' del datasets 'df_credits'\n",
    "df_credits['cast_name']"
   ]
  },
  {
   "cell_type": "markdown",
   "metadata": {},
   "source": [
    "Como ya se había mencionado anteriormente, la columna 'cast_name', contiene los nombres de los actores ordenados desde el protagonista, primer actor, segundo actor, tercer actor y así sucesivamente. "
   ]
  },
  {
   "cell_type": "markdown",
   "metadata": {},
   "source": [
    "Visualizando la Cantidad de Actores por Películas"
   ]
  },
  {
   "cell_type": "code",
   "execution_count": 437,
   "metadata": {},
   "outputs": [
    {
     "name": "stdout",
     "output_type": "stream",
     "text": [
      "Cantidad de Actores por Películas\n",
      " 0        13\n",
      "1        26\n",
      "2         7\n",
      "3        10\n",
      "4        12\n",
      "         ..\n",
      "45470     5\n",
      "45472    11\n",
      "45473    15\n",
      "45474     5\n",
      "45475     1\n",
      "Name: cast_name, Length: 44300, dtype: int64\n"
     ]
    }
   ],
   "source": [
    "### Cantidad de Actores por Películas\n",
    "\n",
    "longDeCadaCampo = df_credits['cast_name'].str.split(',').apply(len) # Se hace una division de la cadena \n",
    "                                                                    # y se obtienela longitud o tamaño de actores por películas \n",
    "print(\"Cantidad de Actores por Películas\\n\", longDeCadaCampo[longDeCadaCampo != 3])"
   ]
  },
  {
   "cell_type": "markdown",
   "metadata": {},
   "source": [
    "Como podemos observar es una cantidad variable por película. <Br>\n",
    "Dado que los actores son factor muy importante en la recomendación de películas, se procede a extraer como máximo 3 actores por películas, cuales quedaran de la siguiente manera:<Br>\n",
    "Una primera columna llamada 'Protagonista', con el nombre del Protaginista,<Br>\n",
    "Una segunda columna llamada 'Actor1', con el nombre del Actor Principal, y<Br>\n",
    "Una tercera columna llamada 'Actor2', con el nombre del Actor Secundario.<Br>"
   ]
  },
  {
   "cell_type": "markdown",
   "metadata": {},
   "source": [
    "Función para Crear Columnas por Actores."
   ]
  },
  {
   "cell_type": "code",
   "execution_count": 438,
   "metadata": {},
   "outputs": [
    {
     "data": {
      "text/html": [
       "<div>\n",
       "<style scoped>\n",
       "    .dataframe tbody tr th:only-of-type {\n",
       "        vertical-align: middle;\n",
       "    }\n",
       "\n",
       "    .dataframe tbody tr th {\n",
       "        vertical-align: top;\n",
       "    }\n",
       "\n",
       "    .dataframe thead th {\n",
       "        text-align: right;\n",
       "    }\n",
       "</style>\n",
       "<table border=\"1\" class=\"dataframe\">\n",
       "  <thead>\n",
       "    <tr style=\"text-align: right;\">\n",
       "      <th></th>\n",
       "      <th>cast</th>\n",
       "      <th>crew</th>\n",
       "      <th>id</th>\n",
       "      <th>crew_job</th>\n",
       "      <th>crew_name</th>\n",
       "      <th>Protagonista</th>\n",
       "      <th>Actor1</th>\n",
       "      <th>Actor2</th>\n",
       "    </tr>\n",
       "  </thead>\n",
       "  <tbody>\n",
       "    <tr>\n",
       "      <th>0</th>\n",
       "      <td>[{'cast_id': 14, 'character': 'Woody (voice)',...</td>\n",
       "      <td>[{'credit_id': '52fe4284c3a36847f8024f49', 'de...</td>\n",
       "      <td>862</td>\n",
       "      <td>Director,Screenplay,Screenplay,Screenplay,Scre...</td>\n",
       "      <td>John Lasseter,Joss Whedon,Andrew Stanton,Joel ...</td>\n",
       "      <td>Tom Hanks</td>\n",
       "      <td>Tim Allen</td>\n",
       "      <td>Don Rickles</td>\n",
       "    </tr>\n",
       "    <tr>\n",
       "      <th>1</th>\n",
       "      <td>[{'cast_id': 1, 'character': 'Alan Parrish', '...</td>\n",
       "      <td>[{'credit_id': '52fe44bfc3a36847f80a7cd1', 'de...</td>\n",
       "      <td>8844</td>\n",
       "      <td>Executive Producer,Screenplay,Original Music C...</td>\n",
       "      <td>Larry J. Franco,Jonathan Hensleigh,James Horne...</td>\n",
       "      <td>Robin Williams</td>\n",
       "      <td>Jonathan Hyde</td>\n",
       "      <td>Kirsten Dunst</td>\n",
       "    </tr>\n",
       "    <tr>\n",
       "      <th>2</th>\n",
       "      <td>[{'cast_id': 2, 'character': 'Max Goldman', 'c...</td>\n",
       "      <td>[{'credit_id': '52fe466a9251416c75077a89', 'de...</td>\n",
       "      <td>15602</td>\n",
       "      <td>Director,Characters,Writer,Sound Recordist</td>\n",
       "      <td>Howard Deutch,Mark Steven Johnson,Mark Steven ...</td>\n",
       "      <td>Walter Matthau</td>\n",
       "      <td>Jack Lemmon</td>\n",
       "      <td>Ann-Margret</td>\n",
       "    </tr>\n",
       "    <tr>\n",
       "      <th>3</th>\n",
       "      <td>[{'cast_id': 1, 'character': \"Savannah 'Vannah...</td>\n",
       "      <td>[{'credit_id': '52fe44779251416c91011acb', 'de...</td>\n",
       "      <td>31357</td>\n",
       "      <td>Director,Screenplay,Producer,Producer,Producer...</td>\n",
       "      <td>Forest Whitaker,Ronald Bass,Ronald Bass,Ezra S...</td>\n",
       "      <td>Whitney Houston</td>\n",
       "      <td>Angela Bassett</td>\n",
       "      <td>Loretta Devine</td>\n",
       "    </tr>\n",
       "    <tr>\n",
       "      <th>4</th>\n",
       "      <td>[{'cast_id': 1, 'character': 'George Banks', '...</td>\n",
       "      <td>[{'credit_id': '52fe44959251416c75039ed7', 'de...</td>\n",
       "      <td>11862</td>\n",
       "      <td>Original Music Composer,Director of Photograph...</td>\n",
       "      <td>Alan Silvestri,Elliot Davis,Nancy Meyers,Nancy...</td>\n",
       "      <td>Steve Martin</td>\n",
       "      <td>Diane Keaton</td>\n",
       "      <td>Martin Short</td>\n",
       "    </tr>\n",
       "    <tr>\n",
       "      <th>...</th>\n",
       "      <td>...</td>\n",
       "      <td>...</td>\n",
       "      <td>...</td>\n",
       "      <td>...</td>\n",
       "      <td>...</td>\n",
       "      <td>...</td>\n",
       "      <td>...</td>\n",
       "      <td>...</td>\n",
       "    </tr>\n",
       "    <tr>\n",
       "      <th>45471</th>\n",
       "      <td>[{'cast_id': 0, 'character': '', 'credit_id': ...</td>\n",
       "      <td>[{'credit_id': '5894a97d925141426c00818c', 'de...</td>\n",
       "      <td>439050</td>\n",
       "      <td>Director,Producer,Camera Supervisor,Script,Edi...</td>\n",
       "      <td>Hamid Nematollah,Hamid Nematollah,Farshad Moha...</td>\n",
       "      <td>NaN</td>\n",
       "      <td>NaN</td>\n",
       "      <td>NaN</td>\n",
       "    </tr>\n",
       "    <tr>\n",
       "      <th>45472</th>\n",
       "      <td>[{'cast_id': 1002, 'character': 'Sister Angela...</td>\n",
       "      <td>[{'credit_id': '52fe4af1c3a36847f81e9b15', 'de...</td>\n",
       "      <td>111109</td>\n",
       "      <td>Director,Writer,Production Design,Music,Editor...</td>\n",
       "      <td>Lav Diaz,Lav Diaz,Dante Perez,Lav Diaz,Lav Dia...</td>\n",
       "      <td>NaN</td>\n",
       "      <td>NaN</td>\n",
       "      <td>NaN</td>\n",
       "    </tr>\n",
       "    <tr>\n",
       "      <th>45473</th>\n",
       "      <td>[{'cast_id': 6, 'character': 'Emily Shaw', 'cr...</td>\n",
       "      <td>[{'credit_id': '52fe4776c3a368484e0c8387', 'de...</td>\n",
       "      <td>67758</td>\n",
       "      <td>Director,Screenplay,Screenplay,Original Music ...</td>\n",
       "      <td>Mark L. Lester,C. Courtney Joyner,Jeffrey Gold...</td>\n",
       "      <td>NaN</td>\n",
       "      <td>NaN</td>\n",
       "      <td>NaN</td>\n",
       "    </tr>\n",
       "    <tr>\n",
       "      <th>45474</th>\n",
       "      <td>[{'cast_id': 2, 'character': '', 'credit_id': ...</td>\n",
       "      <td>[{'credit_id': '533bccebc3a36844cf0011a7', 'de...</td>\n",
       "      <td>227506</td>\n",
       "      <td>Director,Producer</td>\n",
       "      <td>Yakov Protazanov,Joseph N. Ermolieff</td>\n",
       "      <td>NaN</td>\n",
       "      <td>NaN</td>\n",
       "      <td>NaN</td>\n",
       "    </tr>\n",
       "    <tr>\n",
       "      <th>45475</th>\n",
       "      <td>[]</td>\n",
       "      <td>[{'credit_id': '593e676c92514105b702e68e', 'de...</td>\n",
       "      <td>461257</td>\n",
       "      <td>Director</td>\n",
       "      <td>Daisy Asquith</td>\n",
       "      <td>NaN</td>\n",
       "      <td>NaN</td>\n",
       "      <td>NaN</td>\n",
       "    </tr>\n",
       "  </tbody>\n",
       "</table>\n",
       "<p>45432 rows × 8 columns</p>\n",
       "</div>"
      ],
      "text/plain": [
       "                                                    cast  \\\n",
       "0      [{'cast_id': 14, 'character': 'Woody (voice)',...   \n",
       "1      [{'cast_id': 1, 'character': 'Alan Parrish', '...   \n",
       "2      [{'cast_id': 2, 'character': 'Max Goldman', 'c...   \n",
       "3      [{'cast_id': 1, 'character': \"Savannah 'Vannah...   \n",
       "4      [{'cast_id': 1, 'character': 'George Banks', '...   \n",
       "...                                                  ...   \n",
       "45471  [{'cast_id': 0, 'character': '', 'credit_id': ...   \n",
       "45472  [{'cast_id': 1002, 'character': 'Sister Angela...   \n",
       "45473  [{'cast_id': 6, 'character': 'Emily Shaw', 'cr...   \n",
       "45474  [{'cast_id': 2, 'character': '', 'credit_id': ...   \n",
       "45475                                                 []   \n",
       "\n",
       "                                                    crew      id  \\\n",
       "0      [{'credit_id': '52fe4284c3a36847f8024f49', 'de...     862   \n",
       "1      [{'credit_id': '52fe44bfc3a36847f80a7cd1', 'de...    8844   \n",
       "2      [{'credit_id': '52fe466a9251416c75077a89', 'de...   15602   \n",
       "3      [{'credit_id': '52fe44779251416c91011acb', 'de...   31357   \n",
       "4      [{'credit_id': '52fe44959251416c75039ed7', 'de...   11862   \n",
       "...                                                  ...     ...   \n",
       "45471  [{'credit_id': '5894a97d925141426c00818c', 'de...  439050   \n",
       "45472  [{'credit_id': '52fe4af1c3a36847f81e9b15', 'de...  111109   \n",
       "45473  [{'credit_id': '52fe4776c3a368484e0c8387', 'de...   67758   \n",
       "45474  [{'credit_id': '533bccebc3a36844cf0011a7', 'de...  227506   \n",
       "45475  [{'credit_id': '593e676c92514105b702e68e', 'de...  461257   \n",
       "\n",
       "                                                crew_job  \\\n",
       "0      Director,Screenplay,Screenplay,Screenplay,Scre...   \n",
       "1      Executive Producer,Screenplay,Original Music C...   \n",
       "2             Director,Characters,Writer,Sound Recordist   \n",
       "3      Director,Screenplay,Producer,Producer,Producer...   \n",
       "4      Original Music Composer,Director of Photograph...   \n",
       "...                                                  ...   \n",
       "45471  Director,Producer,Camera Supervisor,Script,Edi...   \n",
       "45472  Director,Writer,Production Design,Music,Editor...   \n",
       "45473  Director,Screenplay,Screenplay,Original Music ...   \n",
       "45474                                  Director,Producer   \n",
       "45475                                           Director   \n",
       "\n",
       "                                               crew_name     Protagonista  \\\n",
       "0      John Lasseter,Joss Whedon,Andrew Stanton,Joel ...        Tom Hanks   \n",
       "1      Larry J. Franco,Jonathan Hensleigh,James Horne...   Robin Williams   \n",
       "2      Howard Deutch,Mark Steven Johnson,Mark Steven ...   Walter Matthau   \n",
       "3      Forest Whitaker,Ronald Bass,Ronald Bass,Ezra S...  Whitney Houston   \n",
       "4      Alan Silvestri,Elliot Davis,Nancy Meyers,Nancy...     Steve Martin   \n",
       "...                                                  ...              ...   \n",
       "45471  Hamid Nematollah,Hamid Nematollah,Farshad Moha...              NaN   \n",
       "45472  Lav Diaz,Lav Diaz,Dante Perez,Lav Diaz,Lav Dia...              NaN   \n",
       "45473  Mark L. Lester,C. Courtney Joyner,Jeffrey Gold...              NaN   \n",
       "45474               Yakov Protazanov,Joseph N. Ermolieff              NaN   \n",
       "45475                                      Daisy Asquith              NaN   \n",
       "\n",
       "               Actor1          Actor2  \n",
       "0           Tim Allen     Don Rickles  \n",
       "1       Jonathan Hyde   Kirsten Dunst  \n",
       "2         Jack Lemmon     Ann-Margret  \n",
       "3      Angela Bassett  Loretta Devine  \n",
       "4        Diane Keaton    Martin Short  \n",
       "...               ...             ...  \n",
       "45471             NaN             NaN  \n",
       "45472             NaN             NaN  \n",
       "45473             NaN             NaN  \n",
       "45474             NaN             NaN  \n",
       "45475             NaN             NaN  \n",
       "\n",
       "[45432 rows x 8 columns]"
      ]
     },
     "execution_count": 438,
     "metadata": {},
     "output_type": "execute_result"
    }
   ],
   "source": [
    "### Realizando la Separacion de los Actores de las Películas\n",
    "\n",
    "N = 3  # Número de actores a seleccionar de cada película.\n",
    "\n",
    "# Función para obtener una lista de nombres y completar con \"No Hay\" si es necesario\n",
    "def get_names(row):\n",
    "    names = row.split(',')\n",
    "    if len(names) >= 1:\n",
    "        Protagonist = names[0]\n",
    "    else:\n",
    "        Protagonist = np.nan\n",
    "    if len(names) >= 2:\n",
    "        Actor1 = names[1]\n",
    "    else:\n",
    "        Actor1 = np.nan\n",
    "    if len(names) >= 3:\n",
    "        Actor2 = names[2]\n",
    "    else:\n",
    "        Actor2 = np.nan\n",
    "    return Protagonist, Actor1, Actor2\n",
    "\n",
    "# Dividir la columna nombres_personas y obtener nuevas columnas\n",
    "df_credits[['Protagonista', 'Actor1', 'Actor2']] = pd.DataFrame(df_credits['cast_name'].apply(get_names).tolist())\n",
    "\n",
    "# Eliminar la columna original nombres_personas si no la necesitas\n",
    "df_credits.drop(columns=['cast_name'], inplace=True)\n",
    "\n",
    "# Mostrar el DataFrame resultante\n",
    "df_credits"
   ]
  },
  {
   "cell_type": "markdown",
   "metadata": {},
   "source": [
    "Validando Valores Nulos"
   ]
  },
  {
   "cell_type": "code",
   "execution_count": 439,
   "metadata": {},
   "outputs": [
    {
     "data": {
      "text/plain": [
       "cast               0\n",
       "crew               0\n",
       "id                 0\n",
       "crew_job           0\n",
       "crew_name          0\n",
       "Protagonista      44\n",
       "Actor1          3784\n",
       "Actor2          4692\n",
       "dtype: int64"
      ]
     },
     "execution_count": 439,
     "metadata": {},
     "output_type": "execute_result"
    }
   ],
   "source": [
    "### Visualizando Valores Nulos en 'df_credits'\n",
    "df_credits.isna().sum()"
   ]
  },
  {
   "cell_type": "markdown",
   "metadata": {},
   "source": [
    "Aparecieron valores nulos en las columnas de Protagonista, Actor1 y Actor2, despúes de separarlos en columnas; los cuales son significativos para el proyecto, ya que la Recomendación de Películas estará basada entre otras, con estas tres variables. Por tal razón, se procede a eliminar estos registros con NaN."
   ]
  },
  {
   "cell_type": "code",
   "execution_count": 440,
   "metadata": {},
   "outputs": [
    {
     "data": {
      "text/plain": [
       "cast            0\n",
       "crew            0\n",
       "id              0\n",
       "crew_job        0\n",
       "crew_name       0\n",
       "Protagonista    0\n",
       "Actor1          0\n",
       "Actor2          0\n",
       "dtype: int64"
      ]
     },
     "execution_count": 440,
     "metadata": {},
     "output_type": "execute_result"
    }
   ],
   "source": [
    "### Se procede a eliminar los valores nulos de estas tres columnsa ya que serán utilizadas en la recomendación.\n",
    "df_credits.dropna(subset=['Protagonista', 'Actor1', 'Actor2'], inplace=True)\n",
    "\n",
    "### Visualizando Valores Nulos en 'df_credits'\n",
    "df_credits.isna().sum()"
   ]
  },
  {
   "cell_type": "markdown",
   "metadata": {},
   "source": [
    "2.1.5.3) Selecion del Director desde el Datasets: 'df_credits', para la recomendacion."
   ]
  },
  {
   "cell_type": "code",
   "execution_count": 441,
   "metadata": {},
   "outputs": [
    {
     "data": {
      "text/html": [
       "<div>\n",
       "<style scoped>\n",
       "    .dataframe tbody tr th:only-of-type {\n",
       "        vertical-align: middle;\n",
       "    }\n",
       "\n",
       "    .dataframe tbody tr th {\n",
       "        vertical-align: top;\n",
       "    }\n",
       "\n",
       "    .dataframe thead th {\n",
       "        text-align: right;\n",
       "    }\n",
       "</style>\n",
       "<table border=\"1\" class=\"dataframe\">\n",
       "  <thead>\n",
       "    <tr style=\"text-align: right;\">\n",
       "      <th></th>\n",
       "      <th>crew_job</th>\n",
       "      <th>crew_name</th>\n",
       "    </tr>\n",
       "  </thead>\n",
       "  <tbody>\n",
       "    <tr>\n",
       "      <th>0</th>\n",
       "      <td>Director,Screenplay,Screenplay,Screenplay,Scre...</td>\n",
       "      <td>John Lasseter,Joss Whedon,Andrew Stanton,Joel ...</td>\n",
       "    </tr>\n",
       "    <tr>\n",
       "      <th>1</th>\n",
       "      <td>Executive Producer,Screenplay,Original Music C...</td>\n",
       "      <td>Larry J. Franco,Jonathan Hensleigh,James Horne...</td>\n",
       "    </tr>\n",
       "    <tr>\n",
       "      <th>2</th>\n",
       "      <td>Director,Characters,Writer,Sound Recordist</td>\n",
       "      <td>Howard Deutch,Mark Steven Johnson,Mark Steven ...</td>\n",
       "    </tr>\n",
       "    <tr>\n",
       "      <th>3</th>\n",
       "      <td>Director,Screenplay,Producer,Producer,Producer...</td>\n",
       "      <td>Forest Whitaker,Ronald Bass,Ronald Bass,Ezra S...</td>\n",
       "    </tr>\n",
       "    <tr>\n",
       "      <th>4</th>\n",
       "      <td>Original Music Composer,Director of Photograph...</td>\n",
       "      <td>Alan Silvestri,Elliot Davis,Nancy Meyers,Nancy...</td>\n",
       "    </tr>\n",
       "    <tr>\n",
       "      <th>...</th>\n",
       "      <td>...</td>\n",
       "      <td>...</td>\n",
       "    </tr>\n",
       "    <tr>\n",
       "      <th>45426</th>\n",
       "      <td>Director</td>\n",
       "      <td>Georges Monca</td>\n",
       "    </tr>\n",
       "    <tr>\n",
       "      <th>45427</th>\n",
       "      <td>Writer,Director,Writer</td>\n",
       "      <td>Scott Bindley,Jonathan A. Rosenbaum,Adrian Vina</td>\n",
       "    </tr>\n",
       "    <tr>\n",
       "      <th>45428</th>\n",
       "      <td>Director,Writer</td>\n",
       "      <td>Barbara Hammer,Barbara Hammer</td>\n",
       "    </tr>\n",
       "    <tr>\n",
       "      <th>45429</th>\n",
       "      <td>Director,Camera Operator</td>\n",
       "      <td>Louis Lumière,Louis Lumière</td>\n",
       "    </tr>\n",
       "    <tr>\n",
       "      <th>45430</th>\n",
       "      <td>Casting,Director of Photography,Production Des...</td>\n",
       "      <td>Mike Fenton,Remi Adefarasin,Tony Burrough,Maur...</td>\n",
       "    </tr>\n",
       "  </tbody>\n",
       "</table>\n",
       "<p>40740 rows × 2 columns</p>\n",
       "</div>"
      ],
      "text/plain": [
       "                                                crew_job  \\\n",
       "0      Director,Screenplay,Screenplay,Screenplay,Scre...   \n",
       "1      Executive Producer,Screenplay,Original Music C...   \n",
       "2             Director,Characters,Writer,Sound Recordist   \n",
       "3      Director,Screenplay,Producer,Producer,Producer...   \n",
       "4      Original Music Composer,Director of Photograph...   \n",
       "...                                                  ...   \n",
       "45426                                           Director   \n",
       "45427                             Writer,Director,Writer   \n",
       "45428                                    Director,Writer   \n",
       "45429                           Director,Camera Operator   \n",
       "45430  Casting,Director of Photography,Production Des...   \n",
       "\n",
       "                                               crew_name  \n",
       "0      John Lasseter,Joss Whedon,Andrew Stanton,Joel ...  \n",
       "1      Larry J. Franco,Jonathan Hensleigh,James Horne...  \n",
       "2      Howard Deutch,Mark Steven Johnson,Mark Steven ...  \n",
       "3      Forest Whitaker,Ronald Bass,Ronald Bass,Ezra S...  \n",
       "4      Alan Silvestri,Elliot Davis,Nancy Meyers,Nancy...  \n",
       "...                                                  ...  \n",
       "45426                                      Georges Monca  \n",
       "45427    Scott Bindley,Jonathan A. Rosenbaum,Adrian Vina  \n",
       "45428                      Barbara Hammer,Barbara Hammer  \n",
       "45429                        Louis Lumière,Louis Lumière  \n",
       "45430  Mike Fenton,Remi Adefarasin,Tony Burrough,Maur...  \n",
       "\n",
       "[40740 rows x 2 columns]"
      ]
     },
     "execution_count": 441,
     "metadata": {},
     "output_type": "execute_result"
    }
   ],
   "source": [
    "df_credits[['crew_job', 'crew_name']]"
   ]
  },
  {
   "cell_type": "markdown",
   "metadata": {},
   "source": [
    "Se puede observar que el primer nombre de la columna 'crew_job' representa al Director de la Peliículas. <Br>\n",
    "Los otros nombres se correspondes a cada uno de los otros roles existentes."
   ]
  },
  {
   "cell_type": "markdown",
   "metadata": {},
   "source": [
    "Se procede a crear una sola columna con el nombre del Director."
   ]
  },
  {
   "cell_type": "code",
   "execution_count": 442,
   "metadata": {},
   "outputs": [
    {
     "data": {
      "text/html": [
       "<div>\n",
       "<style scoped>\n",
       "    .dataframe tbody tr th:only-of-type {\n",
       "        vertical-align: middle;\n",
       "    }\n",
       "\n",
       "    .dataframe tbody tr th {\n",
       "        vertical-align: top;\n",
       "    }\n",
       "\n",
       "    .dataframe thead th {\n",
       "        text-align: right;\n",
       "    }\n",
       "</style>\n",
       "<table border=\"1\" class=\"dataframe\">\n",
       "  <thead>\n",
       "    <tr style=\"text-align: right;\">\n",
       "      <th></th>\n",
       "      <th>cast</th>\n",
       "      <th>crew</th>\n",
       "      <th>id</th>\n",
       "      <th>Protagonista</th>\n",
       "      <th>Actor1</th>\n",
       "      <th>Actor2</th>\n",
       "      <th>Director</th>\n",
       "    </tr>\n",
       "  </thead>\n",
       "  <tbody>\n",
       "    <tr>\n",
       "      <th>0</th>\n",
       "      <td>[{'cast_id': 14, 'character': 'Woody (voice)',...</td>\n",
       "      <td>[{'credit_id': '52fe4284c3a36847f8024f49', 'de...</td>\n",
       "      <td>862</td>\n",
       "      <td>Tom Hanks</td>\n",
       "      <td>Tim Allen</td>\n",
       "      <td>Don Rickles</td>\n",
       "      <td>John Lasseter</td>\n",
       "    </tr>\n",
       "    <tr>\n",
       "      <th>1</th>\n",
       "      <td>[{'cast_id': 1, 'character': 'Alan Parrish', '...</td>\n",
       "      <td>[{'credit_id': '52fe44bfc3a36847f80a7cd1', 'de...</td>\n",
       "      <td>8844</td>\n",
       "      <td>Robin Williams</td>\n",
       "      <td>Jonathan Hyde</td>\n",
       "      <td>Kirsten Dunst</td>\n",
       "      <td>Larry J. Franco</td>\n",
       "    </tr>\n",
       "    <tr>\n",
       "      <th>2</th>\n",
       "      <td>[{'cast_id': 2, 'character': 'Max Goldman', 'c...</td>\n",
       "      <td>[{'credit_id': '52fe466a9251416c75077a89', 'de...</td>\n",
       "      <td>15602</td>\n",
       "      <td>Walter Matthau</td>\n",
       "      <td>Jack Lemmon</td>\n",
       "      <td>Ann-Margret</td>\n",
       "      <td>Howard Deutch</td>\n",
       "    </tr>\n",
       "    <tr>\n",
       "      <th>3</th>\n",
       "      <td>[{'cast_id': 1, 'character': \"Savannah 'Vannah...</td>\n",
       "      <td>[{'credit_id': '52fe44779251416c91011acb', 'de...</td>\n",
       "      <td>31357</td>\n",
       "      <td>Whitney Houston</td>\n",
       "      <td>Angela Bassett</td>\n",
       "      <td>Loretta Devine</td>\n",
       "      <td>Forest Whitaker</td>\n",
       "    </tr>\n",
       "    <tr>\n",
       "      <th>4</th>\n",
       "      <td>[{'cast_id': 1, 'character': 'George Banks', '...</td>\n",
       "      <td>[{'credit_id': '52fe44959251416c75039ed7', 'de...</td>\n",
       "      <td>11862</td>\n",
       "      <td>Steve Martin</td>\n",
       "      <td>Diane Keaton</td>\n",
       "      <td>Martin Short</td>\n",
       "      <td>Alan Silvestri</td>\n",
       "    </tr>\n",
       "    <tr>\n",
       "      <th>...</th>\n",
       "      <td>...</td>\n",
       "      <td>...</td>\n",
       "      <td>...</td>\n",
       "      <td>...</td>\n",
       "      <td>...</td>\n",
       "      <td>...</td>\n",
       "      <td>...</td>\n",
       "    </tr>\n",
       "    <tr>\n",
       "      <th>45426</th>\n",
       "      <td>[{'cast_id': 1, 'character': 'Rigadin', 'credi...</td>\n",
       "      <td>[{'credit_id': '53c71e870e0a267ff7002e99', 'de...</td>\n",
       "      <td>282308</td>\n",
       "      <td>Patrick Bergin</td>\n",
       "      <td>Uma Thurman</td>\n",
       "      <td>David Morrissey</td>\n",
       "      <td>Georges Monca</td>\n",
       "    </tr>\n",
       "    <tr>\n",
       "      <th>45427</th>\n",
       "      <td>[{'cast_id': 0, 'character': 'Detective Simmon...</td>\n",
       "      <td>[{'credit_id': '593ba0c29251410593009be3', 'de...</td>\n",
       "      <td>461297</td>\n",
       "      <td>Leila Hatami</td>\n",
       "      <td>Kourosh Tahami</td>\n",
       "      <td>Elham Korda</td>\n",
       "      <td>Scott Bindley</td>\n",
       "    </tr>\n",
       "    <tr>\n",
       "      <th>45428</th>\n",
       "      <td>[{'cast_id': 1, 'character': 'Woman Making Lov...</td>\n",
       "      <td>[{'credit_id': '531f61c3c3a3685c3700a18d', 'de...</td>\n",
       "      <td>258907</td>\n",
       "      <td>Angel Aquino</td>\n",
       "      <td>Perry Dizon</td>\n",
       "      <td>Hazel Orencio</td>\n",
       "      <td>Barbara Hammer</td>\n",
       "    </tr>\n",
       "    <tr>\n",
       "      <th>45429</th>\n",
       "      <td>[]</td>\n",
       "      <td>[{'credit_id': '55a6d0629251411e06000459', 'de...</td>\n",
       "      <td>127762</td>\n",
       "      <td>Erika Eleniak</td>\n",
       "      <td>Adam Baldwin</td>\n",
       "      <td>Julie du Page</td>\n",
       "      <td>Louis Lumière</td>\n",
       "    </tr>\n",
       "    <tr>\n",
       "      <th>45430</th>\n",
       "      <td>[{'cast_id': 1, 'character': 'Scheherezade', '...</td>\n",
       "      <td>[{'credit_id': '5545faee925141499f00288a', 'de...</td>\n",
       "      <td>18098</td>\n",
       "      <td>Iwan Mosschuchin</td>\n",
       "      <td>Nathalie Lissenko</td>\n",
       "      <td>Pavel Pavlov</td>\n",
       "      <td>Mike Fenton</td>\n",
       "    </tr>\n",
       "  </tbody>\n",
       "</table>\n",
       "<p>40740 rows × 7 columns</p>\n",
       "</div>"
      ],
      "text/plain": [
       "                                                    cast  \\\n",
       "0      [{'cast_id': 14, 'character': 'Woody (voice)',...   \n",
       "1      [{'cast_id': 1, 'character': 'Alan Parrish', '...   \n",
       "2      [{'cast_id': 2, 'character': 'Max Goldman', 'c...   \n",
       "3      [{'cast_id': 1, 'character': \"Savannah 'Vannah...   \n",
       "4      [{'cast_id': 1, 'character': 'George Banks', '...   \n",
       "...                                                  ...   \n",
       "45426  [{'cast_id': 1, 'character': 'Rigadin', 'credi...   \n",
       "45427  [{'cast_id': 0, 'character': 'Detective Simmon...   \n",
       "45428  [{'cast_id': 1, 'character': 'Woman Making Lov...   \n",
       "45429                                                 []   \n",
       "45430  [{'cast_id': 1, 'character': 'Scheherezade', '...   \n",
       "\n",
       "                                                    crew      id  \\\n",
       "0      [{'credit_id': '52fe4284c3a36847f8024f49', 'de...     862   \n",
       "1      [{'credit_id': '52fe44bfc3a36847f80a7cd1', 'de...    8844   \n",
       "2      [{'credit_id': '52fe466a9251416c75077a89', 'de...   15602   \n",
       "3      [{'credit_id': '52fe44779251416c91011acb', 'de...   31357   \n",
       "4      [{'credit_id': '52fe44959251416c75039ed7', 'de...   11862   \n",
       "...                                                  ...     ...   \n",
       "45426  [{'credit_id': '53c71e870e0a267ff7002e99', 'de...  282308   \n",
       "45427  [{'credit_id': '593ba0c29251410593009be3', 'de...  461297   \n",
       "45428  [{'credit_id': '531f61c3c3a3685c3700a18d', 'de...  258907   \n",
       "45429  [{'credit_id': '55a6d0629251411e06000459', 'de...  127762   \n",
       "45430  [{'credit_id': '5545faee925141499f00288a', 'de...   18098   \n",
       "\n",
       "           Protagonista             Actor1           Actor2         Director  \n",
       "0             Tom Hanks          Tim Allen      Don Rickles    John Lasseter  \n",
       "1        Robin Williams      Jonathan Hyde    Kirsten Dunst  Larry J. Franco  \n",
       "2        Walter Matthau        Jack Lemmon      Ann-Margret    Howard Deutch  \n",
       "3       Whitney Houston     Angela Bassett   Loretta Devine  Forest Whitaker  \n",
       "4          Steve Martin       Diane Keaton     Martin Short   Alan Silvestri  \n",
       "...                 ...                ...              ...              ...  \n",
       "45426    Patrick Bergin        Uma Thurman  David Morrissey    Georges Monca  \n",
       "45427      Leila Hatami     Kourosh Tahami      Elham Korda    Scott Bindley  \n",
       "45428      Angel Aquino        Perry Dizon    Hazel Orencio   Barbara Hammer  \n",
       "45429     Erika Eleniak       Adam Baldwin    Julie du Page    Louis Lumière  \n",
       "45430  Iwan Mosschuchin  Nathalie Lissenko     Pavel Pavlov      Mike Fenton  \n",
       "\n",
       "[40740 rows x 7 columns]"
      ]
     },
     "execution_count": 442,
     "metadata": {},
     "output_type": "execute_result"
    }
   ],
   "source": [
    "# Crear una nueva columna 'Director' con los nombres de los directores\n",
    "df_credits['Director'] = df_credits['crew_name'].str.split(',').str[0]\n",
    "\n",
    "### Eliminando columnas de 'crew_job' y 'crew_name'\n",
    "### Se procede a eliminar las 2 columnas anidadas ya que no la vamos a utilizar mas:\n",
    "df_credits.drop(columns=['crew_job', 'crew_name'], inplace=True)\n",
    "df_credits"
   ]
  },
  {
   "cell_type": "markdown",
   "metadata": {},
   "source": [
    "Validando los Cambios realizados"
   ]
  },
  {
   "cell_type": "code",
   "execution_count": 443,
   "metadata": {},
   "outputs": [
    {
     "name": "stdout",
     "output_type": "stream",
     "text": [
      "Total Registros Duplicados de 'df_credits' =  0\n",
      "Total Registros Duplicados de 'df_movies' =  0 \n",
      "\n",
      "Dimensiones del Datasets de 'df_credits' =  (40740, 7)\n",
      "Dimensiones del Datasets de 'df_movies' =  (45346, 18) \n",
      "\n",
      "Columnas de 'df_credits' =  Index(['cast', 'crew', 'id', 'Protagonista', 'Actor1', 'Actor2', 'Director'], dtype='object') \n",
      "\n",
      "Columnas de 'df_movies' =  Index(['budget', 'id', 'original_language', 'overview', 'popularity',\n",
      "       'revenue', 'runtime', 'status', 'title', 'vote_average', 'vote_count',\n",
      "       'Franquicia', 'Generos', 'Productores', 'Paises', 'IdiomasH', 'Anio',\n",
      "       'return'],\n",
      "      dtype='object')\n"
     ]
    }
   ],
   "source": [
    "### Total de Registros duplicados en: \"df_credits\"\n",
    "print(\"Total Registros Duplicados de 'df_credits' = \",df_credits[df_credits['id'].duplicated()]['id'].count())\n",
    "\n",
    "### Total de Registros duplicados en: df_movies\n",
    "print(\"Total Registros Duplicados de 'df_movies' = \", df_movies[df_movies['id'].duplicated()]['id'].count(),\"\\n\")\n",
    "\n",
    "### Dimensiones de \"df_credits\"\n",
    "print(\"Dimensiones del Datasets de 'df_credits' = \", df_credits.shape)\n",
    "\n",
    "### Dimensiones de \"df_movies\"\n",
    "print(\"Dimensiones del Datasets de 'df_movies' = \", df_movies.shape,\"\\n\")\n",
    "      \n",
    "### Columnas de \"df_credits\"\n",
    "print(\"Columnas de 'df_credits' = \", df_credits.columns,\"\\n\")\n",
    "\n",
    "### Columnas de \"df_movies\"\n",
    "print(\"Columnas de 'df_movies' = \", df_movies.columns)     \n",
    "      "
   ]
  },
  {
   "cell_type": "markdown",
   "metadata": {},
   "source": [
    "2.1.5.4) Unión de ambos Datasets df_credits, para realizar mejor manipulacion de las variables."
   ]
  },
  {
   "cell_type": "code",
   "execution_count": 444,
   "metadata": {},
   "outputs": [
    {
     "data": {
      "text/plain": [
       "Index(['id', 'Protagonista', 'Actor1', 'Actor2', 'Director'], dtype='object')"
      ]
     },
     "execution_count": 444,
     "metadata": {},
     "output_type": "execute_result"
    }
   ],
   "source": [
    "### Se procede a eliminar las 2 columnas desanidadas del Datasets: 'df_credits':\n",
    "df_credits.drop(columns=['cast', 'crew'], inplace=True)\n",
    "\n",
    "df_credits.columns"
   ]
  },
  {
   "cell_type": "markdown",
   "metadata": {},
   "source": [
    "Validando Informacion de Nulos y tipos de variables ante de unir los dos datasets"
   ]
  },
  {
   "cell_type": "code",
   "execution_count": 445,
   "metadata": {},
   "outputs": [
    {
     "data": {
      "text/plain": [
       "budget                 0\n",
       "id                     0\n",
       "original_language      0\n",
       "overview             941\n",
       "popularity             0\n",
       "revenue                0\n",
       "runtime                0\n",
       "status                 0\n",
       "title                  0\n",
       "vote_average           0\n",
       "vote_count             0\n",
       "Franquicia             0\n",
       "Generos                0\n",
       "Productores            0\n",
       "Paises                 0\n",
       "IdiomasH               0\n",
       "Anio                   0\n",
       "return                 0\n",
       "dtype: int64"
      ]
     },
     "execution_count": 445,
     "metadata": {},
     "output_type": "execute_result"
    }
   ],
   "source": [
    "df_movies.isna().sum()"
   ]
  },
  {
   "cell_type": "code",
   "execution_count": 446,
   "metadata": {},
   "outputs": [
    {
     "name": "stdout",
     "output_type": "stream",
     "text": [
      "<class 'pandas.core.frame.DataFrame'>\n",
      "Index: 45346 entries, 0 to 45465\n",
      "Data columns (total 18 columns):\n",
      " #   Column             Non-Null Count  Dtype  \n",
      "---  ------             --------------  -----  \n",
      " 0   budget             45346 non-null  float64\n",
      " 1   id                 45346 non-null  object \n",
      " 2   original_language  45346 non-null  object \n",
      " 3   overview           44405 non-null  object \n",
      " 4   popularity         45346 non-null  float64\n",
      " 5   revenue            45346 non-null  float64\n",
      " 6   runtime            45346 non-null  float64\n",
      " 7   status             45346 non-null  object \n",
      " 8   title              45346 non-null  object \n",
      " 9   vote_average       45346 non-null  float64\n",
      " 10  vote_count         45346 non-null  float64\n",
      " 11  Franquicia         45346 non-null  object \n",
      " 12  Generos            45346 non-null  object \n",
      " 13  Productores        45346 non-null  object \n",
      " 14  Paises             45346 non-null  object \n",
      " 15  IdiomasH           45346 non-null  object \n",
      " 16  Anio               45346 non-null  int32  \n",
      " 17  return             45346 non-null  float64\n",
      "dtypes: float64(7), int32(1), object(10)\n",
      "memory usage: 7.4+ MB\n"
     ]
    }
   ],
   "source": [
    "df_movies.info()"
   ]
  },
  {
   "cell_type": "code",
   "execution_count": 447,
   "metadata": {},
   "outputs": [
    {
     "data": {
      "text/plain": [
       "id              0\n",
       "Protagonista    0\n",
       "Actor1          0\n",
       "Actor2          0\n",
       "Director        0\n",
       "dtype: int64"
      ]
     },
     "execution_count": 447,
     "metadata": {},
     "output_type": "execute_result"
    }
   ],
   "source": [
    "df_credits.isna().sum()"
   ]
  },
  {
   "cell_type": "code",
   "execution_count": 448,
   "metadata": {},
   "outputs": [
    {
     "name": "stdout",
     "output_type": "stream",
     "text": [
      "<class 'pandas.core.frame.DataFrame'>\n",
      "Index: 40740 entries, 0 to 45430\n",
      "Data columns (total 5 columns):\n",
      " #   Column        Non-Null Count  Dtype \n",
      "---  ------        --------------  ----- \n",
      " 0   id            40740 non-null  int64 \n",
      " 1   Protagonista  40740 non-null  object\n",
      " 2   Actor1        40740 non-null  object\n",
      " 3   Actor2        40740 non-null  object\n",
      " 4   Director      40740 non-null  object\n",
      "dtypes: int64(1), object(4)\n",
      "memory usage: 1.9+ MB\n"
     ]
    }
   ],
   "source": [
    "df_credits.info()"
   ]
  },
  {
   "cell_type": "markdown",
   "metadata": {},
   "source": [
    "Se puede observar el codigo de la pelicula son de diferentes tipos en los Datasets. <Br>Se procede tambien a convertirlos en númerico para realizar la unión de ambos Datasets:"
   ]
  },
  {
   "cell_type": "code",
   "execution_count": 449,
   "metadata": {},
   "outputs": [
    {
     "data": {
      "text/plain": [
       "Index(['budget', 'id', 'original_language', 'overview', 'popularity',\n",
       "       'revenue', 'runtime', 'status', 'title', 'vote_average', 'vote_count',\n",
       "       'Franquicia', 'Generos', 'Productores', 'Paises', 'IdiomasH', 'Anio',\n",
       "       'return', 'Protagonista', 'Actor1', 'Actor2', 'Director'],\n",
       "      dtype='object')"
      ]
     },
     "execution_count": 449,
     "metadata": {},
     "output_type": "execute_result"
    }
   ],
   "source": [
    "### Se resetean los indices de los dos Dataset, dado las modificaciones que se han realizado.\n",
    "df_movies.reset_index(drop=True, inplace=True)\n",
    "df_credits.reset_index(drop=True, inplace=True)\n",
    "\n",
    "### Se lleva en ambas columnas el tipo de codigo de la película 'id' a ent64 para facilitar el merge:\n",
    "df_credits['id'] = df_credits['id'].astype('int64')\n",
    "df_movies['id'] = df_movies['id'].astype('int64')\n",
    "\n",
    "### Se procede a realizar el merge entre los dos dataframes:\n",
    "df_movies_JOIN = pd.merge(df_movies, df_credits, on='id')\n",
    "df_movies_JOIN.columns"
   ]
  },
  {
   "cell_type": "code",
   "execution_count": 450,
   "metadata": {},
   "outputs": [
    {
     "data": {
      "text/plain": [
       "budget                 0\n",
       "id                     0\n",
       "original_language      0\n",
       "overview             815\n",
       "popularity             0\n",
       "revenue                0\n",
       "runtime                0\n",
       "status                 0\n",
       "title                  0\n",
       "vote_average           0\n",
       "vote_count             0\n",
       "Franquicia             0\n",
       "Generos                0\n",
       "Productores            0\n",
       "Paises                 0\n",
       "IdiomasH               0\n",
       "Anio                   0\n",
       "return                 0\n",
       "Protagonista           0\n",
       "Actor1                 0\n",
       "Actor2                 0\n",
       "Director               0\n",
       "dtype: int64"
      ]
     },
     "execution_count": 450,
     "metadata": {},
     "output_type": "execute_result"
    }
   ],
   "source": [
    "### Validando Valores Nulos\n",
    "df_movies_JOIN.isna().sum()"
   ]
  },
  {
   "cell_type": "markdown",
   "metadata": {},
   "source": [
    "2.1.5.5) Selección de Variables para la Recomendación de Películas."
   ]
  },
  {
   "cell_type": "markdown",
   "metadata": {},
   "source": [
    "Columnas Selecionadas para la Recomendación"
   ]
  },
  {
   "cell_type": "code",
   "execution_count": 470,
   "metadata": {},
   "outputs": [
    {
     "data": {
      "text/html": [
       "<div>\n",
       "<style scoped>\n",
       "    .dataframe tbody tr th:only-of-type {\n",
       "        vertical-align: middle;\n",
       "    }\n",
       "\n",
       "    .dataframe tbody tr th {\n",
       "        vertical-align: top;\n",
       "    }\n",
       "\n",
       "    .dataframe thead th {\n",
       "        text-align: right;\n",
       "    }\n",
       "</style>\n",
       "<table border=\"1\" class=\"dataframe\">\n",
       "  <thead>\n",
       "    <tr style=\"text-align: right;\">\n",
       "      <th></th>\n",
       "      <th>id</th>\n",
       "      <th>title</th>\n",
       "      <th>Generos</th>\n",
       "      <th>Director</th>\n",
       "      <th>Protagonista</th>\n",
       "      <th>Actor1</th>\n",
       "      <th>Actor2</th>\n",
       "      <th>popularity</th>\n",
       "      <th>Anio</th>\n",
       "      <th>vote_average</th>\n",
       "      <th>Franquicia</th>\n",
       "    </tr>\n",
       "  </thead>\n",
       "  <tbody>\n",
       "    <tr>\n",
       "      <th>0</th>\n",
       "      <td>862</td>\n",
       "      <td>Toy Story</td>\n",
       "      <td>Animation,Comedy,Family</td>\n",
       "      <td>John Lasseter</td>\n",
       "      <td>Tom Hanks</td>\n",
       "      <td>Tim Allen</td>\n",
       "      <td>Don Rickles</td>\n",
       "      <td>21.946943</td>\n",
       "      <td>1995</td>\n",
       "      <td>7.7</td>\n",
       "      <td>Toy Story Collection</td>\n",
       "    </tr>\n",
       "    <tr>\n",
       "      <th>1</th>\n",
       "      <td>8844</td>\n",
       "      <td>Jumanji</td>\n",
       "      <td>Adventure,Fantasy,Family</td>\n",
       "      <td>Larry J. Franco</td>\n",
       "      <td>Robin Williams</td>\n",
       "      <td>Jonathan Hyde</td>\n",
       "      <td>Kirsten Dunst</td>\n",
       "      <td>17.015539</td>\n",
       "      <td>1995</td>\n",
       "      <td>6.9</td>\n",
       "      <td></td>\n",
       "    </tr>\n",
       "    <tr>\n",
       "      <th>2</th>\n",
       "      <td>15602</td>\n",
       "      <td>Grumpier Old Men</td>\n",
       "      <td>Romance,Comedy</td>\n",
       "      <td>Howard Deutch</td>\n",
       "      <td>Walter Matthau</td>\n",
       "      <td>Jack Lemmon</td>\n",
       "      <td>Ann-Margret</td>\n",
       "      <td>11.712900</td>\n",
       "      <td>1995</td>\n",
       "      <td>6.5</td>\n",
       "      <td>Grumpy Old Men Collection</td>\n",
       "    </tr>\n",
       "    <tr>\n",
       "      <th>3</th>\n",
       "      <td>31357</td>\n",
       "      <td>Waiting to Exhale</td>\n",
       "      <td>Comedy,Drama,Romance</td>\n",
       "      <td>Forest Whitaker</td>\n",
       "      <td>Whitney Houston</td>\n",
       "      <td>Angela Bassett</td>\n",
       "      <td>Loretta Devine</td>\n",
       "      <td>3.859495</td>\n",
       "      <td>1995</td>\n",
       "      <td>6.1</td>\n",
       "      <td></td>\n",
       "    </tr>\n",
       "    <tr>\n",
       "      <th>4</th>\n",
       "      <td>11862</td>\n",
       "      <td>Father of the Bride Part II</td>\n",
       "      <td>Comedy</td>\n",
       "      <td>Alan Silvestri</td>\n",
       "      <td>Steve Martin</td>\n",
       "      <td>Diane Keaton</td>\n",
       "      <td>Martin Short</td>\n",
       "      <td>8.387519</td>\n",
       "      <td>1995</td>\n",
       "      <td>5.7</td>\n",
       "      <td>Father of the Bride Collection</td>\n",
       "    </tr>\n",
       "    <tr>\n",
       "      <th>...</th>\n",
       "      <td>...</td>\n",
       "      <td>...</td>\n",
       "      <td>...</td>\n",
       "      <td>...</td>\n",
       "      <td>...</td>\n",
       "      <td>...</td>\n",
       "      <td>...</td>\n",
       "      <td>...</td>\n",
       "      <td>...</td>\n",
       "      <td>...</td>\n",
       "      <td>...</td>\n",
       "    </tr>\n",
       "    <tr>\n",
       "      <th>40661</th>\n",
       "      <td>282308</td>\n",
       "      <td>Whiffles, Cubic Artist</td>\n",
       "      <td>Comedy</td>\n",
       "      <td>Georges Monca</td>\n",
       "      <td>Patrick Bergin</td>\n",
       "      <td>Uma Thurman</td>\n",
       "      <td>David Morrissey</td>\n",
       "      <td>0.003732</td>\n",
       "      <td>1912</td>\n",
       "      <td>0.0</td>\n",
       "      <td></td>\n",
       "    </tr>\n",
       "    <tr>\n",
       "      <th>40662</th>\n",
       "      <td>461297</td>\n",
       "      <td>Cop and a Half: New Recruit</td>\n",
       "      <td>Crime,Comedy,Action,Family</td>\n",
       "      <td>Scott Bindley</td>\n",
       "      <td>Leila Hatami</td>\n",
       "      <td>Kourosh Tahami</td>\n",
       "      <td>Elham Korda</td>\n",
       "      <td>1.248353</td>\n",
       "      <td>2017</td>\n",
       "      <td>6.0</td>\n",
       "      <td></td>\n",
       "    </tr>\n",
       "    <tr>\n",
       "      <th>40663</th>\n",
       "      <td>258907</td>\n",
       "      <td>Dyketactics</td>\n",
       "      <td>Drama</td>\n",
       "      <td>Barbara Hammer</td>\n",
       "      <td>Angel Aquino</td>\n",
       "      <td>Perry Dizon</td>\n",
       "      <td>Hazel Orencio</td>\n",
       "      <td>0.331254</td>\n",
       "      <td>1974</td>\n",
       "      <td>8.0</td>\n",
       "      <td></td>\n",
       "    </tr>\n",
       "    <tr>\n",
       "      <th>40664</th>\n",
       "      <td>127762</td>\n",
       "      <td>Baignade en Mer</td>\n",
       "      <td>Documentary</td>\n",
       "      <td>Louis Lumière</td>\n",
       "      <td>Erika Eleniak</td>\n",
       "      <td>Adam Baldwin</td>\n",
       "      <td>Julie du Page</td>\n",
       "      <td>0.429666</td>\n",
       "      <td>1895</td>\n",
       "      <td>5.3</td>\n",
       "      <td></td>\n",
       "    </tr>\n",
       "    <tr>\n",
       "      <th>40665</th>\n",
       "      <td>18098</td>\n",
       "      <td>Arabian Nights</td>\n",
       "      <td>Drama,Family,Fantasy</td>\n",
       "      <td>Mike Fenton</td>\n",
       "      <td>Iwan Mosschuchin</td>\n",
       "      <td>Nathalie Lissenko</td>\n",
       "      <td>Pavel Pavlov</td>\n",
       "      <td>2.266456</td>\n",
       "      <td>2000</td>\n",
       "      <td>6.9</td>\n",
       "      <td></td>\n",
       "    </tr>\n",
       "  </tbody>\n",
       "</table>\n",
       "<p>40666 rows × 11 columns</p>\n",
       "</div>"
      ],
      "text/plain": [
       "           id                        title                     Generos  \\\n",
       "0         862                    Toy Story     Animation,Comedy,Family   \n",
       "1        8844                      Jumanji    Adventure,Fantasy,Family   \n",
       "2       15602             Grumpier Old Men              Romance,Comedy   \n",
       "3       31357            Waiting to Exhale        Comedy,Drama,Romance   \n",
       "4       11862  Father of the Bride Part II                      Comedy   \n",
       "...       ...                          ...                         ...   \n",
       "40661  282308       Whiffles, Cubic Artist                      Comedy   \n",
       "40662  461297  Cop and a Half: New Recruit  Crime,Comedy,Action,Family   \n",
       "40663  258907                  Dyketactics                       Drama   \n",
       "40664  127762              Baignade en Mer                 Documentary   \n",
       "40665   18098               Arabian Nights        Drama,Family,Fantasy   \n",
       "\n",
       "              Director      Protagonista             Actor1           Actor2  \\\n",
       "0        John Lasseter         Tom Hanks          Tim Allen      Don Rickles   \n",
       "1      Larry J. Franco    Robin Williams      Jonathan Hyde    Kirsten Dunst   \n",
       "2        Howard Deutch    Walter Matthau        Jack Lemmon      Ann-Margret   \n",
       "3      Forest Whitaker   Whitney Houston     Angela Bassett   Loretta Devine   \n",
       "4       Alan Silvestri      Steve Martin       Diane Keaton     Martin Short   \n",
       "...                ...               ...                ...              ...   \n",
       "40661    Georges Monca    Patrick Bergin        Uma Thurman  David Morrissey   \n",
       "40662    Scott Bindley      Leila Hatami     Kourosh Tahami      Elham Korda   \n",
       "40663   Barbara Hammer      Angel Aquino        Perry Dizon    Hazel Orencio   \n",
       "40664    Louis Lumière     Erika Eleniak       Adam Baldwin    Julie du Page   \n",
       "40665      Mike Fenton  Iwan Mosschuchin  Nathalie Lissenko     Pavel Pavlov   \n",
       "\n",
       "       popularity  Anio  vote_average                      Franquicia  \n",
       "0       21.946943  1995           7.7            Toy Story Collection  \n",
       "1       17.015539  1995           6.9                                  \n",
       "2       11.712900  1995           6.5       Grumpy Old Men Collection  \n",
       "3        3.859495  1995           6.1                                  \n",
       "4        8.387519  1995           5.7  Father of the Bride Collection  \n",
       "...           ...   ...           ...                             ...  \n",
       "40661    0.003732  1912           0.0                                  \n",
       "40662    1.248353  2017           6.0                                  \n",
       "40663    0.331254  1974           8.0                                  \n",
       "40664    0.429666  1895           5.3                                  \n",
       "40665    2.266456  2000           6.9                                  \n",
       "\n",
       "[40666 rows x 11 columns]"
      ]
     },
     "execution_count": 470,
     "metadata": {},
     "output_type": "execute_result"
    }
   ],
   "source": [
    "### Columnas Selecionadas para la Recomendación\n",
    "ColumnasSR = df_movies_JOIN[['id', 'title', 'Generos', 'Director', 'Protagonista', 'Actor1', 'Actor2', 'popularity', 'Anio','vote_average', 'Franquicia']].copy()\n",
    "ColumnasSR"
   ]
  },
  {
   "cell_type": "markdown",
   "metadata": {},
   "source": [
    "La Columna 'Franquicia' está practicamente vacía. Pero, puede ayudar en aquellos casos que exista."
   ]
  },
  {
   "cell_type": "code",
   "execution_count": 471,
   "metadata": {},
   "outputs": [
    {
     "name": "stdout",
     "output_type": "stream",
     "text": [
      "Cantidad de Valoque Unicos de cada una de estas Columnas: \n",
      " id              40666\n",
      "title           37989\n",
      "Generos          3820\n",
      "Director        18878\n",
      "Protagonista    17183\n",
      "Actor1          21732\n",
      "Actor2          24436\n",
      "popularity      39403\n",
      "Anio              134\n",
      "vote_average       92\n",
      "Franquicia       1642\n",
      "dtype: int64\n"
     ]
    }
   ],
   "source": [
    "### Cantidad de Valores Unicos de las Columnas Seleccionadas para la Recomendación\n",
    "print(\"Cantidad de Valoque Unicos de cada una de estas Columnas: \\n\", ColumnasSR.nunique())"
   ]
  },
  {
   "cell_type": "markdown",
   "metadata": {},
   "source": [
    "### 2.1.6) Ingeníeria de Features"
   ]
  },
  {
   "cell_type": "markdown",
   "metadata": {},
   "source": [
    "Dado que el cálculo de similitud se basa en las características presentes en los datos y no en una representación numérica específica de ellas, no es necesario realizar transformaciones complejas o ingeniería de características en el sentido tradicional. Las características originales, ya sean cuantitativas o incluso cualitativas, se utilizan directamente en el cálculo de similitud del coseno."
   ]
  },
  {
   "cell_type": "markdown",
   "metadata": {},
   "source": [
    "La similitud del coseno opera en el espacio de características original sin requerir codificaciones específicas ni combinaciones de características."
   ]
  },
  {
   "cell_type": "markdown",
   "metadata": {},
   "source": [
    "En nuestro caso, la selección de las características relevantes es el factor primordial para nuestra recomendación. Y adicionalmente, en la calidad de los datos que tengamos"
   ]
  },
  {
   "cell_type": "markdown",
   "metadata": {},
   "source": [
    "# 3) Guardando el DataSets resultante para luego subirlo a GitHub."
   ]
  },
  {
   "cell_type": "markdown",
   "metadata": {},
   "source": [
    "### En resumen, estaremos trabajando con un DataSets de 40666 Registros y 22 Columnas"
   ]
  },
  {
   "cell_type": "code",
   "execution_count": 453,
   "metadata": {},
   "outputs": [
    {
     "data": {
      "text/plain": [
       "(40666, 22)"
      ]
     },
     "execution_count": 453,
     "metadata": {},
     "output_type": "execute_result"
    }
   ],
   "source": [
    "### Dimensiones del DataSets\n",
    "df_movies_JOIN.shape"
   ]
  },
  {
   "cell_type": "markdown",
   "metadata": {},
   "source": [
    "### Cargando el nuevo Dataset resultante para realizar pruebas locales"
   ]
  },
  {
   "cell_type": "code",
   "execution_count": 454,
   "metadata": {},
   "outputs": [],
   "source": [
    "### Realizando la carga en disco para subir el nuevo DataSets de Datos: df_movies_JOIN\n",
    "df_movies_JOIN.to_csv('DataSets/df_movies_JOIN.csv', sep=',')"
   ]
  },
  {
   "cell_type": "markdown",
   "metadata": {},
   "source": [
    "### "
   ]
  },
  {
   "cell_type": "markdown",
   "metadata": {},
   "source": [
    "# 4) Funciones APis"
   ]
  },
  {
   "cell_type": "markdown",
   "metadata": {},
   "source": [
    "### "
   ]
  },
  {
   "cell_type": "markdown",
   "metadata": {},
   "source": [
    "### 4.1) Funciones Requeridas"
   ]
  },
  {
   "cell_type": "markdown",
   "metadata": {},
   "source": [
    "### Función Nro. 1 <Br>\n",
    "'''Ingresas el idioma, retornando la cantidad de peliculas producidas en el mismo'''"
   ]
  },
  {
   "cell_type": "code",
   "execution_count": 463,
   "metadata": {},
   "outputs": [
    {
     "data": {
      "text/plain": [
       "87"
      ]
     },
     "execution_count": 463,
     "metadata": {},
     "output_type": "execute_result"
    }
   ],
   "source": [
    "df_movies_JOIN['original_language'].nunique()"
   ]
  },
  {
   "cell_type": "code",
   "execution_count": 455,
   "metadata": {},
   "outputs": [
    {
     "name": "stdout",
     "output_type": "stream",
     "text": [
      "{'idioma': 'es', 'cantidad': 883}\n"
     ]
    }
   ],
   "source": [
    "### FUNCION Nro. 1\n",
    "#@app.get('/peliculas_idioma/{idioma}')\n",
    "def peliculas_idioma(idioma:str):\n",
    "    '''Ingresas el idioma, retornando la cantidad de peliculas producidas en el mismo'''\n",
    "    try:\n",
    "        idioma = idioma.lower()\n",
    "        mask = df_movies_JOIN[df_movies_JOIN['original_language'].str.lower() == idioma]\n",
    "        \n",
    "        if mask.empty:\n",
    "            {'Error': 'Idioma no encontrado. Intente de nuevo...!!! '}    # Si la mascara esta vacía, entonces no encontro ningun idioma.\n",
    "        \n",
    "        respuesta = mask.shape[0]   # Si la mascara no esta vacís, entonces registra la cantidad de registros o filas = Total de Películas.         \n",
    "\n",
    "        return {'idioma':idioma, 'cantidad':respuesta}   # Retorna el resultado\n",
    "\n",
    "    except Exception as e:\n",
    "        return {'error': f'Ocurrió un error: {e}'}\n",
    "\n",
    "### Probando la funcón::\n",
    "Idioma = 'es'\n",
    "Respuesta = peliculas_idioma(Idioma)\n",
    "print(Respuesta) "
   ]
  },
  {
   "cell_type": "markdown",
   "metadata": {},
   "source": [
    "### Función Nro. 2 <Br>\n",
    "'''Ingresas la pelicula, retornando la duracion y el año'''"
   ]
  },
  {
   "cell_type": "code",
   "execution_count": 456,
   "metadata": {},
   "outputs": [
    {
     "name": "stdout",
     "output_type": "stream",
     "text": [
      "{'pelicula': 'jumanji', 'duracion': 104, 'anio': 1995}\n"
     ]
    }
   ],
   "source": [
    "### FUNCION Nro. 2\n",
    "#@app.get('/peliculas_duracion/{pelicula}')   \n",
    "def peliculas_duracion(pelicula:str):\n",
    "    '''Ingresas la pelicula, retornando la duracion y el año'''\n",
    "    try:\n",
    "        pelicula = pelicula.lower()\n",
    "        datos_pelicula = df_movies_JOIN[df_movies_JOIN['title'].str.lower() == pelicula]  # Si no lo encuentra se convierte en un Dataframe vacío\n",
    "        \n",
    "        if datos_pelicula.empty:\n",
    "            return {'error': 'Película no encontrada en el DataFrame.'}\n",
    "        \n",
    "        duracion = int(datos_pelicula['runtime'].iloc[0])   # Extrae la primera fila de la columna 'runtime' = Duración\n",
    "        anio = int(datos_pelicula['Anio'].iloc[0])          # Extrae la primera fila de la columna 'Anio' = Anio\n",
    "\n",
    "        return {'pelicula':pelicula, 'duracion':duracion, 'anio':anio}\n",
    "\n",
    "    except Exception as e:\n",
    "        return {'Error': f'Por favor, corrija este error: {e}'}\n",
    "\n",
    "\n",
    "### Llamando a la función:\n",
    "Pelicula = 'Jumanji'\n",
    "Respuesta = peliculas_duracion(Pelicula)\n",
    "print(Respuesta)  "
   ]
  },
  {
   "cell_type": "markdown",
   "metadata": {},
   "source": [
    "### Función Nro. 3 <Br>\n",
    "'''Se ingresa la franquicia, retornando la cantidad de peliculas, ganancia total y promedio'''"
   ]
  },
  {
   "cell_type": "code",
   "execution_count": 457,
   "metadata": {},
   "outputs": [
    {
     "name": "stdout",
     "output_type": "stream",
     "text": [
      "{'franquicia': 'toy story collection', 'cantidad': 3, 'ganancia_total': 1937890605.0, 'ganancia_promedio': 645963535.0}\n"
     ]
    }
   ],
   "source": [
    "### FUNCION Nro. 3\n",
    "#@app.get('/franquicia/{franquicia}')\n",
    "def franquicia(franquicia:str):\n",
    "    '''Se ingresa la franquicia, retornando la cantidad de peliculas, ganancia total y promedio'''\n",
    "    try:\n",
    "        franquicia = franquicia.lower()\n",
    "        datos_franquicia = df_movies_JOIN[df_movies_JOIN['Franquicia'].str.lower() == franquicia]\n",
    "        \n",
    "        if datos_franquicia.empty:\n",
    "            return {'error': 'Franquicia no encontrada en el DataFrame.'}\n",
    "        \n",
    "        cantidad = int(datos_franquicia['Franquicia'].shape[0])\n",
    "        ganancia_total = float(datos_franquicia['revenue'].sum())\n",
    "        \n",
    "        if cantidad == 0:\n",
    "            ganancia_promedio = 0\n",
    "        else:\n",
    "            ganancia_promedio = float(ganancia_total/cantidad)\n",
    "        \n",
    "        return {'franquicia':franquicia, 'cantidad':cantidad, 'ganancia_total':ganancia_total, 'ganancia_promedio':ganancia_promedio}\n",
    "        \n",
    "    except Exception as e:\n",
    "        return {'Error': f'Por favor, corrija este error: {e}'}\n",
    "### Llamando a la función:\n",
    "franquicia1 = 'Toy Story Collection'\n",
    "Respuesta = franquicia(franquicia1)\n",
    "print(Respuesta) "
   ]
  },
  {
   "cell_type": "markdown",
   "metadata": {},
   "source": [
    "### Función Nro. 4 <Br>\n",
    "'''Ingresas el pais, retornando la cantidad de peliculas producidas en el mismo'''"
   ]
  },
  {
   "cell_type": "code",
   "execution_count": 458,
   "metadata": {},
   "outputs": [
    {
     "name": "stdout",
     "output_type": "stream",
     "text": [
      "{'pais': 'spain', 'cantidad': 357}\n"
     ]
    }
   ],
   "source": [
    "### FUNCION Nro. 4 \n",
    "#@app.get('/peliculas_pais/{pais}')\n",
    "def peliculas_pais(pais:str):\n",
    "    '''Ingresas el pais, retornando la cantidad de peliculas producidas en el mismo'''\n",
    "    try:\n",
    "        pais = pais.lower()\n",
    "        datos_pais = df_movies_JOIN[df_movies_JOIN['Paises'].str.lower() == pais]\n",
    "        \n",
    "        if datos_pais.empty:\n",
    "            return {'error': 'País no encontrado en el DataFrame.'}\n",
    "        \n",
    "        cantidad = int(datos_pais['Paises'].shape[0]) \n",
    "        \n",
    "        return {'pais':pais, 'cantidad':cantidad}  \n",
    "  \n",
    "    except Exception as e:\n",
    "        return {'Error': f'Por favor, corrija este error: {e}'} \n",
    "\n",
    "\n",
    "### Llamando a la función:\n",
    "Pais = 'Spain'\n",
    "Respuesta = peliculas_pais(Pais)\n",
    "print(Respuesta) "
   ]
  },
  {
   "cell_type": "markdown",
   "metadata": {},
   "source": [
    "### Función Nro. 5 <Br>\n",
    "'''Ingresas la productora, entregandote el revenue total y la cantidad de peliculas que realizo '''"
   ]
  },
  {
   "cell_type": "code",
   "execution_count": 459,
   "metadata": {},
   "outputs": [
    {
     "name": "stdout",
     "output_type": "stream",
     "text": [
      "{'productora': 'touchstone pictures', 'revenue_total': 13660466308.0, 'cantidad': 216}\n"
     ]
    }
   ],
   "source": [
    "### FUNCION Nro. 5\n",
    "#@app.get('/productoras_exitosas/{productora}')\n",
    "def productoras_exitosas(productora:str):\n",
    "    '''Ingresas la productora, entregandote el revenue total y la cantidad de peliculas que realizo '''\n",
    "    try:\n",
    "        productora = productora.lower() \n",
    "        datos_productora = df_movies_JOIN[df_movies_JOIN['Productores'].str.lower().str.contains(productora)]\n",
    "        \n",
    "        if datos_productora.empty:\n",
    "            return {'error': 'Productota no encontrada en el DataFrame.'}\n",
    "                  \n",
    "        revenue_total = float(datos_productora['revenue'].sum())\n",
    "        cantidad = int(datos_productora['revenue'].shape[0])\n",
    "        \n",
    "        return {'productora':productora, 'revenue_total': revenue_total,'cantidad':cantidad}\n",
    "    \n",
    "    except Exception as e:\n",
    "        return {'Error': f'Por favor, corrija este error: {e}'}\n",
    "# Aplicar la función para extraer el valor 'name' y crear la nueva columna 'Collection'\n",
    "\n",
    "productora = 'Touchstone Pictures'\n",
    "Respuesta = productoras_exitosas(productora)\n",
    "print(Respuesta)"
   ]
  },
  {
   "cell_type": "markdown",
   "metadata": {},
   "source": [
    "### Función Nro. 6 <Br>\n",
    "''' Se ingresa el nombre de un director que se encuentre dentro de un dataset debiendo devolver el éxito del mismo medido a través del retorno. <Br>\n",
    "Además, deberá devolver el nombre de cada película con la fecha de lanzamiento, retorno individual, costo y ganancia de la misma. En formato Lista '''"
   ]
  },
  {
   "cell_type": "markdown",
   "metadata": {},
   "source": [
    "''' Se ingresa el nombre de un director que se encuentre dentro de un dataset debiendo devolver el éxito del mismo medido a través del retorno. <Br>\n",
    "Además, deberá devolver el nombre de cada película con la fecha de lanzamiento, retorno individual, costo y ganancia de la misma. En formato Lista '''"
   ]
  },
  {
   "cell_type": "code",
   "execution_count": 460,
   "metadata": {},
   "outputs": [
    {
     "name": "stdout",
     "output_type": "stream",
     "text": [
      "{'director': 'john lasseter', 'retorno_total_director': 3.9856304107142857, 'peliculas': [{'title': 'Toy Story', 'Anio': 1995, 'revenue': 373554033.0, 'budget': 30000000.0}, {'title': 'The Incredibles', 'Anio': 2004, 'revenue': 631442092.0, 'budget': 92000000.0}, {'title': \"Howl's Moving Castle\", 'Anio': 2004, 'revenue': 234710455.0, 'budget': 24000000.0}, {'title': 'Luxo Jr.', 'Anio': 1986, 'revenue': 0.0, 'budget': 0.0}, {'title': 'Cars', 'Anio': 2006, 'revenue': 461983149.0, 'budget': 120000000.0}, {'title': 'Bolt', 'Anio': 2008, 'revenue': 309979994.0, 'budget': 150000000.0}, {'title': 'The Princess and the Frog', 'Anio': 2009, 'revenue': 267045765.0, 'budget': 105000000.0}, {'title': 'Tangled', 'Anio': 2010, 'revenue': 591794936.0, 'budget': 260000000.0}, {'title': 'Cars 2', 'Anio': 2011, 'revenue': 559852396.0, 'budget': 200000000.0}, {'title': 'The Ballad of Nessie', 'Anio': 2011, 'revenue': 0.0, 'budget': 0.0}, {'title': 'Jack-Jack Attack', 'Anio': 2004, 'revenue': 0.0, 'budget': 0.0}, {'title': 'One Man Band', 'Anio': 2005, 'revenue': 0.0, 'budget': 0.0}, {'title': 'Tin Toy', 'Anio': 1988, 'revenue': 0.0, 'budget': 0.0}, {'title': \"Red's Dream\", 'Anio': 1987, 'revenue': 0.0, 'budget': 0.0}, {'title': 'Knick Knack', 'Anio': 1989, 'revenue': 0.0, 'budget': 0.0}, {'title': 'Paperman', 'Anio': 2012, 'revenue': 0.0, 'budget': 0.0}, {'title': 'Frozen', 'Anio': 2013, 'revenue': 1274219009.0, 'budget': 150000000.0}, {'title': 'La luna', 'Anio': 2011, 'revenue': 0.0, 'budget': 0.0}, {'title': 'Mater and the Ghostlight', 'Anio': 2006, 'revenue': 0.0, 'budget': 0.0}, {'title': 'Tangled Ever After', 'Anio': 2012, 'revenue': 0.0, 'budget': 0.0}, {'title': 'Big Hero 6', 'Anio': 2014, 'revenue': 652105443.0, 'budget': 165000000.0}, {'title': 'Secret of the Wings', 'Anio': 2012, 'revenue': 0.0, 'budget': 0.0}, {'title': \"The Legend of Mor'du\", 'Anio': 2012, 'revenue': 0.0, 'budget': 0.0}, {'title': 'Frozen Fever', 'Anio': 2015, 'revenue': 0.0, 'budget': 0.0}, {'title': 'Tinker Bell', 'Anio': 2008, 'revenue': 0.0, 'budget': 48000000.0}, {'title': \"Sanjay's Super Team\", 'Anio': 2015, 'revenue': 0.0, 'budget': 0.0}, {'title': 'How to Hook Up Your Home Theater', 'Anio': 2007, 'revenue': 0.0, 'budget': 0.0}, {'title': 'Air Mater', 'Anio': 2011, 'revenue': 0.0, 'budget': 0.0}]}\n"
     ]
    }
   ],
   "source": [
    "### FUNCION Nro. 6\n",
    "#@app.get('/get_director/{nombre_director}')\n",
    "def get_director(nombre_director:str):\n",
    "    try:\n",
    "        nombre_director = nombre_director.lower()\n",
    "        \n",
    "        datos_director = df_movies_JOIN[df_movies_JOIN['Director'].str.lower().str.contains(nombre_director)]    # #Hacemos una lista de ocurrencia de Directores en un DF temporal\n",
    "      \n",
    "        if datos_director.empty:\n",
    "            return {'error': 'País no encontrada en el DataFrame.'}\n",
    "        \n",
    "        # Peliculas del Director con sus respectivas variables       \n",
    "        Peliculas_del_Director = datos_director[['title', 'Anio', 'revenue', 'budget']]\n",
    "        \n",
    "        # Retorno del exito \n",
    "        retorno_total_director = float(Peliculas_del_Director['revenue'].sum() / Peliculas_del_Director['budget'].sum())\n",
    "        \n",
    "        # Convertir el DataFrame en una lista de diccionarios\n",
    "        Lista_De_Dicc = Peliculas_del_Director.to_dict('records')\n",
    "        \n",
    "        return {'director':nombre_director, 'retorno_total_director':retorno_total_director, 'peliculas':Lista_De_Dicc}\n",
    "        \n",
    "    except Exception as e:\n",
    "        return {'Error': f'Por favor, corrija este error: {e}'} \n",
    "\n",
    "### Llamando a la función:\n",
    "NombreDelDirector = 'John Lasseter'\n",
    "#NombreDelDirector = 'Larry J'   # No es director######################\n",
    "#NombreDelDirector = 'Joe Johnston'\n",
    "Respuesta = get_director(NombreDelDirector)\n",
    "print(Respuesta)  "
   ]
  },
  {
   "cell_type": "markdown",
   "metadata": {},
   "source": [
    "### 4.2) Función de Recomendación de 5 Películas"
   ]
  },
  {
   "cell_type": "markdown",
   "metadata": {},
   "source": [
    "Esta función está utilizando la Simulitud del Coseno para encontrar las películas semilares !!!"
   ]
  },
  {
   "cell_type": "code",
   "execution_count": 461,
   "metadata": {},
   "outputs": [
    {
     "name": "stdout",
     "output_type": "stream",
     "text": [
      "{'Películas Recomendadas': ['The Twelve Tasks of Asterix', 'Free Birds', 'Tangled Ever After', 'Toy Story 3', 'Luxo Jr.']}\n"
     ]
    }
   ],
   "source": [
    "# ML\n",
    "#@app.get('/recomendacion/{titulo}')\n",
    "def recomendacion(titulo:str):\n",
    "    '''Ingresas un nombre de pelicula y te recomienda las similares en una lista'''\n",
    "    try:\n",
    "        # Convertir el título ingresado por el usuario a minúsculas\n",
    "        titulo = titulo.lower()\n",
    "        \n",
    "        # Buscar el título en minúsculas en el DataFrame\n",
    "        datos_titulo = df_movies_JOIN.loc[df_movies_JOIN['title'].str.lower() == titulo]\n",
    "        \n",
    "        if datos_titulo.empty:   # Si no exite la pelicula envia mensaje de error\n",
    "            return {'error': 'Película no encontrada en el DataFrame.'}\n",
    "            \n",
    "        movie_id = df_movies_JOIN.loc[df_movies_JOIN['title'].str.lower()  == titulo, 'id'].iloc[0]\n",
    "        # Obteneiendo las características de las siguientes variables predictoras del Dataset\n",
    "        genre_features = df_movies_JOIN['Generos']\n",
    "        director_features = df_movies_JOIN['Director']\n",
    "        protagonist_features = df_movies_JOIN['Protagonista']\n",
    "        actor1_features = df_movies_JOIN['Actor1']\n",
    "        actor2_features = df_movies_JOIN['Actor2']\n",
    "        popularity_features = df_movies_JOIN['popularity'].fillna(0).astype(str)  # Convertir a cadena y llenar valores NaN con '0'\n",
    "        anio_features = df_movies_JOIN['Anio'].fillna(0).astype(str)  # Convertir a cadena y llenar valores NaN con '0'\n",
    "        vote_average_features = df_movies_JOIN['vote_average'].fillna(0).astype(str)  # Convertir a cadena y llenar valores NaN con '0'\n",
    "        franquicia_features = df_movies_JOIN['Franquicia']\n",
    "        \n",
    "        # Concatenar todas las características\n",
    "        all_features = franquicia_features + ' ' + genre_features + ' ' + director_features + ' ' + protagonist_features + ' ' + actor1_features + ' ' + actor2_features + ' ' + popularity_features + ' ' + anio_features  + ' ' + vote_average_features\n",
    "\n",
    "        # Crear un objeto CountVectorizer para convertir las características en vectores\n",
    "        vectorizer = CountVectorizer(analyzer='word', lowercase=True, token_pattern=r'\\w+')\n",
    "\n",
    "        # Obtener la matriz de documentos término-frecuencia (DTM) a partir de las características\n",
    "        all_features_matrix = vectorizer.fit_transform(all_features)\n",
    "\n",
    "        # Obtener las características de la película que le gustó al usuario\n",
    "        movie_features = df_movies_JOIN.loc[df_movies_JOIN['id'] == movie_id, 'Franquicia'].iloc[0] + ' ' + df_movies_JOIN.loc[df_movies_JOIN['id'] == movie_id, 'Generos'].iloc[0] + ' ' + df_movies_JOIN.loc[df_movies_JOIN['id'] == movie_id, 'Director'].iloc[0] + ' ' + df_movies_JOIN.loc[df_movies_JOIN['id'] == movie_id, 'Protagonista'].iloc[0] + ' ' + df_movies_JOIN.loc[df_movies_JOIN['id'] == movie_id, 'Actor1'].iloc[0] + ' ' + df_movies_JOIN.loc[df_movies_JOIN['id'] == movie_id, 'Actor2'].iloc[0] + ' ' + popularity_features.iloc[0] + ' ' + anio_features.iloc[0] + ' ' + vote_average_features.iloc[0]\n",
    "        movie_features_matrix = vectorizer.transform([movie_features])\n",
    "\n",
    "        # Calcular la similitud del coseno entre la película que le gustó al usuario y todas las demás películas\n",
    "        similarities = cosine_similarity(movie_features_matrix, all_features_matrix)\n",
    "\n",
    "        # Obtener los índices de las películas más similares\n",
    "        similar_indices = similarities.argsort()[0][-6:-1]\n",
    "\n",
    "        # Obtener los títulos de las películas más similares para la recomendación\n",
    "        recomendacion = df_movies_JOIN.loc[similar_indices, 'title']\n",
    "        \n",
    "        recomendacion = recomendacion.tolist()\n",
    "        \n",
    "        return {'Películas Recomendadas': recomendacion}\n",
    "        \n",
    "    except IndexError:\n",
    "        return {'Error': 'Película no encontrada. Intente de nuevo...!!! '}\n",
    "    \n",
    "    except Exception as e:\n",
    "        return {'error': f'Ocurrió un error: {e}'}\n",
    "\n",
    "\n",
    "titulo = 'toy story'\n",
    "Recomendacion = recomendacion(titulo) \n",
    "print(Recomendacion)"
   ]
  },
  {
   "cell_type": "markdown",
   "metadata": {},
   "source": [
    "# 5) Finalización del Proyecto"
   ]
  },
  {
   "cell_type": "markdown",
   "metadata": {},
   "source": [
    "### "
   ]
  },
  {
   "cell_type": "markdown",
   "metadata": {},
   "source": [
    "# Muchas gracias, por su atención.!!!"
   ]
  }
 ],
 "metadata": {
  "kernelspec": {
   "display_name": "Python 3",
   "language": "python",
   "name": "python3"
  },
  "language_info": {
   "codemirror_mode": {
    "name": "ipython",
    "version": 3
   },
   "file_extension": ".py",
   "mimetype": "text/x-python",
   "name": "python",
   "nbconvert_exporter": "python",
   "pygments_lexer": "ipython3",
   "version": "3.11.3"
  },
  "orig_nbformat": 4
 },
 "nbformat": 4,
 "nbformat_minor": 2
}
