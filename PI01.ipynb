{
 "cells": [
  {
   "cell_type": "markdown",
   "metadata": {},
   "source": [
    "<p align=center><img src=https://d31uz8lwfmyn8g.cloudfront.net/Assets/logo-henry-white-lg.png><p>\n",
    "\n",
    "# <h1 align=center> **PROYECTO INDIVIDUAL Nº1** </h1>\n",
    "# <h1 align=center>**`@autor: Lesmen Gerardo García Pernia`**</h1>\n",
    "# <h1 align=center>**`Machine Learning Operations (MLOps)`**</h1>\n",
    "\n",
    "\n",
    "\n"
   ]
  },
  {
   "cell_type": "markdown",
   "metadata": {},
   "source": [
    "Definición de librerias"
   ]
  },
  {
   "cell_type": "code",
   "execution_count": 1,
   "metadata": {},
   "outputs": [],
   "source": [
    "import pandas as pd\n",
    "import numpy as np\n",
    "import matplotlib.pyplot as plt\n",
    "import statsmodels.api as sm\n",
    "import re\n",
    "import ast"
   ]
  },
  {
   "cell_type": "markdown",
   "metadata": {},
   "source": [
    "Carga de los Datos"
   ]
  },
  {
   "cell_type": "code",
   "execution_count": 2,
   "metadata": {},
   "outputs": [
    {
     "name": "stderr",
     "output_type": "stream",
     "text": [
      "C:\\Users\\lesme\\AppData\\Local\\Temp\\ipykernel_3860\\1434914061.py:1: DtypeWarning: Columns (10) have mixed types. Specify dtype option on import or set low_memory=False.\n",
      "  df_movies = pd.read_csv('../DataSetsPI/movies_dataset.csv')\n"
     ]
    }
   ],
   "source": [
    "df_movies = pd.read_csv('../DataSetsPI/movies_dataset.csv')\n",
    "df_credits = pd.read_csv('../DataSetsPI/credits.csv')"
   ]
  },
  {
   "cell_type": "code",
   "execution_count": 3,
   "metadata": {},
   "outputs": [
    {
     "data": {
      "text/html": [
       "<div>\n",
       "<style scoped>\n",
       "    .dataframe tbody tr th:only-of-type {\n",
       "        vertical-align: middle;\n",
       "    }\n",
       "\n",
       "    .dataframe tbody tr th {\n",
       "        vertical-align: top;\n",
       "    }\n",
       "\n",
       "    .dataframe thead th {\n",
       "        text-align: right;\n",
       "    }\n",
       "</style>\n",
       "<table border=\"1\" class=\"dataframe\">\n",
       "  <thead>\n",
       "    <tr style=\"text-align: right;\">\n",
       "      <th></th>\n",
       "      <th>adult</th>\n",
       "      <th>belongs_to_collection</th>\n",
       "      <th>budget</th>\n",
       "      <th>genres</th>\n",
       "      <th>homepage</th>\n",
       "      <th>id</th>\n",
       "      <th>imdb_id</th>\n",
       "      <th>original_language</th>\n",
       "      <th>original_title</th>\n",
       "      <th>overview</th>\n",
       "      <th>...</th>\n",
       "      <th>release_date</th>\n",
       "      <th>revenue</th>\n",
       "      <th>runtime</th>\n",
       "      <th>spoken_languages</th>\n",
       "      <th>status</th>\n",
       "      <th>tagline</th>\n",
       "      <th>title</th>\n",
       "      <th>video</th>\n",
       "      <th>vote_average</th>\n",
       "      <th>vote_count</th>\n",
       "    </tr>\n",
       "  </thead>\n",
       "  <tbody>\n",
       "    <tr>\n",
       "      <th>0</th>\n",
       "      <td>False</td>\n",
       "      <td>{'id': 10194, 'name': 'Toy Story Collection', ...</td>\n",
       "      <td>30000000</td>\n",
       "      <td>[{'id': 16, 'name': 'Animation'}, {'id': 35, '...</td>\n",
       "      <td>http://toystory.disney.com/toy-story</td>\n",
       "      <td>862</td>\n",
       "      <td>tt0114709</td>\n",
       "      <td>en</td>\n",
       "      <td>Toy Story</td>\n",
       "      <td>Led by Woody, Andy's toys live happily in his ...</td>\n",
       "      <td>...</td>\n",
       "      <td>1995-10-30</td>\n",
       "      <td>373554033.0</td>\n",
       "      <td>81.0</td>\n",
       "      <td>[{'iso_639_1': 'en', 'name': 'English'}]</td>\n",
       "      <td>Released</td>\n",
       "      <td>NaN</td>\n",
       "      <td>Toy Story</td>\n",
       "      <td>False</td>\n",
       "      <td>7.7</td>\n",
       "      <td>5415.0</td>\n",
       "    </tr>\n",
       "  </tbody>\n",
       "</table>\n",
       "<p>1 rows × 24 columns</p>\n",
       "</div>"
      ],
      "text/plain": [
       "   adult                              belongs_to_collection    budget  \\\n",
       "0  False  {'id': 10194, 'name': 'Toy Story Collection', ...  30000000   \n",
       "\n",
       "                                              genres  \\\n",
       "0  [{'id': 16, 'name': 'Animation'}, {'id': 35, '...   \n",
       "\n",
       "                               homepage   id    imdb_id original_language  \\\n",
       "0  http://toystory.disney.com/toy-story  862  tt0114709                en   \n",
       "\n",
       "  original_title                                           overview  ...  \\\n",
       "0      Toy Story  Led by Woody, Andy's toys live happily in his ...  ...   \n",
       "\n",
       "  release_date      revenue runtime                          spoken_languages  \\\n",
       "0   1995-10-30  373554033.0    81.0  [{'iso_639_1': 'en', 'name': 'English'}]   \n",
       "\n",
       "     status  tagline      title  video vote_average vote_count  \n",
       "0  Released      NaN  Toy Story  False          7.7     5415.0  \n",
       "\n",
       "[1 rows x 24 columns]"
      ]
     },
     "execution_count": 3,
     "metadata": {},
     "output_type": "execute_result"
    }
   ],
   "source": [
    "df_movies.head(1)"
   ]
  },
  {
   "cell_type": "code",
   "execution_count": 4,
   "metadata": {},
   "outputs": [
    {
     "data": {
      "text/plain": [
       "Index(['adult', 'belongs_to_collection', 'budget', 'genres', 'homepage', 'id',\n",
       "       'imdb_id', 'original_language', 'original_title', 'overview',\n",
       "       'popularity', 'poster_path', 'production_companies',\n",
       "       'production_countries', 'release_date', 'revenue', 'runtime',\n",
       "       'spoken_languages', 'status', 'tagline', 'title', 'video',\n",
       "       'vote_average', 'vote_count'],\n",
       "      dtype='object')"
      ]
     },
     "execution_count": 4,
     "metadata": {},
     "output_type": "execute_result"
    }
   ],
   "source": [
    "### Validando las columnas\n",
    "df_movies.columns"
   ]
  },
  {
   "cell_type": "code",
   "execution_count": 6,
   "metadata": {},
   "outputs": [
    {
     "name": "stdout",
     "output_type": "stream",
     "text": [
      "<class 'pandas.core.frame.DataFrame'>\n",
      "RangeIndex: 45466 entries, 0 to 45465\n",
      "Data columns (total 24 columns):\n",
      " #   Column                 Non-Null Count  Dtype  \n",
      "---  ------                 --------------  -----  \n",
      " 0   adult                  45466 non-null  object \n",
      " 1   belongs_to_collection  4494 non-null   object \n",
      " 2   budget                 45466 non-null  object \n",
      " 3   genres                 45466 non-null  object \n",
      " 4   homepage               7782 non-null   object \n",
      " 5   id                     45466 non-null  object \n",
      " 6   imdb_id                45449 non-null  object \n",
      " 7   original_language      45455 non-null  object \n",
      " 8   original_title         45466 non-null  object \n",
      " 9   overview               44512 non-null  object \n",
      " 10  popularity             45461 non-null  object \n",
      " 11  poster_path            45080 non-null  object \n",
      " 12  production_companies   45463 non-null  object \n",
      " 13  production_countries   45463 non-null  object \n",
      " 14  release_date           45379 non-null  object \n",
      " 15  revenue                45460 non-null  float64\n",
      " 16  runtime                45203 non-null  float64\n",
      " 17  spoken_languages       45460 non-null  object \n",
      " 18  status                 45379 non-null  object \n",
      " 19  tagline                20412 non-null  object \n",
      " 20  title                  45460 non-null  object \n",
      " 21  video                  45460 non-null  object \n",
      " 22  vote_average           45460 non-null  float64\n",
      " 23  vote_count             45460 non-null  float64\n",
      "dtypes: float64(4), object(20)\n",
      "memory usage: 8.3+ MB\n"
     ]
    }
   ],
   "source": [
    "### Revisando los tipos de datos de las columnas y cantidad total\n",
    "df_movies.info()"
   ]
  },
  {
   "cell_type": "code",
   "execution_count": 7,
   "metadata": {},
   "outputs": [
    {
     "data": {
      "text/html": [
       "<div>\n",
       "<style scoped>\n",
       "    .dataframe tbody tr th:only-of-type {\n",
       "        vertical-align: middle;\n",
       "    }\n",
       "\n",
       "    .dataframe tbody tr th {\n",
       "        vertical-align: top;\n",
       "    }\n",
       "\n",
       "    .dataframe thead th {\n",
       "        text-align: right;\n",
       "    }\n",
       "</style>\n",
       "<table border=\"1\" class=\"dataframe\">\n",
       "  <thead>\n",
       "    <tr style=\"text-align: right;\">\n",
       "      <th></th>\n",
       "      <th>revenue</th>\n",
       "      <th>runtime</th>\n",
       "      <th>vote_average</th>\n",
       "      <th>vote_count</th>\n",
       "    </tr>\n",
       "  </thead>\n",
       "  <tbody>\n",
       "    <tr>\n",
       "      <th>count</th>\n",
       "      <td>4.546000e+04</td>\n",
       "      <td>45203.000000</td>\n",
       "      <td>45460.000000</td>\n",
       "      <td>45460.000000</td>\n",
       "    </tr>\n",
       "    <tr>\n",
       "      <th>mean</th>\n",
       "      <td>1.120935e+07</td>\n",
       "      <td>94.128199</td>\n",
       "      <td>5.618207</td>\n",
       "      <td>109.897338</td>\n",
       "    </tr>\n",
       "    <tr>\n",
       "      <th>std</th>\n",
       "      <td>6.433225e+07</td>\n",
       "      <td>38.407810</td>\n",
       "      <td>1.924216</td>\n",
       "      <td>491.310374</td>\n",
       "    </tr>\n",
       "    <tr>\n",
       "      <th>min</th>\n",
       "      <td>0.000000e+00</td>\n",
       "      <td>0.000000</td>\n",
       "      <td>0.000000</td>\n",
       "      <td>0.000000</td>\n",
       "    </tr>\n",
       "    <tr>\n",
       "      <th>25%</th>\n",
       "      <td>0.000000e+00</td>\n",
       "      <td>85.000000</td>\n",
       "      <td>5.000000</td>\n",
       "      <td>3.000000</td>\n",
       "    </tr>\n",
       "    <tr>\n",
       "      <th>50%</th>\n",
       "      <td>0.000000e+00</td>\n",
       "      <td>95.000000</td>\n",
       "      <td>6.000000</td>\n",
       "      <td>10.000000</td>\n",
       "    </tr>\n",
       "    <tr>\n",
       "      <th>75%</th>\n",
       "      <td>0.000000e+00</td>\n",
       "      <td>107.000000</td>\n",
       "      <td>6.800000</td>\n",
       "      <td>34.000000</td>\n",
       "    </tr>\n",
       "    <tr>\n",
       "      <th>max</th>\n",
       "      <td>2.787965e+09</td>\n",
       "      <td>1256.000000</td>\n",
       "      <td>10.000000</td>\n",
       "      <td>14075.000000</td>\n",
       "    </tr>\n",
       "  </tbody>\n",
       "</table>\n",
       "</div>"
      ],
      "text/plain": [
       "            revenue       runtime  vote_average    vote_count\n",
       "count  4.546000e+04  45203.000000  45460.000000  45460.000000\n",
       "mean   1.120935e+07     94.128199      5.618207    109.897338\n",
       "std    6.433225e+07     38.407810      1.924216    491.310374\n",
       "min    0.000000e+00      0.000000      0.000000      0.000000\n",
       "25%    0.000000e+00     85.000000      5.000000      3.000000\n",
       "50%    0.000000e+00     95.000000      6.000000     10.000000\n",
       "75%    0.000000e+00    107.000000      6.800000     34.000000\n",
       "max    2.787965e+09   1256.000000     10.000000  14075.000000"
      ]
     },
     "execution_count": 7,
     "metadata": {},
     "output_type": "execute_result"
    }
   ],
   "source": [
    "### Validando columnas numericas\n",
    "df_movies.describe()"
   ]
  },
  {
   "cell_type": "code",
   "execution_count": 8,
   "metadata": {},
   "outputs": [
    {
     "data": {
      "text/plain": [
       "adult                                                                False\n",
       "belongs_to_collection    {'id': 96871, 'name': 'Father of the Bride Col...\n",
       "budget                                                                   0\n",
       "genres                                      [{'id': 35, 'name': 'Comedy'}]\n",
       "homepage                                                               NaN\n",
       "id                                                                   11862\n",
       "imdb_id                                                          tt0113041\n",
       "original_language                                                       en\n",
       "original_title                                 Father of the Bride Part II\n",
       "overview                 Just when George Banks has recovered from his ...\n",
       "popularity                                                        8.387519\n",
       "poster_path                               /e64sOI48hQXyru7naBFyssKFxVd.jpg\n",
       "production_companies     [{'name': 'Sandollar Productions', 'id': 5842}...\n",
       "production_countries     [{'iso_3166_1': 'US', 'name': 'United States o...\n",
       "release_date                                                    1995-02-10\n",
       "revenue                                                         76578911.0\n",
       "runtime                                                              106.0\n",
       "spoken_languages                  [{'iso_639_1': 'en', 'name': 'English'}]\n",
       "status                                                            Released\n",
       "tagline                  Just When His World Is Back To Normal... He's ...\n",
       "title                                          Father of the Bride Part II\n",
       "video                                                                False\n",
       "vote_average                                                           5.7\n",
       "vote_count                                                           173.0\n",
       "Name: 4, dtype: object"
      ]
     },
     "execution_count": 8,
     "metadata": {},
     "output_type": "execute_result"
    }
   ],
   "source": [
    "### Visualizando columnas Anidadas. Se observan 5 columnas anidadas.\n",
    "df_movies.iloc[4]"
   ]
  },
  {
   "cell_type": "markdown",
   "metadata": {},
   "source": [
    "## Requerimiento # Nro. 1"
   ]
  },
  {
   "cell_type": "markdown",
   "metadata": {},
   "source": [
    "+ Algunos campos, como **`belongs_to_collection`**, **`production_companies`** y otros (ver diccionario de datos) están anidados, esto es o bien tienen un diccionario o una lista como valores en cada fila, ¡deberán desanidarlos para poder  y unirlos al dataset de nuevo hacer alguna de las consultas de la API! O bien buscar la manera de acceder a esos datos sin desanidarlos."
   ]
  },
  {
   "cell_type": "markdown",
   "metadata": {},
   "source": [
    "### Desanidando los siguientes columnas:\n",
    "\n",
    "<ul>\n",
    "<li> 1) belongs_to_collection (Diccionario).</li>\n",
    "<li> 2) genres (Lista de Diccionario). </li>\n",
    "<li> 3) production_companies (Lista de Diccionario).</li>\n",
    "<li> 4) production_countries (Lista de Diccionario).</li>\n",
    "<li> 5) spoken_languages (Lista de Diccionario).</li>\n",
    "</ul>"
   ]
  },
  {
   "cell_type": "markdown",
   "metadata": {},
   "source": [
    "### Creación de Funciones para Desanidar los campos anteriores:"
   ]
  },
  {
   "cell_type": "markdown",
   "metadata": {},
   "source": [
    "Se procede a crear dos Funciones para Desanidar estas 5 columnas anidadas. La primera función ***(Extraer_Valor_Dicc)***, para extraer de la columna 'belongs_to_collection' sus campos en forma de diccionarios. Y la segunda función ***(Extraer_Valor_List)***, para extraer del resto de las columnas que contienen sus campos como una lista de diccionarios."
   ]
  },
  {
   "cell_type": "markdown",
   "metadata": {},
   "source": [
    "1 ) Funcion: Extraer_Valor_Dicc:<Br>\n",
    "*Funcion para evaluar columnas tipo Diccionario y extraer el valor asociado a la clave 'name'; devolviendo dicho valor.*"
   ]
  },
  {
   "cell_type": "code",
   "execution_count": 9,
   "metadata": {},
   "outputs": [],
   "source": [
    "# Función para extraer el valor de la clave 'name', de la columna diccionario: \n",
    "def Extraer_Valor_Dicc(value):\n",
    "    try:\n",
    "        diccionario = ast.literal_eval(value)  #Evaluamos cada atributo como un diccionario de Python\n",
    "        if isinstance(diccionario, dict): #Si el valor es un diccionario, extrae el valor asociado a la clave 'name', para luego retornarlo\n",
    "            return diccionario.get('name', '')\n",
    "    except (ValueError, SyntaxError): #Si no es posible evaluarlo como un diccionario, capturamos las excepciones (ValueError o SyntaxError) y devolvemos una cadena vacía.\n",
    "        pass\n",
    "    return ''  # En caso de no ser un diccionario, se devuelve una cadena vacía."
   ]
  },
  {
   "cell_type": "markdown",
   "metadata": {},
   "source": [
    "2  ) Funcion: Extraer_Valor_Lista:<Br>\n",
    "*Funcion para evaluar columnas tipo Listas de Diccionario y extraer el valor asociado a la clave 'name' de cada diccionario, concatenándolos en una sola cadena.* "
   ]
  },
  {
   "cell_type": "code",
   "execution_count": 11,
   "metadata": {},
   "outputs": [],
   "source": [
    "# Función para extraer el valor de la clave 'name', de la columna lista de diccionarios: genres\n",
    "def Extraer_Valor_List(value):\n",
    "    try:\n",
    "        lista_de_diccionarios = ast.literal_eval(value) ##Evaluamos cada atributo como una lista de diccionario de Python\n",
    "        if isinstance(lista_de_diccionarios, list): #Si el valor es una lista de diccionario, extrae el valor asociado a la \n",
    "                                                    #clave 'name' de cada diccionario y lo concatena en una sola cadena.\n",
    "            names = [dic.get('name', '') for dic in lista_de_diccionarios if isinstance(dic, dict)]\n",
    "            return ', '.join(names)\n",
    "    except (ValueError, SyntaxError):\n",
    "        pass\n",
    "    return ''  # Si no es posible evaluarlo como una lista de diccionarios, se devuelve una cadena vacía."
   ]
  },
  {
   "cell_type": "markdown",
   "metadata": {},
   "source": [
    "### Desanidando las 5 columnas, todas por la clave-valor. Devolviendo el valor de cada clave."
   ]
  },
  {
   "cell_type": "markdown",
   "metadata": {},
   "source": [
    "**`1) belongs_to_collection`**"
   ]
  },
  {
   "cell_type": "code",
   "execution_count": 12,
   "metadata": {},
   "outputs": [],
   "source": [
    "# Aplicar la función para extraer el valor 'name' y crear la nueva columna 'Collection'\n",
    "df_movies['collection'] = df_movies['belongs_to_collection'].apply(Extraer_Valor_Dicc)"
   ]
  },
  {
   "cell_type": "markdown",
   "metadata": {},
   "source": [
    "**`2) genes`**"
   ]
  },
  {
   "cell_type": "code",
   "execution_count": 13,
   "metadata": {},
   "outputs": [],
   "source": [
    "# Aplicar la función para extraer los valores 'name' y crear la nueva columna 'genres'\n",
    "df_movies['genre'] = df_movies['genres'].apply(Extraer_Valor_List)"
   ]
  },
  {
   "cell_type": "markdown",
   "metadata": {},
   "source": [
    "**`3) production_companies`**"
   ]
  },
  {
   "cell_type": "code",
   "execution_count": 14,
   "metadata": {},
   "outputs": [],
   "source": [
    "# Aplicar la función para extraer los valores 'name' y crear la nueva columna 'Collection'\n",
    "df_movies['companies'] = df_movies['production_companies'].apply(Extraer_Valor_List)"
   ]
  },
  {
   "cell_type": "markdown",
   "metadata": {},
   "source": [
    "**`4) production_countries`**"
   ]
  },
  {
   "cell_type": "code",
   "execution_count": 15,
   "metadata": {},
   "outputs": [],
   "source": [
    "# Aplicar la función para extraer los valores 'name' y crear la nueva columna 'Collection'\n",
    "df_movies['countries'] = df_movies['production_countries'].apply(Extraer_Valor_List)"
   ]
  },
  {
   "cell_type": "markdown",
   "metadata": {},
   "source": [
    "**`5) spoken_languages`**"
   ]
  },
  {
   "cell_type": "code",
   "execution_count": 16,
   "metadata": {},
   "outputs": [],
   "source": [
    "# Aplicar la función para extraer los valores 'name' y crear la nueva columna 'Collection'\n",
    "df_movies['languages'] = df_movies['spoken_languages'].apply(Extraer_Valor_List)"
   ]
  },
  {
   "cell_type": "code",
   "execution_count": 17,
   "metadata": {},
   "outputs": [
    {
     "data": {
      "text/html": [
       "<div>\n",
       "<style scoped>\n",
       "    .dataframe tbody tr th:only-of-type {\n",
       "        vertical-align: middle;\n",
       "    }\n",
       "\n",
       "    .dataframe tbody tr th {\n",
       "        vertical-align: top;\n",
       "    }\n",
       "\n",
       "    .dataframe thead th {\n",
       "        text-align: right;\n",
       "    }\n",
       "</style>\n",
       "<table border=\"1\" class=\"dataframe\">\n",
       "  <thead>\n",
       "    <tr style=\"text-align: right;\">\n",
       "      <th></th>\n",
       "      <th>collection</th>\n",
       "      <th>genre</th>\n",
       "      <th>companies</th>\n",
       "      <th>countries</th>\n",
       "      <th>languages</th>\n",
       "    </tr>\n",
       "  </thead>\n",
       "  <tbody>\n",
       "    <tr>\n",
       "      <th>0</th>\n",
       "      <td>Toy Story Collection</td>\n",
       "      <td>Animation, Comedy, Family</td>\n",
       "      <td>Pixar Animation Studios</td>\n",
       "      <td>United States of America</td>\n",
       "      <td>English</td>\n",
       "    </tr>\n",
       "    <tr>\n",
       "      <th>1</th>\n",
       "      <td></td>\n",
       "      <td>Adventure, Fantasy, Family</td>\n",
       "      <td>TriStar Pictures, Teitler Film, Interscope Com...</td>\n",
       "      <td>United States of America</td>\n",
       "      <td>English, Français</td>\n",
       "    </tr>\n",
       "    <tr>\n",
       "      <th>2</th>\n",
       "      <td>Grumpy Old Men Collection</td>\n",
       "      <td>Romance, Comedy</td>\n",
       "      <td>Warner Bros., Lancaster Gate</td>\n",
       "      <td>United States of America</td>\n",
       "      <td>English</td>\n",
       "    </tr>\n",
       "    <tr>\n",
       "      <th>3</th>\n",
       "      <td></td>\n",
       "      <td>Comedy, Drama, Romance</td>\n",
       "      <td>Twentieth Century Fox Film Corporation</td>\n",
       "      <td>United States of America</td>\n",
       "      <td>English</td>\n",
       "    </tr>\n",
       "    <tr>\n",
       "      <th>4</th>\n",
       "      <td>Father of the Bride Collection</td>\n",
       "      <td>Comedy</td>\n",
       "      <td>Sandollar Productions, Touchstone Pictures</td>\n",
       "      <td>United States of America</td>\n",
       "      <td>English</td>\n",
       "    </tr>\n",
       "    <tr>\n",
       "      <th>...</th>\n",
       "      <td>...</td>\n",
       "      <td>...</td>\n",
       "      <td>...</td>\n",
       "      <td>...</td>\n",
       "      <td>...</td>\n",
       "    </tr>\n",
       "    <tr>\n",
       "      <th>45461</th>\n",
       "      <td></td>\n",
       "      <td>Drama, Family</td>\n",
       "      <td></td>\n",
       "      <td>Iran</td>\n",
       "      <td>فارسی</td>\n",
       "    </tr>\n",
       "    <tr>\n",
       "      <th>45462</th>\n",
       "      <td></td>\n",
       "      <td>Drama</td>\n",
       "      <td>Sine Olivia</td>\n",
       "      <td>Philippines</td>\n",
       "      <td></td>\n",
       "    </tr>\n",
       "    <tr>\n",
       "      <th>45463</th>\n",
       "      <td></td>\n",
       "      <td>Action, Drama, Thriller</td>\n",
       "      <td>American World Pictures</td>\n",
       "      <td>United States of America</td>\n",
       "      <td>English</td>\n",
       "    </tr>\n",
       "    <tr>\n",
       "      <th>45464</th>\n",
       "      <td></td>\n",
       "      <td></td>\n",
       "      <td>Yermoliev</td>\n",
       "      <td>Russia</td>\n",
       "      <td></td>\n",
       "    </tr>\n",
       "    <tr>\n",
       "      <th>45465</th>\n",
       "      <td></td>\n",
       "      <td></td>\n",
       "      <td></td>\n",
       "      <td>United Kingdom</td>\n",
       "      <td>English</td>\n",
       "    </tr>\n",
       "  </tbody>\n",
       "</table>\n",
       "<p>45466 rows × 5 columns</p>\n",
       "</div>"
      ],
      "text/plain": [
       "                           collection                       genre  \\\n",
       "0                Toy Story Collection   Animation, Comedy, Family   \n",
       "1                                      Adventure, Fantasy, Family   \n",
       "2           Grumpy Old Men Collection             Romance, Comedy   \n",
       "3                                          Comedy, Drama, Romance   \n",
       "4      Father of the Bride Collection                      Comedy   \n",
       "...                               ...                         ...   \n",
       "45461                                               Drama, Family   \n",
       "45462                                                       Drama   \n",
       "45463                                     Action, Drama, Thriller   \n",
       "45464                                                               \n",
       "45465                                                               \n",
       "\n",
       "                                               companies  \\\n",
       "0                                Pixar Animation Studios   \n",
       "1      TriStar Pictures, Teitler Film, Interscope Com...   \n",
       "2                           Warner Bros., Lancaster Gate   \n",
       "3                 Twentieth Century Fox Film Corporation   \n",
       "4             Sandollar Productions, Touchstone Pictures   \n",
       "...                                                  ...   \n",
       "45461                                                      \n",
       "45462                                        Sine Olivia   \n",
       "45463                            American World Pictures   \n",
       "45464                                          Yermoliev   \n",
       "45465                                                      \n",
       "\n",
       "                      countries          languages  \n",
       "0      United States of America            English  \n",
       "1      United States of America  English, Français  \n",
       "2      United States of America            English  \n",
       "3      United States of America            English  \n",
       "4      United States of America            English  \n",
       "...                         ...                ...  \n",
       "45461                      Iran              فارسی  \n",
       "45462               Philippines                     \n",
       "45463  United States of America            English  \n",
       "45464                    Russia                     \n",
       "45465            United Kingdom            English  \n",
       "\n",
       "[45466 rows x 5 columns]"
      ]
     },
     "execution_count": 17,
     "metadata": {},
     "output_type": "execute_result"
    }
   ],
   "source": [
    "### Validando las nuevas 5 columnas creadas\n",
    "df_movies[['collection', 'genre', 'companies', 'countries', 'languages' ]]"
   ]
  },
  {
   "cell_type": "code",
   "execution_count": 18,
   "metadata": {},
   "outputs": [
    {
     "data": {
      "text/plain": [
       "Index(['adult', 'belongs_to_collection', 'budget', 'genres', 'homepage', 'id',\n",
       "       'imdb_id', 'original_language', 'original_title', 'overview',\n",
       "       'popularity', 'poster_path', 'production_companies',\n",
       "       'production_countries', 'release_date', 'revenue', 'runtime',\n",
       "       'spoken_languages', 'status', 'tagline', 'title', 'video',\n",
       "       'vote_average', 'vote_count', 'collection', 'genre', 'companies',\n",
       "       'countries', 'languages'],\n",
       "      dtype='object')"
      ]
     },
     "execution_count": 18,
     "metadata": {},
     "output_type": "execute_result"
    }
   ],
   "source": [
    "### Listando todas las columnas\n",
    "df_movies.columns"
   ]
  },
  {
   "cell_type": "code",
   "execution_count": 20,
   "metadata": {},
   "outputs": [
    {
     "data": {
      "text/plain": [
       "(45466, 29)"
      ]
     },
     "execution_count": 20,
     "metadata": {},
     "output_type": "execute_result"
    }
   ],
   "source": [
    "### Total de Registros y Columnas\n",
    "df_movies.shape"
   ]
  },
  {
   "cell_type": "code",
   "execution_count": 21,
   "metadata": {},
   "outputs": [],
   "source": [
    "### Realizamos backup de todos los cambios realizados del Requerimiento Nro. 1\n",
    "df_movies_bck01 = df_movies.copy()"
   ]
  },
  {
   "cell_type": "markdown",
   "metadata": {},
   "source": [
    "## Requerimiento # Nro. 2"
   ]
  },
  {
   "cell_type": "markdown",
   "metadata": {},
   "source": [
    "+ Los valores nulos de los campos **`revenue`**, **`budget`** deben ser rellenados por el número **`0`**."
   ]
  },
  {
   "cell_type": "code",
   "execution_count": 22,
   "metadata": {},
   "outputs": [
    {
     "name": "stdout",
     "output_type": "stream",
     "text": [
      "Cantidad de Valores Nulos de 'revenue': 6\n",
      "Cantidad de Valores Nulos de 'budget': 0\n"
     ]
    }
   ],
   "source": [
    "print(\"Cantidad de Valores Nulos de 'revenue':\",df_movies['revenue'].isna().sum())\n",
    "print(\"Cantidad de Valores Nulos de 'budget':\",df_movies['budget'].isna().sum())"
   ]
  },
  {
   "cell_type": "code",
   "execution_count": 23,
   "metadata": {},
   "outputs": [
    {
     "name": "stdout",
     "output_type": "stream",
     "text": [
      "<class 'pandas.core.frame.DataFrame'>\n",
      "RangeIndex: 45466 entries, 0 to 45465\n",
      "Data columns (total 29 columns):\n",
      " #   Column                 Non-Null Count  Dtype  \n",
      "---  ------                 --------------  -----  \n",
      " 0   adult                  45466 non-null  object \n",
      " 1   belongs_to_collection  4494 non-null   object \n",
      " 2   budget                 45466 non-null  object \n",
      " 3   genres                 45466 non-null  object \n",
      " 4   homepage               7782 non-null   object \n",
      " 5   id                     45466 non-null  object \n",
      " 6   imdb_id                45449 non-null  object \n",
      " 7   original_language      45455 non-null  object \n",
      " 8   original_title         45466 non-null  object \n",
      " 9   overview               44512 non-null  object \n",
      " 10  popularity             45461 non-null  object \n",
      " 11  poster_path            45080 non-null  object \n",
      " 12  production_companies   45463 non-null  object \n",
      " 13  production_countries   45463 non-null  object \n",
      " 14  release_date           45379 non-null  object \n",
      " 15  revenue                45460 non-null  float64\n",
      " 16  runtime                45203 non-null  float64\n",
      " 17  spoken_languages       45460 non-null  object \n",
      " 18  status                 45379 non-null  object \n",
      " 19  tagline                20412 non-null  object \n",
      " 20  title                  45460 non-null  object \n",
      " 21  video                  45460 non-null  object \n",
      " 22  vote_average           45460 non-null  float64\n",
      " 23  vote_count             45460 non-null  float64\n",
      " 24  collection             45466 non-null  object \n",
      " 25  genre                  45466 non-null  object \n",
      " 26  companies              45466 non-null  object \n",
      " 27  countries              45466 non-null  object \n",
      " 28  languages              45466 non-null  object \n",
      "dtypes: float64(4), object(25)\n",
      "memory usage: 10.1+ MB\n"
     ]
    }
   ],
   "source": [
    "df_movies.info()\n",
    "\n",
    "#Efectivamente validamos que faltan 6 datos a la columna 'revenue'"
   ]
  },
  {
   "cell_type": "code",
   "execution_count": 24,
   "metadata": {},
   "outputs": [
    {
     "data": {
      "text/plain": [
       "0        373554033.0\n",
       "1        262797249.0\n",
       "2                0.0\n",
       "3         81452156.0\n",
       "4         76578911.0\n",
       "            ...     \n",
       "45461            0.0\n",
       "45462            0.0\n",
       "45463            0.0\n",
       "45464            0.0\n",
       "45465            0.0\n",
       "Name: revenue, Length: 45466, dtype: float64"
      ]
     },
     "execution_count": 24,
     "metadata": {},
     "output_type": "execute_result"
    }
   ],
   "source": [
    "### Validando que es una columna númerica\n",
    "df_movies['revenue']"
   ]
  },
  {
   "cell_type": "code",
   "execution_count": 25,
   "metadata": {},
   "outputs": [
    {
     "data": {
      "text/plain": [
       "0"
      ]
     },
     "execution_count": 25,
     "metadata": {},
     "output_type": "execute_result"
    }
   ],
   "source": [
    "# Se procede a sustituir los 6 valores nulos en la columna \"revenue\", con cero (0).\n",
    "df_movies['revenue'] = df_movies['revenue'].fillna(0)\n",
    "\n",
    "# Otra forma de hacerlo: \n",
    "# df_movies2['revenue'].fillna(0,inplace=True)\n",
    "\n",
    "# Validamos que ya no existan valores nulos:\n",
    "df_movies['revenue'].isna().sum()"
   ]
  },
  {
   "cell_type": "code",
   "execution_count": 26,
   "metadata": {},
   "outputs": [
    {
     "name": "stdout",
     "output_type": "stream",
     "text": [
      "<class 'pandas.core.series.Series'>\n",
      "RangeIndex: 45466 entries, 0 to 45465\n",
      "Series name: budget\n",
      "Non-Null Count  Dtype \n",
      "--------------  ----- \n",
      "45466 non-null  object\n",
      "dtypes: object(1)\n",
      "memory usage: 355.3+ KB\n"
     ]
    }
   ],
   "source": [
    "### Continuamos con la columna 'budget'\n",
    "### Validamos que tipo de dato es.\n",
    "df_movies['budget'].info()"
   ]
  },
  {
   "cell_type": "code",
   "execution_count": 27,
   "metadata": {},
   "outputs": [
    {
     "data": {
      "text/plain": [
       "0        30000000\n",
       "1        65000000\n",
       "2               0\n",
       "3        16000000\n",
       "4               0\n",
       "           ...   \n",
       "45461           0\n",
       "45462           0\n",
       "45463           0\n",
       "45464           0\n",
       "45465           0\n",
       "Name: budget, Length: 45466, dtype: object"
      ]
     },
     "execution_count": 27,
     "metadata": {},
     "output_type": "execute_result"
    }
   ],
   "source": [
    "### Esta definida como Objeto. Validamos el dato directamente en la columna y nos damos cuenta que es númerico: \n",
    "df_movies['budget']"
   ]
  },
  {
   "cell_type": "code",
   "execution_count": 28,
   "metadata": {},
   "outputs": [
    {
     "data": {
      "text/plain": [
       "0"
      ]
     },
     "execution_count": 28,
     "metadata": {},
     "output_type": "execute_result"
    }
   ],
   "source": [
    "### Validando si hay NaN:\n",
    "df_movies['budget'].isna().sum()"
   ]
  },
  {
   "cell_type": "code",
   "execution_count": 29,
   "metadata": {},
   "outputs": [
    {
     "name": "stdout",
     "output_type": "stream",
     "text": [
      "<class 'pandas.core.series.Series'>\n",
      "RangeIndex: 45466 entries, 0 to 45465\n",
      "Series name: budget\n",
      "Non-Null Count  Dtype  \n",
      "--------------  -----  \n",
      "45463 non-null  float64\n",
      "dtypes: float64(1)\n",
      "memory usage: 355.3 KB\n"
     ]
    }
   ],
   "source": [
    "### La columna 'budget' esta definida como Objeto, pero es Númerico.\n",
    "### Convertiendo la columna de tipo Objeto a tipo Númerico, y los que no sean numericos los convierte en NaN:\n",
    "\n",
    "df_movies['budget'] = pd.to_numeric(df_movies['budget'], errors='coerce')\n",
    "\n",
    "### Validano los cambios realizados a númerico y luego si se h acreado algun NaN:\n",
    "df_movies['budget'].info()"
   ]
  },
  {
   "cell_type": "code",
   "execution_count": 30,
   "metadata": {},
   "outputs": [
    {
     "data": {
      "text/plain": [
       "3"
      ]
     },
     "execution_count": 30,
     "metadata": {},
     "output_type": "execute_result"
    }
   ],
   "source": [
    "# Validando si aparecieron NaN: (por el cambio realizado en el paso anterior)\n",
    "df_movies['budget'].isna().sum()  "
   ]
  },
  {
   "cell_type": "code",
   "execution_count": 31,
   "metadata": {},
   "outputs": [
    {
     "data": {
      "text/plain": [
       "0"
      ]
     },
     "execution_count": 31,
     "metadata": {},
     "output_type": "execute_result"
    }
   ],
   "source": [
    "# Llevamos los 3 valores NaN de la columna \"budget\" a cero (0).\n",
    "df_movies['budget'] = df_movies['budget'].fillna(0)\n",
    "\n",
    "### Validando que ya no hay NaN\n",
    "df_movies['budget'].isna().sum()"
   ]
  },
  {
   "cell_type": "code",
   "execution_count": 32,
   "metadata": {},
   "outputs": [
    {
     "name": "stdout",
     "output_type": "stream",
     "text": [
      "<class 'pandas.core.frame.DataFrame'>\n",
      "RangeIndex: 45466 entries, 0 to 45465\n",
      "Data columns (total 29 columns):\n",
      " #   Column                 Non-Null Count  Dtype  \n",
      "---  ------                 --------------  -----  \n",
      " 0   adult                  45466 non-null  object \n",
      " 1   belongs_to_collection  4494 non-null   object \n",
      " 2   budget                 45466 non-null  float64\n",
      " 3   genres                 45466 non-null  object \n",
      " 4   homepage               7782 non-null   object \n",
      " 5   id                     45466 non-null  object \n",
      " 6   imdb_id                45449 non-null  object \n",
      " 7   original_language      45455 non-null  object \n",
      " 8   original_title         45466 non-null  object \n",
      " 9   overview               44512 non-null  object \n",
      " 10  popularity             45461 non-null  object \n",
      " 11  poster_path            45080 non-null  object \n",
      " 12  production_companies   45463 non-null  object \n",
      " 13  production_countries   45463 non-null  object \n",
      " 14  release_date           45379 non-null  object \n",
      " 15  revenue                45466 non-null  float64\n",
      " 16  runtime                45203 non-null  float64\n",
      " 17  spoken_languages       45460 non-null  object \n",
      " 18  status                 45379 non-null  object \n",
      " 19  tagline                20412 non-null  object \n",
      " 20  title                  45460 non-null  object \n",
      " 21  video                  45460 non-null  object \n",
      " 22  vote_average           45460 non-null  float64\n",
      " 23  vote_count             45460 non-null  float64\n",
      " 24  collection             45466 non-null  object \n",
      " 25  genre                  45466 non-null  object \n",
      " 26  companies              45466 non-null  object \n",
      " 27  countries              45466 non-null  object \n",
      " 28  languages              45466 non-null  object \n",
      "dtypes: float64(5), object(24)\n",
      "memory usage: 10.1+ MB\n"
     ]
    }
   ],
   "source": [
    "### Validamos nuevamente nuestro DataSet:\n",
    "df_movies.info()"
   ]
  },
  {
   "cell_type": "code",
   "execution_count": 33,
   "metadata": {},
   "outputs": [
    {
     "data": {
      "text/html": [
       "<div>\n",
       "<style scoped>\n",
       "    .dataframe tbody tr th:only-of-type {\n",
       "        vertical-align: middle;\n",
       "    }\n",
       "\n",
       "    .dataframe tbody tr th {\n",
       "        vertical-align: top;\n",
       "    }\n",
       "\n",
       "    .dataframe thead th {\n",
       "        text-align: right;\n",
       "    }\n",
       "</style>\n",
       "<table border=\"1\" class=\"dataframe\">\n",
       "  <thead>\n",
       "    <tr style=\"text-align: right;\">\n",
       "      <th></th>\n",
       "      <th>budget</th>\n",
       "      <th>revenue</th>\n",
       "      <th>runtime</th>\n",
       "      <th>vote_average</th>\n",
       "      <th>vote_count</th>\n",
       "    </tr>\n",
       "  </thead>\n",
       "  <tbody>\n",
       "    <tr>\n",
       "      <th>count</th>\n",
       "      <td>4.546600e+04</td>\n",
       "      <td>4.546600e+04</td>\n",
       "      <td>45203.000000</td>\n",
       "      <td>45460.000000</td>\n",
       "      <td>45460.000000</td>\n",
       "    </tr>\n",
       "    <tr>\n",
       "      <th>mean</th>\n",
       "      <td>4.224300e+06</td>\n",
       "      <td>1.120787e+07</td>\n",
       "      <td>94.128199</td>\n",
       "      <td>5.618207</td>\n",
       "      <td>109.897338</td>\n",
       "    </tr>\n",
       "    <tr>\n",
       "      <th>std</th>\n",
       "      <td>1.742359e+07</td>\n",
       "      <td>6.432813e+07</td>\n",
       "      <td>38.407810</td>\n",
       "      <td>1.924216</td>\n",
       "      <td>491.310374</td>\n",
       "    </tr>\n",
       "    <tr>\n",
       "      <th>min</th>\n",
       "      <td>0.000000e+00</td>\n",
       "      <td>0.000000e+00</td>\n",
       "      <td>0.000000</td>\n",
       "      <td>0.000000</td>\n",
       "      <td>0.000000</td>\n",
       "    </tr>\n",
       "    <tr>\n",
       "      <th>25%</th>\n",
       "      <td>0.000000e+00</td>\n",
       "      <td>0.000000e+00</td>\n",
       "      <td>85.000000</td>\n",
       "      <td>5.000000</td>\n",
       "      <td>3.000000</td>\n",
       "    </tr>\n",
       "    <tr>\n",
       "      <th>50%</th>\n",
       "      <td>0.000000e+00</td>\n",
       "      <td>0.000000e+00</td>\n",
       "      <td>95.000000</td>\n",
       "      <td>6.000000</td>\n",
       "      <td>10.000000</td>\n",
       "    </tr>\n",
       "    <tr>\n",
       "      <th>75%</th>\n",
       "      <td>0.000000e+00</td>\n",
       "      <td>0.000000e+00</td>\n",
       "      <td>107.000000</td>\n",
       "      <td>6.800000</td>\n",
       "      <td>34.000000</td>\n",
       "    </tr>\n",
       "    <tr>\n",
       "      <th>max</th>\n",
       "      <td>3.800000e+08</td>\n",
       "      <td>2.787965e+09</td>\n",
       "      <td>1256.000000</td>\n",
       "      <td>10.000000</td>\n",
       "      <td>14075.000000</td>\n",
       "    </tr>\n",
       "  </tbody>\n",
       "</table>\n",
       "</div>"
      ],
      "text/plain": [
       "             budget       revenue       runtime  vote_average    vote_count\n",
       "count  4.546600e+04  4.546600e+04  45203.000000  45460.000000  45460.000000\n",
       "mean   4.224300e+06  1.120787e+07     94.128199      5.618207    109.897338\n",
       "std    1.742359e+07  6.432813e+07     38.407810      1.924216    491.310374\n",
       "min    0.000000e+00  0.000000e+00      0.000000      0.000000      0.000000\n",
       "25%    0.000000e+00  0.000000e+00     85.000000      5.000000      3.000000\n",
       "50%    0.000000e+00  0.000000e+00     95.000000      6.000000     10.000000\n",
       "75%    0.000000e+00  0.000000e+00    107.000000      6.800000     34.000000\n",
       "max    3.800000e+08  2.787965e+09   1256.000000     10.000000  14075.000000"
      ]
     },
     "execution_count": 33,
     "metadata": {},
     "output_type": "execute_result"
    }
   ],
   "source": [
    "df_movies.describe()"
   ]
  },
  {
   "cell_type": "code",
   "execution_count": 34,
   "metadata": {},
   "outputs": [],
   "source": [
    "### Realizamos backup de todos los cambios realizados del Requerimiento Nro. 2\n",
    "df_movies_bck02 = df_movies.copy()"
   ]
  },
  {
   "cell_type": "markdown",
   "metadata": {},
   "source": [
    "## Requerimiento Nro. 3"
   ]
  },
  {
   "cell_type": "markdown",
   "metadata": {},
   "source": [
    "+ Los valores nulos del campo **`release_date`** deben eliminarse."
   ]
  },
  {
   "cell_type": "code",
   "execution_count": 35,
   "metadata": {},
   "outputs": [
    {
     "name": "stdout",
     "output_type": "stream",
     "text": [
      "<class 'pandas.core.frame.DataFrame'>\n",
      "RangeIndex: 45466 entries, 0 to 45465\n",
      "Data columns (total 29 columns):\n",
      " #   Column                 Non-Null Count  Dtype  \n",
      "---  ------                 --------------  -----  \n",
      " 0   adult                  45466 non-null  object \n",
      " 1   belongs_to_collection  4494 non-null   object \n",
      " 2   budget                 45466 non-null  float64\n",
      " 3   genres                 45466 non-null  object \n",
      " 4   homepage               7782 non-null   object \n",
      " 5   id                     45466 non-null  object \n",
      " 6   imdb_id                45449 non-null  object \n",
      " 7   original_language      45455 non-null  object \n",
      " 8   original_title         45466 non-null  object \n",
      " 9   overview               44512 non-null  object \n",
      " 10  popularity             45461 non-null  object \n",
      " 11  poster_path            45080 non-null  object \n",
      " 12  production_companies   45463 non-null  object \n",
      " 13  production_countries   45463 non-null  object \n",
      " 14  release_date           45379 non-null  object \n",
      " 15  revenue                45466 non-null  float64\n",
      " 16  runtime                45203 non-null  float64\n",
      " 17  spoken_languages       45460 non-null  object \n",
      " 18  status                 45379 non-null  object \n",
      " 19  tagline                20412 non-null  object \n",
      " 20  title                  45460 non-null  object \n",
      " 21  video                  45460 non-null  object \n",
      " 22  vote_average           45460 non-null  float64\n",
      " 23  vote_count             45460 non-null  float64\n",
      " 24  collection             45466 non-null  object \n",
      " 25  genre                  45466 non-null  object \n",
      " 26  companies              45466 non-null  object \n",
      " 27  countries              45466 non-null  object \n",
      " 28  languages              45466 non-null  object \n",
      "dtypes: float64(5), object(24)\n",
      "memory usage: 10.1+ MB\n"
     ]
    }
   ],
   "source": [
    "df_movies.info()"
   ]
  },
  {
   "cell_type": "code",
   "execution_count": 36,
   "metadata": {},
   "outputs": [
    {
     "data": {
      "text/plain": [
       "0        1995-10-30\n",
       "1        1995-12-15\n",
       "2        1995-12-22\n",
       "3        1995-12-22\n",
       "4        1995-02-10\n",
       "            ...    \n",
       "45461           NaN\n",
       "45462    2011-11-17\n",
       "45463    2003-08-01\n",
       "45464    1917-10-21\n",
       "45465    2017-06-09\n",
       "Name: release_date, Length: 45466, dtype: object"
      ]
     },
     "execution_count": 36,
     "metadata": {},
     "output_type": "execute_result"
    }
   ],
   "source": [
    "### La columna 'release_date' esta definida de tipo Object, segun el comando anterior.\n",
    "\n",
    "### Validando si es o no, si es de tipo Objeto:\n",
    "df_movies['release_date']"
   ]
  },
  {
   "cell_type": "code",
   "execution_count": 37,
   "metadata": {},
   "outputs": [
    {
     "data": {
      "text/plain": [
       "87"
      ]
     },
     "execution_count": 37,
     "metadata": {},
     "output_type": "execute_result"
    }
   ],
   "source": [
    "### Validamos si tiene NaN:\n",
    "df_movies['release_date'].isna().sum()"
   ]
  },
  {
   "cell_type": "code",
   "execution_count": 38,
   "metadata": {},
   "outputs": [
    {
     "data": {
      "text/plain": [
       "45466"
      ]
     },
     "execution_count": 38,
     "metadata": {},
     "output_type": "execute_result"
    }
   ],
   "source": [
    "### Efectivamente hay 87 NaN.\n",
    "45379 + 87"
   ]
  },
  {
   "cell_type": "code",
   "execution_count": 39,
   "metadata": {},
   "outputs": [
    {
     "data": {
      "text/plain": [
       "90"
      ]
     },
     "execution_count": 39,
     "metadata": {},
     "output_type": "execute_result"
    }
   ],
   "source": [
    "### Primero convertimos a datetime la columna 'release_date'\n",
    "### Y forzamos a convertir en NaN a todos los valores que den error (errors='coerce).\n",
    "df_movies['release_date'] = pd.to_datetime(df_movies['release_date'], errors='coerce')\n",
    "\n",
    "### Validamos nuevamente la cantidad de valores NaN\n",
    "df_movies['release_date'].isna().sum()"
   ]
  },
  {
   "cell_type": "code",
   "execution_count": 242,
   "metadata": {},
   "outputs": [
    {
     "name": "stdout",
     "output_type": "stream",
     "text": [
      "<class 'pandas.core.frame.DataFrame'>\n",
      "RangeIndex: 45466 entries, 0 to 45465\n",
      "Data columns (total 29 columns):\n",
      " #   Column                 Non-Null Count  Dtype         \n",
      "---  ------                 --------------  -----         \n",
      " 0   adult                  45466 non-null  object        \n",
      " 1   belongs_to_collection  4494 non-null   object        \n",
      " 2   budget                 45466 non-null  float64       \n",
      " 3   genres                 45466 non-null  object        \n",
      " 4   homepage               7782 non-null   object        \n",
      " 5   id                     45466 non-null  object        \n",
      " 6   imdb_id                45449 non-null  object        \n",
      " 7   original_language      45455 non-null  object        \n",
      " 8   original_title         45466 non-null  object        \n",
      " 9   overview               44512 non-null  object        \n",
      " 10  popularity             45461 non-null  object        \n",
      " 11  poster_path            45080 non-null  object        \n",
      " 12  production_companies   45463 non-null  object        \n",
      " 13  production_countries   45463 non-null  object        \n",
      " 14  release_date           45376 non-null  datetime64[ns]\n",
      " 15  revenue                45466 non-null  float64       \n",
      " 16  runtime                45203 non-null  float64       \n",
      " 17  spoken_languages       45460 non-null  object        \n",
      " 18  status                 45379 non-null  object        \n",
      " 19  tagline                20412 non-null  object        \n",
      " 20  title                  45460 non-null  object        \n",
      " 21  video                  45460 non-null  object        \n",
      " 22  vote_average           45460 non-null  float64       \n",
      " 23  vote_count             45460 non-null  float64       \n",
      " 24  Collection             45466 non-null  object        \n",
      " 25  genre                  45466 non-null  object        \n",
      " 26  companies              45466 non-null  object        \n",
      " 27  countries              45466 non-null  object        \n",
      " 28  languages              45466 non-null  object        \n",
      "dtypes: datetime64[ns](1), float64(5), object(23)\n",
      "memory usage: 10.1+ MB\n"
     ]
    }
   ],
   "source": [
    "### Efectivamente, ahora el total de NaN en la columna 'release_date' es 90.\n",
    "df_movies.info()"
   ]
  },
  {
   "cell_type": "code",
   "execution_count": 40,
   "metadata": {},
   "outputs": [
    {
     "data": {
      "text/plain": [
       "0"
      ]
     },
     "execution_count": 40,
     "metadata": {},
     "output_type": "execute_result"
    }
   ],
   "source": [
    "### Ahora si procedemos a eliminar los valores NaN = 87 +3 = 90, de la columna 'release_date'.\n",
    "df_movies.dropna(subset=['release_date'], inplace=True)\n",
    "\n",
    "#Verificamos que no existan NaT\n",
    "df_movies['release_date'].isnull().sum()"
   ]
  },
  {
   "cell_type": "code",
   "execution_count": 41,
   "metadata": {},
   "outputs": [
    {
     "name": "stdout",
     "output_type": "stream",
     "text": [
      "<class 'pandas.core.frame.DataFrame'>\n",
      "Index: 45376 entries, 0 to 45465\n",
      "Data columns (total 29 columns):\n",
      " #   Column                 Non-Null Count  Dtype         \n",
      "---  ------                 --------------  -----         \n",
      " 0   adult                  45376 non-null  object        \n",
      " 1   belongs_to_collection  4488 non-null   object        \n",
      " 2   budget                 45376 non-null  float64       \n",
      " 3   genres                 45376 non-null  object        \n",
      " 4   homepage               7766 non-null   object        \n",
      " 5   id                     45376 non-null  object        \n",
      " 6   imdb_id                45362 non-null  object        \n",
      " 7   original_language      45365 non-null  object        \n",
      " 8   original_title         45376 non-null  object        \n",
      " 9   overview               44435 non-null  object        \n",
      " 10  popularity             45376 non-null  object        \n",
      " 11  poster_path            45037 non-null  object        \n",
      " 12  production_companies   45376 non-null  object        \n",
      " 13  production_countries   45376 non-null  object        \n",
      " 14  release_date           45376 non-null  datetime64[ns]\n",
      " 15  revenue                45376 non-null  float64       \n",
      " 16  runtime                45130 non-null  float64       \n",
      " 17  spoken_languages       45376 non-null  object        \n",
      " 18  status                 45296 non-null  object        \n",
      " 19  tagline                20398 non-null  object        \n",
      " 20  title                  45376 non-null  object        \n",
      " 21  video                  45376 non-null  object        \n",
      " 22  vote_average           45376 non-null  float64       \n",
      " 23  vote_count             45376 non-null  float64       \n",
      " 24  collection             45376 non-null  object        \n",
      " 25  genre                  45376 non-null  object        \n",
      " 26  companies              45376 non-null  object        \n",
      " 27  countries              45376 non-null  object        \n",
      " 28  languages              45376 non-null  object        \n",
      "dtypes: datetime64[ns](1), float64(5), object(23)\n",
      "memory usage: 10.4+ MB\n"
     ]
    }
   ],
   "source": [
    "### Validamos nuevamente:\n",
    "df_movies.info()"
   ]
  },
  {
   "cell_type": "code",
   "execution_count": 42,
   "metadata": {},
   "outputs": [],
   "source": [
    "### Realizamos backup de todos los cambios realizados del Requerimiento Nro. 3\n",
    "df_movies_bck03 = df_movies.copy()"
   ]
  },
  {
   "cell_type": "markdown",
   "metadata": {},
   "source": [
    "## Requerimiento Nro. 4"
   ]
  },
  {
   "cell_type": "markdown",
   "metadata": {},
   "source": [
    "+ De haber fechas, deberán tener el formato **`AAAA-mm-dd`**, además deberán crear la columna **`release_year`** donde extraerán el año de la fecha de estreno."
   ]
  },
  {
   "cell_type": "code",
   "execution_count": 43,
   "metadata": {},
   "outputs": [
    {
     "name": "stdout",
     "output_type": "stream",
     "text": [
      "0       1995-10-30\n",
      "1       1995-12-15\n",
      "2       1995-12-22\n",
      "3       1995-12-22\n",
      "4       1995-02-10\n",
      "           ...    \n",
      "45460   1991-05-13\n",
      "45462   2011-11-17\n",
      "45463   2003-08-01\n",
      "45464   1917-10-21\n",
      "45465   2017-06-09\n",
      "Name: release_date, Length: 45376, dtype: datetime64[ns]\n",
      "<class 'pandas.core.series.Series'>\n",
      "Index: 45376 entries, 0 to 45465\n",
      "Series name: release_date\n",
      "Non-Null Count  Dtype         \n",
      "--------------  -----         \n",
      "45376 non-null  datetime64[ns]\n",
      "dtypes: datetime64[ns](1)\n",
      "memory usage: 709.0 KB\n"
     ]
    }
   ],
   "source": [
    "### Validan el tipo de columna 'release_date' y sus datos\n",
    "print(df_movies['release_date'])\n",
    "df_movies['release_date'].info()\n"
   ]
  },
  {
   "cell_type": "code",
   "execution_count": 44,
   "metadata": {},
   "outputs": [],
   "source": [
    "#Verificamos que todos los registros tengan el mismo formato AAAA-MM-DD\n",
    "df_movies['release_date'] = pd.to_datetime(df_movies['release_date']).dt.strftime('%Y-%m-%d')"
   ]
  },
  {
   "cell_type": "code",
   "execution_count": 45,
   "metadata": {},
   "outputs": [
    {
     "name": "stdout",
     "output_type": "stream",
     "text": [
      "  release_date  release_year\n",
      "0   1995-10-30          1995\n",
      "1   1995-12-15          1995\n",
      "2   1995-12-22          1995\n",
      "3   1995-12-22          1995\n",
      "4   1995-02-10          1995\n"
     ]
    },
    {
     "data": {
      "text/html": [
       "<div>\n",
       "<style scoped>\n",
       "    .dataframe tbody tr th:only-of-type {\n",
       "        vertical-align: middle;\n",
       "    }\n",
       "\n",
       "    .dataframe tbody tr th {\n",
       "        vertical-align: top;\n",
       "    }\n",
       "\n",
       "    .dataframe thead th {\n",
       "        text-align: right;\n",
       "    }\n",
       "</style>\n",
       "<table border=\"1\" class=\"dataframe\">\n",
       "  <thead>\n",
       "    <tr style=\"text-align: right;\">\n",
       "      <th></th>\n",
       "      <th>release_date</th>\n",
       "      <th>release_year</th>\n",
       "    </tr>\n",
       "  </thead>\n",
       "  <tbody>\n",
       "    <tr>\n",
       "      <th>45460</th>\n",
       "      <td>1991-05-13</td>\n",
       "      <td>1991</td>\n",
       "    </tr>\n",
       "    <tr>\n",
       "      <th>45462</th>\n",
       "      <td>2011-11-17</td>\n",
       "      <td>2011</td>\n",
       "    </tr>\n",
       "    <tr>\n",
       "      <th>45463</th>\n",
       "      <td>2003-08-01</td>\n",
       "      <td>2003</td>\n",
       "    </tr>\n",
       "    <tr>\n",
       "      <th>45464</th>\n",
       "      <td>1917-10-21</td>\n",
       "      <td>1917</td>\n",
       "    </tr>\n",
       "    <tr>\n",
       "      <th>45465</th>\n",
       "      <td>2017-06-09</td>\n",
       "      <td>2017</td>\n",
       "    </tr>\n",
       "  </tbody>\n",
       "</table>\n",
       "</div>"
      ],
      "text/plain": [
       "      release_date  release_year\n",
       "45460   1991-05-13          1991\n",
       "45462   2011-11-17          2011\n",
       "45463   2003-08-01          2003\n",
       "45464   1917-10-21          1917\n",
       "45465   2017-06-09          2017"
      ]
     },
     "execution_count": 45,
     "metadata": {},
     "output_type": "execute_result"
    }
   ],
   "source": [
    "### Como efectivamente todos los registros de la columna 'release_date' tienen el mismo formato, pasamos a crear la columna de años:\n",
    "\n",
    "#Creamos la columna 'release_year' que va a contener el año de la columna 'release_date'\n",
    "df_movies['release_year'] = pd.to_datetime(df_movies['release_date']).dt.year\n",
    "\n",
    "### Validamos la nueva columna de 'release_year'\n",
    "print(df_movies[['release_date','release_year']].head(5))\n",
    "df_movies[['release_date','release_year']].tail(5)"
   ]
  },
  {
   "cell_type": "code",
   "execution_count": 46,
   "metadata": {},
   "outputs": [],
   "source": [
    "### Realizamos backup de todos los cambios realizados del Requerimiento Nro. 4\n",
    "df_movies_bck04 = df_movies.copy()"
   ]
  },
  {
   "cell_type": "markdown",
   "metadata": {},
   "source": [
    "## Requerimiento Nro. 5"
   ]
  },
  {
   "cell_type": "markdown",
   "metadata": {},
   "source": [
    "+ Crear la columna con el retorno de inversión, llamada **`return`** con los campos **`revenue`** y **`budget`**, dividiendo estas dos últimas **`revenue / budget`**, cuando no hay datos disponibles para calcularlo, deberá tomar el valor **`0`**."
   ]
  },
  {
   "cell_type": "code",
   "execution_count": 47,
   "metadata": {},
   "outputs": [
    {
     "name": "stdout",
     "output_type": "stream",
     "text": [
      "<class 'pandas.core.frame.DataFrame'>\n",
      "Index: 45376 entries, 0 to 45465\n",
      "Data columns (total 30 columns):\n",
      " #   Column                 Non-Null Count  Dtype  \n",
      "---  ------                 --------------  -----  \n",
      " 0   adult                  45376 non-null  object \n",
      " 1   belongs_to_collection  4488 non-null   object \n",
      " 2   budget                 45376 non-null  float64\n",
      " 3   genres                 45376 non-null  object \n",
      " 4   homepage               7766 non-null   object \n",
      " 5   id                     45376 non-null  object \n",
      " 6   imdb_id                45362 non-null  object \n",
      " 7   original_language      45365 non-null  object \n",
      " 8   original_title         45376 non-null  object \n",
      " 9   overview               44435 non-null  object \n",
      " 10  popularity             45376 non-null  object \n",
      " 11  poster_path            45037 non-null  object \n",
      " 12  production_companies   45376 non-null  object \n",
      " 13  production_countries   45376 non-null  object \n",
      " 14  release_date           45376 non-null  object \n",
      " 15  revenue                45376 non-null  float64\n",
      " 16  runtime                45130 non-null  float64\n",
      " 17  spoken_languages       45376 non-null  object \n",
      " 18  status                 45296 non-null  object \n",
      " 19  tagline                20398 non-null  object \n",
      " 20  title                  45376 non-null  object \n",
      " 21  video                  45376 non-null  object \n",
      " 22  vote_average           45376 non-null  float64\n",
      " 23  vote_count             45376 non-null  float64\n",
      " 24  collection             45376 non-null  object \n",
      " 25  genre                  45376 non-null  object \n",
      " 26  companies              45376 non-null  object \n",
      " 27  countries              45376 non-null  object \n",
      " 28  languages              45376 non-null  object \n",
      " 29  release_year           45376 non-null  int32  \n",
      "dtypes: float64(5), int32(1), object(24)\n",
      "memory usage: 10.6+ MB\n"
     ]
    }
   ],
   "source": [
    "### Validando los tipos de las columnas\n",
    "df_movies.info()"
   ]
  },
  {
   "cell_type": "code",
   "execution_count": 48,
   "metadata": {},
   "outputs": [
    {
     "name": "stdout",
     "output_type": "stream",
     "text": [
      "0\n"
     ]
    },
    {
     "data": {
      "text/plain": [
       "0"
      ]
     },
     "execution_count": 48,
     "metadata": {},
     "output_type": "execute_result"
    }
   ],
   "source": [
    "### Validando que no hay NaN, en ninguna de las dos columnas:\n",
    "print(df_movies['budget'].isna().sum())\n",
    "df_movies['revenue'].isna().sum()"
   ]
  },
  {
   "cell_type": "code",
   "execution_count": 49,
   "metadata": {},
   "outputs": [
    {
     "data": {
      "text/html": [
       "<div>\n",
       "<style scoped>\n",
       "    .dataframe tbody tr th:only-of-type {\n",
       "        vertical-align: middle;\n",
       "    }\n",
       "\n",
       "    .dataframe tbody tr th {\n",
       "        vertical-align: top;\n",
       "    }\n",
       "\n",
       "    .dataframe thead th {\n",
       "        text-align: right;\n",
       "    }\n",
       "</style>\n",
       "<table border=\"1\" class=\"dataframe\">\n",
       "  <thead>\n",
       "    <tr style=\"text-align: right;\">\n",
       "      <th></th>\n",
       "      <th>budget</th>\n",
       "      <th>revenue</th>\n",
       "    </tr>\n",
       "  </thead>\n",
       "  <tbody>\n",
       "    <tr>\n",
       "      <th>count</th>\n",
       "      <td>4.537600e+04</td>\n",
       "      <td>4.537600e+04</td>\n",
       "    </tr>\n",
       "    <tr>\n",
       "      <th>mean</th>\n",
       "      <td>4.232604e+06</td>\n",
       "      <td>1.123010e+07</td>\n",
       "    </tr>\n",
       "    <tr>\n",
       "      <th>std</th>\n",
       "      <td>1.743986e+07</td>\n",
       "      <td>6.438996e+07</td>\n",
       "    </tr>\n",
       "    <tr>\n",
       "      <th>min</th>\n",
       "      <td>0.000000e+00</td>\n",
       "      <td>0.000000e+00</td>\n",
       "    </tr>\n",
       "    <tr>\n",
       "      <th>25%</th>\n",
       "      <td>0.000000e+00</td>\n",
       "      <td>0.000000e+00</td>\n",
       "    </tr>\n",
       "    <tr>\n",
       "      <th>50%</th>\n",
       "      <td>0.000000e+00</td>\n",
       "      <td>0.000000e+00</td>\n",
       "    </tr>\n",
       "    <tr>\n",
       "      <th>75%</th>\n",
       "      <td>0.000000e+00</td>\n",
       "      <td>0.000000e+00</td>\n",
       "    </tr>\n",
       "    <tr>\n",
       "      <th>max</th>\n",
       "      <td>3.800000e+08</td>\n",
       "      <td>2.787965e+09</td>\n",
       "    </tr>\n",
       "  </tbody>\n",
       "</table>\n",
       "</div>"
      ],
      "text/plain": [
       "             budget       revenue\n",
       "count  4.537600e+04  4.537600e+04\n",
       "mean   4.232604e+06  1.123010e+07\n",
       "std    1.743986e+07  6.438996e+07\n",
       "min    0.000000e+00  0.000000e+00\n",
       "25%    0.000000e+00  0.000000e+00\n",
       "50%    0.000000e+00  0.000000e+00\n",
       "75%    0.000000e+00  0.000000e+00\n",
       "max    3.800000e+08  2.787965e+09"
      ]
     },
     "execution_count": 49,
     "metadata": {},
     "output_type": "execute_result"
    }
   ],
   "source": [
    "### Validando datos\n",
    "df_movies[['budget','revenue']].describe()"
   ]
  },
  {
   "cell_type": "code",
   "execution_count": 50,
   "metadata": {},
   "outputs": [],
   "source": [
    "### Se realiza esta conversion para detectar la existencia de algun dato, con un posible error. (Por si acaso !!!!)\n",
    "df_movies['budget'] = pd.to_numeric(df_movies['budget'], errors='coerce')\n",
    "df_movies['revenue'] = pd.to_numeric(df_movies['revenue'], errors='coerce')"
   ]
  },
  {
   "cell_type": "code",
   "execution_count": 51,
   "metadata": {},
   "outputs": [
    {
     "name": "stdout",
     "output_type": "stream",
     "text": [
      "       revenue      budget     return\n",
      "0  373554033.0  30000000.0  12.451801\n",
      "1  262797249.0  65000000.0   4.043035\n",
      "2          0.0         0.0   0.000000\n",
      "3   81452156.0  16000000.0   5.090760\n",
      "4   76578911.0         0.0        inf\n",
      "5  187436818.0  60000000.0   3.123947\n",
      "6          0.0  58000000.0   0.000000\n",
      "7          0.0         0.0   0.000000\n",
      "8   64350171.0  35000000.0   1.838576\n",
      "9  352194034.0  58000000.0   6.072311\n"
     ]
    },
    {
     "data": {
      "text/html": [
       "<div>\n",
       "<style scoped>\n",
       "    .dataframe tbody tr th:only-of-type {\n",
       "        vertical-align: middle;\n",
       "    }\n",
       "\n",
       "    .dataframe tbody tr th {\n",
       "        vertical-align: top;\n",
       "    }\n",
       "\n",
       "    .dataframe thead th {\n",
       "        text-align: right;\n",
       "    }\n",
       "</style>\n",
       "<table border=\"1\" class=\"dataframe\">\n",
       "  <thead>\n",
       "    <tr style=\"text-align: right;\">\n",
       "      <th></th>\n",
       "      <th>revenue</th>\n",
       "      <th>budget</th>\n",
       "      <th>return</th>\n",
       "    </tr>\n",
       "  </thead>\n",
       "  <tbody>\n",
       "    <tr>\n",
       "      <th>45455</th>\n",
       "      <td>0.0</td>\n",
       "      <td>0.0</td>\n",
       "      <td>0.0</td>\n",
       "    </tr>\n",
       "    <tr>\n",
       "      <th>45456</th>\n",
       "      <td>0.0</td>\n",
       "      <td>0.0</td>\n",
       "      <td>0.0</td>\n",
       "    </tr>\n",
       "    <tr>\n",
       "      <th>45457</th>\n",
       "      <td>0.0</td>\n",
       "      <td>0.0</td>\n",
       "      <td>0.0</td>\n",
       "    </tr>\n",
       "    <tr>\n",
       "      <th>45458</th>\n",
       "      <td>0.0</td>\n",
       "      <td>0.0</td>\n",
       "      <td>0.0</td>\n",
       "    </tr>\n",
       "    <tr>\n",
       "      <th>45459</th>\n",
       "      <td>0.0</td>\n",
       "      <td>0.0</td>\n",
       "      <td>0.0</td>\n",
       "    </tr>\n",
       "    <tr>\n",
       "      <th>45460</th>\n",
       "      <td>0.0</td>\n",
       "      <td>0.0</td>\n",
       "      <td>0.0</td>\n",
       "    </tr>\n",
       "    <tr>\n",
       "      <th>45462</th>\n",
       "      <td>0.0</td>\n",
       "      <td>0.0</td>\n",
       "      <td>0.0</td>\n",
       "    </tr>\n",
       "    <tr>\n",
       "      <th>45463</th>\n",
       "      <td>0.0</td>\n",
       "      <td>0.0</td>\n",
       "      <td>0.0</td>\n",
       "    </tr>\n",
       "    <tr>\n",
       "      <th>45464</th>\n",
       "      <td>0.0</td>\n",
       "      <td>0.0</td>\n",
       "      <td>0.0</td>\n",
       "    </tr>\n",
       "    <tr>\n",
       "      <th>45465</th>\n",
       "      <td>0.0</td>\n",
       "      <td>0.0</td>\n",
       "      <td>0.0</td>\n",
       "    </tr>\n",
       "  </tbody>\n",
       "</table>\n",
       "</div>"
      ],
      "text/plain": [
       "       revenue  budget  return\n",
       "45455      0.0     0.0     0.0\n",
       "45456      0.0     0.0     0.0\n",
       "45457      0.0     0.0     0.0\n",
       "45458      0.0     0.0     0.0\n",
       "45459      0.0     0.0     0.0\n",
       "45460      0.0     0.0     0.0\n",
       "45462      0.0     0.0     0.0\n",
       "45463      0.0     0.0     0.0\n",
       "45464      0.0     0.0     0.0\n",
       "45465      0.0     0.0     0.0"
      ]
     },
     "execution_count": 51,
     "metadata": {},
     "output_type": "execute_result"
    }
   ],
   "source": [
    "### Creando la columna con la formula del retorno de inversión 'return'\n",
    "df_movies['return'] = df_movies['revenue']/df_movies['budget']\n",
    "\n",
    "### Eliminando valores NaN\n",
    "df_movies['return'].fillna(0, inplace=True)\n",
    "\n",
    "### Visualizando las columnas\n",
    "print(df_movies[['revenue', 'budget','return']].head(10))\n",
    "df_movies[['revenue', 'budget','return']].tail(10)\n"
   ]
  },
  {
   "cell_type": "code",
   "execution_count": 52,
   "metadata": {},
   "outputs": [
    {
     "name": "stdout",
     "output_type": "stream",
     "text": [
      "       revenue      budget     return\n",
      "0  373554033.0  30000000.0  12.451801\n",
      "1  262797249.0  65000000.0   4.043035\n",
      "2          0.0         0.0   0.000000\n",
      "3   81452156.0  16000000.0   5.090760\n",
      "4   76578911.0         0.0   0.000000\n",
      "5  187436818.0  60000000.0   3.123947\n",
      "6          0.0  58000000.0   0.000000\n",
      "7          0.0         0.0   0.000000\n",
      "8   64350171.0  35000000.0   1.838576\n",
      "9  352194034.0  58000000.0   6.072311\n"
     ]
    },
    {
     "data": {
      "text/html": [
       "<div>\n",
       "<style scoped>\n",
       "    .dataframe tbody tr th:only-of-type {\n",
       "        vertical-align: middle;\n",
       "    }\n",
       "\n",
       "    .dataframe tbody tr th {\n",
       "        vertical-align: top;\n",
       "    }\n",
       "\n",
       "    .dataframe thead th {\n",
       "        text-align: right;\n",
       "    }\n",
       "</style>\n",
       "<table border=\"1\" class=\"dataframe\">\n",
       "  <thead>\n",
       "    <tr style=\"text-align: right;\">\n",
       "      <th></th>\n",
       "      <th>revenue</th>\n",
       "      <th>budget</th>\n",
       "      <th>return</th>\n",
       "    </tr>\n",
       "  </thead>\n",
       "  <tbody>\n",
       "    <tr>\n",
       "      <th>45455</th>\n",
       "      <td>0.0</td>\n",
       "      <td>0.0</td>\n",
       "      <td>0.0</td>\n",
       "    </tr>\n",
       "    <tr>\n",
       "      <th>45456</th>\n",
       "      <td>0.0</td>\n",
       "      <td>0.0</td>\n",
       "      <td>0.0</td>\n",
       "    </tr>\n",
       "    <tr>\n",
       "      <th>45457</th>\n",
       "      <td>0.0</td>\n",
       "      <td>0.0</td>\n",
       "      <td>0.0</td>\n",
       "    </tr>\n",
       "    <tr>\n",
       "      <th>45458</th>\n",
       "      <td>0.0</td>\n",
       "      <td>0.0</td>\n",
       "      <td>0.0</td>\n",
       "    </tr>\n",
       "    <tr>\n",
       "      <th>45459</th>\n",
       "      <td>0.0</td>\n",
       "      <td>0.0</td>\n",
       "      <td>0.0</td>\n",
       "    </tr>\n",
       "    <tr>\n",
       "      <th>45460</th>\n",
       "      <td>0.0</td>\n",
       "      <td>0.0</td>\n",
       "      <td>0.0</td>\n",
       "    </tr>\n",
       "    <tr>\n",
       "      <th>45462</th>\n",
       "      <td>0.0</td>\n",
       "      <td>0.0</td>\n",
       "      <td>0.0</td>\n",
       "    </tr>\n",
       "    <tr>\n",
       "      <th>45463</th>\n",
       "      <td>0.0</td>\n",
       "      <td>0.0</td>\n",
       "      <td>0.0</td>\n",
       "    </tr>\n",
       "    <tr>\n",
       "      <th>45464</th>\n",
       "      <td>0.0</td>\n",
       "      <td>0.0</td>\n",
       "      <td>0.0</td>\n",
       "    </tr>\n",
       "    <tr>\n",
       "      <th>45465</th>\n",
       "      <td>0.0</td>\n",
       "      <td>0.0</td>\n",
       "      <td>0.0</td>\n",
       "    </tr>\n",
       "  </tbody>\n",
       "</table>\n",
       "</div>"
      ],
      "text/plain": [
       "       revenue  budget  return\n",
       "45455      0.0     0.0     0.0\n",
       "45456      0.0     0.0     0.0\n",
       "45457      0.0     0.0     0.0\n",
       "45458      0.0     0.0     0.0\n",
       "45459      0.0     0.0     0.0\n",
       "45460      0.0     0.0     0.0\n",
       "45462      0.0     0.0     0.0\n",
       "45463      0.0     0.0     0.0\n",
       "45464      0.0     0.0     0.0\n",
       "45465      0.0     0.0     0.0"
      ]
     },
     "execution_count": 52,
     "metadata": {},
     "output_type": "execute_result"
    }
   ],
   "source": [
    "### Se observan divisiones por CERO, que son colocadas como: inf ( Infinito).\n",
    "\n",
    "### Se procede a convertir los valores INFINITOS a CERO:\n",
    "df_movies['return'] = df_movies['return'].replace([np.inf, -np.inf], 0)\n",
    "\n",
    "### Visualizando las columnas nuevamente:\n",
    "print(df_movies[['revenue', 'budget','return']].head(10))\n",
    "df_movies[['revenue', 'budget','return']].tail(10)"
   ]
  },
  {
   "cell_type": "code",
   "execution_count": 53,
   "metadata": {},
   "outputs": [
    {
     "name": "stdout",
     "output_type": "stream",
     "text": [
      "<class 'pandas.core.frame.DataFrame'>\n",
      "Index: 45376 entries, 0 to 45465\n",
      "Data columns (total 31 columns):\n",
      " #   Column                 Non-Null Count  Dtype  \n",
      "---  ------                 --------------  -----  \n",
      " 0   adult                  45376 non-null  object \n",
      " 1   belongs_to_collection  4488 non-null   object \n",
      " 2   budget                 45376 non-null  float64\n",
      " 3   genres                 45376 non-null  object \n",
      " 4   homepage               7766 non-null   object \n",
      " 5   id                     45376 non-null  object \n",
      " 6   imdb_id                45362 non-null  object \n",
      " 7   original_language      45365 non-null  object \n",
      " 8   original_title         45376 non-null  object \n",
      " 9   overview               44435 non-null  object \n",
      " 10  popularity             45376 non-null  object \n",
      " 11  poster_path            45037 non-null  object \n",
      " 12  production_companies   45376 non-null  object \n",
      " 13  production_countries   45376 non-null  object \n",
      " 14  release_date           45376 non-null  object \n",
      " 15  revenue                45376 non-null  float64\n",
      " 16  runtime                45130 non-null  float64\n",
      " 17  spoken_languages       45376 non-null  object \n",
      " 18  status                 45296 non-null  object \n",
      " 19  tagline                20398 non-null  object \n",
      " 20  title                  45376 non-null  object \n",
      " 21  video                  45376 non-null  object \n",
      " 22  vote_average           45376 non-null  float64\n",
      " 23  vote_count             45376 non-null  float64\n",
      " 24  collection             45376 non-null  object \n",
      " 25  genre                  45376 non-null  object \n",
      " 26  companies              45376 non-null  object \n",
      " 27  countries              45376 non-null  object \n",
      " 28  languages              45376 non-null  object \n",
      " 29  release_year           45376 non-null  int32  \n",
      " 30  return                 45376 non-null  float64\n",
      "dtypes: float64(6), int32(1), object(24)\n",
      "memory usage: 10.9+ MB\n"
     ]
    }
   ],
   "source": [
    "### Error de division por CERO corregido.\n",
    "\n",
    "### Validamos nuevamente el Dataset:\n",
    "df_movies.info()"
   ]
  },
  {
   "cell_type": "code",
   "execution_count": 54,
   "metadata": {},
   "outputs": [],
   "source": [
    "### Realizamos backup de todos los cambios realizados del Requerimiento Nro. 5\n",
    "df_movies_bck05 = df_movies.copy()"
   ]
  },
  {
   "cell_type": "markdown",
   "metadata": {},
   "source": [
    "## Requerimiento Nro. 6"
   ]
  },
  {
   "cell_type": "markdown",
   "metadata": {},
   "source": [
    "+ Eliminar las columnas que no serán utilizadas, **`video`**,**`imdb_id`**,**`adult`**,**`original_title`**,**`poster_path`** y **`homepage`**."
   ]
  },
  {
   "cell_type": "code",
   "execution_count": 55,
   "metadata": {},
   "outputs": [
    {
     "name": "stdout",
     "output_type": "stream",
     "text": [
      "Total de Columnas= 31\n",
      "Nro de Columnas a eliminar el el Requerimienti Nro.6 = 7 \n",
      "Columnas Restantes = 24\n"
     ]
    }
   ],
   "source": [
    "### Total de Columnas\n",
    "print(\"Total de Columnas=\",df_movies.columns.value_counts().sum())\n",
    "\n",
    "### Cantidad de columnas a eliminar por el Requeriiento Nro.6\n",
    "print(\"Nro de Columnas a eliminar el el Requerimienti Nro.6 = 7 \")\n",
    "\n",
    "### Se procede a eliminar las 7 columnas:\n",
    "df_movies.drop(columns=['video', 'imdb_id','adult', 'original_title', 'vote_count', 'poster_path', 'homepage'], inplace=True)\n",
    "\n",
    "### Columnas Restantes:\n",
    "print(\"Columnas Restantes =\",df_movies.columns.value_counts().sum())"
   ]
  },
  {
   "cell_type": "code",
   "execution_count": 56,
   "metadata": {},
   "outputs": [
    {
     "name": "stdout",
     "output_type": "stream",
     "text": [
      "<class 'pandas.core.frame.DataFrame'>\n",
      "Index: 45376 entries, 0 to 45465\n",
      "Data columns (total 24 columns):\n",
      " #   Column                 Non-Null Count  Dtype  \n",
      "---  ------                 --------------  -----  \n",
      " 0   belongs_to_collection  4488 non-null   object \n",
      " 1   budget                 45376 non-null  float64\n",
      " 2   genres                 45376 non-null  object \n",
      " 3   id                     45376 non-null  object \n",
      " 4   original_language      45365 non-null  object \n",
      " 5   overview               44435 non-null  object \n",
      " 6   popularity             45376 non-null  object \n",
      " 7   production_companies   45376 non-null  object \n",
      " 8   production_countries   45376 non-null  object \n",
      " 9   release_date           45376 non-null  object \n",
      " 10  revenue                45376 non-null  float64\n",
      " 11  runtime                45130 non-null  float64\n",
      " 12  spoken_languages       45376 non-null  object \n",
      " 13  status                 45296 non-null  object \n",
      " 14  tagline                20398 non-null  object \n",
      " 15  title                  45376 non-null  object \n",
      " 16  vote_average           45376 non-null  float64\n",
      " 17  collection             45376 non-null  object \n",
      " 18  genre                  45376 non-null  object \n",
      " 19  companies              45376 non-null  object \n",
      " 20  countries              45376 non-null  object \n",
      " 21  languages              45376 non-null  object \n",
      " 22  release_year           45376 non-null  int32  \n",
      " 23  return                 45376 non-null  float64\n",
      "dtypes: float64(5), int32(1), object(18)\n",
      "memory usage: 8.5+ MB\n"
     ]
    }
   ],
   "source": [
    "df_movies.info()"
   ]
  },
  {
   "cell_type": "code",
   "execution_count": 57,
   "metadata": {},
   "outputs": [
    {
     "data": {
      "text/plain": [
       "Index(['belongs_to_collection', 'budget', 'genres', 'id', 'original_language',\n",
       "       'overview', 'popularity', 'production_companies',\n",
       "       'production_countries', 'release_date', 'revenue', 'runtime',\n",
       "       'spoken_languages', 'status', 'tagline', 'title', 'vote_average',\n",
       "       'collection', 'genre', 'companies', 'countries', 'languages',\n",
       "       'release_year', 'return'],\n",
       "      dtype='object')"
      ]
     },
     "execution_count": 57,
     "metadata": {},
     "output_type": "execute_result"
    }
   ],
   "source": [
    "### Validando Columnas:\n",
    "df_movies.columns"
   ]
  },
  {
   "cell_type": "code",
   "execution_count": 74,
   "metadata": {},
   "outputs": [
    {
     "name": "stdout",
     "output_type": "stream",
     "text": [
      "<class 'pandas.core.frame.DataFrame'>\n",
      "RangeIndex: 45376 entries, 0 to 45375\n",
      "Data columns (total 24 columns):\n",
      " #   Column                 Non-Null Count  Dtype  \n",
      "---  ------                 --------------  -----  \n",
      " 0   belongs_to_collection  4488 non-null   object \n",
      " 1   budget                 45376 non-null  float64\n",
      " 2   genres                 45376 non-null  object \n",
      " 3   id                     45376 non-null  object \n",
      " 4   original_language      45365 non-null  object \n",
      " 5   overview               44435 non-null  object \n",
      " 6   popularity             45376 non-null  object \n",
      " 7   production_companies   45376 non-null  object \n",
      " 8   production_countries   45376 non-null  object \n",
      " 9   release_date           45376 non-null  object \n",
      " 10  revenue                45376 non-null  float64\n",
      " 11  runtime                45130 non-null  float64\n",
      " 12  spoken_languages       45376 non-null  object \n",
      " 13  status                 45296 non-null  object \n",
      " 14  tagline                20398 non-null  object \n",
      " 15  title                  45376 non-null  object \n",
      " 16  vote_average           45376 non-null  float64\n",
      " 17  collection             45376 non-null  object \n",
      " 18  genre                  45376 non-null  object \n",
      " 19  companies              45376 non-null  object \n",
      " 20  countries              45376 non-null  object \n",
      " 21  languages              45376 non-null  object \n",
      " 22  release_year           45376 non-null  int32  \n",
      " 23  return                 45376 non-null  float64\n",
      "dtypes: float64(5), int32(1), object(18)\n",
      "memory usage: 8.1+ MB\n"
     ]
    }
   ],
   "source": [
    "### Validando Columnas y tipos de datos:\n",
    "df_movies.info()"
   ]
  },
  {
   "cell_type": "code",
   "execution_count": 75,
   "metadata": {},
   "outputs": [
    {
     "data": {
      "text/plain": [
       "(45376, 24)"
      ]
     },
     "execution_count": 75,
     "metadata": {},
     "output_type": "execute_result"
    }
   ],
   "source": [
    "### Total de Registros y Columnas:\n",
    "df_movies.shape"
   ]
  },
  {
   "cell_type": "code",
   "execution_count": 76,
   "metadata": {},
   "outputs": [],
   "source": [
    "### Realizamos backup antes de eliminar las columnas anidadas:\n",
    "df_movies_bck07 = df_movies.copy()"
   ]
  },
  {
   "cell_type": "code",
   "execution_count": 86,
   "metadata": {},
   "outputs": [
    {
     "data": {
      "text/plain": [
       "(45376, 19)"
      ]
     },
     "execution_count": 86,
     "metadata": {},
     "output_type": "execute_result"
    }
   ],
   "source": [
    "### Se procede a eliminar las 5 Columnas que se estan anidadas:\n",
    "df_movies.drop(columns=['belongs_to_collection', 'genres', 'production_companies', 'production_countries', 'spoken_languages' ], inplace=True)\n",
    "\n",
    "### Reseteando los Indices del DataSet, por todos los cambios realizados:\n",
    "df_movies.reset_index(drop=True, inplace=True)\n",
    "\n",
    "### Validan nuevamente el total de registros y columnas:\n",
    "df_movies.shape"
   ]
  },
  {
   "cell_type": "code",
   "execution_count": 87,
   "metadata": {},
   "outputs": [
    {
     "data": {
      "text/html": [
       "<div>\n",
       "<style scoped>\n",
       "    .dataframe tbody tr th:only-of-type {\n",
       "        vertical-align: middle;\n",
       "    }\n",
       "\n",
       "    .dataframe tbody tr th {\n",
       "        vertical-align: top;\n",
       "    }\n",
       "\n",
       "    .dataframe thead th {\n",
       "        text-align: right;\n",
       "    }\n",
       "</style>\n",
       "<table border=\"1\" class=\"dataframe\">\n",
       "  <thead>\n",
       "    <tr style=\"text-align: right;\">\n",
       "      <th></th>\n",
       "      <th>budget</th>\n",
       "      <th>id</th>\n",
       "      <th>original_language</th>\n",
       "      <th>overview</th>\n",
       "      <th>popularity</th>\n",
       "      <th>release_date</th>\n",
       "      <th>revenue</th>\n",
       "      <th>runtime</th>\n",
       "      <th>status</th>\n",
       "      <th>tagline</th>\n",
       "      <th>title</th>\n",
       "      <th>vote_average</th>\n",
       "      <th>collection</th>\n",
       "      <th>genre</th>\n",
       "      <th>companies</th>\n",
       "      <th>countries</th>\n",
       "      <th>languages</th>\n",
       "      <th>release_year</th>\n",
       "      <th>return</th>\n",
       "    </tr>\n",
       "  </thead>\n",
       "  <tbody>\n",
       "    <tr>\n",
       "      <th>0</th>\n",
       "      <td>30000000.0</td>\n",
       "      <td>862</td>\n",
       "      <td>en</td>\n",
       "      <td>Led by Woody, Andy's toys live happily in his ...</td>\n",
       "      <td>21.946943</td>\n",
       "      <td>1995-10-30</td>\n",
       "      <td>373554033.0</td>\n",
       "      <td>81.0</td>\n",
       "      <td>Released</td>\n",
       "      <td>NaN</td>\n",
       "      <td>Toy Story</td>\n",
       "      <td>7.7</td>\n",
       "      <td>Toy Story Collection</td>\n",
       "      <td>Animation, Comedy, Family</td>\n",
       "      <td>Pixar Animation Studios</td>\n",
       "      <td>United States of America</td>\n",
       "      <td>English</td>\n",
       "      <td>1995</td>\n",
       "      <td>12.451801</td>\n",
       "    </tr>\n",
       "    <tr>\n",
       "      <th>1</th>\n",
       "      <td>65000000.0</td>\n",
       "      <td>8844</td>\n",
       "      <td>en</td>\n",
       "      <td>When siblings Judy and Peter discover an encha...</td>\n",
       "      <td>17.015539</td>\n",
       "      <td>1995-12-15</td>\n",
       "      <td>262797249.0</td>\n",
       "      <td>104.0</td>\n",
       "      <td>Released</td>\n",
       "      <td>Roll the dice and unleash the excitement!</td>\n",
       "      <td>Jumanji</td>\n",
       "      <td>6.9</td>\n",
       "      <td></td>\n",
       "      <td>Adventure, Fantasy, Family</td>\n",
       "      <td>TriStar Pictures, Teitler Film, Interscope Com...</td>\n",
       "      <td>United States of America</td>\n",
       "      <td>English, Français</td>\n",
       "      <td>1995</td>\n",
       "      <td>4.043035</td>\n",
       "    </tr>\n",
       "    <tr>\n",
       "      <th>2</th>\n",
       "      <td>0.0</td>\n",
       "      <td>15602</td>\n",
       "      <td>en</td>\n",
       "      <td>A family wedding reignites the ancient feud be...</td>\n",
       "      <td>11.7129</td>\n",
       "      <td>1995-12-22</td>\n",
       "      <td>0.0</td>\n",
       "      <td>101.0</td>\n",
       "      <td>Released</td>\n",
       "      <td>Still Yelling. Still Fighting. Still Ready for...</td>\n",
       "      <td>Grumpier Old Men</td>\n",
       "      <td>6.5</td>\n",
       "      <td>Grumpy Old Men Collection</td>\n",
       "      <td>Romance, Comedy</td>\n",
       "      <td>Warner Bros., Lancaster Gate</td>\n",
       "      <td>United States of America</td>\n",
       "      <td>English</td>\n",
       "      <td>1995</td>\n",
       "      <td>0.000000</td>\n",
       "    </tr>\n",
       "    <tr>\n",
       "      <th>3</th>\n",
       "      <td>16000000.0</td>\n",
       "      <td>31357</td>\n",
       "      <td>en</td>\n",
       "      <td>Cheated on, mistreated and stepped on, the wom...</td>\n",
       "      <td>3.859495</td>\n",
       "      <td>1995-12-22</td>\n",
       "      <td>81452156.0</td>\n",
       "      <td>127.0</td>\n",
       "      <td>Released</td>\n",
       "      <td>Friends are the people who let you be yourself...</td>\n",
       "      <td>Waiting to Exhale</td>\n",
       "      <td>6.1</td>\n",
       "      <td></td>\n",
       "      <td>Comedy, Drama, Romance</td>\n",
       "      <td>Twentieth Century Fox Film Corporation</td>\n",
       "      <td>United States of America</td>\n",
       "      <td>English</td>\n",
       "      <td>1995</td>\n",
       "      <td>5.090760</td>\n",
       "    </tr>\n",
       "    <tr>\n",
       "      <th>4</th>\n",
       "      <td>0.0</td>\n",
       "      <td>11862</td>\n",
       "      <td>en</td>\n",
       "      <td>Just when George Banks has recovered from his ...</td>\n",
       "      <td>8.387519</td>\n",
       "      <td>1995-02-10</td>\n",
       "      <td>76578911.0</td>\n",
       "      <td>106.0</td>\n",
       "      <td>Released</td>\n",
       "      <td>Just When His World Is Back To Normal... He's ...</td>\n",
       "      <td>Father of the Bride Part II</td>\n",
       "      <td>5.7</td>\n",
       "      <td>Father of the Bride Collection</td>\n",
       "      <td>Comedy</td>\n",
       "      <td>Sandollar Productions, Touchstone Pictures</td>\n",
       "      <td>United States of America</td>\n",
       "      <td>English</td>\n",
       "      <td>1995</td>\n",
       "      <td>0.000000</td>\n",
       "    </tr>\n",
       "    <tr>\n",
       "      <th>...</th>\n",
       "      <td>...</td>\n",
       "      <td>...</td>\n",
       "      <td>...</td>\n",
       "      <td>...</td>\n",
       "      <td>...</td>\n",
       "      <td>...</td>\n",
       "      <td>...</td>\n",
       "      <td>...</td>\n",
       "      <td>...</td>\n",
       "      <td>...</td>\n",
       "      <td>...</td>\n",
       "      <td>...</td>\n",
       "      <td>...</td>\n",
       "      <td>...</td>\n",
       "      <td>...</td>\n",
       "      <td>...</td>\n",
       "      <td>...</td>\n",
       "      <td>...</td>\n",
       "      <td>...</td>\n",
       "    </tr>\n",
       "    <tr>\n",
       "      <th>45371</th>\n",
       "      <td>0.0</td>\n",
       "      <td>30840</td>\n",
       "      <td>en</td>\n",
       "      <td>Yet another version of the classic epic, with ...</td>\n",
       "      <td>5.683753</td>\n",
       "      <td>1991-05-13</td>\n",
       "      <td>0.0</td>\n",
       "      <td>104.0</td>\n",
       "      <td>Released</td>\n",
       "      <td>NaN</td>\n",
       "      <td>Robin Hood</td>\n",
       "      <td>5.7</td>\n",
       "      <td></td>\n",
       "      <td>Drama, Action, Romance</td>\n",
       "      <td>Westdeutscher Rundfunk (WDR), Working Title Fi...</td>\n",
       "      <td>Canada, Germany, United Kingdom, United States...</td>\n",
       "      <td>English</td>\n",
       "      <td>1991</td>\n",
       "      <td>0.000000</td>\n",
       "    </tr>\n",
       "    <tr>\n",
       "      <th>45372</th>\n",
       "      <td>0.0</td>\n",
       "      <td>111109</td>\n",
       "      <td>tl</td>\n",
       "      <td>An artist struggles to finish his work while a...</td>\n",
       "      <td>0.178241</td>\n",
       "      <td>2011-11-17</td>\n",
       "      <td>0.0</td>\n",
       "      <td>360.0</td>\n",
       "      <td>Released</td>\n",
       "      <td>NaN</td>\n",
       "      <td>Century of Birthing</td>\n",
       "      <td>9.0</td>\n",
       "      <td></td>\n",
       "      <td>Drama</td>\n",
       "      <td>Sine Olivia</td>\n",
       "      <td>Philippines</td>\n",
       "      <td></td>\n",
       "      <td>2011</td>\n",
       "      <td>0.000000</td>\n",
       "    </tr>\n",
       "    <tr>\n",
       "      <th>45373</th>\n",
       "      <td>0.0</td>\n",
       "      <td>67758</td>\n",
       "      <td>en</td>\n",
       "      <td>When one of her hits goes wrong, a professiona...</td>\n",
       "      <td>0.903007</td>\n",
       "      <td>2003-08-01</td>\n",
       "      <td>0.0</td>\n",
       "      <td>90.0</td>\n",
       "      <td>Released</td>\n",
       "      <td>A deadly game of wits.</td>\n",
       "      <td>Betrayal</td>\n",
       "      <td>3.8</td>\n",
       "      <td></td>\n",
       "      <td>Action, Drama, Thriller</td>\n",
       "      <td>American World Pictures</td>\n",
       "      <td>United States of America</td>\n",
       "      <td>English</td>\n",
       "      <td>2003</td>\n",
       "      <td>0.000000</td>\n",
       "    </tr>\n",
       "    <tr>\n",
       "      <th>45374</th>\n",
       "      <td>0.0</td>\n",
       "      <td>227506</td>\n",
       "      <td>en</td>\n",
       "      <td>In a small town live two brothers, one a minis...</td>\n",
       "      <td>0.003503</td>\n",
       "      <td>1917-10-21</td>\n",
       "      <td>0.0</td>\n",
       "      <td>87.0</td>\n",
       "      <td>Released</td>\n",
       "      <td>NaN</td>\n",
       "      <td>Satan Triumphant</td>\n",
       "      <td>0.0</td>\n",
       "      <td></td>\n",
       "      <td></td>\n",
       "      <td>Yermoliev</td>\n",
       "      <td>Russia</td>\n",
       "      <td></td>\n",
       "      <td>1917</td>\n",
       "      <td>0.000000</td>\n",
       "    </tr>\n",
       "    <tr>\n",
       "      <th>45375</th>\n",
       "      <td>0.0</td>\n",
       "      <td>461257</td>\n",
       "      <td>en</td>\n",
       "      <td>50 years after decriminalisation of homosexual...</td>\n",
       "      <td>0.163015</td>\n",
       "      <td>2017-06-09</td>\n",
       "      <td>0.0</td>\n",
       "      <td>75.0</td>\n",
       "      <td>Released</td>\n",
       "      <td>NaN</td>\n",
       "      <td>Queerama</td>\n",
       "      <td>0.0</td>\n",
       "      <td></td>\n",
       "      <td></td>\n",
       "      <td></td>\n",
       "      <td>United Kingdom</td>\n",
       "      <td>English</td>\n",
       "      <td>2017</td>\n",
       "      <td>0.000000</td>\n",
       "    </tr>\n",
       "  </tbody>\n",
       "</table>\n",
       "<p>45376 rows × 19 columns</p>\n",
       "</div>"
      ],
      "text/plain": [
       "           budget      id original_language  \\\n",
       "0      30000000.0     862                en   \n",
       "1      65000000.0    8844                en   \n",
       "2             0.0   15602                en   \n",
       "3      16000000.0   31357                en   \n",
       "4             0.0   11862                en   \n",
       "...           ...     ...               ...   \n",
       "45371         0.0   30840                en   \n",
       "45372         0.0  111109                tl   \n",
       "45373         0.0   67758                en   \n",
       "45374         0.0  227506                en   \n",
       "45375         0.0  461257                en   \n",
       "\n",
       "                                                overview popularity  \\\n",
       "0      Led by Woody, Andy's toys live happily in his ...  21.946943   \n",
       "1      When siblings Judy and Peter discover an encha...  17.015539   \n",
       "2      A family wedding reignites the ancient feud be...    11.7129   \n",
       "3      Cheated on, mistreated and stepped on, the wom...   3.859495   \n",
       "4      Just when George Banks has recovered from his ...   8.387519   \n",
       "...                                                  ...        ...   \n",
       "45371  Yet another version of the classic epic, with ...   5.683753   \n",
       "45372  An artist struggles to finish his work while a...   0.178241   \n",
       "45373  When one of her hits goes wrong, a professiona...   0.903007   \n",
       "45374  In a small town live two brothers, one a minis...   0.003503   \n",
       "45375  50 years after decriminalisation of homosexual...   0.163015   \n",
       "\n",
       "      release_date      revenue  runtime    status  \\\n",
       "0       1995-10-30  373554033.0     81.0  Released   \n",
       "1       1995-12-15  262797249.0    104.0  Released   \n",
       "2       1995-12-22          0.0    101.0  Released   \n",
       "3       1995-12-22   81452156.0    127.0  Released   \n",
       "4       1995-02-10   76578911.0    106.0  Released   \n",
       "...            ...          ...      ...       ...   \n",
       "45371   1991-05-13          0.0    104.0  Released   \n",
       "45372   2011-11-17          0.0    360.0  Released   \n",
       "45373   2003-08-01          0.0     90.0  Released   \n",
       "45374   1917-10-21          0.0     87.0  Released   \n",
       "45375   2017-06-09          0.0     75.0  Released   \n",
       "\n",
       "                                                 tagline  \\\n",
       "0                                                    NaN   \n",
       "1              Roll the dice and unleash the excitement!   \n",
       "2      Still Yelling. Still Fighting. Still Ready for...   \n",
       "3      Friends are the people who let you be yourself...   \n",
       "4      Just When His World Is Back To Normal... He's ...   \n",
       "...                                                  ...   \n",
       "45371                                                NaN   \n",
       "45372                                                NaN   \n",
       "45373                             A deadly game of wits.   \n",
       "45374                                                NaN   \n",
       "45375                                                NaN   \n",
       "\n",
       "                             title  vote_average  \\\n",
       "0                        Toy Story           7.7   \n",
       "1                          Jumanji           6.9   \n",
       "2                 Grumpier Old Men           6.5   \n",
       "3                Waiting to Exhale           6.1   \n",
       "4      Father of the Bride Part II           5.7   \n",
       "...                            ...           ...   \n",
       "45371                   Robin Hood           5.7   \n",
       "45372          Century of Birthing           9.0   \n",
       "45373                     Betrayal           3.8   \n",
       "45374             Satan Triumphant           0.0   \n",
       "45375                     Queerama           0.0   \n",
       "\n",
       "                           collection                       genre  \\\n",
       "0                Toy Story Collection   Animation, Comedy, Family   \n",
       "1                                      Adventure, Fantasy, Family   \n",
       "2           Grumpy Old Men Collection             Romance, Comedy   \n",
       "3                                          Comedy, Drama, Romance   \n",
       "4      Father of the Bride Collection                      Comedy   \n",
       "...                               ...                         ...   \n",
       "45371                                      Drama, Action, Romance   \n",
       "45372                                                       Drama   \n",
       "45373                                     Action, Drama, Thriller   \n",
       "45374                                                               \n",
       "45375                                                               \n",
       "\n",
       "                                               companies  \\\n",
       "0                                Pixar Animation Studios   \n",
       "1      TriStar Pictures, Teitler Film, Interscope Com...   \n",
       "2                           Warner Bros., Lancaster Gate   \n",
       "3                 Twentieth Century Fox Film Corporation   \n",
       "4             Sandollar Productions, Touchstone Pictures   \n",
       "...                                                  ...   \n",
       "45371  Westdeutscher Rundfunk (WDR), Working Title Fi...   \n",
       "45372                                        Sine Olivia   \n",
       "45373                            American World Pictures   \n",
       "45374                                          Yermoliev   \n",
       "45375                                                      \n",
       "\n",
       "                                               countries          languages  \\\n",
       "0                               United States of America            English   \n",
       "1                               United States of America  English, Français   \n",
       "2                               United States of America            English   \n",
       "3                               United States of America            English   \n",
       "4                               United States of America            English   \n",
       "...                                                  ...                ...   \n",
       "45371  Canada, Germany, United Kingdom, United States...            English   \n",
       "45372                                        Philippines                      \n",
       "45373                           United States of America            English   \n",
       "45374                                             Russia                      \n",
       "45375                                     United Kingdom            English   \n",
       "\n",
       "       release_year     return  \n",
       "0              1995  12.451801  \n",
       "1              1995   4.043035  \n",
       "2              1995   0.000000  \n",
       "3              1995   5.090760  \n",
       "4              1995   0.000000  \n",
       "...             ...        ...  \n",
       "45371          1991   0.000000  \n",
       "45372          2011   0.000000  \n",
       "45373          2003   0.000000  \n",
       "45374          1917   0.000000  \n",
       "45375          2017   0.000000  \n",
       "\n",
       "[45376 rows x 19 columns]"
      ]
     },
     "execution_count": 87,
     "metadata": {},
     "output_type": "execute_result"
    }
   ],
   "source": [
    "df_movies"
   ]
  },
  {
   "cell_type": "code",
   "execution_count": 88,
   "metadata": {},
   "outputs": [],
   "source": [
    "### Realizamos backup de todos los cambios realizados  hasta estos momentos:\n",
    "df_movies_bck08 = df_movies.copy()"
   ]
  },
  {
   "cell_type": "code",
   "execution_count": 89,
   "metadata": {},
   "outputs": [],
   "source": [
    "### Realizando un Backup en CSV, del DataSet con los cambios relizados por requerimientos iniciales (df_movies_RI)\n",
    "df_movies.to_csv('../DataSetPI-Cleaning/movies_dataset_RI.csv', index=False, header=True, sep=';')"
   ]
  },
  {
   "cell_type": "code",
   "execution_count": 90,
   "metadata": {},
   "outputs": [],
   "source": [
    "### Realizando un Backup en Excel, del DataSet con los cambios relizados por requerimientos iniciales (df_movies_RI)\n",
    "df_movies.to_excel('../DataSetPI-Cleaning/df_movies_dataset-RI.xlsx', index=False, header=True)"
   ]
  },
  {
   "cell_type": "markdown",
   "metadata": {},
   "source": [
    "### Fin de los Requerimiento Iniciales"
   ]
  },
  {
   "cell_type": "markdown",
   "metadata": {},
   "source": [
    "## Fin de la Primera Parte"
   ]
  },
  {
   "cell_type": "markdown",
   "metadata": {},
   "source": [
    "# Inicio de las APIs"
   ]
  }
 ],
 "metadata": {
  "kernelspec": {
   "display_name": "Python 3",
   "language": "python",
   "name": "python3"
  },
  "language_info": {
   "codemirror_mode": {
    "name": "ipython",
    "version": 3
   },
   "file_extension": ".py",
   "mimetype": "text/x-python",
   "name": "python",
   "nbconvert_exporter": "python",
   "pygments_lexer": "ipython3",
   "version": "3.11.3"
  },
  "orig_nbformat": 4
 },
 "nbformat": 4,
 "nbformat_minor": 2
}
